{
 "cells": [
  {
   "cell_type": "markdown",
   "metadata": {},
   "source": [
    "# What is the True Normal Human Body Temperature? \n",
    "\n",
    "#### Background\n",
    "\n",
    "The mean normal body temperature was held to be 37$^{\\circ}$C or 98.6$^{\\circ}$F for more than 120 years since it was first conceptualized and reported by Carl Wunderlich in a famous 1868 book. But, is this value statistically correct?"
   ]
  },
  {
   "cell_type": "markdown",
   "metadata": {},
   "source": [
    "<h3>Exercises</h3>\n",
    "\n",
    "<p>In this exercise, you will analyze a dataset of human body temperatures and employ the concepts of hypothesis testing, confidence intervals, and statistical significance.</p>\n",
    "\n",
    "<p>Answer the following questions <b>in this notebook below and submit to your Github account</b>.</p> \n",
    "\n",
    "<ol>\n",
    "<li>  Is the distribution of body temperatures normal? \n",
    "    <ul>\n",
    "    <li> Although this is not a requirement for the Central Limit Theorem to hold (read the introduction on Wikipedia's page about the CLT carefully: https://en.wikipedia.org/wiki/Central_limit_theorem), it gives us some peace of mind that the population may also be normally distributed if we assume that this sample is representative of the population.\n",
    "    <li> Think about the way you're going to check for the normality of the distribution. Graphical methods are usually used first, but there are also other ways: https://en.wikipedia.org/wiki/Normality_test\n",
    "    </ul>\n",
    "<li>  Is the sample size large? Are the observations independent?\n",
    "    <ul>\n",
    "    <li> Remember that this is a condition for the Central Limit Theorem, and hence the statistical tests we are using, to apply.\n",
    "    </ul>\n",
    "<li>  Is the true population mean really 98.6 degrees F?\n",
    "    <ul>\n",
    "    <li> First, try a bootstrap hypothesis test.\n",
    "    <li> Now, let's try frequentist statistical testing. Would you use a one-sample or two-sample test? Why?\n",
    "    <li> In this situation, is it appropriate to use the $t$ or $z$ statistic? \n",
    "    <li> Now try using the other test. How is the result be different? Why?\n",
    "    </ul>\n",
    "<li>  Draw a small sample of size 10 from the data and repeat both frequentist tests. \n",
    "    <ul>\n",
    "    <li> Which one is the correct one to use? \n",
    "    <li> What do you notice? What does this tell you about the difference in application of the $t$ and $z$ statistic?\n",
    "    </ul>\n",
    "<li>  At what temperature should we consider someone's temperature to be \"abnormal\"?\n",
    "    <ul>\n",
    "    <li> As in the previous example, try calculating everything using the boostrap approach, as well as the frequentist approach.\n",
    "    <li> Start by computing the margin of error and confidence interval. When calculating the confidence interval, keep in mind that you should use the appropriate formula for one draw, and not N draws.\n",
    "    </ul>\n",
    "<li>  Is there a significant difference between males and females in normal temperature?\n",
    "    <ul>\n",
    "    <li> What testing approach did you use and why?\n",
    "    <li> Write a story with your conclusion in the context of the original problem.\n",
    "    </ul>\n",
    "</ol>\n",
    "\n",
    "You can include written notes in notebook cells using Markdown: \n",
    "   - In the control panel at the top, choose Cell > Cell Type > Markdown\n",
    "   - Markdown syntax: http://nestacms.com/docs/creating-content/markdown-cheat-sheet\n",
    "\n",
    "#### Resources\n",
    "\n",
    "+ Information and data sources: http://www.amstat.org/publications/jse/datasets/normtemp.txt, http://www.amstat.org/publications/jse/jse_data_archive.htm\n",
    "+ Markdown syntax: http://nestacms.com/docs/creating-content/markdown-cheat-sheet\n",
    "\n",
    "****"
   ]
  },
  {
   "cell_type": "code",
   "execution_count": 2,
   "metadata": {
    "collapsed": true
   },
   "outputs": [],
   "source": [
    "import pandas as pd\n",
    "#C:\\Users\\keyur\\Human temperature\\1520467485_dsc_human_temp\\EDA_human_temperature\\data\n",
    "\n",
    "#df = pd.read_csv('data/human_body_temperature.csv')\n",
    "df=pd.read_csv('human_body_temperature.csv')\n"
   ]
  },
  {
   "cell_type": "code",
   "execution_count": 3,
   "metadata": {},
   "outputs": [
    {
     "data": {
      "text/html": [
       "<div>\n",
       "<style>\n",
       "    .dataframe thead tr:only-child th {\n",
       "        text-align: right;\n",
       "    }\n",
       "\n",
       "    .dataframe thead th {\n",
       "        text-align: left;\n",
       "    }\n",
       "\n",
       "    .dataframe tbody tr th {\n",
       "        vertical-align: top;\n",
       "    }\n",
       "</style>\n",
       "<table border=\"1\" class=\"dataframe\">\n",
       "  <thead>\n",
       "    <tr style=\"text-align: right;\">\n",
       "      <th></th>\n",
       "      <th>temperature</th>\n",
       "      <th>gender</th>\n",
       "      <th>heart_rate</th>\n",
       "    </tr>\n",
       "  </thead>\n",
       "  <tbody>\n",
       "    <tr>\n",
       "      <th>0</th>\n",
       "      <td>99.3</td>\n",
       "      <td>F</td>\n",
       "      <td>68.0</td>\n",
       "    </tr>\n",
       "    <tr>\n",
       "      <th>1</th>\n",
       "      <td>98.4</td>\n",
       "      <td>F</td>\n",
       "      <td>81.0</td>\n",
       "    </tr>\n",
       "    <tr>\n",
       "      <th>2</th>\n",
       "      <td>97.8</td>\n",
       "      <td>M</td>\n",
       "      <td>73.0</td>\n",
       "    </tr>\n",
       "    <tr>\n",
       "      <th>3</th>\n",
       "      <td>99.2</td>\n",
       "      <td>F</td>\n",
       "      <td>66.0</td>\n",
       "    </tr>\n",
       "    <tr>\n",
       "      <th>4</th>\n",
       "      <td>98.0</td>\n",
       "      <td>F</td>\n",
       "      <td>73.0</td>\n",
       "    </tr>\n",
       "  </tbody>\n",
       "</table>\n",
       "</div>"
      ],
      "text/plain": [
       "   temperature gender  heart_rate\n",
       "0         99.3      F        68.0\n",
       "1         98.4      F        81.0\n",
       "2         97.8      M        73.0\n",
       "3         99.2      F        66.0\n",
       "4         98.0      F        73.0"
      ]
     },
     "execution_count": 3,
     "metadata": {},
     "output_type": "execute_result"
    }
   ],
   "source": [
    "# top 5 records\n",
    "df.head()"
   ]
  },
  {
   "cell_type": "code",
   "execution_count": 4,
   "metadata": {},
   "outputs": [
    {
     "data": {
      "text/plain": [
       "130"
      ]
     },
     "execution_count": 4,
     "metadata": {},
     "output_type": "execute_result"
    }
   ],
   "source": [
    "# No. of records\n",
    "len(df)"
   ]
  },
  {
   "cell_type": "code",
   "execution_count": 5,
   "metadata": {},
   "outputs": [
    {
     "data": {
      "text/html": [
       "<div>\n",
       "<style>\n",
       "    .dataframe thead tr:only-child th {\n",
       "        text-align: right;\n",
       "    }\n",
       "\n",
       "    .dataframe thead th {\n",
       "        text-align: left;\n",
       "    }\n",
       "\n",
       "    .dataframe tbody tr th {\n",
       "        vertical-align: top;\n",
       "    }\n",
       "</style>\n",
       "<table border=\"1\" class=\"dataframe\">\n",
       "  <thead>\n",
       "    <tr style=\"text-align: right;\">\n",
       "      <th></th>\n",
       "      <th>temperature</th>\n",
       "      <th>gender</th>\n",
       "      <th>heart_rate</th>\n",
       "    </tr>\n",
       "  </thead>\n",
       "  <tbody>\n",
       "    <tr>\n",
       "      <th>125</th>\n",
       "      <td>96.3</td>\n",
       "      <td>M</td>\n",
       "      <td>70.0</td>\n",
       "    </tr>\n",
       "    <tr>\n",
       "      <th>126</th>\n",
       "      <td>97.7</td>\n",
       "      <td>M</td>\n",
       "      <td>77.0</td>\n",
       "    </tr>\n",
       "    <tr>\n",
       "      <th>127</th>\n",
       "      <td>98.2</td>\n",
       "      <td>F</td>\n",
       "      <td>73.0</td>\n",
       "    </tr>\n",
       "    <tr>\n",
       "      <th>128</th>\n",
       "      <td>97.9</td>\n",
       "      <td>M</td>\n",
       "      <td>72.0</td>\n",
       "    </tr>\n",
       "    <tr>\n",
       "      <th>129</th>\n",
       "      <td>98.7</td>\n",
       "      <td>F</td>\n",
       "      <td>59.0</td>\n",
       "    </tr>\n",
       "  </tbody>\n",
       "</table>\n",
       "</div>"
      ],
      "text/plain": [
       "     temperature gender  heart_rate\n",
       "125         96.3      M        70.0\n",
       "126         97.7      M        77.0\n",
       "127         98.2      F        73.0\n",
       "128         97.9      M        72.0\n",
       "129         98.7      F        59.0"
      ]
     },
     "execution_count": 5,
     "metadata": {},
     "output_type": "execute_result"
    }
   ],
   "source": [
    "# No.\n",
    "df.tail()"
   ]
  },
  {
   "cell_type": "code",
   "execution_count": 6,
   "metadata": {
    "collapsed": true
   },
   "outputs": [],
   "source": [
    "import pandas as pd\n",
    "import numpy as np\n",
    "import scipy.stats as stats\n",
    "from scipy.stats import norm\n",
    "import matplotlib.pyplot as plt\n",
    "import seaborn as sns\n",
    "%matplotlib inline\n",
    "sns.set()"
   ]
  },
  {
   "cell_type": "markdown",
   "metadata": {},
   "source": [
    "### Q1 - Is the distribution of body temperatures normal?"
   ]
  },
  {
   "cell_type": "code",
   "execution_count": 7,
   "metadata": {},
   "outputs": [
    {
     "data": {
      "text/html": [
       "<div>\n",
       "<style>\n",
       "    .dataframe thead tr:only-child th {\n",
       "        text-align: right;\n",
       "    }\n",
       "\n",
       "    .dataframe thead th {\n",
       "        text-align: left;\n",
       "    }\n",
       "\n",
       "    .dataframe tbody tr th {\n",
       "        vertical-align: top;\n",
       "    }\n",
       "</style>\n",
       "<table border=\"1\" class=\"dataframe\">\n",
       "  <thead>\n",
       "    <tr style=\"text-align: right;\">\n",
       "      <th></th>\n",
       "      <th>temperature</th>\n",
       "      <th>heart_rate</th>\n",
       "    </tr>\n",
       "  </thead>\n",
       "  <tbody>\n",
       "    <tr>\n",
       "      <th>count</th>\n",
       "      <td>130.000000</td>\n",
       "      <td>130.000000</td>\n",
       "    </tr>\n",
       "    <tr>\n",
       "      <th>mean</th>\n",
       "      <td>98.249231</td>\n",
       "      <td>73.761538</td>\n",
       "    </tr>\n",
       "    <tr>\n",
       "      <th>std</th>\n",
       "      <td>0.733183</td>\n",
       "      <td>7.062077</td>\n",
       "    </tr>\n",
       "    <tr>\n",
       "      <th>min</th>\n",
       "      <td>96.300000</td>\n",
       "      <td>57.000000</td>\n",
       "    </tr>\n",
       "    <tr>\n",
       "      <th>25%</th>\n",
       "      <td>97.800000</td>\n",
       "      <td>69.000000</td>\n",
       "    </tr>\n",
       "    <tr>\n",
       "      <th>50%</th>\n",
       "      <td>98.300000</td>\n",
       "      <td>74.000000</td>\n",
       "    </tr>\n",
       "    <tr>\n",
       "      <th>75%</th>\n",
       "      <td>98.700000</td>\n",
       "      <td>79.000000</td>\n",
       "    </tr>\n",
       "    <tr>\n",
       "      <th>max</th>\n",
       "      <td>100.800000</td>\n",
       "      <td>89.000000</td>\n",
       "    </tr>\n",
       "  </tbody>\n",
       "</table>\n",
       "</div>"
      ],
      "text/plain": [
       "       temperature  heart_rate\n",
       "count   130.000000  130.000000\n",
       "mean     98.249231   73.761538\n",
       "std       0.733183    7.062077\n",
       "min      96.300000   57.000000\n",
       "25%      97.800000   69.000000\n",
       "50%      98.300000   74.000000\n",
       "75%      98.700000   79.000000\n",
       "max     100.800000   89.000000"
      ]
     },
     "execution_count": 7,
     "metadata": {},
     "output_type": "execute_result"
    }
   ],
   "source": [
    "df.describe()"
   ]
  },
  {
   "cell_type": "code",
   "execution_count": 8,
   "metadata": {
    "collapsed": true
   },
   "outputs": [],
   "source": [
    "mean_temp=df['temperature'].mean()"
   ]
  },
  {
   "cell_type": "code",
   "execution_count": 9,
   "metadata": {},
   "outputs": [
    {
     "data": {
      "text/plain": [
       "98.24923076923078"
      ]
     },
     "execution_count": 9,
     "metadata": {},
     "output_type": "execute_result"
    }
   ],
   "source": [
    "mean_temp"
   ]
  },
  {
   "cell_type": "code",
   "execution_count": 10,
   "metadata": {},
   "outputs": [
    {
     "data": {
      "text/plain": [
       "98.3"
      ]
     },
     "execution_count": 10,
     "metadata": {},
     "output_type": "execute_result"
    }
   ],
   "source": [
    "median_temp=df['temperature'].median()\n",
    "median_temp\n"
   ]
  },
  {
   "cell_type": "code",
   "execution_count": 11,
   "metadata": {
    "collapsed": true
   },
   "outputs": [],
   "source": [
    "std_temp=df['temperature'].std()"
   ]
  },
  {
   "cell_type": "code",
   "execution_count": 12,
   "metadata": {},
   "outputs": [
    {
     "data": {
      "text/plain": [
       "0.7331831580389454"
      ]
     },
     "execution_count": 12,
     "metadata": {},
     "output_type": "execute_result"
    }
   ],
   "source": [
    "std_temp"
   ]
  },
  {
   "cell_type": "code",
   "execution_count": 13,
   "metadata": {
    "collapsed": true
   },
   "outputs": [],
   "source": [
    "skew_temp=df['temperature'].skew()"
   ]
  },
  {
   "cell_type": "code",
   "execution_count": 14,
   "metadata": {},
   "outputs": [
    {
     "data": {
      "text/plain": [
       "-0.004419131168995771"
      ]
     },
     "execution_count": 14,
     "metadata": {},
     "output_type": "execute_result"
    }
   ],
   "source": [
    "skew_temp"
   ]
  },
  {
   "cell_type": "code",
   "execution_count": 15,
   "metadata": {
    "collapsed": true
   },
   "outputs": [],
   "source": [
    "mode_temp=df['temperature'].mode()"
   ]
  },
  {
   "cell_type": "code",
   "execution_count": 16,
   "metadata": {},
   "outputs": [
    {
     "data": {
      "text/plain": [
       "0    98.0\n",
       "dtype: float64"
      ]
     },
     "execution_count": 16,
     "metadata": {},
     "output_type": "execute_result"
    }
   ],
   "source": [
    "mode_temp"
   ]
  },
  {
   "cell_type": "code",
   "execution_count": 17,
   "metadata": {
    "collapsed": true
   },
   "outputs": [],
   "source": [
    "kurtosis_temp=df['temperature'].kurt()"
   ]
  },
  {
   "cell_type": "code",
   "execution_count": 18,
   "metadata": {},
   "outputs": [
    {
     "data": {
      "text/plain": [
       "0.7804573950337375"
      ]
     },
     "execution_count": 18,
     "metadata": {},
     "output_type": "execute_result"
    }
   ],
   "source": [
    "kurtosis_temp\n"
   ]
  },
  {
   "cell_type": "code",
   "execution_count": 19,
   "metadata": {},
   "outputs": [
    {
     "data": {
      "text/plain": [
       "<matplotlib.axes._subplots.AxesSubplot at 0x18bf540d320>"
      ]
     },
     "execution_count": 19,
     "metadata": {},
     "output_type": "execute_result"
    },
    {
     "data": {
      "image/png": "[encoded data removed]",
      "text/plain": [
       "<matplotlib.figure.Figure at 0x18bf53722b0>"
      ]
     },
     "metadata": {},
     "output_type": "display_data"
    }
   ],
   "source": [
    "sns.kdeplot(df.temperature, shade=True,color='green')"
   ]
  },
  {
   "cell_type": "code",
   "execution_count": 20,
   "metadata": {},
   "outputs": [
    {
     "data": {
      "image/png": "[encoded data removed]",
      "text/plain": [
       "<matplotlib.figure.Figure at 0x18bf74d9588>"
      ]
     },
     "metadata": {},
     "output_type": "display_data"
    }
   ],
   "source": [
    "# Histogram has binning bias as we force the data into bins. We use bin size equal to the square root of sample size.\n",
    "n_data=len(df)\n",
    "n_bins=np.sqrt(n_data)\n",
    "n_bins=int(n_bins)\n",
    "ax = sns.distplot(df['temperature'],bins=n_bins,color='purple')\n",
    "ax= plt.ylabel('Count')\n",
    "ax= plt.xlabel('Temperature')\n",
    "ax= plt.title('Histogram of Human Body Temperature\\n')"
   ]
  },
  {
   "cell_type": "code",
   "execution_count": 21,
   "metadata": {},
   "outputs": [
    {
     "data": {
      "image/png": "[encoded data removed]",
      "text/plain": [
       "<matplotlib.figure.Figure at 0x18bf74f9f60>"
      ]
     },
     "metadata": {},
     "output_type": "display_data"
    }
   ],
   "source": [
    "# To understand the distribution of temperature , we also need to understand the distribution of gender data\n",
    "_= sns.swarmplot(x='gender',y='temperature',data=df)\n",
    "_= plt.title('Swarm plot to see all temperatures of males and females\\n')\n",
    "plt.show()\n",
    "# we can there is more variation in Female temperature than male. Also female has higher temperature range."
   ]
  },
  {
   "cell_type": "code",
   "execution_count": 22,
   "metadata": {},
   "outputs": [
    {
     "data": {
      "text/plain": [
       "[<matplotlib.lines.Line2D at 0x18bf85c1cf8>]"
      ]
     },
     "execution_count": 22,
     "metadata": {},
     "output_type": "execute_result"
    },
    {
     "data": {
      "image/png": "[encoded data removed]",
      "text/plain": [
       "<matplotlib.figure.Figure at 0x18bf85c1c18>"
      ]
     },
     "metadata": {},
     "output_type": "display_data"
    }
   ],
   "source": [
    "# Draw a histogram of body temperature and a normal distribution\n",
    "plt.hist(df.temperature, width=0.3, normed=True)\n",
    "plt.xlabel('Body Temperature (Fahrenheit)')\n",
    "plt.title('Histogram')\n",
    "xs = np.linspace(96, 101, 100)\n",
    "temp_mean = df.temperature.mean()\n",
    "temp_std = df.temperature.std()\n",
    "pdf = stats.norm.pdf(xs, temp_mean, temp_std)\n",
    "plt.plot(xs, pdf)"
   ]
  },
  {
   "cell_type": "code",
   "execution_count": 23,
   "metadata": {},
   "outputs": [
    {
     "data": {
      "text/plain": [
       "<matplotlib.axes._subplots.AxesSubplot at 0x18bf8674be0>"
      ]
     },
     "execution_count": 23,
     "metadata": {},
     "output_type": "execute_result"
    },
    {
     "data": {
      "image/png": "[encoded data removed]",
      "text/plain": [
       "<matplotlib.figure.Figure at 0x18bf85ee0f0>"
      ]
     },
     "metadata": {},
     "output_type": "display_data"
    }
   ],
   "source": [
    "sns.set()\n",
    "sns.boxplot(x=df['temperature'],orient='v')"
   ]
  },
  {
   "cell_type": "code",
   "execution_count": 24,
   "metadata": {},
   "outputs": [
    {
     "name": "stdout",
     "output_type": "stream",
     "text": [
      "The z-statistic of the normality test is 2.704 with a p-value of 0.259.\n"
     ]
    }
   ],
   "source": [
    "normality_test = stats.mstats.normaltest(df['temperature']) \n",
    "print('The z-statistic of the normality test is {:1.3f} with a p-value of {:1.3f}.'.format(normality_test[0],normality_test[1]))"
   ]
  },
  {
   "cell_type": "code",
   "execution_count": 25,
   "metadata": {},
   "outputs": [
    {
     "name": "stdout",
     "output_type": "stream",
     "text": [
      "chi-square statistic: 2.703801433319203\n",
      "p value = 0.2587479863488254\n"
     ]
    }
   ],
   "source": [
    "\n",
    "# conduct normal test\n",
    "from scipy.stats import normaltest\n",
    "statistic, p_val = normaltest(df['temperature'])\n",
    "\n",
    "print('chi-square statistic:',statistic)\n",
    "print('p value =',p_val)"
   ]
  },
  {
   "cell_type": "code",
   "execution_count": 26,
   "metadata": {},
   "outputs": [
    {
     "data": {
      "text/plain": [
       "<matplotlib.text.Text at 0x18bf87f94e0>"
      ]
     },
     "execution_count": 26,
     "metadata": {},
     "output_type": "execute_result"
    },
    {
     "data": {
      "image/png": "[encoded data removed]",
      "text/plain": [
       "<matplotlib.figure.Figure at 0x18bf873c2e8>"
      ]
     },
     "metadata": {},
     "output_type": "display_data"
    }
   ],
   "source": [
    "import pylab\n",
    "stats.probplot(df.temperature, dist='norm', plot=pylab)\n",
    "plt.xlabel('Theorectical Quantiles')\n",
    "plt.ylabel('Ordered Temperatures (Fahrenheit)')\n",
    "plt.title('Probability Plot')"
   ]
  },
  {
   "cell_type": "code",
   "execution_count": 27,
   "metadata": {
    "collapsed": true
   },
   "outputs": [],
   "source": [
    "### ecdf Function to chart ecdf"
   ]
  },
  {
   "cell_type": "code",
   "execution_count": 28,
   "metadata": {
    "collapsed": true
   },
   "outputs": [],
   "source": [
    "def ecdf(data):\n",
    "    # no of data points\n",
    "    n=len(data)\n",
    "    \n",
    "    # sorted data for x\n",
    "    x=np.sort(data)\n",
    "    \n",
    "    # y-data for the ECDF: y\n",
    "    y = np.arange(1, n+1) / n\n",
    "\n",
    "    return x, y"
   ]
  },
  {
   "cell_type": "code",
   "execution_count": 29,
   "metadata": {},
   "outputs": [
    {
     "data": {
      "image/png": "[encoded data removed]",
      "text/plain": [
       "<matplotlib.figure.Figure at 0x18bf87c29e8>"
      ]
     },
     "metadata": {},
     "output_type": "display_data"
    }
   ],
   "source": [
    "\n",
    "# EDCF chart to get some insights\n",
    "# Compute ECDF for temperature: x_temp, y_temp\n",
    "x_temp, y_temp = ecdf(df['temperature'])\n",
    "\n",
    "# Generate plot\n",
    "_ = plt.plot(x_temp, y_temp, marker='.', linestyle='none')\n",
    "\n",
    "# Label the axes\n",
    "_ = plt.xlabel('Temperature')\n",
    "_ = plt.ylabel('ECDF')\n",
    "\n",
    "# Display the plot\n",
    "plt.show()\n"
   ]
  },
  {
   "cell_type": "code",
   "execution_count": 30,
   "metadata": {},
   "outputs": [
    {
     "data": {
      "image/png": "[encoded data removed]",
      "text/plain": [
       "<matplotlib.figure.Figure at 0x18bf8664588>"
      ]
     },
     "metadata": {},
     "output_type": "display_data"
    }
   ],
   "source": [
    "\n",
    "# Let us plot assume that the sample data is indeed from a normal distribution. We will use the sample mean and std\n",
    "# to estimate the normal population parameters\n",
    "\n",
    "mean = np.mean(df['temperature'])\n",
    "std = np.std(df['temperature'])\n",
    "\n",
    "samples = np.random.normal(mean,std,100000)\n",
    "\n",
    "plt.hist(samples,bins=100,normed=True,histtype='step',color='red')\n",
    "plt.hist(df['temperature'],bins=n_bins,histtype='step',normed=True)\n",
    "plt.xlabel('Temperature')\n",
    "plt.ylabel('Probability Function')\n",
    "plt.title('Given data versus Sample from normal distribution')\n",
    "plt.show()"
   ]
  },
  {
   "cell_type": "markdown",
   "metadata": {},
   "source": [
    "#### The historgram for the given data looks to be close to normal distribution. But we should do more analysis before drawing any conclustion."
   ]
  },
  {
   "cell_type": "code",
   "execution_count": 31,
   "metadata": {
    "collapsed": true
   },
   "outputs": [],
   "source": [
    "# samples from normal distribution with mu and sigma : samples\n",
    "samples=np.random.normal(mean_temp,std_temp,size=100000)"
   ]
  },
  {
   "cell_type": "code",
   "execution_count": 32,
   "metadata": {
    "collapsed": true
   },
   "outputs": [],
   "source": [
    "# Get the CDF of the samples and of the data\n",
    "x_theor,y_theor=ecdf(samples)\n",
    "x,y=ecdf(df['temperature'])"
   ]
  },
  {
   "cell_type": "code",
   "execution_count": 33,
   "metadata": {},
   "outputs": [
    {
     "data": {
      "image/png": "[encoded data removed]",
      "text/plain": [
       "<matplotlib.figure.Figure at 0x18bf887d0f0>"
      ]
     },
     "metadata": {},
     "output_type": "display_data"
    }
   ],
   "source": [
    "# plot the CDF and show the plot\n",
    "_ = plt.plot(x_theor,y_theor)\n",
    "_ = plt.plot(x,y,marker='.',linestyle='none',color='r')\n",
    "_ = plt.xlabel('Temperature')\n",
    "_ = plt.ylabel('CDF')\n",
    "_ = plt.show()"
   ]
  },
  {
   "cell_type": "code",
   "execution_count": 34,
   "metadata": {},
   "outputs": [
    {
     "name": "stdout",
     "output_type": "stream",
     "text": [
      "Test statistic is  0.9865769743919373\n",
      "P-value is 0.2331680953502655\n"
     ]
    }
   ],
   "source": [
    "test_stats, p_value =stats.shapiro(df.temperature)\n",
    "print(\"Test statistic is \",test_stats)\n",
    "print(\"P-value is\",p_value)"
   ]
  },
  {
   "cell_type": "code",
   "execution_count": 35,
   "metadata": {},
   "outputs": [
    {
     "name": "stdout",
     "output_type": "stream",
     "text": [
      "The null hypothesis - that the data comes from a normal distribution - cannot be rejected\n"
     ]
    }
   ],
   "source": [
    "# conduct hypothesis test\n",
    "alpha = 0.05\n",
    "if p_val < alpha:\n",
    "    print(\"The null hypothesis - that the data comes from a normal distribution - can be rejected\")\n",
    "else:\n",
    "    print(\"The null hypothesis - that the data comes from a normal distribution - cannot be rejected\")"
   ]
  },
  {
   "cell_type": "markdown",
   "metadata": {},
   "source": [
    "####   Analysis shows that the distribution is Normal\n",
    "Mean,Median and Mode are very close to each other.\n",
    "Skewness and Kurtosis are approximately equal to zero and also between -1 and 1.\n",
    "The kde,cdf and distribution plot  also show normal distribution\n",
    "\n",
    "Hypothesis:\n",
    "\n",
    "Ho= The distribution is Normal\n",
    "Ha= The distribution is not Noraml\n",
    "\n",
    "In order to check the normality, we perform the Shapiro-Wilk test to get our test statistic and p-value. Null hypothesis Ho= The distriution of body temperature is normal. Since the p-value is 0.233 which is not less than our significant value of 0.05. We fail to reject the null hypothesis that the distribution is normal.\n",
    "\n",
    "Also from chi-square statistic, the distribution appears to be normally distributed (p-value = 0.259)"
   ]
  },
  {
   "cell_type": "markdown",
   "metadata": {},
   "source": [
    "### Q-2  Is the sample size large? Are the observations independent?"
   ]
  },
  {
   "cell_type": "code",
   "execution_count": 36,
   "metadata": {},
   "outputs": [
    {
     "name": "stdout",
     "output_type": "stream",
     "text": [
      "The sample size is large (n > 30)\n"
     ]
    }
   ],
   "source": [
    "# test CLT's 1st condition: sample size\n",
    "if len(df) < 30:\n",
    "    print(\"The sample size is too small (n < 30)\")\n",
    "else:\n",
    "    print(\"The sample size is large (n > 30)\")"
   ]
  },
  {
   "cell_type": "code",
   "execution_count": 37,
   "metadata": {},
   "outputs": [
    {
     "data": {
      "text/plain": [
       "<matplotlib.axes._subplots.AxesSubplot at 0x18bf8908f98>"
      ]
     },
     "execution_count": 37,
     "metadata": {},
     "output_type": "execute_result"
    },
    {
     "data": {
      "image/png": "[encoded data removed]",
      "text/plain": [
       "<matplotlib.figure.Figure at 0x18bf88829e8>"
      ]
     },
     "metadata": {},
     "output_type": "display_data"
    }
   ],
   "source": [
    "sns.countplot(df['gender'])"
   ]
  },
  {
   "cell_type": "markdown",
   "metadata": {},
   "source": [
    "\n",
    "The cumulative density function for the given data is very close to normally distributed data. This tells strongly that the Human Body Temperature is nomrally distributed.\n",
    "\n",
    "The Central Limit Theorem states that the distribution of sample mean is approximately normal. The approximation can be poor if the sample size is small, but it improves with larger sample sizes.\n",
    "\n",
    "After all the analysis we can conclude that the mean Human body temperature is nearly normally distributed. Here is the evidence:\n",
    "\n",
    "The sample oberservations are independent. Since the population is all the humans. And our sample observations are far less that 10% of the population, we can say that they are independent.\n",
    "\n",
    "The sample size is large: n>=30 is a good rule of thumb. Here our sample size is 130.\n",
    "\n",
    "The sample is not strongly skewed. So we can make a guess that population is also not strongly skewed. However, we can't be 100% sure. But that's our assumption.\n",
    "\n",
    "\n",
    "\n",
    "#### The sample size is large (n = 130), as it is greater than 30 and the observations are  independent. We can invoke the central limit theorem and say that the sample mean will be approximately a normal distribution."
   ]
  },
  {
   "cell_type": "markdown",
   "metadata": {},
   "source": [
    "### Q-3 Is the true population mean really 98.6 degrees F?"
   ]
  },
  {
   "cell_type": "code",
   "execution_count": 38,
   "metadata": {},
   "outputs": [
    {
     "data": {
      "text/plain": [
       "98.24307692307691"
      ]
     },
     "execution_count": 38,
     "metadata": {},
     "output_type": "execute_result"
    }
   ],
   "source": [
    "# bootstrap hypothesis test\n",
    "# Since we dont have multiple samples and we want to draw conclusions about the population parameters, we can utilize\n",
    "# bootstrap sampling. Basic method involves taking random samples from the one given sample. And finding out the \n",
    "# confidence interval for the population parameter\n",
    "\n",
    "# select a random value from the given sample\n",
    "sample_size = len(df['temperature'])\n",
    "bs_val = np.random.choice(df['temperature'],replace=True,size=sample_size)\n",
    "np.mean(bs_val)"
   ]
  },
  {
   "cell_type": "code",
   "execution_count": 39,
   "metadata": {},
   "outputs": [
    {
     "data": {
      "text/plain": [
       "array([ 99. ,  98.2,  99.3,  97.9,  98.4,  98. ,  97.8,  96.3,  99.2,\n",
       "        98. ,  97.9,  97.9,  96.7,  98.6,  97.3,  97.7,  98.6,  98.6,\n",
       "        97.1,  98.3,  97.7,  97.6,  97.6,  98.2,  99.9,  98.2,  98.4,\n",
       "        97.9,  96.9,  98.4,  98.3,  98. ,  98.8,  96.3,  96.7,  96.8,\n",
       "        98. ,  97.7,  98.1,  98.4,  98.2,  98.4,  97.4,  98. ,  98.7,\n",
       "        98. ,  99. ,  97.8,  99.4,  97.4,  98. ,  98.7,  97.5,  98.2,\n",
       "        98. ,  98.4,  98.4, 100. ,  99.2,  98.4,  98. ,  98.4,  96.7,\n",
       "        98. ,  99.1,  97.8,  97.8,  98. ,  97.8,  98.4,  97.7,  98.7,\n",
       "        99. ,  98.8,  98.6,  97.9,  98.4,  98.2,  98.6,  98.7,  98.8,\n",
       "        98.6,  98.4,  99.2,  98.8,  98.3,  98.2,  97.6,  98.8,  99.1,\n",
       "        99. ,  98.2,  96.4, 100. ,  98. ,  99.3,  98.4,  99.9,  98.8,\n",
       "        98.8,  98.6,  97.8,  98.6,  97.4,  97.4,  97.3,  97.9,  98. ,\n",
       "        98.8,  98. ,  98.8,  97.7,  98.4,  98.4,  98.1,  98.6,  99. ,\n",
       "        98.3,  97.6,  98.2,  98. ,  97.9,  97.9,  99.2,  99.3,  99.3,\n",
       "        98.8,  97.6,  99. ,  98.7])"
      ]
     },
     "execution_count": 39,
     "metadata": {},
     "output_type": "execute_result"
    }
   ],
   "source": [
    "bs_val"
   ]
  },
  {
   "cell_type": "code",
   "execution_count": 40,
   "metadata": {
    "collapsed": true
   },
   "outputs": [],
   "source": [
    "# bootstrap statistic function\n",
    "def bs_statistic(data, func, size):\n",
    "    bs_sample_stats = np.empty(size)\n",
    "    for i in range(size):\n",
    "        bs_val = np.random.choice(data,replace=True,size=sample_size)\n",
    "        bs_sample_stats[i] = func(bs_val)\n",
    "    return bs_sample_stats"
   ]
  },
  {
   "cell_type": "code",
   "execution_count": 41,
   "metadata": {},
   "outputs": [
    {
     "data": {
      "text/plain": [
       "array([98.12230769, 98.37461538])"
      ]
     },
     "execution_count": 41,
     "metadata": {},
     "output_type": "execute_result"
    }
   ],
   "source": [
    "bs_sample_stat = bs_statistic(df['temperature'],np.mean,10000)\n",
    "# 95% confidence limit\n",
    "np.percentile(bs_sample_stat,[2.5,97.5])"
   ]
  },
  {
   "cell_type": "code",
   "execution_count": 42,
   "metadata": {},
   "outputs": [
    {
     "data": {
      "text/plain": [
       "array([98.0823    , 98.41692692])"
      ]
     },
     "execution_count": 42,
     "metadata": {},
     "output_type": "execute_result"
    }
   ],
   "source": [
    "# 99% confidence limit\n",
    "np.percentile(bs_sample_stat,[0.5,99.5])"
   ]
  },
  {
   "cell_type": "code",
   "execution_count": 43,
   "metadata": {},
   "outputs": [
    {
     "name": "stdout",
     "output_type": "stream",
     "text": [
      "0    99.650769\n",
      "1    98.750769\n",
      "2    98.150769\n",
      "3    99.550769\n",
      "4    98.350769\n",
      "Name: temperature, dtype: float64\n"
     ]
    }
   ],
   "source": [
    " #The true population mean of 98.6 degrees F doesn't fit in the 99% confidence interval.\n",
    "# Let us do further hypothesis testing to find out\n",
    "\n",
    "# Our sample mean is 98.25. If the true population mean is 98.6 then what are the chances that we will get such\n",
    "# extreme value of 98.25?\n",
    "\n",
    "# Let us test the null hypothesis that true mean is 98.6 F.\n",
    "# Shift the sample values assuming that 98.6 F is true mean. And since the sample is close to normal we can assume\n",
    "# that the population std can be estimated by sample std.\n",
    "\n",
    "sample = df['temperature']\n",
    "sample_mean = np.mean(sample)\n",
    "shifted_sample = sample - sample_mean + 98.6\n",
    "print(shifted_sample[0:5])"
   ]
  },
  {
   "cell_type": "code",
   "execution_count": 44,
   "metadata": {
    "collapsed": true
   },
   "outputs": [],
   "source": [
    "bs_shifted_sample_stat = bs_statistic(shifted_sample,np.mean,10000)"
   ]
  },
  {
   "cell_type": "code",
   "execution_count": 45,
   "metadata": {},
   "outputs": [
    {
     "data": {
      "text/plain": [
       "0.0"
      ]
     },
     "execution_count": 45,
     "metadata": {},
     "output_type": "execute_result"
    }
   ],
   "source": [
    "# Calculate the p value\n",
    "p = np.sum(bs_shifted_sample_stat<=98.25)/len(bs_shifted_sample_stat)\n",
    "p"
   ]
  },
  {
   "cell_type": "markdown",
   "metadata": {},
   "source": [
    "#### The above p value of 0 strongly suggests that the population mean is not 98.6. Because it was true then the chance of getting the sample mean of 98.25 is 0."
   ]
  },
  {
   "cell_type": "markdown",
   "metadata": {},
   "source": [
    "\n",
    "\n",
    "### Frequentist Tests\n",
    "\n",
    "Frequentist statistical testing. Statistical hypothesis test involves making a null hypothesis about our data assuming that nothing interesting is going on. The purpose of the hypothesis test is to determine whether its true given the sample data. If there is little data against the null hypothesis we accept it. Else we reject it in favor of alternate hypothesis.\n",
    "\n",
    "Null hypotheis: The true population mean is 98.6$^{\\circ}$F\n",
    "\n",
    "        H0: μ−98.6=0\n",
    "\n",
    "Alternative hypothesis: The true population mean is not 98.6$^{\\circ}$F\n",
    "\n",
    "        H1: μ−98.6<>0\n",
    "\n",
    "Significance Level: 99.9% Confidence\n",
    "\n",
    "        α=0.01\n"
   ]
  },
  {
   "cell_type": "code",
   "execution_count": 46,
   "metadata": {
    "collapsed": true
   },
   "outputs": [],
   "source": [
    "# To test the above Null Hypothesis we can apply T or Z tests.\n",
    "# In this situaion a Z test is more appropriate because \n",
    "        # 1.the sample is bigger than 30\n",
    "        # 2.the data in sample are independent"
   ]
  },
  {
   "cell_type": "code",
   "execution_count": 47,
   "metadata": {},
   "outputs": [
    {
     "name": "stdout",
     "output_type": "stream",
     "text": [
      "z score of sample mean is : -5.475925202078116\n",
      "p value:  4.3523151658821886e-08\n",
      "confidence interval:  (98.12368211145665, 98.37477942700491)\n"
     ]
    }
   ],
   "source": [
    "# Let us do the Z test first\n",
    "\n",
    "def do_z_test(sample):\n",
    "    # mean of sample\n",
    "    mean =  np.mean(sample)\n",
    "\n",
    "    # population standard deviation estimate\n",
    "    sigma = np.std(sample)/np.sqrt(len(sample))\n",
    "\n",
    "    # calculate the z score of the sample mean\n",
    "    z = (mean - 98.6)/sigma\n",
    "    print('z score of sample mean is :', z)\n",
    "\n",
    "    p = stats.norm.cdf(z)*2\n",
    "    print('p value: ', p)\n",
    "\n",
    "    # z_critical for chose alpha\n",
    "    z_critical = stats.norm.ppf(q = 0.9995)\n",
    "    #print('z_critical value: ', z_critical)\n",
    "\n",
    "    # margin of error for chose alpha\n",
    "    me = z_critical * sigma\n",
    "    #print('margin of error: ', me)\n",
    "\n",
    "    # confidence interval\n",
    "    #conf_interval = (mean-me, mean+me)\n",
    "    conf_interval = stats.norm.interval(alpha=0.95,loc=mean,scale=sigma)\n",
    "    print('confidence interval: ', conf_interval)\n",
    "    \n",
    "do_z_test(df.temperature)"
   ]
  },
  {
   "cell_type": "markdown",
   "metadata": {},
   "source": [
    "Above values suggests that the chance to get such an extreme value as our sample mean if the Null Hypothesis was true is very close to 0 (4.35 e-08). So we can reject the Null Hypothesis."
   ]
  },
  {
   "cell_type": "code",
   "execution_count": 48,
   "metadata": {},
   "outputs": [
    {
     "name": "stdout",
     "output_type": "stream",
     "text": [
      "t statistic of one sample T test:  -5.4548232923645195\n",
      "p value for one sample T test:  2.4106320415561276e-07\n",
      "confidence interval:  (98.03351714354709, 98.46494439491447)\n"
     ]
    }
   ],
   "source": [
    "# Let us now do T test\n",
    "# calculate the z score of the sample mean\n",
    "\n",
    "def do_t_test(sample):\n",
    "    # mean of sample\n",
    "    mean =  np.mean(sample)\n",
    "\n",
    "    # population standard deviation estimate\n",
    "    sigma = np.std(sample)/np.sqrt(len(sample))\n",
    "    \n",
    "    t,p = stats.ttest_1samp(sample,98.6)\n",
    "    print('t statistic of one sample T test: ', t)\n",
    "    print('p value for one sample T test: ', p)\n",
    "\n",
    "    # degrees of freedom\n",
    "    dof = len(sample) - 1\n",
    "    \n",
    "    # t_critical for chose alpha\n",
    "    t_critical = stats.t.ppf(q = 0.9995,df=dof)\n",
    "    #print('t_critical value: ', z_critical)\n",
    "\n",
    "    # margin of error for chose alpha\n",
    "    me = t_critical * sigma\n",
    "    #print('margin of error: ', me)\n",
    "\n",
    "    # confidence interval\n",
    "    # conf_interval = (mean-me, mean+me)\n",
    "    conf_interval = stats.t.interval(alpha=0.999, df=dof, loc= mean, scale= sigma)\n",
    "    print('confidence interval: ', conf_interval)\n",
    "    \n",
    "do_t_test(df.temperature)"
   ]
  },
  {
   "cell_type": "markdown",
   "metadata": {},
   "source": [
    "There is not much difference between the Z and T test results. Theoretically also, we know that when the sample size is greater than 30 than the T distribution becomes more like Normal distribution. The confidence interval is wider for Z test as it is more lenient and less confident of the results. When we have more a big sample size its better to use Z test confidence interval to give more accurate picture."
   ]
  },
  {
   "cell_type": "markdown",
   "metadata": {},
   "source": [
    "### Q-4 Draw a small sample of size 10 from the data and repeat both frequentist tests.\n",
    "     "
   ]
  },
  {
   "cell_type": "code",
   "execution_count": 49,
   "metadata": {},
   "outputs": [
    {
     "name": "stdout",
     "output_type": "stream",
     "text": [
      "small sample of size 10:  [98.  98.8 97.8 97.  97.7 98.3 98.  97.9 99.  98. ]\n"
     ]
    }
   ],
   "source": [
    "# Draw a smaller sample of size 10 from the original sample\n",
    "np.random.seed(seed=42)\n",
    "small_sample = np.random.choice(df.temperature, size=10)\n",
    "print('small sample of size 10: ', small_sample)"
   ]
  },
  {
   "cell_type": "code",
   "execution_count": 50,
   "metadata": {},
   "outputs": [
    {
     "name": "stdout",
     "output_type": "stream",
     "text": [
      "z score of sample mean is : -3.260780417008125\n",
      "p value:  0.001111060453904971\n",
      "confidence interval:  (97.71941037002236, 98.38058962997764)\n"
     ]
    }
   ],
   "source": [
    "# Do the Z test for smaller sample of size 10\n",
    "do_z_test(small_sample)"
   ]
  },
  {
   "cell_type": "code",
   "execution_count": 51,
   "metadata": {},
   "outputs": [
    {
     "name": "stdout",
     "output_type": "stream",
     "text": [
      "t statistic of one sample T test:  -3.0934479202257976\n",
      "p value for one sample T test:  0.012857704604809363\n",
      "confidence interval:  (97.24359736443827, 98.85640263556174)\n"
     ]
    }
   ],
   "source": [
    "# Do the T test for smaller sample of size 10\n",
    "do_t_test(small_sample)"
   ]
  },
  {
   "cell_type": "markdown",
   "metadata": {},
   "source": [
    "#### There is some difference between the Z and T test results. Again, the confidence interval is wider for Z test as it is more lenient and less confident of the results. Since we have small sample size in this case, its better to use T test confidence interval with bigger range."
   ]
  },
  {
   "cell_type": "markdown",
   "metadata": {},
   "source": [
    "### Q-5 :At what temperature should we consider someone's temperature to be \"abnormal\"?\n",
    "As in the previous example, try calculating everything using the boostrap approach, as well as the frequentist approach.\n",
    "Start by computing the margin of error and confidence interval. When calculating the confidence interval, keep in mind that you should use the appropriate formula for one draw, and not N draws."
   ]
  },
  {
   "cell_type": "markdown",
   "metadata": {},
   "source": [
    "To judge between a normal and abnormal temperature, we need to find a range of normal temperatures. From our previous analysis we saw that our sample data is approximately normal. So we can find the 95% confidence interval for that nomral distribution and that would be our normal human body temperature. Anything outside that temperature would be abnormal."
   ]
  },
  {
   "cell_type": "code",
   "execution_count": 52,
   "metadata": {},
   "outputs": [
    {
     "name": "stdout",
     "output_type": "stream",
     "text": [
      "margin of error:  1.4314749424825415\n",
      "confidence interval from margin of error is (mean-moe,mean+moe):  (96.81775582674824, 99.68070571171332)\n",
      "\n",
      "any temperature outside the range of  (96.81775582674824, 99.68070571171332) is abnormal\n"
     ]
    }
   ],
   "source": [
    "# mean and std for our normal distribution based on given sample\n",
    "mean = np.mean(df.temperature)\n",
    "std = np.std(df.temperature)\n",
    "\n",
    "# margin of error\n",
    "z_critical = stats.norm.ppf(q = 0.975)\n",
    "moe = z_critical * std\n",
    "print('margin of error: ', moe)\n",
    "print('confidence interval from margin of error is (mean-moe,mean+moe): ', (mean-moe,mean+moe))\n",
    "\n",
    "# 95% confidence interval using stats lib\n",
    "ci = stats.norm.interval(alpha=0.95,loc=mean,scale=std)\n",
    "print('\\nany temperature outside the range of ',ci,'is abnormal')\n"
   ]
  },
  {
   "cell_type": "markdown",
   "metadata": {},
   "source": [
    "#### The temperature below 96.81 and above 99.68 is considered as abnormal at 95% confidence level\n"
   ]
  },
  {
   "cell_type": "markdown",
   "metadata": {},
   "source": [
    "### Q-6 : Is there a significant difference between males and females in normal temperature?\n",
    "     What testing approach did you use and why?\n",
    "     Write a story with your conclusion in the context of the original problem."
   ]
  },
  {
   "cell_type": "markdown",
   "metadata": {},
   "source": [
    "We will use Two-sample T-test as we are comparing difference of two quantities and the population standard deviation is unknown.The null hypothesis is that the average temperature for males and females are the same."
   ]
  },
  {
   "cell_type": "markdown",
   "metadata": {},
   "source": [
    "Frequentist Test\n",
    "\n",
    "Calculate the T-test for the means of two independent samples of male and female temperatures.\n",
    "\n",
    "We can use this test, if we observe two independent samples from the same or different population. The test measures whether the average (expected) value differs significantly across samples. If we observe a large p-value, for example larger than 0.05 or 0.1, then we cannot reject the null hypothesis of identical average scores. If the p-value is smaller than the threshold, e.g. 1%, 5% or 10%, then we reject the null hypothesis of equal averages."
   ]
  },
  {
   "cell_type": "code",
   "execution_count": 53,
   "metadata": {
    "collapsed": true
   },
   "outputs": [],
   "source": [
    "# difference between male and female temperatures\n",
    "male_sample = df.temperature[df.gender=='M']\n",
    "female_sample = df.temperature[df.gender=='F']"
   ]
  },
  {
   "cell_type": "code",
   "execution_count": 54,
   "metadata": {},
   "outputs": [
    {
     "data": {
      "text/plain": [
       "Ttest_indResult(statistic=-2.2854345381656103, pvalue=0.02393188312239561)"
      ]
     },
     "execution_count": 54,
     "metadata": {},
     "output_type": "execute_result"
    }
   ],
   "source": [
    "stats.ttest_ind(a=male_sample,b=female_sample)"
   ]
  },
  {
   "cell_type": "markdown",
   "metadata": {},
   "source": [
    "Here the pvalue is less than 0.05. So we can reject the null hypothesis that male and female temperatures are same."
   ]
  },
  {
   "cell_type": "markdown",
   "metadata": {},
   "source": [
    "#### Bootstrap Test\n"
   ]
  },
  {
   "cell_type": "code",
   "execution_count": 55,
   "metadata": {
    "collapsed": true
   },
   "outputs": [],
   "source": [
    "def perm_statistic(data, func, size):\n",
    "    ps_sample_stats = np.empty(size)\n",
    "    length = int(len(data)/2)\n",
    "    \n",
    "    for i in range(size):\n",
    "        data = np.random.permutation(data)\n",
    "        sample1 = data[0:length]\n",
    "        sample2 = data[length:]\n",
    "        ps_sample_stats[i] = func(sample1) - func(sample2)\n",
    "    return ps_sample_stats"
   ]
  },
  {
   "cell_type": "code",
   "execution_count": 56,
   "metadata": {},
   "outputs": [
    {
     "name": "stdout",
     "output_type": "stream",
     "text": [
      "95% confidence interval for mean of differences:  [-0.25230769  0.25230769]\n"
     ]
    }
   ],
   "source": [
    "np.random.seed(42)\n",
    "ps_sample_stats = perm_statistic(df.temperature, np.mean, 10000)\n",
    "conf_int = np.percentile(ps_sample_stats,[2.5,97.5])\n",
    "print('95% confidence interval for mean of differences: ', conf_int )"
   ]
  },
  {
   "cell_type": "code",
   "execution_count": 57,
   "metadata": {},
   "outputs": [
    {
     "data": {
      "text/plain": [
       "0.289230769230727"
      ]
     },
     "execution_count": 57,
     "metadata": {},
     "output_type": "execute_result"
    }
   ],
   "source": [
    "mean_diff = np.mean(female_sample) - np.mean(male_sample)\n",
    "mean_diff"
   ]
  },
  {
   "cell_type": "code",
   "execution_count": 58,
   "metadata": {},
   "outputs": [
    {
     "data": {
      "text/plain": [
       "0.0126"
      ]
     },
     "execution_count": 58,
     "metadata": {},
     "output_type": "execute_result"
    }
   ],
   "source": [
    "# calculate p value\n",
    "p = np.sum(ps_sample_stats >= mean_diff)/len(ps_sample_stats)\n",
    "p"
   ]
  },
  {
   "cell_type": "markdown",
   "metadata": {},
   "source": [
    "#### Again, the pvalue is less than 0.01 and close to 0. So we can reject the null hypothesis that male and female temperatures are same.\n",
    "\n",
    "#### With all the data analysis it is clear that women have slightly higher average temperature than men."
   ]
  },
  {
   "cell_type": "code",
   "execution_count": 59,
   "metadata": {},
   "outputs": [
    {
     "name": "stdout",
     "output_type": "stream",
     "text": [
      "The t-statistic is -2.285 and the p-value is 0.0239319\n"
     ]
    }
   ],
   "source": [
    "# Compute a t-statistic to test the difference in means between males and females\n",
    "\n",
    "males = df['temperature'][df.gender=='M']\n",
    "females = df['temperature'][df.gender=='F']\n",
    "n_m = len(males)\n",
    "n_f = len(females)\n",
    "diff = males.mean() - females.mean()\n",
    "std = np.sqrt(males.var()/n_m + females.var()/n_f)\n",
    "\n",
    "t_stat_d = (diff - 0)/std\n",
    "p_value_d = stats.t.sf(np.abs(t_stat_d), n_m+n_f-2)*2\n",
    "print(\"The t-statistic is {:1.3f} and the p-value is {:1.7f}\".format(t_stat_d, p_value_d))"
   ]
  },
  {
   "cell_type": "code",
   "execution_count": 60,
   "metadata": {},
   "outputs": [
    {
     "data": {
      "text/plain": [
       "65"
      ]
     },
     "execution_count": 60,
     "metadata": {},
     "output_type": "execute_result"
    }
   ],
   "source": [
    "male_temps = df[df['gender'] == 'M'].temperature\n",
    "female_temps = df[df['gender'] == 'F'].temperature\n",
    "\n",
    "males= df[df[\"gender\"]==\"M\"][\"temperature\"]\n",
    "males.count()"
   ]
  },
  {
   "cell_type": "code",
   "execution_count": 61,
   "metadata": {},
   "outputs": [
    {
     "data": {
      "text/plain": [
       "0.6987557623265908"
      ]
     },
     "execution_count": 61,
     "metadata": {},
     "output_type": "execute_result"
    }
   ],
   "source": [
    "std_males=males.std()\n",
    "std_males"
   ]
  },
  {
   "cell_type": "code",
   "execution_count": 62,
   "metadata": {},
   "outputs": [
    {
     "data": {
      "text/plain": [
       "65"
      ]
     },
     "execution_count": 62,
     "metadata": {},
     "output_type": "execute_result"
    }
   ],
   "source": [
    "\n",
    "females=df[df[\"gender\"]==\"F\"][\"temperature\"]\n",
    "females.count()"
   ]
  },
  {
   "cell_type": "markdown",
   "metadata": {},
   "source": [
    "Since we now have 2 different groups, we'll be doing a 2 sample t-test to get the p-value and t-statistics."
   ]
  },
  {
   "cell_type": "code",
   "execution_count": 63,
   "metadata": {},
   "outputs": [
    {
     "name": "stdout",
     "output_type": "stream",
     "text": [
      "t-statistic: -2.2854345381656103\n",
      "p value = 0.02393188312239561\n"
     ]
    }
   ],
   "source": [
    "# conduct two-sample t-test (justification above)\n",
    "from scipy.stats import ttest_ind\n",
    "t_stat, p_val_t = ttest_ind(male_temps, female_temps)\n",
    "\n",
    "print('t-statistic:',t_stat)\n",
    "print('p value =',p_val_t)"
   ]
  },
  {
   "cell_type": "code",
   "execution_count": 64,
   "metadata": {},
   "outputs": [
    {
     "name": "stdout",
     "output_type": "stream",
     "text": [
      "The null hypothesis - that there is no difference between male and female temperatures - can be rejected\n"
     ]
    }
   ],
   "source": [
    "alpha = 0.05\n",
    "if p_val_t < alpha:\n",
    "    print(\"The null hypothesis - that there is no difference between male and female temperatures - can be rejected\")\n",
    "else:\n",
    "    print(\"The null hypothesis - that there is no difference between male and female temperatures - cannot be rejected\")"
   ]
  },
  {
   "cell_type": "code",
   "execution_count": 65,
   "metadata": {},
   "outputs": [
    {
     "data": {
      "text/plain": [
       "array([<matplotlib.axes._subplots.AxesSubplot object at 0x0000018BF892BE10>,\n",
       "       <matplotlib.axes._subplots.AxesSubplot object at 0x0000018BF8B907F0>],\n",
       "      dtype=object)"
      ]
     },
     "execution_count": 65,
     "metadata": {},
     "output_type": "execute_result"
    },
    {
     "data": {
      "image/png": "[encoded data removed]",
      "text/plain": [
       "<matplotlib.figure.Figure at 0x18bf87dcfd0>"
      ]
     },
     "metadata": {},
     "output_type": "display_data"
    }
   ],
   "source": [
    "\n",
    "# Show histograms for males and females separately\n",
    "df['temperature'].hist(by=df['gender'], width=0.4, range=[96, 101])"
   ]
  },
  {
   "cell_type": "markdown",
   "metadata": {},
   "source": [
    "Thus since our p_value is above 1%, well below the 5% threshold we had decided on, we conclude that there does seem to be a significant difference between men and women in terms of body temperature. What this p-value represents is that if the null hypothesis was true (no difference), then we would only expect to sample such a large difference 1 out of 100 times, based on chance. So we are confident that the observed effect is real.\n",
    "\n",
    "The null hypothesis - that there is no difference between male and female temperatures - can be rejected\n",
    "\n",
    "ANSWER 6:\n",
    "Now since the p-value is 0.023< 0.05 we reject the null hypothesis that there is no difference between the mean body temperature of males and females. Therefore, we go with the alternate hypothesis which states, there is some difference between the mean body temperature of males and females.\n",
    "\n",
    "Yes, the difference in male and female body temperatures is statistically significant.\n",
    "\n",
    "Analysis Conclusion:\n",
    "1) All in all, it appears that the true normal human body temperature varies from 98.6 degrees fahrenheit.\n",
    "\n",
    "2) Moreover, normal body temperature varies across a gaussian distribution and should only be considered \"abnormal\" if it varies outside the range of 96.81-99.68.\n",
    "\n",
    "3) Finally, there's evidence in the data that there is a statistically significant difference between males and females in normal body temperature."
   ]
  }
 ],
 "metadata": {
  "kernelspec": {
   "display_name": "Python 3",
   "language": "python",
   "name": "python3"
  },
  "language_info": {
   "codemirror_mode": {
    "name": "ipython",
    "version": 3
   },
   "file_extension": ".py",
   "mimetype": "text/x-python",
   "name": "python",
   "nbconvert_exporter": "python",
   "pygments_lexer": "ipython3",
   "version": "3.6.1"
  }
 },
 "nbformat": 4,
 "nbformat_minor": 1
}
