{
 "cells": [
  {
   "cell_type": "markdown",
   "metadata": {
    "collapsed": true
   },
   "source": [
    " Import libraries"
   ]
  },
  {
   "cell_type": "code",
   "execution_count": 204,
   "metadata": {
    "collapsed": true
   },
   "outputs": [],
   "source": [
    "import pandas as pd\n",
    "import numpy as np\n",
    "import matplotlib.pyplot as plt\n",
    "import seaborn as sns\n",
    "%matplotlib inline"
   ]
  },
  {
   "cell_type": "markdown",
   "metadata": {},
   "source": [
    "Read csv file into dataframe : df"
   ]
  },
  {
   "cell_type": "code",
   "execution_count": 262,
   "metadata": {
    "collapsed": true
   },
   "outputs": [],
   "source": [
    "\n",
    "df=pd.read_csv('ts2.csv')"
   ]
  },
  {
   "cell_type": "markdown",
   "metadata": {},
   "source": [
    "Display top 5 rows of data frame"
   ]
  },
  {
   "cell_type": "code",
   "execution_count": 263,
   "metadata": {},
   "outputs": [
    {
     "data": {
      "text/html": [
       "<div>\n",
       "<style>\n",
       "    .dataframe thead tr:only-child th {\n",
       "        text-align: right;\n",
       "    }\n",
       "\n",
       "    .dataframe thead th {\n",
       "        text-align: left;\n",
       "    }\n",
       "\n",
       "    .dataframe tbody tr th {\n",
       "        vertical-align: top;\n",
       "    }\n",
       "</style>\n",
       "<table border=\"1\" class=\"dataframe\">\n",
       "  <thead>\n",
       "    <tr style=\"text-align: right;\">\n",
       "      <th></th>\n",
       "      <th>CustomerID</th>\n",
       "      <th>Chain</th>\n",
       "      <th>Dept</th>\n",
       "      <th>Category</th>\n",
       "      <th>Company</th>\n",
       "      <th>Brand</th>\n",
       "      <th>Date</th>\n",
       "      <th>Productsize</th>\n",
       "      <th>productmeasure</th>\n",
       "      <th>Purchasequantity</th>\n",
       "      <th>Purchaseamount</th>\n",
       "    </tr>\n",
       "  </thead>\n",
       "  <tbody>\n",
       "    <tr>\n",
       "      <th>0</th>\n",
       "      <td>86246</td>\n",
       "      <td>205</td>\n",
       "      <td>56</td>\n",
       "      <td>5613</td>\n",
       "      <td>107592575</td>\n",
       "      <td>4368</td>\n",
       "      <td>1/2/2013</td>\n",
       "      <td>15.00</td>\n",
       "      <td>OZ</td>\n",
       "      <td>1</td>\n",
       "      <td>3.49</td>\n",
       "    </tr>\n",
       "    <tr>\n",
       "      <th>1</th>\n",
       "      <td>86246</td>\n",
       "      <td>205</td>\n",
       "      <td>63</td>\n",
       "      <td>6305</td>\n",
       "      <td>102500020</td>\n",
       "      <td>11749</td>\n",
       "      <td>1/2/2013</td>\n",
       "      <td>59.00</td>\n",
       "      <td>OZ</td>\n",
       "      <td>1</td>\n",
       "      <td>4.29</td>\n",
       "    </tr>\n",
       "    <tr>\n",
       "      <th>2</th>\n",
       "      <td>86246</td>\n",
       "      <td>205</td>\n",
       "      <td>9</td>\n",
       "      <td>907</td>\n",
       "      <td>1065752262</td>\n",
       "      <td>25738</td>\n",
       "      <td>1/2/2013</td>\n",
       "      <td>16.00</td>\n",
       "      <td>OZ</td>\n",
       "      <td>1</td>\n",
       "      <td>3.69</td>\n",
       "    </tr>\n",
       "    <tr>\n",
       "      <th>3</th>\n",
       "      <td>86246</td>\n",
       "      <td>205</td>\n",
       "      <td>63</td>\n",
       "      <td>6315</td>\n",
       "      <td>101116616</td>\n",
       "      <td>15266</td>\n",
       "      <td>1/2/2013</td>\n",
       "      <td>64.00</td>\n",
       "      <td>OZ</td>\n",
       "      <td>1</td>\n",
       "      <td>2.98</td>\n",
       "    </tr>\n",
       "    <tr>\n",
       "      <th>4</th>\n",
       "      <td>86246</td>\n",
       "      <td>205</td>\n",
       "      <td>4</td>\n",
       "      <td>416</td>\n",
       "      <td>104000040</td>\n",
       "      <td>16765</td>\n",
       "      <td>1/2/2013</td>\n",
       "      <td>2.07</td>\n",
       "      <td>OZ</td>\n",
       "      <td>1</td>\n",
       "      <td>0.99</td>\n",
       "    </tr>\n",
       "  </tbody>\n",
       "</table>\n",
       "</div>"
      ],
      "text/plain": [
       "   CustomerID  Chain  Dept  Category     Company  Brand      Date  \\\n",
       "0       86246    205    56      5613   107592575   4368  1/2/2013   \n",
       "1       86246    205    63      6305   102500020  11749  1/2/2013   \n",
       "2       86246    205     9       907  1065752262  25738  1/2/2013   \n",
       "3       86246    205    63      6315   101116616  15266  1/2/2013   \n",
       "4       86246    205     4       416   104000040  16765  1/2/2013   \n",
       "\n",
       "   Productsize productmeasure  Purchasequantity  Purchaseamount  \n",
       "0        15.00             OZ                 1            3.49  \n",
       "1        59.00             OZ                 1            4.29  \n",
       "2        16.00             OZ                 1            3.69  \n",
       "3        64.00             OZ                 1            2.98  \n",
       "4         2.07             OZ                 1            0.99  "
      ]
     },
     "execution_count": 263,
     "metadata": {},
     "output_type": "execute_result"
    }
   ],
   "source": [
    "df.head()"
   ]
  },
  {
   "cell_type": "markdown",
   "metadata": {
    "collapsed": true
   },
   "source": [
    " Data type for each column"
   ]
  },
  {
   "cell_type": "code",
   "execution_count": 264,
   "metadata": {},
   "outputs": [
    {
     "name": "stdout",
     "output_type": "stream",
     "text": [
      "<class 'pandas.core.frame.DataFrame'>\n",
      "RangeIndex: 1048574 entries, 0 to 1048573\n",
      "Data columns (total 11 columns):\n",
      "CustomerID          1048574 non-null int64\n",
      "Chain               1048574 non-null int64\n",
      "Dept                1048574 non-null int64\n",
      "Category            1048574 non-null int64\n",
      "Company             1048574 non-null int64\n",
      "Brand               1048574 non-null int64\n",
      "Date                1048574 non-null object\n",
      "Productsize         1048574 non-null float64\n",
      "productmeasure      1037317 non-null object\n",
      "Purchasequantity    1048574 non-null int64\n",
      "Purchaseamount      1048574 non-null float64\n",
      "dtypes: float64(2), int64(7), object(2)\n",
      "memory usage: 88.0+ MB\n"
     ]
    }
   ],
   "source": [
    "df.info()"
   ]
  },
  {
   "cell_type": "markdown",
   "metadata": {
    "collapsed": true
   },
   "source": [
    "Create a heatmap on the boolean values \n",
    "Yellow bars shows missing values from the birds eye view"
   ]
  },
  {
   "cell_type": "code",
   "execution_count": 265,
   "metadata": {},
   "outputs": [
    {
     "data": {
      "text/plain": [
       "<matplotlib.axes._subplots.AxesSubplot at 0x14294ba9080>"
      ]
     },
     "execution_count": 265,
     "metadata": {},
     "output_type": "execute_result"
    },
    {
     "data": {
      "image/png": "[encoded data removed]",
      "text/plain": [
       "<matplotlib.figure.Figure at 0x14294b00780>"
      ]
     },
     "metadata": {},
     "output_type": "display_data"
    }
   ],
   "source": [
    "sns.heatmap((df.isnull()),yticklabels=False,cbar=False,cmap='viridis')\n",
    "# There are missing values on productmeasure column"
   ]
  },
  {
   "cell_type": "code",
   "execution_count": 266,
   "metadata": {},
   "outputs": [
    {
     "data": {
      "text/plain": [
       "1048574"
      ]
     },
     "execution_count": 266,
     "metadata": {},
     "output_type": "execute_result"
    }
   ],
   "source": [
    "# no of rows in the dataframe\n",
    "df.shape[0]"
   ]
  },
  {
   "cell_type": "code",
   "execution_count": 267,
   "metadata": {},
   "outputs": [
    {
     "data": {
      "text/plain": [
       "11"
      ]
     },
     "execution_count": 267,
     "metadata": {},
     "output_type": "execute_result"
    }
   ],
   "source": [
    "#no of columns in the dataframe\n",
    "df.shape[1]"
   ]
  },
  {
   "cell_type": "code",
   "execution_count": 268,
   "metadata": {},
   "outputs": [
    {
     "data": {
      "text/plain": [
       "Index(['CustomerID', 'Chain', 'Dept', 'Category', 'Company', 'Brand', 'Date',\n",
       "       'Productsize', 'productmeasure', 'Purchasequantity', 'Purchaseamount'],\n",
       "      dtype='object')"
      ]
     },
     "execution_count": 268,
     "metadata": {},
     "output_type": "execute_result"
    }
   ],
   "source": [
    "# column names consistency check: no void spaces  \n",
    "df.columns"
   ]
  },
  {
   "cell_type": "markdown",
   "metadata": {},
   "source": [
    "Frequency of values on each individual column (highest to lowest)"
   ]
  },
  {
   "cell_type": "code",
   "execution_count": 269,
   "metadata": {},
   "outputs": [
    {
     "data": {
      "text/plain": [
       "OZ     882458\n",
       "CT     112610\n",
       "LT      19316\n",
       "RL      12514\n",
       "NaN     11257\n",
       "LB      10020\n",
       "YD        399\n",
       "Name: productmeasure, dtype: int64"
      ]
     },
     "execution_count": 269,
     "metadata": {},
     "output_type": "execute_result"
    }
   ],
   "source": [
    "df['productmeasure'].value_counts(dropna=False)\n",
    "# Has 11257 null values"
   ]
  },
  {
   "cell_type": "code",
   "execution_count": 270,
   "metadata": {},
   "outputs": [
    {
     "data": {
      "text/plain": [
       "6"
      ]
     },
     "execution_count": 270,
     "metadata": {},
     "output_type": "execute_result"
    }
   ],
   "source": [
    "df['productmeasure'].nunique()"
   ]
  },
  {
   "cell_type": "code",
   "execution_count": 271,
   "metadata": {},
   "outputs": [
    {
     "data": {
      "text/plain": [
       "126076370    417\n",
       "86252        387\n",
       "124188763    374\n",
       "135707806    371\n",
       "126254930    357\n",
       "121709928    351\n",
       "135258615    345\n",
       "126102424    342\n",
       "123976987    341\n",
       "121066166    339\n",
       "57132131     336\n",
       "106627994    336\n",
       "121895900    332\n",
       "83868868     331\n",
       "121009427    329\n",
       "133515069    326\n",
       "120945028    324\n",
       "108528616    323\n",
       "121446341    320\n",
       "121906896    316\n",
       "105556795    315\n",
       "124253508    313\n",
       "134016269    313\n",
       "125842030    312\n",
       "139018590    309\n",
       "137485152    309\n",
       "99551428     308\n",
       "124393795    307\n",
       "135100874    306\n",
       "125317972    303\n",
       "            ... \n",
       "121915737      1\n",
       "54108377       1\n",
       "107587894      1\n",
       "122042580      1\n",
       "102961601      1\n",
       "116699481      1\n",
       "102086654      1\n",
       "107454629      1\n",
       "112300348      1\n",
       "103229418      1\n",
       "108998770      1\n",
       "107477488      1\n",
       "126834211      1\n",
       "108005209      1\n",
       "124782422      1\n",
       "134360512      1\n",
       "137041893      1\n",
       "121586722      1\n",
       "124143709      1\n",
       "73410200       1\n",
       "106454399      1\n",
       "134961871      1\n",
       "131952537      1\n",
       "125402508      1\n",
       "100133594      1\n",
       "125295709      1\n",
       "104734773      1\n",
       "75032259       1\n",
       "125240880      1\n",
       "134874357      1\n",
       "Name: CustomerID, Length: 14030, dtype: int64"
      ]
     },
     "execution_count": 271,
     "metadata": {},
     "output_type": "execute_result"
    }
   ],
   "source": [
    "df['CustomerID'].value_counts(dropna=False)"
   ]
  },
  {
   "cell_type": "code",
   "execution_count": 272,
   "metadata": {},
   "outputs": [
    {
     "data": {
      "text/plain": [
       "14030"
      ]
     },
     "execution_count": 272,
     "metadata": {},
     "output_type": "execute_result"
    }
   ],
   "source": [
    "#No. of Distinct customerId's\n",
    "df['CustomerID'].nunique()"
   ]
  },
  {
   "cell_type": "code",
   "execution_count": 273,
   "metadata": {},
   "outputs": [
    {
     "data": {
      "text/plain": [
       "15     258583\n",
       "18     187300\n",
       "4      170204\n",
       "17      96940\n",
       "95      88313\n",
       "20      68065\n",
       "14      66335\n",
       "88      65007\n",
       "3       38688\n",
       "192      5778\n",
       "46       2107\n",
       "205       678\n",
       "217       243\n",
       "58        181\n",
       "2         152\n",
       "Name: Chain, dtype: int64"
      ]
     },
     "execution_count": 273,
     "metadata": {},
     "output_type": "execute_result"
    }
   ],
   "source": [
    "df['Chain'].value_counts(dropna=False)"
   ]
  },
  {
   "cell_type": "code",
   "execution_count": 274,
   "metadata": {},
   "outputs": [
    {
     "data": {
      "text/plain": [
       "15"
      ]
     },
     "execution_count": 274,
     "metadata": {},
     "output_type": "execute_result"
    }
   ],
   "source": [
    "df['Chain'].nunique()"
   ]
  },
  {
   "cell_type": "code",
   "execution_count": 275,
   "metadata": {},
   "outputs": [
    {
     "data": {
      "text/plain": [
       "9     89442\n",
       "63    82520\n",
       "99    55840\n",
       "36    49135\n",
       "33    43511\n",
       "56    42496\n",
       "58    39225\n",
       "5     38982\n",
       "26    37092\n",
       "51    32325\n",
       "8     32285\n",
       "37    26964\n",
       "97    24473\n",
       "64    23567\n",
       "29    21802\n",
       "57    21567\n",
       "41    20938\n",
       "21    20764\n",
       "4     18519\n",
       "55    16567\n",
       "25    15415\n",
       "27    15196\n",
       "73    13995\n",
       "30    11059\n",
       "7     10989\n",
       "96    10877\n",
       "59     9728\n",
       "23     9595\n",
       "18     9423\n",
       "53     8800\n",
       "      ...  \n",
       "16     3999\n",
       "12     3970\n",
       "22     3952\n",
       "40     3778\n",
       "75     3503\n",
       "15     3136\n",
       "62     2825\n",
       "1      2796\n",
       "38     2673\n",
       "44     2515\n",
       "82     2481\n",
       "69     2301\n",
       "20     1908\n",
       "24     1839\n",
       "74     1833\n",
       "0      1829\n",
       "92     1711\n",
       "70     1638\n",
       "46     1609\n",
       "13     1578\n",
       "39     1553\n",
       "81     1424\n",
       "42     1397\n",
       "43     1362\n",
       "47     1161\n",
       "50      947\n",
       "65      621\n",
       "67      591\n",
       "78      221\n",
       "98      161\n",
       "Name: Dept, Length: 82, dtype: int64"
      ]
     },
     "execution_count": 275,
     "metadata": {},
     "output_type": "execute_result"
    }
   ],
   "source": [
    "df['Dept'].value_counts(dropna=False)"
   ]
  },
  {
   "cell_type": "code",
   "execution_count": 276,
   "metadata": {},
   "outputs": [
    {
     "data": {
      "text/plain": [
       "82"
      ]
     },
     "execution_count": 276,
     "metadata": {},
     "output_type": "execute_result"
    }
   ],
   "source": [
    "df['Dept'].nunique()"
   ]
  },
  {
   "cell_type": "code",
   "execution_count": 277,
   "metadata": {},
   "outputs": [
    {
     "data": {
      "text/plain": [
       "907     34208\n",
       "6315    30405\n",
       "501     21493\n",
       "9909    21129\n",
       "9753    19126\n",
       "9908    17840\n",
       "902     16102\n",
       "6320    14954\n",
       "9904    14661\n",
       "5823    10825\n",
       "901      9855\n",
       "2301     9195\n",
       "9609     9043\n",
       "3303     8745\n",
       "5710     8607\n",
       "6401     8374\n",
       "5620     7922\n",
       "6305     7851\n",
       "5125     7709\n",
       "917      7615\n",
       "6409     7558\n",
       "2506     7525\n",
       "5307     7340\n",
       "3611     7118\n",
       "3618     6238\n",
       "416      6166\n",
       "4107     6040\n",
       "5704     5987\n",
       "3305     5900\n",
       "5902     5894\n",
       "        ...  \n",
       "5566        7\n",
       "9733        7\n",
       "7331        6\n",
       "9711        6\n",
       "9706        6\n",
       "7505        6\n",
       "7327        5\n",
       "7005        5\n",
       "1399        4\n",
       "1009        4\n",
       "9769        4\n",
       "9736        4\n",
       "9708        4\n",
       "9213        3\n",
       "919         3\n",
       "203         3\n",
       "9802        3\n",
       "9209        2\n",
       "9763        2\n",
       "9705        2\n",
       "1605        2\n",
       "1897        2\n",
       "9781        2\n",
       "9720        1\n",
       "3399        1\n",
       "9740        1\n",
       "2714        1\n",
       "9785        1\n",
       "7099        1\n",
       "4905        1\n",
       "Name: Category, Length: 769, dtype: int64"
      ]
     },
     "execution_count": 277,
     "metadata": {},
     "output_type": "execute_result"
    }
   ],
   "source": [
    "df['Category'].value_counts(dropna=False)"
   ]
  },
  {
   "cell_type": "code",
   "execution_count": 278,
   "metadata": {},
   "outputs": [
    {
     "data": {
      "text/plain": [
       "769"
      ]
     },
     "execution_count": 278,
     "metadata": {},
     "output_type": "execute_result"
    }
   ],
   "source": [
    "df['Category'].nunique()"
   ]
  },
  {
   "cell_type": "code",
   "execution_count": 279,
   "metadata": {},
   "outputs": [
    {
     "data": {
      "text/plain": [
       "102113020      222708\n",
       "107989373       36179\n",
       "102840020       22077\n",
       "103700030       15397\n",
       "101600010       15380\n",
       "104400040       14272\n",
       "105100050       14220\n",
       "103800030       12787\n",
       "102100020       11921\n",
       "10000           11785\n",
       "104900040       10974\n",
       "107800070       10241\n",
       "107127979        9908\n",
       "103000030        8830\n",
       "104470040        8627\n",
       "101200010        8308\n",
       "105000050        7631\n",
       "103400030        7350\n",
       "103338333        7269\n",
       "101380010        6481\n",
       "104300040        6436\n",
       "102500020        6396\n",
       "107373171        5913\n",
       "107047070        5909\n",
       "103600030        5833\n",
       "105210050        5346\n",
       "105150050        5131\n",
       "102400020        4884\n",
       "103663232        4684\n",
       "101410010        4684\n",
       "                ...  \n",
       "107321878           1\n",
       "10931191090         1\n",
       "102316929           1\n",
       "107175878           1\n",
       "1083560989          1\n",
       "1021003727          1\n",
       "108465484           1\n",
       "107464272           1\n",
       "1051313050          1\n",
       "1088775181          1\n",
       "1023822929          1\n",
       "104355242           1\n",
       "1089119181          1\n",
       "1021161727          1\n",
       "1058616252          1\n",
       "1075318171          1\n",
       "1064286060          1\n",
       "1058535757          1\n",
       "101871313           1\n",
       "107964272           1\n",
       "1023511424          1\n",
       "10978038595         1\n",
       "1021010929          1\n",
       "1089322282          1\n",
       "109736191           1\n",
       "107091676           1\n",
       "102429121           1\n",
       "107075979           1\n",
       "1085080383          1\n",
       "101147212           1\n",
       "Name: Company, Length: 4762, dtype: int64"
      ]
     },
     "execution_count": 279,
     "metadata": {},
     "output_type": "execute_result"
    }
   ],
   "source": [
    "df['Company'].value_counts(dropna=False)"
   ]
  },
  {
   "cell_type": "code",
   "execution_count": 281,
   "metadata": {},
   "outputs": [
    {
     "data": {
      "text/plain": [
       "4762"
      ]
     },
     "execution_count": 281,
     "metadata": {},
     "output_type": "execute_result"
    }
   ],
   "source": [
    "df['Company'].nunique()"
   ]
  },
  {
   "cell_type": "code",
   "execution_count": 282,
   "metadata": {
    "scrolled": true
   },
   "outputs": [
    {
     "data": {
      "text/plain": [
       "15704     136823\n",
       "10786      63045\n",
       "0          20692\n",
       "12908      16919\n",
       "30626      14467\n",
       "33170      12265\n",
       "16397      10638\n",
       "6732        9908\n",
       "2820        9082\n",
       "88199       9043\n",
       "9886        7576\n",
       "29344       6919\n",
       "13310       6707\n",
       "14760       6481\n",
       "20230       5983\n",
       "11786       5915\n",
       "11382       5402\n",
       "10241       5288\n",
       "14029       5187\n",
       "5537        4976\n",
       "13291       4905\n",
       "4568        4684\n",
       "5278        4444\n",
       "4704        4428\n",
       "18584       4380\n",
       "1393        4375\n",
       "14582       4232\n",
       "23359       4074\n",
       "10271       3859\n",
       "18390       3562\n",
       "           ...  \n",
       "13420          1\n",
       "14574          1\n",
       "61173          1\n",
       "1768           1\n",
       "28389          1\n",
       "25441          1\n",
       "1131           1\n",
       "18376          1\n",
       "13409          1\n",
       "46708          1\n",
       "19299          1\n",
       "97985          1\n",
       "50422          1\n",
       "16324          1\n",
       "41591          1\n",
       "963            1\n",
       "14059          1\n",
       "45951          1\n",
       "9448           1\n",
       "23271          1\n",
       "86605          1\n",
       "13252          1\n",
       "10336          1\n",
       "22241          1\n",
       "107871         1\n",
       "6245           1\n",
       "28391          1\n",
       "62584          1\n",
       "94281          1\n",
       "2047           1\n",
       "Name: Brand, Length: 5743, dtype: int64"
      ]
     },
     "execution_count": 282,
     "metadata": {},
     "output_type": "execute_result"
    }
   ],
   "source": [
    "df['Brand'].value_counts(dropna=False)"
   ]
  },
  {
   "cell_type": "code",
   "execution_count": 283,
   "metadata": {},
   "outputs": [
    {
     "data": {
      "text/plain": [
       "5743"
      ]
     },
     "execution_count": 283,
     "metadata": {},
     "output_type": "execute_result"
    }
   ],
   "source": [
    "df['Brand'].nunique()"
   ]
  },
  {
   "cell_type": "code",
   "execution_count": 284,
   "metadata": {},
   "outputs": [
    {
     "data": {
      "text/plain": [
       "1/6/2013     48481\n",
       "1/13/2013    46798\n",
       "1/27/2013    45356\n",
       "1/12/2013    43446\n",
       "1/20/2013    42236\n",
       "1/5/2013     41355\n",
       "1/26/2013    40398\n",
       "1/19/2013    40137\n",
       "1/25/2013    37474\n",
       "1/11/2013    36709\n",
       "1/4/2013     36607\n",
       "1/18/2013    35749\n",
       "1/21/2013    34121\n",
       "1/7/2013     33790\n",
       "1/28/2013    32144\n",
       "1/14/2013    31145\n",
       "1/2/2013     30540\n",
       "1/3/2013     30160\n",
       "1/22/2013    29634\n",
       "1/8/2013     29287\n",
       "1/24/2013    28490\n",
       "1/29/2013    28470\n",
       "1/23/2013    28375\n",
       "1/10/2013    28135\n",
       "1/17/2013    27901\n",
       "1/16/2013    27762\n",
       "1/31/2013    27735\n",
       "1/15/2013    27675\n",
       "1/9/2013     27151\n",
       "1/30/2013    25904\n",
       "1/1/2013     25409\n",
       "Name: Date, dtype: int64"
      ]
     },
     "execution_count": 284,
     "metadata": {},
     "output_type": "execute_result"
    }
   ],
   "source": [
    "df['Date'].value_counts(dropna=False)"
   ]
  },
  {
   "cell_type": "code",
   "execution_count": 285,
   "metadata": {},
   "outputs": [
    {
     "data": {
      "text/plain": [
       "31"
      ]
     },
     "execution_count": 285,
     "metadata": {},
     "output_type": "execute_result"
    }
   ],
   "source": [
    "df['Date'].nunique()"
   ]
  },
  {
   "cell_type": "code",
   "execution_count": 286,
   "metadata": {},
   "outputs": [
    {
     "data": {
      "text/plain": [
       "16.00     93563\n",
       "12.00     63785\n",
       "1.00      50830\n",
       "8.00      43638\n",
       "32.00     38817\n",
       "24.00     37495\n",
       "6.00      29431\n",
       "64.00     27980\n",
       "20.00     25797\n",
       "10.00     25037\n",
       "15.00     23188\n",
       "128.00    23107\n",
       "18.00     19653\n",
       "0.75      16072\n",
       "9.00      15872\n",
       "14.00     14742\n",
       "4.00      14345\n",
       "5.00      13321\n",
       "48.00     13152\n",
       "144.00    11812\n",
       "0.00      11262\n",
       "7.00      10917\n",
       "13.00     10592\n",
       "10.50      9563\n",
       "14.50      9240\n",
       "59.00      8633\n",
       "67.60      8507\n",
       "22.00      8246\n",
       "2.00       8218\n",
       "30.00      7924\n",
       "          ...  \n",
       "44.80         1\n",
       "8.99          1\n",
       "16.23         1\n",
       "1.98          1\n",
       "20.72         1\n",
       "5.88          1\n",
       "736.00        1\n",
       "0.55          1\n",
       "42.30         1\n",
       "3.88          1\n",
       "211.20        1\n",
       "540.00        1\n",
       "18.59         1\n",
       "8.29          1\n",
       "15.89         1\n",
       "8.21          1\n",
       "0.58          1\n",
       "25.25         1\n",
       "2.03          1\n",
       "8.13          1\n",
       "1.17          1\n",
       "22.52         1\n",
       "738.00        1\n",
       "35.27         1\n",
       "768.00        1\n",
       "3.08          1\n",
       "3.28          1\n",
       "61.00         1\n",
       "0.11          1\n",
       "7.42          1\n",
       "Name: Productsize, Length: 1136, dtype: int64"
      ]
     },
     "execution_count": 286,
     "metadata": {},
     "output_type": "execute_result"
    }
   ],
   "source": [
    "df['Productsize'].value_counts(dropna=False)"
   ]
  },
  {
   "cell_type": "code",
   "execution_count": 287,
   "metadata": {},
   "outputs": [
    {
     "data": {
      "text/plain": [
       "1136"
      ]
     },
     "execution_count": 287,
     "metadata": {},
     "output_type": "execute_result"
    }
   ],
   "source": [
    "df['Productsize'].nunique()"
   ]
  },
  {
   "cell_type": "code",
   "execution_count": 230,
   "metadata": {},
   "outputs": [
    {
     "data": {
      "text/plain": [
       " 1     809398\n",
       " 2     171549\n",
       " 3      28771\n",
       " 4      20805\n",
       " 5       4932\n",
       " 6       4855\n",
       " 10      2126\n",
       " 8       1552\n",
       " 0       1258\n",
       " 7        888\n",
       " 9        477\n",
       " 12       463\n",
       "-1        397\n",
       " 11       196\n",
       " 20       122\n",
       " 15       114\n",
       " 14       113\n",
       " 16        85\n",
       " 13        78\n",
       "-2         63\n",
       " 24        51\n",
       " 18        42\n",
       " 19        26\n",
       " 21        23\n",
       " 17        22\n",
       " 30        21\n",
       " 22        20\n",
       " 36        11\n",
       " 40         9\n",
       " 25         8\n",
       "        ...  \n",
       " 26         7\n",
       " 28         7\n",
       " 72         6\n",
       " 48         6\n",
       " 29         6\n",
       " 23         5\n",
       "-4          4\n",
       "-5          4\n",
       " 32         4\n",
       " 45         3\n",
       " 33         3\n",
       " 42         3\n",
       "-8          2\n",
       " 52         2\n",
       " 35         2\n",
       " 34         2\n",
       " 41         2\n",
       " 39         2\n",
       " 31         2\n",
       " 44         1\n",
       " 49         1\n",
       " 74         1\n",
       " 76         1\n",
       " 83         1\n",
       " 96         1\n",
       " 97         1\n",
       "-9          1\n",
       " 37         1\n",
       " 53         1\n",
       " 57         1\n",
       "Name: Purchasequantity, Length: 62, dtype: int64"
      ]
     },
     "execution_count": 230,
     "metadata": {},
     "output_type": "execute_result"
    }
   ],
   "source": [
    "df['Purchasequantity'].value_counts(dropna=False)\n",
    "# negative values "
   ]
  },
  {
   "cell_type": "code",
   "execution_count": 231,
   "metadata": {},
   "outputs": [
    {
     "data": {
      "text/plain": [
       "62"
      ]
     },
     "execution_count": 231,
     "metadata": {},
     "output_type": "execute_result"
    }
   ],
   "source": [
    "df['Purchasequantity'].nunique()"
   ]
  },
  {
   "cell_type": "code",
   "execution_count": 232,
   "metadata": {},
   "outputs": [
    {
     "data": {
      "text/plain": [
       " 2.99      61300\n",
       " 3.99      56944\n",
       " 1.99      37707\n",
       " 4.99      34307\n",
       " 3.49      26444\n",
       " 2.50      25097\n",
       " 2.49      23786\n",
       " 5.99      23275\n",
       " 2.00      19485\n",
       " 6.99      17670\n",
       " 3.00      17602\n",
       " 0.99      16483\n",
       " 4.49      15933\n",
       " 5.00      15123\n",
       " 3.29      14495\n",
       " 5.49      12499\n",
       " 2.79      12389\n",
       " 1.79      11966\n",
       " 3.79      11899\n",
       " 4.29      11465\n",
       " 7.99      11112\n",
       " 1.49      10682\n",
       " 1.00      10401\n",
       " 2.29      10355\n",
       " 1.69       9137\n",
       " 4.00       9089\n",
       " 2.69       8931\n",
       " 3.69       8847\n",
       " 2.19       8454\n",
       " 5.98       8426\n",
       "           ...  \n",
       " 89.98         1\n",
       "-13.23         1\n",
       "-14.47         1\n",
       " 30.32         1\n",
       "-12.24         1\n",
       " 260.00        1\n",
       "-36.11         1\n",
       "-13.11         1\n",
       "-13.39         1\n",
       "-9.85          1\n",
       "-9.32          1\n",
       " 27.72         1\n",
       "-16.75         1\n",
       " 54.98         1\n",
       "-15.14         1\n",
       "-17.93         1\n",
       " 92.35         1\n",
       "-23.44         1\n",
       "-23.99         1\n",
       " 45.50         1\n",
       " 26.91         1\n",
       "-17.79         1\n",
       "-30.57         1\n",
       " 22.11         1\n",
       "-50.04         1\n",
       " 32.78         1\n",
       " 32.22         1\n",
       " 16.75         1\n",
       " 34.44         1\n",
       "-27.96         1\n",
       "Name: Purchaseamount, Length: 5806, dtype: int64"
      ]
     },
     "execution_count": 232,
     "metadata": {},
     "output_type": "execute_result"
    }
   ],
   "source": [
    "\n",
    "df['Purchaseamount'].value_counts(dropna=False)\n",
    "# negative values   "
   ]
  },
  {
   "cell_type": "code",
   "execution_count": 233,
   "metadata": {},
   "outputs": [
    {
     "data": {
      "text/plain": [
       "5806"
      ]
     },
     "execution_count": 233,
     "metadata": {},
     "output_type": "execute_result"
    }
   ],
   "source": [
    "df['Purchaseamount'].nunique()"
   ]
  },
  {
   "cell_type": "markdown",
   "metadata": {
    "collapsed": true
   },
   "source": [
    "Summary statistics"
   ]
  },
  {
   "cell_type": "code",
   "execution_count": 234,
   "metadata": {},
   "outputs": [
    {
     "data": {
      "text/html": [
       "<div>\n",
       "<style>\n",
       "    .dataframe thead tr:only-child th {\n",
       "        text-align: right;\n",
       "    }\n",
       "\n",
       "    .dataframe thead th {\n",
       "        text-align: left;\n",
       "    }\n",
       "\n",
       "    .dataframe tbody tr th {\n",
       "        vertical-align: top;\n",
       "    }\n",
       "</style>\n",
       "<table border=\"1\" class=\"dataframe\">\n",
       "  <thead>\n",
       "    <tr style=\"text-align: right;\">\n",
       "      <th></th>\n",
       "      <th>CustomerID</th>\n",
       "      <th>Chain</th>\n",
       "      <th>Dept</th>\n",
       "      <th>Category</th>\n",
       "      <th>Company</th>\n",
       "      <th>Brand</th>\n",
       "      <th>Productsize</th>\n",
       "      <th>Purchasequantity</th>\n",
       "      <th>Purchaseamount</th>\n",
       "    </tr>\n",
       "  </thead>\n",
       "  <tbody>\n",
       "    <tr>\n",
       "      <th>count</th>\n",
       "      <td>1.048574e+06</td>\n",
       "      <td>1.048574e+06</td>\n",
       "      <td>1.048574e+06</td>\n",
       "      <td>1.048574e+06</td>\n",
       "      <td>1.048574e+06</td>\n",
       "      <td>1.048574e+06</td>\n",
       "      <td>1.048574e+06</td>\n",
       "      <td>1.048574e+06</td>\n",
       "      <td>1.048574e+06</td>\n",
       "    </tr>\n",
       "    <tr>\n",
       "      <th>mean</th>\n",
       "      <td>1.186249e+08</td>\n",
       "      <td>2.623007e+01</td>\n",
       "      <td>4.162948e+01</td>\n",
       "      <td>4.176521e+03</td>\n",
       "      <td>2.154439e+08</td>\n",
       "      <td>1.593452e+04</td>\n",
       "      <td>2.775495e+01</td>\n",
       "      <td>1.376910e+00</td>\n",
       "      <td>4.481541e+00</td>\n",
       "    </tr>\n",
       "    <tr>\n",
       "      <th>std</th>\n",
       "      <td>1.932857e+07</td>\n",
       "      <td>3.129865e+01</td>\n",
       "      <td>2.758843e+01</td>\n",
       "      <td>2.761479e+03</td>\n",
       "      <td>4.079861e+08</td>\n",
       "      <td>1.497047e+04</td>\n",
       "      <td>4.931433e+01</td>\n",
       "      <td>1.113520e+00</td>\n",
       "      <td>5.502537e+00</td>\n",
       "    </tr>\n",
       "    <tr>\n",
       "      <th>min</th>\n",
       "      <td>8.624600e+04</td>\n",
       "      <td>2.000000e+00</td>\n",
       "      <td>0.000000e+00</td>\n",
       "      <td>0.000000e+00</td>\n",
       "      <td>1.000000e+04</td>\n",
       "      <td>0.000000e+00</td>\n",
       "      <td>0.000000e+00</td>\n",
       "      <td>-9.000000e+00</td>\n",
       "      <td>-6.406000e+01</td>\n",
       "    </tr>\n",
       "    <tr>\n",
       "      <th>25%</th>\n",
       "      <td>1.088637e+08</td>\n",
       "      <td>1.400000e+01</td>\n",
       "      <td>1.900000e+01</td>\n",
       "      <td>1.905000e+03</td>\n",
       "      <td>1.021130e+08</td>\n",
       "      <td>7.848000e+03</td>\n",
       "      <td>7.620000e+00</td>\n",
       "      <td>1.000000e+00</td>\n",
       "      <td>2.210000e+00</td>\n",
       "    </tr>\n",
       "    <tr>\n",
       "      <th>50%</th>\n",
       "      <td>1.236480e+08</td>\n",
       "      <td>1.500000e+01</td>\n",
       "      <td>3.600000e+01</td>\n",
       "      <td>3.634000e+03</td>\n",
       "      <td>1.039272e+08</td>\n",
       "      <td>1.331000e+04</td>\n",
       "      <td>1.450000e+01</td>\n",
       "      <td>1.000000e+00</td>\n",
       "      <td>3.490000e+00</td>\n",
       "    </tr>\n",
       "    <tr>\n",
       "      <th>75%</th>\n",
       "      <td>1.329357e+08</td>\n",
       "      <td>1.800000e+01</td>\n",
       "      <td>6.000000e+01</td>\n",
       "      <td>6.001000e+03</td>\n",
       "      <td>1.072831e+08</td>\n",
       "      <td>1.709000e+04</td>\n",
       "      <td>2.400000e+01</td>\n",
       "      <td>1.000000e+00</td>\n",
       "      <td>5.440000e+00</td>\n",
       "    </tr>\n",
       "    <tr>\n",
       "      <th>max</th>\n",
       "      <td>1.394179e+08</td>\n",
       "      <td>2.170000e+02</td>\n",
       "      <td>9.900000e+01</td>\n",
       "      <td>9.909000e+03</td>\n",
       "      <td>1.097815e+10</td>\n",
       "      <td>1.086200e+05</td>\n",
       "      <td>4.000000e+03</td>\n",
       "      <td>9.700000e+01</td>\n",
       "      <td>1.500000e+03</td>\n",
       "    </tr>\n",
       "  </tbody>\n",
       "</table>\n",
       "</div>"
      ],
      "text/plain": [
       "         CustomerID         Chain          Dept      Category       Company  \\\n",
       "count  1.048574e+06  1.048574e+06  1.048574e+06  1.048574e+06  1.048574e+06   \n",
       "mean   1.186249e+08  2.623007e+01  4.162948e+01  4.176521e+03  2.154439e+08   \n",
       "std    1.932857e+07  3.129865e+01  2.758843e+01  2.761479e+03  4.079861e+08   \n",
       "min    8.624600e+04  2.000000e+00  0.000000e+00  0.000000e+00  1.000000e+04   \n",
       "25%    1.088637e+08  1.400000e+01  1.900000e+01  1.905000e+03  1.021130e+08   \n",
       "50%    1.236480e+08  1.500000e+01  3.600000e+01  3.634000e+03  1.039272e+08   \n",
       "75%    1.329357e+08  1.800000e+01  6.000000e+01  6.001000e+03  1.072831e+08   \n",
       "max    1.394179e+08  2.170000e+02  9.900000e+01  9.909000e+03  1.097815e+10   \n",
       "\n",
       "              Brand   Productsize  Purchasequantity  Purchaseamount  \n",
       "count  1.048574e+06  1.048574e+06      1.048574e+06    1.048574e+06  \n",
       "mean   1.593452e+04  2.775495e+01      1.376910e+00    4.481541e+00  \n",
       "std    1.497047e+04  4.931433e+01      1.113520e+00    5.502537e+00  \n",
       "min    0.000000e+00  0.000000e+00     -9.000000e+00   -6.406000e+01  \n",
       "25%    7.848000e+03  7.620000e+00      1.000000e+00    2.210000e+00  \n",
       "50%    1.331000e+04  1.450000e+01      1.000000e+00    3.490000e+00  \n",
       "75%    1.709000e+04  2.400000e+01      1.000000e+00    5.440000e+00  \n",
       "max    1.086200e+05  4.000000e+03      9.700000e+01    1.500000e+03  "
      ]
     },
     "execution_count": 234,
     "metadata": {},
     "output_type": "execute_result"
    }
   ],
   "source": [
    "df.describe()"
   ]
  },
  {
   "cell_type": "code",
   "execution_count": 235,
   "metadata": {},
   "outputs": [
    {
     "data": {
      "text/html": [
       "<div>\n",
       "<style>\n",
       "    .dataframe thead tr:only-child th {\n",
       "        text-align: right;\n",
       "    }\n",
       "\n",
       "    .dataframe thead th {\n",
       "        text-align: left;\n",
       "    }\n",
       "\n",
       "    .dataframe tbody tr th {\n",
       "        vertical-align: top;\n",
       "    }\n",
       "</style>\n",
       "<table border=\"1\" class=\"dataframe\">\n",
       "  <thead>\n",
       "    <tr style=\"text-align: right;\">\n",
       "      <th></th>\n",
       "      <th>CustomerID</th>\n",
       "      <th>Chain</th>\n",
       "      <th>Dept</th>\n",
       "      <th>Category</th>\n",
       "      <th>Company</th>\n",
       "      <th>Brand</th>\n",
       "      <th>Date</th>\n",
       "      <th>Productsize</th>\n",
       "      <th>productmeasure</th>\n",
       "      <th>Purchasequantity</th>\n",
       "      <th>Purchaseamount</th>\n",
       "    </tr>\n",
       "  </thead>\n",
       "  <tbody>\n",
       "    <tr>\n",
       "      <th>0</th>\n",
       "      <td>86246</td>\n",
       "      <td>205</td>\n",
       "      <td>56</td>\n",
       "      <td>5613</td>\n",
       "      <td>107592575</td>\n",
       "      <td>4368</td>\n",
       "      <td>1/2/2013</td>\n",
       "      <td>15.00</td>\n",
       "      <td>OZ</td>\n",
       "      <td>1</td>\n",
       "      <td>3.49</td>\n",
       "    </tr>\n",
       "    <tr>\n",
       "      <th>1</th>\n",
       "      <td>86246</td>\n",
       "      <td>205</td>\n",
       "      <td>63</td>\n",
       "      <td>6305</td>\n",
       "      <td>102500020</td>\n",
       "      <td>11749</td>\n",
       "      <td>1/2/2013</td>\n",
       "      <td>59.00</td>\n",
       "      <td>OZ</td>\n",
       "      <td>1</td>\n",
       "      <td>4.29</td>\n",
       "    </tr>\n",
       "    <tr>\n",
       "      <th>2</th>\n",
       "      <td>86246</td>\n",
       "      <td>205</td>\n",
       "      <td>9</td>\n",
       "      <td>907</td>\n",
       "      <td>1065752262</td>\n",
       "      <td>25738</td>\n",
       "      <td>1/2/2013</td>\n",
       "      <td>16.00</td>\n",
       "      <td>OZ</td>\n",
       "      <td>1</td>\n",
       "      <td>3.69</td>\n",
       "    </tr>\n",
       "    <tr>\n",
       "      <th>3</th>\n",
       "      <td>86246</td>\n",
       "      <td>205</td>\n",
       "      <td>63</td>\n",
       "      <td>6315</td>\n",
       "      <td>101116616</td>\n",
       "      <td>15266</td>\n",
       "      <td>1/2/2013</td>\n",
       "      <td>64.00</td>\n",
       "      <td>OZ</td>\n",
       "      <td>1</td>\n",
       "      <td>2.98</td>\n",
       "    </tr>\n",
       "    <tr>\n",
       "      <th>4</th>\n",
       "      <td>86246</td>\n",
       "      <td>205</td>\n",
       "      <td>4</td>\n",
       "      <td>416</td>\n",
       "      <td>104000040</td>\n",
       "      <td>16765</td>\n",
       "      <td>1/2/2013</td>\n",
       "      <td>2.07</td>\n",
       "      <td>OZ</td>\n",
       "      <td>1</td>\n",
       "      <td>0.99</td>\n",
       "    </tr>\n",
       "  </tbody>\n",
       "</table>\n",
       "</div>"
      ],
      "text/plain": [
       "   CustomerID  Chain  Dept  Category     Company  Brand      Date  \\\n",
       "0       86246    205    56      5613   107592575   4368  1/2/2013   \n",
       "1       86246    205    63      6305   102500020  11749  1/2/2013   \n",
       "2       86246    205     9       907  1065752262  25738  1/2/2013   \n",
       "3       86246    205    63      6315   101116616  15266  1/2/2013   \n",
       "4       86246    205     4       416   104000040  16765  1/2/2013   \n",
       "\n",
       "   Productsize productmeasure  Purchasequantity  Purchaseamount  \n",
       "0        15.00             OZ                 1            3.49  \n",
       "1        59.00             OZ                 1            4.29  \n",
       "2        16.00             OZ                 1            3.69  \n",
       "3        64.00             OZ                 1            2.98  \n",
       "4         2.07             OZ                 1            0.99  "
      ]
     },
     "execution_count": 235,
     "metadata": {},
     "output_type": "execute_result"
    }
   ],
   "source": [
    "df.head()"
   ]
  },
  {
   "cell_type": "code",
   "execution_count": 239,
   "metadata": {},
   "outputs": [
    {
     "name": "stdout",
     "output_type": "stream",
     "text": [
      "<class 'pandas.core.frame.DataFrame'>\n",
      "RangeIndex: 1048574 entries, 0 to 1048573\n",
      "Data columns (total 11 columns):\n",
      "CustomerID          1048574 non-null int64\n",
      "Chain               1048574 non-null int64\n",
      "Dept                1048574 non-null int64\n",
      "Category            1048574 non-null int64\n",
      "Company             1048574 non-null int64\n",
      "Brand               1048574 non-null int64\n",
      "Date                1048574 non-null object\n",
      "Productsize         1048574 non-null float64\n",
      "productmeasure      1037317 non-null object\n",
      "Purchasequantity    1048574 non-null int64\n",
      "Purchaseamount      1048574 non-null float64\n",
      "dtypes: float64(2), int64(7), object(2)\n",
      "memory usage: 88.0+ MB\n"
     ]
    }
   ],
   "source": [
    "df.info()"
   ]
  },
  {
   "cell_type": "code",
   "execution_count": 240,
   "metadata": {
    "scrolled": true
   },
   "outputs": [
    {
     "data": {
      "text/plain": [
       "<matplotlib.axes._subplots.AxesSubplot at 0x14288267898>"
      ]
     },
     "execution_count": 240,
     "metadata": {},
     "output_type": "execute_result"
    },
    {
     "data": {
      "image/png": "[encoded data removed]",
      "text/plain": [
       "<matplotlib.figure.Figure at 0x1429081def0>"
      ]
     },
     "metadata": {},
     "output_type": "display_data"
    }
   ],
   "source": [
    "sns.distplot(df['Brand'].dropna(),kde=False,bins=40)"
   ]
  },
  {
   "cell_type": "code",
   "execution_count": 241,
   "metadata": {
    "collapsed": true
   },
   "outputs": [],
   "source": [
    "assert df.productmeasure.notnull().any()"
   ]
  },
  {
   "cell_type": "code",
   "execution_count": 242,
   "metadata": {},
   "outputs": [
    {
     "data": {
      "text/plain": [
       "CustomerID              0\n",
       "Chain                   0\n",
       "Dept                    0\n",
       "Category                0\n",
       "Company                 0\n",
       "Brand                   0\n",
       "Date                    0\n",
       "Productsize             0\n",
       "productmeasure      11257\n",
       "Purchasequantity        0\n",
       "Purchaseamount          0\n",
       "dtype: int64"
      ]
     },
     "execution_count": 242,
     "metadata": {},
     "output_type": "execute_result"
    }
   ],
   "source": [
    "# Check for missing values \n",
    "df.isnull().sum()"
   ]
  },
  {
   "cell_type": "code",
   "execution_count": 243,
   "metadata": {},
   "outputs": [
    {
     "data": {
      "text/plain": [
       "1048574"
      ]
     },
     "execution_count": 243,
     "metadata": {},
     "output_type": "execute_result"
    }
   ],
   "source": [
    "len(df)"
   ]
  },
  {
   "cell_type": "code",
   "execution_count": 244,
   "metadata": {
    "collapsed": true
   },
   "outputs": [],
   "source": [
    "#drop missing values from the data frame\n",
    "df.dropna(inplace=True)"
   ]
  },
  {
   "cell_type": "code",
   "execution_count": 245,
   "metadata": {},
   "outputs": [
    {
     "data": {
      "text/plain": [
       "1037317"
      ]
     },
     "execution_count": 245,
     "metadata": {},
     "output_type": "execute_result"
    }
   ],
   "source": [
    "len(df)"
   ]
  },
  {
   "cell_type": "code",
   "execution_count": 246,
   "metadata": {
    "collapsed": true
   },
   "outputs": [],
   "source": [
    "# check missing values removed from the data frame"
   ]
  },
  {
   "cell_type": "code",
   "execution_count": 247,
   "metadata": {},
   "outputs": [
    {
     "data": {
      "text/plain": [
       "CustomerID          0\n",
       "Chain               0\n",
       "Dept                0\n",
       "Category            0\n",
       "Company             0\n",
       "Brand               0\n",
       "Date                0\n",
       "Productsize         0\n",
       "productmeasure      0\n",
       "Purchasequantity    0\n",
       "Purchaseamount      0\n",
       "dtype: int64"
      ]
     },
     "execution_count": 247,
     "metadata": {},
     "output_type": "execute_result"
    }
   ],
   "source": [
    "df.isnull().sum()"
   ]
  },
  {
   "cell_type": "markdown",
   "metadata": {},
   "source": [
    "Validation"
   ]
  },
  {
   "cell_type": "code",
   "execution_count": 248,
   "metadata": {},
   "outputs": [
    {
     "data": {
      "text/plain": [
       "<matplotlib.axes._subplots.AxesSubplot at 0x14294a7cd68>"
      ]
     },
     "execution_count": 248,
     "metadata": {},
     "output_type": "execute_result"
    },
    {
     "data": {
      "image/png": "[encoded data removed]",
      "text/plain": [
       "<matplotlib.figure.Figure at 0x14288267e10>"
      ]
     },
     "metadata": {},
     "output_type": "display_data"
    }
   ],
   "source": [
    "# check to verify no missing values : Method 1\n",
    "sns.heatmap((df.isnull()),yticklabels=False,cbar=False,cmap='viridis')"
   ]
  },
  {
   "cell_type": "code",
   "execution_count": 249,
   "metadata": {},
   "outputs": [
    {
     "data": {
      "text/plain": [
       "CustomerID          0\n",
       "Chain               0\n",
       "Dept                0\n",
       "Category            0\n",
       "Company             0\n",
       "Brand               0\n",
       "Date                0\n",
       "Productsize         0\n",
       "productmeasure      0\n",
       "Purchasequantity    0\n",
       "Purchaseamount      0\n",
       "dtype: int64"
      ]
     },
     "execution_count": 249,
     "metadata": {},
     "output_type": "execute_result"
    }
   ],
   "source": [
    "# check to verify no missing values : Method 2\n",
    "df.isnull().sum()"
   ]
  },
  {
   "cell_type": "code",
   "execution_count": 250,
   "metadata": {
    "collapsed": true
   },
   "outputs": [],
   "source": [
    "# Negative values on Purchaseamount : negative_values_pa\n",
    "negative_values_pa=df[df['Purchaseamount']<0]\n",
    "     "
   ]
  },
  {
   "cell_type": "code",
   "execution_count": 251,
   "metadata": {},
   "outputs": [
    {
     "data": {
      "text/plain": [
       "21252"
      ]
     },
     "execution_count": 251,
     "metadata": {},
     "output_type": "execute_result"
    }
   ],
   "source": [
    "len(negative_values_pa)"
   ]
  },
  {
   "cell_type": "code",
   "execution_count": 252,
   "metadata": {
    "collapsed": true
   },
   "outputs": [],
   "source": [
    "# Drop negative values from purchaseamount \n",
    "df=df[df['Purchaseamount']>0]"
   ]
  },
  {
   "cell_type": "code",
   "execution_count": 253,
   "metadata": {},
   "outputs": [
    {
     "data": {
      "text/plain": [
       "1012229"
      ]
     },
     "execution_count": 253,
     "metadata": {},
     "output_type": "execute_result"
    }
   ],
   "source": [
    "len(df)"
   ]
  },
  {
   "cell_type": "code",
   "execution_count": 256,
   "metadata": {},
   "outputs": [
    {
     "data": {
      "text/plain": [
       "0"
      ]
     },
     "execution_count": 256,
     "metadata": {},
     "output_type": "execute_result"
    }
   ],
   "source": [
    "#check no negative values on purchaseamount\n",
    "len(df[df['Purchaseamount']<0])"
   ]
  },
  {
   "cell_type": "code",
   "execution_count": 254,
   "metadata": {},
   "outputs": [
    {
     "data": {
      "text/plain": [
       "1     782639\n",
       "2     165506\n",
       "3      27977\n",
       "4      20127\n",
       "5       4809\n",
       "6       4718\n",
       "10      2090\n",
       "8       1508\n",
       "7        862\n",
       "9        467\n",
       "12       456\n",
       "11       193\n",
       "20       121\n",
       "15       113\n",
       "14       112\n",
       "16        85\n",
       "13        78\n",
       "0         60\n",
       "24        49\n",
       "18        41\n",
       "19        26\n",
       "21        23\n",
       "17        21\n",
       "30        21\n",
       "22        20\n",
       "36        11\n",
       "40         9\n",
       "25         8\n",
       "27         8\n",
       "26         7\n",
       "28         7\n",
       "29         6\n",
       "72         6\n",
       "48         6\n",
       "23         5\n",
       "32         4\n",
       "45         3\n",
       "42         3\n",
       "33         3\n",
       "35         2\n",
       "39         2\n",
       "41         2\n",
       "34         2\n",
       "52         2\n",
       "57         1\n",
       "83         1\n",
       "76         1\n",
       "74         1\n",
       "31         1\n",
       "49         1\n",
       "53         1\n",
       "37         1\n",
       "44         1\n",
       "96         1\n",
       "97         1\n",
       "Name: Purchasequantity, dtype: int64"
      ]
     },
     "execution_count": 254,
     "metadata": {},
     "output_type": "execute_result"
    }
   ],
   "source": [
    "df['Purchasequantity'].value_counts(dropna=False)\n",
    "# No negative values on Purchasequantity"
   ]
  },
  {
   "cell_type": "code",
   "execution_count": 257,
   "metadata": {},
   "outputs": [
    {
     "data": {
      "text/plain": [
       "0"
      ]
     },
     "execution_count": 257,
     "metadata": {},
     "output_type": "execute_result"
    }
   ],
   "source": [
    "# check no negative values on Purchasequantity\n",
    "len(df[df['Purchasequantity']<0])"
   ]
  },
  {
   "cell_type": "code",
   "execution_count": 91,
   "metadata": {},
   "outputs": [
    {
     "data": {
      "text/html": [
       "<div>\n",
       "<style>\n",
       "    .dataframe thead tr:only-child th {\n",
       "        text-align: right;\n",
       "    }\n",
       "\n",
       "    .dataframe thead th {\n",
       "        text-align: left;\n",
       "    }\n",
       "\n",
       "    .dataframe tbody tr th {\n",
       "        vertical-align: top;\n",
       "    }\n",
       "</style>\n",
       "<table border=\"1\" class=\"dataframe\">\n",
       "  <thead>\n",
       "    <tr style=\"text-align: right;\">\n",
       "      <th></th>\n",
       "      <th>CustomerID</th>\n",
       "      <th>Chain</th>\n",
       "      <th>Dept</th>\n",
       "      <th>Category</th>\n",
       "      <th>Company</th>\n",
       "      <th>Brand</th>\n",
       "      <th>Date</th>\n",
       "      <th>Productsize</th>\n",
       "      <th>productmeasure</th>\n",
       "      <th>Purchasequantity</th>\n",
       "      <th>Purchaseamount</th>\n",
       "    </tr>\n",
       "  </thead>\n",
       "  <tbody>\n",
       "    <tr>\n",
       "      <th>0</th>\n",
       "      <td>86246</td>\n",
       "      <td>205</td>\n",
       "      <td>56</td>\n",
       "      <td>5613</td>\n",
       "      <td>107592575</td>\n",
       "      <td>4368</td>\n",
       "      <td>1/2/2013</td>\n",
       "      <td>15.00</td>\n",
       "      <td>OZ</td>\n",
       "      <td>1</td>\n",
       "      <td>3.49</td>\n",
       "    </tr>\n",
       "    <tr>\n",
       "      <th>1</th>\n",
       "      <td>86246</td>\n",
       "      <td>205</td>\n",
       "      <td>63</td>\n",
       "      <td>6305</td>\n",
       "      <td>102500020</td>\n",
       "      <td>11749</td>\n",
       "      <td>1/2/2013</td>\n",
       "      <td>59.00</td>\n",
       "      <td>OZ</td>\n",
       "      <td>1</td>\n",
       "      <td>4.29</td>\n",
       "    </tr>\n",
       "    <tr>\n",
       "      <th>2</th>\n",
       "      <td>86246</td>\n",
       "      <td>205</td>\n",
       "      <td>9</td>\n",
       "      <td>907</td>\n",
       "      <td>1065752262</td>\n",
       "      <td>25738</td>\n",
       "      <td>1/2/2013</td>\n",
       "      <td>16.00</td>\n",
       "      <td>OZ</td>\n",
       "      <td>1</td>\n",
       "      <td>3.69</td>\n",
       "    </tr>\n",
       "    <tr>\n",
       "      <th>3</th>\n",
       "      <td>86246</td>\n",
       "      <td>205</td>\n",
       "      <td>63</td>\n",
       "      <td>6315</td>\n",
       "      <td>101116616</td>\n",
       "      <td>15266</td>\n",
       "      <td>1/2/2013</td>\n",
       "      <td>64.00</td>\n",
       "      <td>OZ</td>\n",
       "      <td>1</td>\n",
       "      <td>2.98</td>\n",
       "    </tr>\n",
       "    <tr>\n",
       "      <th>4</th>\n",
       "      <td>86246</td>\n",
       "      <td>205</td>\n",
       "      <td>4</td>\n",
       "      <td>416</td>\n",
       "      <td>104000040</td>\n",
       "      <td>16765</td>\n",
       "      <td>1/2/2013</td>\n",
       "      <td>2.07</td>\n",
       "      <td>OZ</td>\n",
       "      <td>1</td>\n",
       "      <td>0.99</td>\n",
       "    </tr>\n",
       "  </tbody>\n",
       "</table>\n",
       "</div>"
      ],
      "text/plain": [
       "   CustomerID  Chain  Dept  Category     Company  Brand      Date  \\\n",
       "0       86246    205    56      5613   107592575   4368  1/2/2013   \n",
       "1       86246    205    63      6305   102500020  11749  1/2/2013   \n",
       "2       86246    205     9       907  1065752262  25738  1/2/2013   \n",
       "3       86246    205    63      6315   101116616  15266  1/2/2013   \n",
       "4       86246    205     4       416   104000040  16765  1/2/2013   \n",
       "\n",
       "   Productsize productmeasure  Purchasequantity  Purchaseamount  \n",
       "0        15.00             OZ                 1            3.49  \n",
       "1        59.00             OZ                 1            4.29  \n",
       "2        16.00             OZ                 1            3.69  \n",
       "3        64.00             OZ                 1            2.98  \n",
       "4         2.07             OZ                 1            0.99  "
      ]
     },
     "execution_count": 91,
     "metadata": {},
     "output_type": "execute_result"
    }
   ],
   "source": [
    "df.head()"
   ]
  },
  {
   "cell_type": "code",
   "execution_count": 92,
   "metadata": {},
   "outputs": [
    {
     "data": {
      "text/plain": [
       "1012229"
      ]
     },
     "execution_count": 92,
     "metadata": {},
     "output_type": "execute_result"
    }
   ],
   "source": [
    "len(df)"
   ]
  },
  {
   "cell_type": "code",
   "execution_count": 93,
   "metadata": {
    "collapsed": true
   },
   "outputs": [],
   "source": [
    "# Unique Customers : Customer_val\n",
    "Customer_val=df.CustomerID.value_counts()"
   ]
  },
  {
   "cell_type": "code",
   "execution_count": 94,
   "metadata": {
    "collapsed": true
   },
   "outputs": [],
   "source": [
    "#Get and remove the most infrequent CustomerID present in dataset. \n",
    "#Customers having less than 5 occurrences would be removed as there buying pattern is not sufficient for recommendation\n",
    "Customer_gt_5=Customer_val[lambda x: x > 5]"
   ]
  },
  {
   "cell_type": "code",
   "execution_count": 95,
   "metadata": {},
   "outputs": [
    {
     "data": {
      "text/plain": [
       "13665"
      ]
     },
     "execution_count": 95,
     "metadata": {},
     "output_type": "execute_result"
    }
   ],
   "source": [
    "len(Customer_gt_5)"
   ]
  },
  {
   "cell_type": "code",
   "execution_count": 96,
   "metadata": {
    "collapsed": true
   },
   "outputs": [],
   "source": [
    "customerid_gt_5=list(Customer_gt_5.to_frame().index)"
   ]
  },
  {
   "cell_type": "code",
   "execution_count": 97,
   "metadata": {},
   "outputs": [
    {
     "data": {
      "text/plain": [
       "13665"
      ]
     },
     "execution_count": 97,
     "metadata": {},
     "output_type": "execute_result"
    }
   ],
   "source": [
    "len(customerid_gt_5)"
   ]
  },
  {
   "cell_type": "code",
   "execution_count": 288,
   "metadata": {},
   "outputs": [
    {
     "data": {
      "text/plain": [
       "list"
      ]
     },
     "execution_count": 288,
     "metadata": {},
     "output_type": "execute_result"
    }
   ],
   "source": [
    "type(customerid_gt_5)"
   ]
  },
  {
   "cell_type": "code",
   "execution_count": 98,
   "metadata": {
    "collapsed": true
   },
   "outputs": [],
   "source": [
    "app_func_df=[lambda x: x in customerid_gt_5]"
   ]
  },
  {
   "cell_type": "code",
   "execution_count": 99,
   "metadata": {
    "collapsed": true
   },
   "outputs": [],
   "source": [
    "df=df[df.CustomerID.isin(customerid_gt_5)]"
   ]
  },
  {
   "cell_type": "code",
   "execution_count": 100,
   "metadata": {},
   "outputs": [
    {
     "data": {
      "text/html": [
       "<div>\n",
       "<style>\n",
       "    .dataframe thead tr:only-child th {\n",
       "        text-align: right;\n",
       "    }\n",
       "\n",
       "    .dataframe thead th {\n",
       "        text-align: left;\n",
       "    }\n",
       "\n",
       "    .dataframe tbody tr th {\n",
       "        vertical-align: top;\n",
       "    }\n",
       "</style>\n",
       "<table border=\"1\" class=\"dataframe\">\n",
       "  <thead>\n",
       "    <tr style=\"text-align: right;\">\n",
       "      <th></th>\n",
       "      <th>CustomerID</th>\n",
       "      <th>Chain</th>\n",
       "      <th>Dept</th>\n",
       "      <th>Category</th>\n",
       "      <th>Company</th>\n",
       "      <th>Brand</th>\n",
       "      <th>Date</th>\n",
       "      <th>Productsize</th>\n",
       "      <th>productmeasure</th>\n",
       "      <th>Purchasequantity</th>\n",
       "      <th>Purchaseamount</th>\n",
       "    </tr>\n",
       "  </thead>\n",
       "  <tbody>\n",
       "    <tr>\n",
       "      <th>0</th>\n",
       "      <td>86246</td>\n",
       "      <td>205</td>\n",
       "      <td>56</td>\n",
       "      <td>5613</td>\n",
       "      <td>107592575</td>\n",
       "      <td>4368</td>\n",
       "      <td>1/2/2013</td>\n",
       "      <td>15.00</td>\n",
       "      <td>OZ</td>\n",
       "      <td>1</td>\n",
       "      <td>3.49</td>\n",
       "    </tr>\n",
       "    <tr>\n",
       "      <th>1</th>\n",
       "      <td>86246</td>\n",
       "      <td>205</td>\n",
       "      <td>63</td>\n",
       "      <td>6305</td>\n",
       "      <td>102500020</td>\n",
       "      <td>11749</td>\n",
       "      <td>1/2/2013</td>\n",
       "      <td>59.00</td>\n",
       "      <td>OZ</td>\n",
       "      <td>1</td>\n",
       "      <td>4.29</td>\n",
       "    </tr>\n",
       "    <tr>\n",
       "      <th>2</th>\n",
       "      <td>86246</td>\n",
       "      <td>205</td>\n",
       "      <td>9</td>\n",
       "      <td>907</td>\n",
       "      <td>1065752262</td>\n",
       "      <td>25738</td>\n",
       "      <td>1/2/2013</td>\n",
       "      <td>16.00</td>\n",
       "      <td>OZ</td>\n",
       "      <td>1</td>\n",
       "      <td>3.69</td>\n",
       "    </tr>\n",
       "    <tr>\n",
       "      <th>3</th>\n",
       "      <td>86246</td>\n",
       "      <td>205</td>\n",
       "      <td>63</td>\n",
       "      <td>6315</td>\n",
       "      <td>101116616</td>\n",
       "      <td>15266</td>\n",
       "      <td>1/2/2013</td>\n",
       "      <td>64.00</td>\n",
       "      <td>OZ</td>\n",
       "      <td>1</td>\n",
       "      <td>2.98</td>\n",
       "    </tr>\n",
       "    <tr>\n",
       "      <th>4</th>\n",
       "      <td>86246</td>\n",
       "      <td>205</td>\n",
       "      <td>4</td>\n",
       "      <td>416</td>\n",
       "      <td>104000040</td>\n",
       "      <td>16765</td>\n",
       "      <td>1/2/2013</td>\n",
       "      <td>2.07</td>\n",
       "      <td>OZ</td>\n",
       "      <td>1</td>\n",
       "      <td>0.99</td>\n",
       "    </tr>\n",
       "  </tbody>\n",
       "</table>\n",
       "</div>"
      ],
      "text/plain": [
       "   CustomerID  Chain  Dept  Category     Company  Brand      Date  \\\n",
       "0       86246    205    56      5613   107592575   4368  1/2/2013   \n",
       "1       86246    205    63      6305   102500020  11749  1/2/2013   \n",
       "2       86246    205     9       907  1065752262  25738  1/2/2013   \n",
       "3       86246    205    63      6315   101116616  15266  1/2/2013   \n",
       "4       86246    205     4       416   104000040  16765  1/2/2013   \n",
       "\n",
       "   Productsize productmeasure  Purchasequantity  Purchaseamount  \n",
       "0        15.00             OZ                 1            3.49  \n",
       "1        59.00             OZ                 1            4.29  \n",
       "2        16.00             OZ                 1            3.69  \n",
       "3        64.00             OZ                 1            2.98  \n",
       "4         2.07             OZ                 1            0.99  "
      ]
     },
     "execution_count": 100,
     "metadata": {},
     "output_type": "execute_result"
    }
   ],
   "source": [
    "df.head()"
   ]
  },
  {
   "cell_type": "code",
   "execution_count": 101,
   "metadata": {},
   "outputs": [
    {
     "data": {
      "text/plain": [
       "1011088"
      ]
     },
     "execution_count": 101,
     "metadata": {},
     "output_type": "execute_result"
    }
   ],
   "source": [
    "len(df)"
   ]
  },
  {
   "cell_type": "code",
   "execution_count": 102,
   "metadata": {},
   "outputs": [
    {
     "data": {
      "text/html": [
       "<div>\n",
       "<style>\n",
       "    .dataframe thead tr:only-child th {\n",
       "        text-align: right;\n",
       "    }\n",
       "\n",
       "    .dataframe thead th {\n",
       "        text-align: left;\n",
       "    }\n",
       "\n",
       "    .dataframe tbody tr th {\n",
       "        vertical-align: top;\n",
       "    }\n",
       "</style>\n",
       "<table border=\"1\" class=\"dataframe\">\n",
       "  <thead>\n",
       "    <tr style=\"text-align: right;\">\n",
       "      <th></th>\n",
       "      <th>CustomerID</th>\n",
       "      <th>Chain</th>\n",
       "      <th>Dept</th>\n",
       "      <th>Category</th>\n",
       "      <th>Company</th>\n",
       "      <th>Brand</th>\n",
       "      <th>Productsize</th>\n",
       "      <th>Purchasequantity</th>\n",
       "      <th>Purchaseamount</th>\n",
       "    </tr>\n",
       "  </thead>\n",
       "  <tbody>\n",
       "    <tr>\n",
       "      <th>count</th>\n",
       "      <td>1.011088e+06</td>\n",
       "      <td>1.011088e+06</td>\n",
       "      <td>1.011088e+06</td>\n",
       "      <td>1.011088e+06</td>\n",
       "      <td>1.011088e+06</td>\n",
       "      <td>1.011088e+06</td>\n",
       "      <td>1.011088e+06</td>\n",
       "      <td>1.011088e+06</td>\n",
       "      <td>1.011088e+06</td>\n",
       "    </tr>\n",
       "    <tr>\n",
       "      <th>mean</th>\n",
       "      <td>1.186504e+08</td>\n",
       "      <td>2.621070e+01</td>\n",
       "      <td>4.131506e+01</td>\n",
       "      <td>4.145145e+03</td>\n",
       "      <td>2.089315e+08</td>\n",
       "      <td>1.533619e+04</td>\n",
       "      <td>2.801710e+01</td>\n",
       "      <td>1.380814e+00</td>\n",
       "      <td>4.716104e+00</td>\n",
       "    </tr>\n",
       "    <tr>\n",
       "      <th>std</th>\n",
       "      <td>1.930249e+07</td>\n",
       "      <td>3.130396e+01</td>\n",
       "      <td>2.722374e+01</td>\n",
       "      <td>2.725108e+03</td>\n",
       "      <td>4.043709e+08</td>\n",
       "      <td>1.344133e+04</td>\n",
       "      <td>4.939128e+01</td>\n",
       "      <td>1.118507e+00</td>\n",
       "      <td>5.384703e+00</td>\n",
       "    </tr>\n",
       "    <tr>\n",
       "      <th>min</th>\n",
       "      <td>8.624600e+04</td>\n",
       "      <td>2.000000e+00</td>\n",
       "      <td>1.000000e+00</td>\n",
       "      <td>1.030000e+02</td>\n",
       "      <td>1.000000e+04</td>\n",
       "      <td>0.000000e+00</td>\n",
       "      <td>0.000000e+00</td>\n",
       "      <td>0.000000e+00</td>\n",
       "      <td>1.000000e-02</td>\n",
       "    </tr>\n",
       "    <tr>\n",
       "      <th>25%</th>\n",
       "      <td>1.089731e+08</td>\n",
       "      <td>1.400000e+01</td>\n",
       "      <td>1.900000e+01</td>\n",
       "      <td>1.905000e+03</td>\n",
       "      <td>1.021130e+08</td>\n",
       "      <td>7.848000e+03</td>\n",
       "      <td>8.000000e+00</td>\n",
       "      <td>1.000000e+00</td>\n",
       "      <td>2.490000e+00</td>\n",
       "    </tr>\n",
       "    <tr>\n",
       "      <th>50%</th>\n",
       "      <td>1.236581e+08</td>\n",
       "      <td>1.500000e+01</td>\n",
       "      <td>3.600000e+01</td>\n",
       "      <td>3.632000e+03</td>\n",
       "      <td>1.038900e+08</td>\n",
       "      <td>1.331000e+04</td>\n",
       "      <td>1.450000e+01</td>\n",
       "      <td>1.000000e+00</td>\n",
       "      <td>3.580000e+00</td>\n",
       "    </tr>\n",
       "    <tr>\n",
       "      <th>75%</th>\n",
       "      <td>1.329357e+08</td>\n",
       "      <td>1.800000e+01</td>\n",
       "      <td>5.900000e+01</td>\n",
       "      <td>5.902000e+03</td>\n",
       "      <td>1.072614e+08</td>\n",
       "      <td>1.685300e+04</td>\n",
       "      <td>2.400000e+01</td>\n",
       "      <td>1.000000e+00</td>\n",
       "      <td>5.490000e+00</td>\n",
       "    </tr>\n",
       "    <tr>\n",
       "      <th>max</th>\n",
       "      <td>1.394179e+08</td>\n",
       "      <td>2.170000e+02</td>\n",
       "      <td>9.900000e+01</td>\n",
       "      <td>9.909000e+03</td>\n",
       "      <td>1.097815e+10</td>\n",
       "      <td>1.086200e+05</td>\n",
       "      <td>4.000000e+03</td>\n",
       "      <td>9.700000e+01</td>\n",
       "      <td>1.500000e+03</td>\n",
       "    </tr>\n",
       "  </tbody>\n",
       "</table>\n",
       "</div>"
      ],
      "text/plain": [
       "         CustomerID         Chain          Dept      Category       Company  \\\n",
       "count  1.011088e+06  1.011088e+06  1.011088e+06  1.011088e+06  1.011088e+06   \n",
       "mean   1.186504e+08  2.621070e+01  4.131506e+01  4.145145e+03  2.089315e+08   \n",
       "std    1.930249e+07  3.130396e+01  2.722374e+01  2.725108e+03  4.043709e+08   \n",
       "min    8.624600e+04  2.000000e+00  1.000000e+00  1.030000e+02  1.000000e+04   \n",
       "25%    1.089731e+08  1.400000e+01  1.900000e+01  1.905000e+03  1.021130e+08   \n",
       "50%    1.236581e+08  1.500000e+01  3.600000e+01  3.632000e+03  1.038900e+08   \n",
       "75%    1.329357e+08  1.800000e+01  5.900000e+01  5.902000e+03  1.072614e+08   \n",
       "max    1.394179e+08  2.170000e+02  9.900000e+01  9.909000e+03  1.097815e+10   \n",
       "\n",
       "              Brand   Productsize  Purchasequantity  Purchaseamount  \n",
       "count  1.011088e+06  1.011088e+06      1.011088e+06    1.011088e+06  \n",
       "mean   1.533619e+04  2.801710e+01      1.380814e+00    4.716104e+00  \n",
       "std    1.344133e+04  4.939128e+01      1.118507e+00    5.384703e+00  \n",
       "min    0.000000e+00  0.000000e+00      0.000000e+00    1.000000e-02  \n",
       "25%    7.848000e+03  8.000000e+00      1.000000e+00    2.490000e+00  \n",
       "50%    1.331000e+04  1.450000e+01      1.000000e+00    3.580000e+00  \n",
       "75%    1.685300e+04  2.400000e+01      1.000000e+00    5.490000e+00  \n",
       "max    1.086200e+05  4.000000e+03      9.700000e+01    1.500000e+03  "
      ]
     },
     "execution_count": 102,
     "metadata": {},
     "output_type": "execute_result"
    }
   ],
   "source": [
    "df.describe()"
   ]
  },
  {
   "cell_type": "code",
   "execution_count": 105,
   "metadata": {
    "collapsed": true
   },
   "outputs": [],
   "source": [
    "# check number of different Brands bought by every Customer\n",
    "tempDF=df.groupby(['CustomerID'])['Brand'].agg(['value_counts']).reset_index()"
   ]
  },
  {
   "cell_type": "code",
   "execution_count": 260,
   "metadata": {},
   "outputs": [
    {
     "data": {
      "text/html": [
       "<div>\n",
       "<style>\n",
       "    .dataframe thead tr:only-child th {\n",
       "        text-align: right;\n",
       "    }\n",
       "\n",
       "    .dataframe thead th {\n",
       "        text-align: left;\n",
       "    }\n",
       "\n",
       "    .dataframe tbody tr th {\n",
       "        vertical-align: top;\n",
       "    }\n",
       "</style>\n",
       "<table border=\"1\" class=\"dataframe\">\n",
       "  <thead>\n",
       "    <tr style=\"text-align: right;\">\n",
       "      <th></th>\n",
       "      <th>CustomerID</th>\n",
       "      <th>Brand</th>\n",
       "      <th>value_counts</th>\n",
       "    </tr>\n",
       "  </thead>\n",
       "  <tbody>\n",
       "    <tr>\n",
       "      <th>0</th>\n",
       "      <td>86246</td>\n",
       "      <td>38922</td>\n",
       "      <td>21</td>\n",
       "    </tr>\n",
       "    <tr>\n",
       "      <th>1</th>\n",
       "      <td>86246</td>\n",
       "      <td>0</td>\n",
       "      <td>14</td>\n",
       "    </tr>\n",
       "    <tr>\n",
       "      <th>2</th>\n",
       "      <td>86246</td>\n",
       "      <td>28204</td>\n",
       "      <td>8</td>\n",
       "    </tr>\n",
       "    <tr>\n",
       "      <th>3</th>\n",
       "      <td>86246</td>\n",
       "      <td>69929</td>\n",
       "      <td>8</td>\n",
       "    </tr>\n",
       "    <tr>\n",
       "      <th>4</th>\n",
       "      <td>86246</td>\n",
       "      <td>19154</td>\n",
       "      <td>5</td>\n",
       "    </tr>\n",
       "    <tr>\n",
       "      <th>5</th>\n",
       "      <td>86246</td>\n",
       "      <td>33170</td>\n",
       "      <td>5</td>\n",
       "    </tr>\n",
       "    <tr>\n",
       "      <th>6</th>\n",
       "      <td>86246</td>\n",
       "      <td>4704</td>\n",
       "      <td>4</td>\n",
       "    </tr>\n",
       "    <tr>\n",
       "      <th>7</th>\n",
       "      <td>86246</td>\n",
       "      <td>7667</td>\n",
       "      <td>4</td>\n",
       "    </tr>\n",
       "    <tr>\n",
       "      <th>8</th>\n",
       "      <td>86246</td>\n",
       "      <td>10577</td>\n",
       "      <td>4</td>\n",
       "    </tr>\n",
       "    <tr>\n",
       "      <th>9</th>\n",
       "      <td>86246</td>\n",
       "      <td>15266</td>\n",
       "      <td>4</td>\n",
       "    </tr>\n",
       "  </tbody>\n",
       "</table>\n",
       "</div>"
      ],
      "text/plain": [
       "   CustomerID  Brand  value_counts\n",
       "0       86246  38922            21\n",
       "1       86246      0            14\n",
       "2       86246  28204             8\n",
       "3       86246  69929             8\n",
       "4       86246  19154             5\n",
       "5       86246  33170             5\n",
       "6       86246   4704             4\n",
       "7       86246   7667             4\n",
       "8       86246  10577             4\n",
       "9       86246  15266             4"
      ]
     },
     "execution_count": 260,
     "metadata": {},
     "output_type": "execute_result"
    }
   ],
   "source": [
    "tempDF.head(10)"
   ]
  },
  {
   "cell_type": "code",
   "execution_count": 107,
   "metadata": {
    "collapsed": true
   },
   "outputs": [],
   "source": [
    "# There are some brands very infrequently bought by Customers. we will remove Brands having less than 5 times bought by customers"
   ]
  },
  {
   "cell_type": "code",
   "execution_count": 110,
   "metadata": {
    "collapsed": true
   },
   "outputs": [],
   "source": [
    "brands_gt_5=tempDF[tempDF.value_counts > 5]"
   ]
  },
  {
   "cell_type": "code",
   "execution_count": 261,
   "metadata": {},
   "outputs": [
    {
     "data": {
      "text/html": [
       "<div>\n",
       "<style>\n",
       "    .dataframe thead tr:only-child th {\n",
       "        text-align: right;\n",
       "    }\n",
       "\n",
       "    .dataframe thead th {\n",
       "        text-align: left;\n",
       "    }\n",
       "\n",
       "    .dataframe tbody tr th {\n",
       "        vertical-align: top;\n",
       "    }\n",
       "</style>\n",
       "<table border=\"1\" class=\"dataframe\">\n",
       "  <thead>\n",
       "    <tr style=\"text-align: right;\">\n",
       "      <th></th>\n",
       "      <th>CustomerID</th>\n",
       "      <th>Brand</th>\n",
       "      <th>value_counts</th>\n",
       "    </tr>\n",
       "  </thead>\n",
       "  <tbody>\n",
       "    <tr>\n",
       "      <th>0</th>\n",
       "      <td>86246</td>\n",
       "      <td>38922</td>\n",
       "      <td>21</td>\n",
       "    </tr>\n",
       "    <tr>\n",
       "      <th>1</th>\n",
       "      <td>86246</td>\n",
       "      <td>0</td>\n",
       "      <td>14</td>\n",
       "    </tr>\n",
       "    <tr>\n",
       "      <th>2</th>\n",
       "      <td>86246</td>\n",
       "      <td>28204</td>\n",
       "      <td>8</td>\n",
       "    </tr>\n",
       "    <tr>\n",
       "      <th>3</th>\n",
       "      <td>86246</td>\n",
       "      <td>69929</td>\n",
       "      <td>8</td>\n",
       "    </tr>\n",
       "    <tr>\n",
       "      <th>172</th>\n",
       "      <td>86252</td>\n",
       "      <td>38922</td>\n",
       "      <td>36</td>\n",
       "    </tr>\n",
       "    <tr>\n",
       "      <th>173</th>\n",
       "      <td>86252</td>\n",
       "      <td>0</td>\n",
       "      <td>18</td>\n",
       "    </tr>\n",
       "    <tr>\n",
       "      <th>174</th>\n",
       "      <td>86252</td>\n",
       "      <td>15266</td>\n",
       "      <td>14</td>\n",
       "    </tr>\n",
       "    <tr>\n",
       "      <th>175</th>\n",
       "      <td>86252</td>\n",
       "      <td>69929</td>\n",
       "      <td>11</td>\n",
       "    </tr>\n",
       "    <tr>\n",
       "      <th>176</th>\n",
       "      <td>86252</td>\n",
       "      <td>17690</td>\n",
       "      <td>9</td>\n",
       "    </tr>\n",
       "    <tr>\n",
       "      <th>177</th>\n",
       "      <td>86252</td>\n",
       "      <td>33170</td>\n",
       "      <td>7</td>\n",
       "    </tr>\n",
       "  </tbody>\n",
       "</table>\n",
       "</div>"
      ],
      "text/plain": [
       "     CustomerID  Brand  value_counts\n",
       "0         86246  38922            21\n",
       "1         86246      0            14\n",
       "2         86246  28204             8\n",
       "3         86246  69929             8\n",
       "172       86252  38922            36\n",
       "173       86252      0            18\n",
       "174       86252  15266            14\n",
       "175       86252  69929            11\n",
       "176       86252  17690             9\n",
       "177       86252  33170             7"
      ]
     },
     "execution_count": 261,
     "metadata": {},
     "output_type": "execute_result"
    }
   ],
   "source": [
    "brands_gt_5.head(10)"
   ]
  },
  {
   "cell_type": "code",
   "execution_count": 112,
   "metadata": {},
   "outputs": [
    {
     "data": {
      "text/plain": [
       "19178"
      ]
     },
     "execution_count": 112,
     "metadata": {},
     "output_type": "execute_result"
    }
   ],
   "source": [
    "len(brands_gt_5)"
   ]
  },
  {
   "cell_type": "code",
   "execution_count": 118,
   "metadata": {
    "collapsed": true
   },
   "outputs": [],
   "source": [
    "#keep the brands that were bought more than 5 times by customers. Using inner join\n",
    "df_common_brands=pd.merge(df,brands_gt_5,on=(['CustomerID','Brand']),how='inner')"
   ]
  },
  {
   "cell_type": "code",
   "execution_count": 119,
   "metadata": {},
   "outputs": [
    {
     "data": {
      "text/html": [
       "<div>\n",
       "<style>\n",
       "    .dataframe thead tr:only-child th {\n",
       "        text-align: right;\n",
       "    }\n",
       "\n",
       "    .dataframe thead th {\n",
       "        text-align: left;\n",
       "    }\n",
       "\n",
       "    .dataframe tbody tr th {\n",
       "        vertical-align: top;\n",
       "    }\n",
       "</style>\n",
       "<table border=\"1\" class=\"dataframe\">\n",
       "  <thead>\n",
       "    <tr style=\"text-align: right;\">\n",
       "      <th></th>\n",
       "      <th>CustomerID</th>\n",
       "      <th>Chain</th>\n",
       "      <th>Dept</th>\n",
       "      <th>Category</th>\n",
       "      <th>Company</th>\n",
       "      <th>Brand</th>\n",
       "      <th>Date</th>\n",
       "      <th>Productsize</th>\n",
       "      <th>productmeasure</th>\n",
       "      <th>Purchasequantity</th>\n",
       "      <th>Purchaseamount</th>\n",
       "      <th>value_counts</th>\n",
       "    </tr>\n",
       "  </thead>\n",
       "  <tbody>\n",
       "    <tr>\n",
       "      <th>0</th>\n",
       "      <td>86246</td>\n",
       "      <td>205</td>\n",
       "      <td>56</td>\n",
       "      <td>5617</td>\n",
       "      <td>104113040</td>\n",
       "      <td>28204</td>\n",
       "      <td>1/3/2013</td>\n",
       "      <td>10.66</td>\n",
       "      <td>OZ</td>\n",
       "      <td>1</td>\n",
       "      <td>1.29</td>\n",
       "      <td>8</td>\n",
       "    </tr>\n",
       "    <tr>\n",
       "      <th>1</th>\n",
       "      <td>86246</td>\n",
       "      <td>205</td>\n",
       "      <td>35</td>\n",
       "      <td>3509</td>\n",
       "      <td>104113040</td>\n",
       "      <td>28204</td>\n",
       "      <td>1/11/2013</td>\n",
       "      <td>50.00</td>\n",
       "      <td>OZ</td>\n",
       "      <td>1</td>\n",
       "      <td>2.39</td>\n",
       "      <td>8</td>\n",
       "    </tr>\n",
       "    <tr>\n",
       "      <th>2</th>\n",
       "      <td>86246</td>\n",
       "      <td>205</td>\n",
       "      <td>22</td>\n",
       "      <td>2210</td>\n",
       "      <td>104113040</td>\n",
       "      <td>28204</td>\n",
       "      <td>1/11/2013</td>\n",
       "      <td>64.00</td>\n",
       "      <td>OZ</td>\n",
       "      <td>1</td>\n",
       "      <td>2.59</td>\n",
       "      <td>8</td>\n",
       "    </tr>\n",
       "    <tr>\n",
       "      <th>3</th>\n",
       "      <td>86246</td>\n",
       "      <td>205</td>\n",
       "      <td>56</td>\n",
       "      <td>5617</td>\n",
       "      <td>104113040</td>\n",
       "      <td>28204</td>\n",
       "      <td>1/19/2013</td>\n",
       "      <td>10.66</td>\n",
       "      <td>OZ</td>\n",
       "      <td>1</td>\n",
       "      <td>1.29</td>\n",
       "      <td>8</td>\n",
       "    </tr>\n",
       "    <tr>\n",
       "      <th>4</th>\n",
       "      <td>86246</td>\n",
       "      <td>205</td>\n",
       "      <td>25</td>\n",
       "      <td>2503</td>\n",
       "      <td>104113040</td>\n",
       "      <td>28204</td>\n",
       "      <td>1/22/2013</td>\n",
       "      <td>35.30</td>\n",
       "      <td>OZ</td>\n",
       "      <td>1</td>\n",
       "      <td>2.99</td>\n",
       "      <td>8</td>\n",
       "    </tr>\n",
       "  </tbody>\n",
       "</table>\n",
       "</div>"
      ],
      "text/plain": [
       "   CustomerID  Chain  Dept  Category    Company  Brand       Date  \\\n",
       "0       86246    205    56      5617  104113040  28204   1/3/2013   \n",
       "1       86246    205    35      3509  104113040  28204  1/11/2013   \n",
       "2       86246    205    22      2210  104113040  28204  1/11/2013   \n",
       "3       86246    205    56      5617  104113040  28204  1/19/2013   \n",
       "4       86246    205    25      2503  104113040  28204  1/22/2013   \n",
       "\n",
       "   Productsize productmeasure  Purchasequantity  Purchaseamount  value_counts  \n",
       "0        10.66             OZ                 1            1.29             8  \n",
       "1        50.00             OZ                 1            2.39             8  \n",
       "2        64.00             OZ                 1            2.59             8  \n",
       "3        10.66             OZ                 1            1.29             8  \n",
       "4        35.30             OZ                 1            2.99             8  "
      ]
     },
     "execution_count": 119,
     "metadata": {},
     "output_type": "execute_result"
    }
   ],
   "source": [
    "df_common_brands.head()"
   ]
  },
  {
   "cell_type": "code",
   "execution_count": 120,
   "metadata": {},
   "outputs": [
    {
     "data": {
      "text/html": [
       "<div>\n",
       "<style>\n",
       "    .dataframe thead tr:only-child th {\n",
       "        text-align: right;\n",
       "    }\n",
       "\n",
       "    .dataframe thead th {\n",
       "        text-align: left;\n",
       "    }\n",
       "\n",
       "    .dataframe tbody tr th {\n",
       "        vertical-align: top;\n",
       "    }\n",
       "</style>\n",
       "<table border=\"1\" class=\"dataframe\">\n",
       "  <thead>\n",
       "    <tr style=\"text-align: right;\">\n",
       "      <th></th>\n",
       "      <th>CustomerID</th>\n",
       "      <th>Chain</th>\n",
       "      <th>Dept</th>\n",
       "      <th>Category</th>\n",
       "      <th>Company</th>\n",
       "      <th>Brand</th>\n",
       "      <th>Productsize</th>\n",
       "      <th>Purchasequantity</th>\n",
       "      <th>Purchaseamount</th>\n",
       "      <th>value_counts</th>\n",
       "    </tr>\n",
       "  </thead>\n",
       "  <tbody>\n",
       "    <tr>\n",
       "      <th>count</th>\n",
       "      <td>2.142030e+05</td>\n",
       "      <td>214203.000000</td>\n",
       "      <td>214203.000000</td>\n",
       "      <td>214203.000000</td>\n",
       "      <td>2.142030e+05</td>\n",
       "      <td>214203.000000</td>\n",
       "      <td>214203.000000</td>\n",
       "      <td>214203.000000</td>\n",
       "      <td>214203.000000</td>\n",
       "      <td>214203.000000</td>\n",
       "    </tr>\n",
       "    <tr>\n",
       "      <th>mean</th>\n",
       "      <td>1.188117e+08</td>\n",
       "      <td>27.267480</td>\n",
       "      <td>44.639991</td>\n",
       "      <td>4477.778453</td>\n",
       "      <td>1.470937e+08</td>\n",
       "      <td>14670.813471</td>\n",
       "      <td>35.697997</td>\n",
       "      <td>1.392338</td>\n",
       "      <td>4.032384</td>\n",
       "      <td>15.605332</td>\n",
       "    </tr>\n",
       "    <tr>\n",
       "      <th>std</th>\n",
       "      <td>1.915566e+07</td>\n",
       "      <td>31.813628</td>\n",
       "      <td>26.473093</td>\n",
       "      <td>2649.230047</td>\n",
       "      <td>2.481903e+08</td>\n",
       "      <td>6373.132545</td>\n",
       "      <td>57.014366</td>\n",
       "      <td>1.213011</td>\n",
       "      <td>3.879071</td>\n",
       "      <td>10.709839</td>\n",
       "    </tr>\n",
       "    <tr>\n",
       "      <th>min</th>\n",
       "      <td>8.624600e+04</td>\n",
       "      <td>2.000000</td>\n",
       "      <td>1.000000</td>\n",
       "      <td>103.000000</td>\n",
       "      <td>1.000000e+04</td>\n",
       "      <td>0.000000</td>\n",
       "      <td>0.010000</td>\n",
       "      <td>0.000000</td>\n",
       "      <td>0.010000</td>\n",
       "      <td>6.000000</td>\n",
       "    </tr>\n",
       "    <tr>\n",
       "      <th>25%</th>\n",
       "      <td>1.111295e+08</td>\n",
       "      <td>15.000000</td>\n",
       "      <td>26.000000</td>\n",
       "      <td>2606.000000</td>\n",
       "      <td>1.021130e+08</td>\n",
       "      <td>10786.000000</td>\n",
       "      <td>9.000000</td>\n",
       "      <td>1.000000</td>\n",
       "      <td>1.990000</td>\n",
       "      <td>8.000000</td>\n",
       "    </tr>\n",
       "    <tr>\n",
       "      <th>50%</th>\n",
       "      <td>1.237720e+08</td>\n",
       "      <td>17.000000</td>\n",
       "      <td>42.000000</td>\n",
       "      <td>4220.000000</td>\n",
       "      <td>1.021130e+08</td>\n",
       "      <td>15704.000000</td>\n",
       "      <td>16.000000</td>\n",
       "      <td>1.000000</td>\n",
       "      <td>2.990000</td>\n",
       "      <td>12.000000</td>\n",
       "    </tr>\n",
       "    <tr>\n",
       "      <th>75%</th>\n",
       "      <td>1.291491e+08</td>\n",
       "      <td>18.000000</td>\n",
       "      <td>63.000000</td>\n",
       "      <td>6315.000000</td>\n",
       "      <td>1.021130e+08</td>\n",
       "      <td>15704.000000</td>\n",
       "      <td>32.000000</td>\n",
       "      <td>1.000000</td>\n",
       "      <td>4.980000</td>\n",
       "      <td>20.000000</td>\n",
       "    </tr>\n",
       "    <tr>\n",
       "      <th>max</th>\n",
       "      <td>1.394169e+08</td>\n",
       "      <td>217.000000</td>\n",
       "      <td>99.000000</td>\n",
       "      <td>9909.000000</td>\n",
       "      <td>1.097815e+10</td>\n",
       "      <td>107956.000000</td>\n",
       "      <td>750.000000</td>\n",
       "      <td>97.000000</td>\n",
       "      <td>200.000000</td>\n",
       "      <td>86.000000</td>\n",
       "    </tr>\n",
       "  </tbody>\n",
       "</table>\n",
       "</div>"
      ],
      "text/plain": [
       "         CustomerID          Chain           Dept       Category  \\\n",
       "count  2.142030e+05  214203.000000  214203.000000  214203.000000   \n",
       "mean   1.188117e+08      27.267480      44.639991    4477.778453   \n",
       "std    1.915566e+07      31.813628      26.473093    2649.230047   \n",
       "min    8.624600e+04       2.000000       1.000000     103.000000   \n",
       "25%    1.111295e+08      15.000000      26.000000    2606.000000   \n",
       "50%    1.237720e+08      17.000000      42.000000    4220.000000   \n",
       "75%    1.291491e+08      18.000000      63.000000    6315.000000   \n",
       "max    1.394169e+08     217.000000      99.000000    9909.000000   \n",
       "\n",
       "            Company          Brand    Productsize  Purchasequantity  \\\n",
       "count  2.142030e+05  214203.000000  214203.000000     214203.000000   \n",
       "mean   1.470937e+08   14670.813471      35.697997          1.392338   \n",
       "std    2.481903e+08    6373.132545      57.014366          1.213011   \n",
       "min    1.000000e+04       0.000000       0.010000          0.000000   \n",
       "25%    1.021130e+08   10786.000000       9.000000          1.000000   \n",
       "50%    1.021130e+08   15704.000000      16.000000          1.000000   \n",
       "75%    1.021130e+08   15704.000000      32.000000          1.000000   \n",
       "max    1.097815e+10  107956.000000     750.000000         97.000000   \n",
       "\n",
       "       Purchaseamount   value_counts  \n",
       "count   214203.000000  214203.000000  \n",
       "mean         4.032384      15.605332  \n",
       "std          3.879071      10.709839  \n",
       "min          0.010000       6.000000  \n",
       "25%          1.990000       8.000000  \n",
       "50%          2.990000      12.000000  \n",
       "75%          4.980000      20.000000  \n",
       "max        200.000000      86.000000  "
      ]
     },
     "execution_count": 120,
     "metadata": {},
     "output_type": "execute_result"
    }
   ],
   "source": [
    "df_common_brands.describe()"
   ]
  },
  {
   "cell_type": "code",
   "execution_count": 125,
   "metadata": {},
   "outputs": [
    {
     "data": {
      "text/plain": [
       "731"
      ]
     },
     "execution_count": 125,
     "metadata": {},
     "output_type": "execute_result"
    }
   ],
   "source": [
    "# frequently bought brands\n",
    "df_common_brands.Brand.nunique()"
   ]
  },
  {
   "cell_type": "code",
   "execution_count": 305,
   "metadata": {},
   "outputs": [
    {
     "data": {
      "text/plain": [
       "Brand\n",
       "15704    118400\n",
       "10786     42253\n",
       "12908      6574\n",
       "30626      4818\n",
       "0          3005\n",
       "33170      2085\n",
       "16397      2071\n",
       "10271      1450\n",
       "6732       1095\n",
       "5537       1068\n",
       "2820       1028\n",
       "14017       755\n",
       "29344       661\n",
       "23359       630\n",
       "20230       612\n",
       "14760       472\n",
       "27474       468\n",
       "11473       456\n",
       "10837       442\n",
       "16668       423\n",
       "5278        399\n",
       "12973       380\n",
       "4568        366\n",
       "23361       338\n",
       "2510        333\n",
       "11151       331\n",
       "6775        312\n",
       "6132        299\n",
       "1358        287\n",
       "3809        283\n",
       "          ...  \n",
       "4312          6\n",
       "4139          6\n",
       "4086          6\n",
       "4051          6\n",
       "18041         6\n",
       "36411         6\n",
       "5379          6\n",
       "17035         6\n",
       "16475         6\n",
       "15870         6\n",
       "38821         6\n",
       "16095         6\n",
       "6356          6\n",
       "16123         6\n",
       "38355         6\n",
       "16451         6\n",
       "6170          6\n",
       "6137          6\n",
       "81641         6\n",
       "17034         6\n",
       "16483         6\n",
       "16492         6\n",
       "16583         6\n",
       "5872          6\n",
       "5858          6\n",
       "5740          6\n",
       "16798         6\n",
       "16983         6\n",
       "85927         6\n",
       "30096         6\n",
       "Name: CustomerID, Length: 731, dtype: int64"
      ]
     },
     "execution_count": 305,
     "metadata": {},
     "output_type": "execute_result"
    }
   ],
   "source": [
    "df_common_brands.groupby('Brand')['CustomerID'].count().sort_values(ascending=False)"
   ]
  }
 ],
 "metadata": {
  "kernelspec": {
   "display_name": "Python 3",
   "language": "python",
   "name": "python3"
  },
  "language_info": {
   "codemirror_mode": {
    "name": "ipython",
    "version": 3
   },
   "file_extension": ".py",
   "mimetype": "text/x-python",
   "name": "python",
   "nbconvert_exporter": "python",
   "pygments_lexer": "ipython3",
   "version": "3.6.1"
  }
 },
 "nbformat": 4,
 "nbformat_minor": 2
}
