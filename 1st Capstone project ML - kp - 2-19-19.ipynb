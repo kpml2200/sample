{
 "cells": [
  {
   "cell_type": "markdown",
   "metadata": {
    "collapsed": true
   },
   "source": [
    "\n",
    "## DATA WRAGLING \n",
    "\n",
    "#### Import libraries"
   ]
  },
  {
   "cell_type": "code",
   "execution_count": 2,
   "metadata": {
    "collapsed": true
   },
   "outputs": [],
   "source": [
    "\n",
    "import pandas as pd\n",
    "import numpy as np\n",
    "import matplotlib.pyplot as plt\n",
    "import seaborn as sns\n",
    "import warnings\n",
    "warnings.filterwarnings(action='ignore')\n",
    "\n",
    "%matplotlib inline\n"
   ]
  },
  {
   "cell_type": "markdown",
   "metadata": {},
   "source": [
    "#### Read csv file into dataframe : df"
   ]
  },
  {
   "cell_type": "code",
   "execution_count": 3,
   "metadata": {
    "collapsed": true
   },
   "outputs": [],
   "source": [
    "\n",
    "df=pd.read_csv('/Users/keyur/ts2.csv')"
   ]
  },
  {
   "cell_type": "markdown",
   "metadata": {},
   "source": [
    "####  Display top 5 rows of data frame"
   ]
  },
  {
   "cell_type": "code",
   "execution_count": 4,
   "metadata": {},
   "outputs": [
    {
     "data": {
      "text/html": [
       "<div>\n",
       "<style>\n",
       "    .dataframe thead tr:only-child th {\n",
       "        text-align: right;\n",
       "    }\n",
       "\n",
       "    .dataframe thead th {\n",
       "        text-align: left;\n",
       "    }\n",
       "\n",
       "    .dataframe tbody tr th {\n",
       "        vertical-align: top;\n",
       "    }\n",
       "</style>\n",
       "<table border=\"1\" class=\"dataframe\">\n",
       "  <thead>\n",
       "    <tr style=\"text-align: right;\">\n",
       "      <th></th>\n",
       "      <th>CustomerID</th>\n",
       "      <th>Chain</th>\n",
       "      <th>Dept</th>\n",
       "      <th>Category</th>\n",
       "      <th>Company</th>\n",
       "      <th>Brand</th>\n",
       "      <th>Date</th>\n",
       "      <th>Productsize</th>\n",
       "      <th>productmeasure</th>\n",
       "      <th>Purchasequantity</th>\n",
       "      <th>Purchaseamount</th>\n",
       "    </tr>\n",
       "  </thead>\n",
       "  <tbody>\n",
       "    <tr>\n",
       "      <th>0</th>\n",
       "      <td>86246</td>\n",
       "      <td>205</td>\n",
       "      <td>56</td>\n",
       "      <td>5613</td>\n",
       "      <td>107592575</td>\n",
       "      <td>4368</td>\n",
       "      <td>1/2/2013</td>\n",
       "      <td>15.00</td>\n",
       "      <td>OZ</td>\n",
       "      <td>1</td>\n",
       "      <td>3.49</td>\n",
       "    </tr>\n",
       "    <tr>\n",
       "      <th>1</th>\n",
       "      <td>86246</td>\n",
       "      <td>205</td>\n",
       "      <td>63</td>\n",
       "      <td>6305</td>\n",
       "      <td>102500020</td>\n",
       "      <td>11749</td>\n",
       "      <td>1/2/2013</td>\n",
       "      <td>59.00</td>\n",
       "      <td>OZ</td>\n",
       "      <td>1</td>\n",
       "      <td>4.29</td>\n",
       "    </tr>\n",
       "    <tr>\n",
       "      <th>2</th>\n",
       "      <td>86246</td>\n",
       "      <td>205</td>\n",
       "      <td>9</td>\n",
       "      <td>907</td>\n",
       "      <td>1065752262</td>\n",
       "      <td>25738</td>\n",
       "      <td>1/2/2013</td>\n",
       "      <td>16.00</td>\n",
       "      <td>OZ</td>\n",
       "      <td>1</td>\n",
       "      <td>3.69</td>\n",
       "    </tr>\n",
       "    <tr>\n",
       "      <th>3</th>\n",
       "      <td>86246</td>\n",
       "      <td>205</td>\n",
       "      <td>63</td>\n",
       "      <td>6315</td>\n",
       "      <td>101116616</td>\n",
       "      <td>15266</td>\n",
       "      <td>1/2/2013</td>\n",
       "      <td>64.00</td>\n",
       "      <td>OZ</td>\n",
       "      <td>1</td>\n",
       "      <td>2.98</td>\n",
       "    </tr>\n",
       "    <tr>\n",
       "      <th>4</th>\n",
       "      <td>86246</td>\n",
       "      <td>205</td>\n",
       "      <td>4</td>\n",
       "      <td>416</td>\n",
       "      <td>104000040</td>\n",
       "      <td>16765</td>\n",
       "      <td>1/2/2013</td>\n",
       "      <td>2.07</td>\n",
       "      <td>OZ</td>\n",
       "      <td>1</td>\n",
       "      <td>0.99</td>\n",
       "    </tr>\n",
       "  </tbody>\n",
       "</table>\n",
       "</div>"
      ],
      "text/plain": [
       "   CustomerID  Chain  Dept  Category     Company  Brand      Date  \\\n",
       "0       86246    205    56      5613   107592575   4368  1/2/2013   \n",
       "1       86246    205    63      6305   102500020  11749  1/2/2013   \n",
       "2       86246    205     9       907  1065752262  25738  1/2/2013   \n",
       "3       86246    205    63      6315   101116616  15266  1/2/2013   \n",
       "4       86246    205     4       416   104000040  16765  1/2/2013   \n",
       "\n",
       "   Productsize productmeasure  Purchasequantity  Purchaseamount  \n",
       "0        15.00             OZ                 1            3.49  \n",
       "1        59.00             OZ                 1            4.29  \n",
       "2        16.00             OZ                 1            3.69  \n",
       "3        64.00             OZ                 1            2.98  \n",
       "4         2.07             OZ                 1            0.99  "
      ]
     },
     "execution_count": 4,
     "metadata": {},
     "output_type": "execute_result"
    }
   ],
   "source": [
    "df.head()"
   ]
  },
  {
   "cell_type": "code",
   "execution_count": 5,
   "metadata": {},
   "outputs": [
    {
     "data": {
      "text/html": [
       "<div>\n",
       "<style>\n",
       "    .dataframe thead tr:only-child th {\n",
       "        text-align: right;\n",
       "    }\n",
       "\n",
       "    .dataframe thead th {\n",
       "        text-align: left;\n",
       "    }\n",
       "\n",
       "    .dataframe tbody tr th {\n",
       "        vertical-align: top;\n",
       "    }\n",
       "</style>\n",
       "<table border=\"1\" class=\"dataframe\">\n",
       "  <thead>\n",
       "    <tr style=\"text-align: right;\">\n",
       "      <th></th>\n",
       "      <th>CustomerID</th>\n",
       "      <th>Chain</th>\n",
       "      <th>Dept</th>\n",
       "      <th>Category</th>\n",
       "      <th>Company</th>\n",
       "      <th>Brand</th>\n",
       "      <th>Productsize</th>\n",
       "      <th>Purchasequantity</th>\n",
       "      <th>Purchaseamount</th>\n",
       "    </tr>\n",
       "  </thead>\n",
       "  <tbody>\n",
       "    <tr>\n",
       "      <th>count</th>\n",
       "      <td>1.048574e+06</td>\n",
       "      <td>1.048574e+06</td>\n",
       "      <td>1.048574e+06</td>\n",
       "      <td>1.048574e+06</td>\n",
       "      <td>1.048574e+06</td>\n",
       "      <td>1.048574e+06</td>\n",
       "      <td>1.048574e+06</td>\n",
       "      <td>1.048574e+06</td>\n",
       "      <td>1.048574e+06</td>\n",
       "    </tr>\n",
       "    <tr>\n",
       "      <th>mean</th>\n",
       "      <td>1.186249e+08</td>\n",
       "      <td>2.623007e+01</td>\n",
       "      <td>4.162948e+01</td>\n",
       "      <td>4.176521e+03</td>\n",
       "      <td>2.154439e+08</td>\n",
       "      <td>1.593452e+04</td>\n",
       "      <td>2.775495e+01</td>\n",
       "      <td>1.376910e+00</td>\n",
       "      <td>4.481541e+00</td>\n",
       "    </tr>\n",
       "    <tr>\n",
       "      <th>std</th>\n",
       "      <td>1.932857e+07</td>\n",
       "      <td>3.129865e+01</td>\n",
       "      <td>2.758843e+01</td>\n",
       "      <td>2.761479e+03</td>\n",
       "      <td>4.079861e+08</td>\n",
       "      <td>1.497047e+04</td>\n",
       "      <td>4.931433e+01</td>\n",
       "      <td>1.113520e+00</td>\n",
       "      <td>5.502537e+00</td>\n",
       "    </tr>\n",
       "    <tr>\n",
       "      <th>min</th>\n",
       "      <td>8.624600e+04</td>\n",
       "      <td>2.000000e+00</td>\n",
       "      <td>0.000000e+00</td>\n",
       "      <td>0.000000e+00</td>\n",
       "      <td>1.000000e+04</td>\n",
       "      <td>0.000000e+00</td>\n",
       "      <td>0.000000e+00</td>\n",
       "      <td>-9.000000e+00</td>\n",
       "      <td>-6.406000e+01</td>\n",
       "    </tr>\n",
       "    <tr>\n",
       "      <th>25%</th>\n",
       "      <td>1.088637e+08</td>\n",
       "      <td>1.400000e+01</td>\n",
       "      <td>1.900000e+01</td>\n",
       "      <td>1.905000e+03</td>\n",
       "      <td>1.021130e+08</td>\n",
       "      <td>7.848000e+03</td>\n",
       "      <td>7.620000e+00</td>\n",
       "      <td>1.000000e+00</td>\n",
       "      <td>2.210000e+00</td>\n",
       "    </tr>\n",
       "    <tr>\n",
       "      <th>50%</th>\n",
       "      <td>1.236480e+08</td>\n",
       "      <td>1.500000e+01</td>\n",
       "      <td>3.600000e+01</td>\n",
       "      <td>3.634000e+03</td>\n",
       "      <td>1.039272e+08</td>\n",
       "      <td>1.331000e+04</td>\n",
       "      <td>1.450000e+01</td>\n",
       "      <td>1.000000e+00</td>\n",
       "      <td>3.490000e+00</td>\n",
       "    </tr>\n",
       "    <tr>\n",
       "      <th>75%</th>\n",
       "      <td>1.329357e+08</td>\n",
       "      <td>1.800000e+01</td>\n",
       "      <td>6.000000e+01</td>\n",
       "      <td>6.001000e+03</td>\n",
       "      <td>1.072831e+08</td>\n",
       "      <td>1.709000e+04</td>\n",
       "      <td>2.400000e+01</td>\n",
       "      <td>1.000000e+00</td>\n",
       "      <td>5.440000e+00</td>\n",
       "    </tr>\n",
       "    <tr>\n",
       "      <th>max</th>\n",
       "      <td>1.394179e+08</td>\n",
       "      <td>2.170000e+02</td>\n",
       "      <td>9.900000e+01</td>\n",
       "      <td>9.909000e+03</td>\n",
       "      <td>1.097815e+10</td>\n",
       "      <td>1.086200e+05</td>\n",
       "      <td>4.000000e+03</td>\n",
       "      <td>9.700000e+01</td>\n",
       "      <td>1.500000e+03</td>\n",
       "    </tr>\n",
       "  </tbody>\n",
       "</table>\n",
       "</div>"
      ],
      "text/plain": [
       "         CustomerID         Chain          Dept      Category       Company  \\\n",
       "count  1.048574e+06  1.048574e+06  1.048574e+06  1.048574e+06  1.048574e+06   \n",
       "mean   1.186249e+08  2.623007e+01  4.162948e+01  4.176521e+03  2.154439e+08   \n",
       "std    1.932857e+07  3.129865e+01  2.758843e+01  2.761479e+03  4.079861e+08   \n",
       "min    8.624600e+04  2.000000e+00  0.000000e+00  0.000000e+00  1.000000e+04   \n",
       "25%    1.088637e+08  1.400000e+01  1.900000e+01  1.905000e+03  1.021130e+08   \n",
       "50%    1.236480e+08  1.500000e+01  3.600000e+01  3.634000e+03  1.039272e+08   \n",
       "75%    1.329357e+08  1.800000e+01  6.000000e+01  6.001000e+03  1.072831e+08   \n",
       "max    1.394179e+08  2.170000e+02  9.900000e+01  9.909000e+03  1.097815e+10   \n",
       "\n",
       "              Brand   Productsize  Purchasequantity  Purchaseamount  \n",
       "count  1.048574e+06  1.048574e+06      1.048574e+06    1.048574e+06  \n",
       "mean   1.593452e+04  2.775495e+01      1.376910e+00    4.481541e+00  \n",
       "std    1.497047e+04  4.931433e+01      1.113520e+00    5.502537e+00  \n",
       "min    0.000000e+00  0.000000e+00     -9.000000e+00   -6.406000e+01  \n",
       "25%    7.848000e+03  7.620000e+00      1.000000e+00    2.210000e+00  \n",
       "50%    1.331000e+04  1.450000e+01      1.000000e+00    3.490000e+00  \n",
       "75%    1.709000e+04  2.400000e+01      1.000000e+00    5.440000e+00  \n",
       "max    1.086200e+05  4.000000e+03      9.700000e+01    1.500000e+03  "
      ]
     },
     "execution_count": 5,
     "metadata": {},
     "output_type": "execute_result"
    }
   ],
   "source": [
    "df.describe()"
   ]
  },
  {
   "cell_type": "markdown",
   "metadata": {
    "collapsed": true
   },
   "source": [
    "####  Data type for each column"
   ]
  },
  {
   "cell_type": "code",
   "execution_count": 6,
   "metadata": {},
   "outputs": [
    {
     "name": "stdout",
     "output_type": "stream",
     "text": [
      "<class 'pandas.core.frame.DataFrame'>\n",
      "RangeIndex: 1048574 entries, 0 to 1048573\n",
      "Data columns (total 11 columns):\n",
      "CustomerID          1048574 non-null int64\n",
      "Chain               1048574 non-null int64\n",
      "Dept                1048574 non-null int64\n",
      "Category            1048574 non-null int64\n",
      "Company             1048574 non-null int64\n",
      "Brand               1048574 non-null int64\n",
      "Date                1048574 non-null object\n",
      "Productsize         1048574 non-null float64\n",
      "productmeasure      1037317 non-null object\n",
      "Purchasequantity    1048574 non-null int64\n",
      "Purchaseamount      1048574 non-null float64\n",
      "dtypes: float64(2), int64(7), object(2)\n",
      "memory usage: 88.0+ MB\n"
     ]
    }
   ],
   "source": [
    "df.info()"
   ]
  },
  {
   "cell_type": "markdown",
   "metadata": {
    "collapsed": true
   },
   "source": [
    "### Visually Check Missing Values in the DataFrame\n",
    "#### Create a heatmap on the boolean values \n",
    "Yellow bars shows missing values from the birds eye view"
   ]
  },
  {
   "cell_type": "code",
   "execution_count": 7,
   "metadata": {},
   "outputs": [
    {
     "data": {
      "text/plain": [
       "<matplotlib.axes._subplots.AxesSubplot at 0x207cbf90c50>"
      ]
     },
     "execution_count": 7,
     "metadata": {},
     "output_type": "execute_result"
    },
    {
     "data": {
      "image/png": "[encoded data removed]",
      "text/plain": [
       "<matplotlib.figure.Figure at 0x207cbfc03c8>"
      ]
     },
     "metadata": {},
     "output_type": "display_data"
    }
   ],
   "source": [
    "sns.heatmap((df.isnull()),yticklabels=False,cbar=False,cmap='viridis')\n",
    "# There are missing values on productmeasure column"
   ]
  },
  {
   "cell_type": "code",
   "execution_count": 8,
   "metadata": {},
   "outputs": [
    {
     "data": {
      "text/plain": [
       "1048574"
      ]
     },
     "execution_count": 8,
     "metadata": {},
     "output_type": "execute_result"
    }
   ],
   "source": [
    "# no of rows in the dataframe\n",
    "df.shape[0]"
   ]
  },
  {
   "cell_type": "code",
   "execution_count": 9,
   "metadata": {},
   "outputs": [
    {
     "data": {
      "text/plain": [
       "11"
      ]
     },
     "execution_count": 9,
     "metadata": {},
     "output_type": "execute_result"
    }
   ],
   "source": [
    "#no of columns in the dataframe\n",
    "df.shape[1]"
   ]
  },
  {
   "cell_type": "code",
   "execution_count": 10,
   "metadata": {},
   "outputs": [
    {
     "data": {
      "text/plain": [
       "Index(['CustomerID', 'Chain', 'Dept', 'Category', 'Company', 'Brand', 'Date',\n",
       "       'Productsize', 'productmeasure', 'Purchasequantity', 'Purchaseamount'],\n",
       "      dtype='object')"
      ]
     },
     "execution_count": 10,
     "metadata": {},
     "output_type": "execute_result"
    }
   ],
   "source": [
    "# column names consistency check: no void spaces  \n",
    "df.columns"
   ]
  },
  {
   "cell_type": "markdown",
   "metadata": {},
   "source": [
    "Frequency of values on each individual column (highest to lowest)"
   ]
  },
  {
   "cell_type": "code",
   "execution_count": 11,
   "metadata": {},
   "outputs": [
    {
     "data": {
      "text/plain": [
       "OZ     882458\n",
       "CT     112610\n",
       "LT      19316\n",
       "RL      12514\n",
       "NaN     11257\n",
       "LB      10020\n",
       "YD        399\n",
       "Name: productmeasure, dtype: int64"
      ]
     },
     "execution_count": 11,
     "metadata": {},
     "output_type": "execute_result"
    }
   ],
   "source": [
    "df['productmeasure'].value_counts(dropna=False)\n",
    "# Has 11257 null values"
   ]
  },
  {
   "cell_type": "code",
   "execution_count": 12,
   "metadata": {},
   "outputs": [
    {
     "data": {
      "text/plain": [
       "6"
      ]
     },
     "execution_count": 12,
     "metadata": {},
     "output_type": "execute_result"
    }
   ],
   "source": [
    "df['productmeasure'].nunique()"
   ]
  },
  {
   "cell_type": "code",
   "execution_count": 13,
   "metadata": {},
   "outputs": [
    {
     "data": {
      "text/plain": [
       "126076370    417\n",
       "86252        387\n",
       "124188763    374\n",
       "135707806    371\n",
       "126254930    357\n",
       "121709928    351\n",
       "135258615    345\n",
       "126102424    342\n",
       "123976987    341\n",
       "121066166    339\n",
       "57132131     336\n",
       "106627994    336\n",
       "121895900    332\n",
       "83868868     331\n",
       "121009427    329\n",
       "133515069    326\n",
       "120945028    324\n",
       "108528616    323\n",
       "121446341    320\n",
       "121906896    316\n",
       "105556795    315\n",
       "124253508    313\n",
       "134016269    313\n",
       "125842030    312\n",
       "139018590    309\n",
       "137485152    309\n",
       "99551428     308\n",
       "124393795    307\n",
       "135100874    306\n",
       "125317972    303\n",
       "            ... \n",
       "121915737      1\n",
       "54108377       1\n",
       "107587894      1\n",
       "122042580      1\n",
       "102961601      1\n",
       "116699481      1\n",
       "102086654      1\n",
       "107454629      1\n",
       "112300348      1\n",
       "103229418      1\n",
       "108998770      1\n",
       "107477488      1\n",
       "126834211      1\n",
       "108005209      1\n",
       "124782422      1\n",
       "134360512      1\n",
       "137041893      1\n",
       "121586722      1\n",
       "124143709      1\n",
       "73410200       1\n",
       "106454399      1\n",
       "134961871      1\n",
       "131952537      1\n",
       "125402508      1\n",
       "100133594      1\n",
       "125295709      1\n",
       "104734773      1\n",
       "75032259       1\n",
       "125240880      1\n",
       "134874357      1\n",
       "Name: CustomerID, Length: 14030, dtype: int64"
      ]
     },
     "execution_count": 13,
     "metadata": {},
     "output_type": "execute_result"
    }
   ],
   "source": [
    "df['CustomerID'].value_counts(dropna=False)"
   ]
  },
  {
   "cell_type": "code",
   "execution_count": 14,
   "metadata": {
    "collapsed": true
   },
   "outputs": [],
   "source": [
    "#No. of Distinct customerId's\n",
    "No_distinct_customerid=df['CustomerID'].nunique()"
   ]
  },
  {
   "cell_type": "code",
   "execution_count": 15,
   "metadata": {},
   "outputs": [
    {
     "data": {
      "text/plain": [
       "15     258583\n",
       "18     187300\n",
       "4      170204\n",
       "17      96940\n",
       "95      88313\n",
       "20      68065\n",
       "14      66335\n",
       "88      65007\n",
       "3       38688\n",
       "192      5778\n",
       "46       2107\n",
       "205       678\n",
       "217       243\n",
       "58        181\n",
       "2         152\n",
       "Name: Chain, dtype: int64"
      ]
     },
     "execution_count": 15,
     "metadata": {},
     "output_type": "execute_result"
    }
   ],
   "source": [
    "df['Chain'].value_counts(dropna=False)"
   ]
  },
  {
   "cell_type": "code",
   "execution_count": 16,
   "metadata": {},
   "outputs": [
    {
     "data": {
      "text/plain": [
       "15"
      ]
     },
     "execution_count": 16,
     "metadata": {},
     "output_type": "execute_result"
    }
   ],
   "source": [
    "df['Chain'].nunique()"
   ]
  },
  {
   "cell_type": "code",
   "execution_count": 17,
   "metadata": {},
   "outputs": [
    {
     "data": {
      "text/plain": [
       "9     89442\n",
       "63    82520\n",
       "99    55840\n",
       "36    49135\n",
       "33    43511\n",
       "56    42496\n",
       "58    39225\n",
       "5     38982\n",
       "26    37092\n",
       "51    32325\n",
       "8     32285\n",
       "37    26964\n",
       "97    24473\n",
       "64    23567\n",
       "29    21802\n",
       "57    21567\n",
       "41    20938\n",
       "21    20764\n",
       "4     18519\n",
       "55    16567\n",
       "25    15415\n",
       "27    15196\n",
       "73    13995\n",
       "30    11059\n",
       "7     10989\n",
       "96    10877\n",
       "59     9728\n",
       "23     9595\n",
       "18     9423\n",
       "53     8800\n",
       "      ...  \n",
       "16     3999\n",
       "12     3970\n",
       "22     3952\n",
       "40     3778\n",
       "75     3503\n",
       "15     3136\n",
       "62     2825\n",
       "1      2796\n",
       "38     2673\n",
       "44     2515\n",
       "82     2481\n",
       "69     2301\n",
       "20     1908\n",
       "24     1839\n",
       "74     1833\n",
       "0      1829\n",
       "92     1711\n",
       "70     1638\n",
       "46     1609\n",
       "13     1578\n",
       "39     1553\n",
       "81     1424\n",
       "42     1397\n",
       "43     1362\n",
       "47     1161\n",
       "50      947\n",
       "65      621\n",
       "67      591\n",
       "78      221\n",
       "98      161\n",
       "Name: Dept, Length: 82, dtype: int64"
      ]
     },
     "execution_count": 17,
     "metadata": {},
     "output_type": "execute_result"
    }
   ],
   "source": [
    "df['Dept'].value_counts(dropna=False)"
   ]
  },
  {
   "cell_type": "code",
   "execution_count": 18,
   "metadata": {},
   "outputs": [
    {
     "data": {
      "text/plain": [
       "82"
      ]
     },
     "execution_count": 18,
     "metadata": {},
     "output_type": "execute_result"
    }
   ],
   "source": [
    "df['Dept'].nunique()"
   ]
  },
  {
   "cell_type": "code",
   "execution_count": 19,
   "metadata": {},
   "outputs": [
    {
     "data": {
      "text/plain": [
       "907     34208\n",
       "6315    30405\n",
       "501     21493\n",
       "9909    21129\n",
       "9753    19126\n",
       "9908    17840\n",
       "902     16102\n",
       "6320    14954\n",
       "9904    14661\n",
       "5823    10825\n",
       "901      9855\n",
       "2301     9195\n",
       "9609     9043\n",
       "3303     8745\n",
       "5710     8607\n",
       "6401     8374\n",
       "5620     7922\n",
       "6305     7851\n",
       "5125     7709\n",
       "917      7615\n",
       "6409     7558\n",
       "2506     7525\n",
       "5307     7340\n",
       "3611     7118\n",
       "3618     6238\n",
       "416      6166\n",
       "4107     6040\n",
       "5704     5987\n",
       "3305     5900\n",
       "5902     5894\n",
       "        ...  \n",
       "5566        7\n",
       "9733        7\n",
       "7331        6\n",
       "9711        6\n",
       "9706        6\n",
       "7505        6\n",
       "7327        5\n",
       "7005        5\n",
       "1399        4\n",
       "1009        4\n",
       "9769        4\n",
       "9736        4\n",
       "9708        4\n",
       "9213        3\n",
       "919         3\n",
       "203         3\n",
       "9802        3\n",
       "9209        2\n",
       "9763        2\n",
       "9705        2\n",
       "1605        2\n",
       "1897        2\n",
       "9781        2\n",
       "9720        1\n",
       "3399        1\n",
       "9740        1\n",
       "2714        1\n",
       "9785        1\n",
       "7099        1\n",
       "4905        1\n",
       "Name: Category, Length: 769, dtype: int64"
      ]
     },
     "execution_count": 19,
     "metadata": {},
     "output_type": "execute_result"
    }
   ],
   "source": [
    "df['Category'].value_counts(dropna=False)"
   ]
  },
  {
   "cell_type": "code",
   "execution_count": 20,
   "metadata": {},
   "outputs": [
    {
     "data": {
      "text/plain": [
       "769"
      ]
     },
     "execution_count": 20,
     "metadata": {},
     "output_type": "execute_result"
    }
   ],
   "source": [
    "df['Category'].nunique()"
   ]
  },
  {
   "cell_type": "code",
   "execution_count": 21,
   "metadata": {},
   "outputs": [
    {
     "data": {
      "text/plain": [
       "102113020      222708\n",
       "107989373       36179\n",
       "102840020       22077\n",
       "103700030       15397\n",
       "101600010       15380\n",
       "104400040       14272\n",
       "105100050       14220\n",
       "103800030       12787\n",
       "102100020       11921\n",
       "10000           11785\n",
       "104900040       10974\n",
       "107800070       10241\n",
       "107127979        9908\n",
       "103000030        8830\n",
       "104470040        8627\n",
       "101200010        8308\n",
       "105000050        7631\n",
       "103400030        7350\n",
       "103338333        7269\n",
       "101380010        6481\n",
       "104300040        6436\n",
       "102500020        6396\n",
       "107373171        5913\n",
       "107047070        5909\n",
       "103600030        5833\n",
       "105210050        5346\n",
       "105150050        5131\n",
       "102400020        4884\n",
       "103663232        4684\n",
       "101410010        4684\n",
       "                ...  \n",
       "107321878           1\n",
       "10931191090         1\n",
       "102316929           1\n",
       "107175878           1\n",
       "1083560989          1\n",
       "1021003727          1\n",
       "108465484           1\n",
       "107464272           1\n",
       "1051313050          1\n",
       "1088775181          1\n",
       "1023822929          1\n",
       "104355242           1\n",
       "1089119181          1\n",
       "1021161727          1\n",
       "1058616252          1\n",
       "1075318171          1\n",
       "1064286060          1\n",
       "1058535757          1\n",
       "101871313           1\n",
       "107964272           1\n",
       "1023511424          1\n",
       "10978038595         1\n",
       "1021010929          1\n",
       "1089322282          1\n",
       "109736191           1\n",
       "107091676           1\n",
       "102429121           1\n",
       "107075979           1\n",
       "1085080383          1\n",
       "101147212           1\n",
       "Name: Company, Length: 4762, dtype: int64"
      ]
     },
     "execution_count": 21,
     "metadata": {},
     "output_type": "execute_result"
    }
   ],
   "source": [
    "df['Company'].value_counts(dropna=False)"
   ]
  },
  {
   "cell_type": "code",
   "execution_count": 22,
   "metadata": {},
   "outputs": [
    {
     "data": {
      "text/plain": [
       "4762"
      ]
     },
     "execution_count": 22,
     "metadata": {},
     "output_type": "execute_result"
    }
   ],
   "source": [
    "df['Company'].nunique()"
   ]
  },
  {
   "cell_type": "code",
   "execution_count": 23,
   "metadata": {
    "scrolled": true
   },
   "outputs": [
    {
     "data": {
      "text/plain": [
       "15704     136823\n",
       "10786      63045\n",
       "0          20692\n",
       "12908      16919\n",
       "30626      14467\n",
       "33170      12265\n",
       "16397      10638\n",
       "6732        9908\n",
       "2820        9082\n",
       "88199       9043\n",
       "9886        7576\n",
       "29344       6919\n",
       "13310       6707\n",
       "14760       6481\n",
       "20230       5983\n",
       "11786       5915\n",
       "11382       5402\n",
       "10241       5288\n",
       "14029       5187\n",
       "5537        4976\n",
       "13291       4905\n",
       "4568        4684\n",
       "5278        4444\n",
       "4704        4428\n",
       "18584       4380\n",
       "1393        4375\n",
       "14582       4232\n",
       "23359       4074\n",
       "10271       3859\n",
       "18390       3562\n",
       "           ...  \n",
       "13420          1\n",
       "14574          1\n",
       "61173          1\n",
       "1768           1\n",
       "28389          1\n",
       "25441          1\n",
       "1131           1\n",
       "18376          1\n",
       "13409          1\n",
       "46708          1\n",
       "19299          1\n",
       "97985          1\n",
       "50422          1\n",
       "16324          1\n",
       "41591          1\n",
       "963            1\n",
       "14059          1\n",
       "45951          1\n",
       "9448           1\n",
       "23271          1\n",
       "86605          1\n",
       "13252          1\n",
       "10336          1\n",
       "22241          1\n",
       "107871         1\n",
       "6245           1\n",
       "28391          1\n",
       "62584          1\n",
       "94281          1\n",
       "2047           1\n",
       "Name: Brand, Length: 5743, dtype: int64"
      ]
     },
     "execution_count": 23,
     "metadata": {},
     "output_type": "execute_result"
    }
   ],
   "source": [
    "df['Brand'].value_counts(dropna=False)"
   ]
  },
  {
   "cell_type": "code",
   "execution_count": 24,
   "metadata": {},
   "outputs": [
    {
     "data": {
      "text/plain": [
       "5743"
      ]
     },
     "execution_count": 24,
     "metadata": {},
     "output_type": "execute_result"
    }
   ],
   "source": [
    "df['Brand'].nunique()"
   ]
  },
  {
   "cell_type": "code",
   "execution_count": 25,
   "metadata": {},
   "outputs": [
    {
     "data": {
      "text/plain": [
       "1/6/2013     48481\n",
       "1/13/2013    46798\n",
       "1/27/2013    45356\n",
       "1/12/2013    43446\n",
       "1/20/2013    42236\n",
       "1/5/2013     41355\n",
       "1/26/2013    40398\n",
       "1/19/2013    40137\n",
       "1/25/2013    37474\n",
       "1/11/2013    36709\n",
       "1/4/2013     36607\n",
       "1/18/2013    35749\n",
       "1/21/2013    34121\n",
       "1/7/2013     33790\n",
       "1/28/2013    32144\n",
       "1/14/2013    31145\n",
       "1/2/2013     30540\n",
       "1/3/2013     30160\n",
       "1/22/2013    29634\n",
       "1/8/2013     29287\n",
       "1/24/2013    28490\n",
       "1/29/2013    28470\n",
       "1/23/2013    28375\n",
       "1/10/2013    28135\n",
       "1/17/2013    27901\n",
       "1/16/2013    27762\n",
       "1/31/2013    27735\n",
       "1/15/2013    27675\n",
       "1/9/2013     27151\n",
       "1/30/2013    25904\n",
       "1/1/2013     25409\n",
       "Name: Date, dtype: int64"
      ]
     },
     "execution_count": 25,
     "metadata": {},
     "output_type": "execute_result"
    }
   ],
   "source": [
    "df['Date'].value_counts(dropna=False)"
   ]
  },
  {
   "cell_type": "code",
   "execution_count": 26,
   "metadata": {},
   "outputs": [
    {
     "data": {
      "text/plain": [
       "31"
      ]
     },
     "execution_count": 26,
     "metadata": {},
     "output_type": "execute_result"
    }
   ],
   "source": [
    "df['Date'].nunique()"
   ]
  },
  {
   "cell_type": "code",
   "execution_count": 27,
   "metadata": {},
   "outputs": [
    {
     "data": {
      "text/plain": [
       "16.00     93563\n",
       "12.00     63785\n",
       "1.00      50830\n",
       "8.00      43638\n",
       "32.00     38817\n",
       "24.00     37495\n",
       "6.00      29431\n",
       "64.00     27980\n",
       "20.00     25797\n",
       "10.00     25037\n",
       "15.00     23188\n",
       "128.00    23107\n",
       "18.00     19653\n",
       "0.75      16072\n",
       "9.00      15872\n",
       "14.00     14742\n",
       "4.00      14345\n",
       "5.00      13321\n",
       "48.00     13152\n",
       "144.00    11812\n",
       "0.00      11262\n",
       "7.00      10917\n",
       "13.00     10592\n",
       "10.50      9563\n",
       "14.50      9240\n",
       "59.00      8633\n",
       "67.60      8507\n",
       "22.00      8246\n",
       "2.00       8218\n",
       "30.00      7924\n",
       "          ...  \n",
       "44.80         1\n",
       "8.99          1\n",
       "16.23         1\n",
       "1.98          1\n",
       "20.72         1\n",
       "5.88          1\n",
       "736.00        1\n",
       "0.55          1\n",
       "42.30         1\n",
       "3.88          1\n",
       "211.20        1\n",
       "540.00        1\n",
       "18.59         1\n",
       "8.29          1\n",
       "15.89         1\n",
       "8.21          1\n",
       "0.58          1\n",
       "25.25         1\n",
       "2.03          1\n",
       "8.13          1\n",
       "1.17          1\n",
       "22.52         1\n",
       "738.00        1\n",
       "35.27         1\n",
       "768.00        1\n",
       "3.08          1\n",
       "3.28          1\n",
       "61.00         1\n",
       "0.11          1\n",
       "7.42          1\n",
       "Name: Productsize, Length: 1136, dtype: int64"
      ]
     },
     "execution_count": 27,
     "metadata": {},
     "output_type": "execute_result"
    }
   ],
   "source": [
    "df['Productsize'].value_counts(dropna=False)"
   ]
  },
  {
   "cell_type": "code",
   "execution_count": 28,
   "metadata": {},
   "outputs": [
    {
     "data": {
      "text/plain": [
       "1136"
      ]
     },
     "execution_count": 28,
     "metadata": {},
     "output_type": "execute_result"
    }
   ],
   "source": [
    "df['Productsize'].nunique()"
   ]
  },
  {
   "cell_type": "code",
   "execution_count": 29,
   "metadata": {},
   "outputs": [
    {
     "data": {
      "text/plain": [
       " 1     809398\n",
       " 2     171549\n",
       " 3      28771\n",
       " 4      20805\n",
       " 5       4932\n",
       " 6       4855\n",
       " 10      2126\n",
       " 8       1552\n",
       " 0       1258\n",
       " 7        888\n",
       " 9        477\n",
       " 12       463\n",
       "-1        397\n",
       " 11       196\n",
       " 20       122\n",
       " 15       114\n",
       " 14       113\n",
       " 16        85\n",
       " 13        78\n",
       "-2         63\n",
       " 24        51\n",
       " 18        42\n",
       " 19        26\n",
       " 21        23\n",
       " 17        22\n",
       " 30        21\n",
       " 22        20\n",
       " 36        11\n",
       " 40         9\n",
       " 25         8\n",
       "        ...  \n",
       " 26         7\n",
       " 28         7\n",
       " 72         6\n",
       " 48         6\n",
       " 29         6\n",
       " 23         5\n",
       "-4          4\n",
       "-5          4\n",
       " 32         4\n",
       " 45         3\n",
       " 33         3\n",
       " 42         3\n",
       "-8          2\n",
       " 52         2\n",
       " 35         2\n",
       " 34         2\n",
       " 41         2\n",
       " 39         2\n",
       " 31         2\n",
       " 44         1\n",
       " 49         1\n",
       " 74         1\n",
       " 76         1\n",
       " 83         1\n",
       " 96         1\n",
       " 97         1\n",
       "-9          1\n",
       " 37         1\n",
       " 53         1\n",
       " 57         1\n",
       "Name: Purchasequantity, Length: 62, dtype: int64"
      ]
     },
     "execution_count": 29,
     "metadata": {},
     "output_type": "execute_result"
    }
   ],
   "source": [
    "df['Purchasequantity'].value_counts(dropna=False)\n",
    "# negative values "
   ]
  },
  {
   "cell_type": "code",
   "execution_count": 30,
   "metadata": {},
   "outputs": [
    {
     "data": {
      "text/plain": [
       "62"
      ]
     },
     "execution_count": 30,
     "metadata": {},
     "output_type": "execute_result"
    }
   ],
   "source": [
    "df['Purchasequantity'].nunique()"
   ]
  },
  {
   "cell_type": "code",
   "execution_count": 31,
   "metadata": {},
   "outputs": [
    {
     "data": {
      "text/plain": [
       " 2.99      61300\n",
       " 3.99      56944\n",
       " 1.99      37707\n",
       " 4.99      34307\n",
       " 3.49      26444\n",
       " 2.50      25097\n",
       " 2.49      23786\n",
       " 5.99      23275\n",
       " 2.00      19485\n",
       " 6.99      17670\n",
       " 3.00      17602\n",
       " 0.99      16483\n",
       " 4.49      15933\n",
       " 5.00      15123\n",
       " 3.29      14495\n",
       " 5.49      12499\n",
       " 2.79      12389\n",
       " 1.79      11966\n",
       " 3.79      11899\n",
       " 4.29      11465\n",
       " 7.99      11112\n",
       " 1.49      10682\n",
       " 1.00      10401\n",
       " 2.29      10355\n",
       " 1.69       9137\n",
       " 4.00       9089\n",
       " 2.69       8931\n",
       " 3.69       8847\n",
       " 2.19       8454\n",
       " 5.98       8426\n",
       "           ...  \n",
       " 89.98         1\n",
       "-13.23         1\n",
       "-14.47         1\n",
       " 30.32         1\n",
       "-12.24         1\n",
       " 260.00        1\n",
       "-36.11         1\n",
       "-13.11         1\n",
       "-13.39         1\n",
       "-9.85          1\n",
       "-9.32          1\n",
       " 27.72         1\n",
       "-16.75         1\n",
       " 54.98         1\n",
       "-15.14         1\n",
       "-17.93         1\n",
       " 92.35         1\n",
       "-23.44         1\n",
       "-23.99         1\n",
       " 45.50         1\n",
       " 26.91         1\n",
       "-17.79         1\n",
       "-30.57         1\n",
       " 22.11         1\n",
       "-50.04         1\n",
       " 32.78         1\n",
       " 32.22         1\n",
       " 16.75         1\n",
       " 34.44         1\n",
       "-27.96         1\n",
       "Name: Purchaseamount, Length: 5806, dtype: int64"
      ]
     },
     "execution_count": 31,
     "metadata": {},
     "output_type": "execute_result"
    }
   ],
   "source": [
    "\n",
    "df['Purchaseamount'].value_counts(dropna=False)\n",
    "# negative values   "
   ]
  },
  {
   "cell_type": "code",
   "execution_count": 32,
   "metadata": {},
   "outputs": [
    {
     "data": {
      "text/plain": [
       "5806"
      ]
     },
     "execution_count": 32,
     "metadata": {},
     "output_type": "execute_result"
    }
   ],
   "source": [
    "df['Purchaseamount'].nunique()"
   ]
  },
  {
   "cell_type": "markdown",
   "metadata": {
    "collapsed": true
   },
   "source": [
    "Summary statistics"
   ]
  },
  {
   "cell_type": "code",
   "execution_count": 33,
   "metadata": {},
   "outputs": [
    {
     "data": {
      "text/html": [
       "<div>\n",
       "<style>\n",
       "    .dataframe thead tr:only-child th {\n",
       "        text-align: right;\n",
       "    }\n",
       "\n",
       "    .dataframe thead th {\n",
       "        text-align: left;\n",
       "    }\n",
       "\n",
       "    .dataframe tbody tr th {\n",
       "        vertical-align: top;\n",
       "    }\n",
       "</style>\n",
       "<table border=\"1\" class=\"dataframe\">\n",
       "  <thead>\n",
       "    <tr style=\"text-align: right;\">\n",
       "      <th></th>\n",
       "      <th>CustomerID</th>\n",
       "      <th>Chain</th>\n",
       "      <th>Dept</th>\n",
       "      <th>Category</th>\n",
       "      <th>Company</th>\n",
       "      <th>Brand</th>\n",
       "      <th>Productsize</th>\n",
       "      <th>Purchasequantity</th>\n",
       "      <th>Purchaseamount</th>\n",
       "    </tr>\n",
       "  </thead>\n",
       "  <tbody>\n",
       "    <tr>\n",
       "      <th>count</th>\n",
       "      <td>1.048574e+06</td>\n",
       "      <td>1.048574e+06</td>\n",
       "      <td>1.048574e+06</td>\n",
       "      <td>1.048574e+06</td>\n",
       "      <td>1.048574e+06</td>\n",
       "      <td>1.048574e+06</td>\n",
       "      <td>1.048574e+06</td>\n",
       "      <td>1.048574e+06</td>\n",
       "      <td>1.048574e+06</td>\n",
       "    </tr>\n",
       "    <tr>\n",
       "      <th>mean</th>\n",
       "      <td>1.186249e+08</td>\n",
       "      <td>2.623007e+01</td>\n",
       "      <td>4.162948e+01</td>\n",
       "      <td>4.176521e+03</td>\n",
       "      <td>2.154439e+08</td>\n",
       "      <td>1.593452e+04</td>\n",
       "      <td>2.775495e+01</td>\n",
       "      <td>1.376910e+00</td>\n",
       "      <td>4.481541e+00</td>\n",
       "    </tr>\n",
       "    <tr>\n",
       "      <th>std</th>\n",
       "      <td>1.932857e+07</td>\n",
       "      <td>3.129865e+01</td>\n",
       "      <td>2.758843e+01</td>\n",
       "      <td>2.761479e+03</td>\n",
       "      <td>4.079861e+08</td>\n",
       "      <td>1.497047e+04</td>\n",
       "      <td>4.931433e+01</td>\n",
       "      <td>1.113520e+00</td>\n",
       "      <td>5.502537e+00</td>\n",
       "    </tr>\n",
       "    <tr>\n",
       "      <th>min</th>\n",
       "      <td>8.624600e+04</td>\n",
       "      <td>2.000000e+00</td>\n",
       "      <td>0.000000e+00</td>\n",
       "      <td>0.000000e+00</td>\n",
       "      <td>1.000000e+04</td>\n",
       "      <td>0.000000e+00</td>\n",
       "      <td>0.000000e+00</td>\n",
       "      <td>-9.000000e+00</td>\n",
       "      <td>-6.406000e+01</td>\n",
       "    </tr>\n",
       "    <tr>\n",
       "      <th>25%</th>\n",
       "      <td>1.088637e+08</td>\n",
       "      <td>1.400000e+01</td>\n",
       "      <td>1.900000e+01</td>\n",
       "      <td>1.905000e+03</td>\n",
       "      <td>1.021130e+08</td>\n",
       "      <td>7.848000e+03</td>\n",
       "      <td>7.620000e+00</td>\n",
       "      <td>1.000000e+00</td>\n",
       "      <td>2.210000e+00</td>\n",
       "    </tr>\n",
       "    <tr>\n",
       "      <th>50%</th>\n",
       "      <td>1.236480e+08</td>\n",
       "      <td>1.500000e+01</td>\n",
       "      <td>3.600000e+01</td>\n",
       "      <td>3.634000e+03</td>\n",
       "      <td>1.039272e+08</td>\n",
       "      <td>1.331000e+04</td>\n",
       "      <td>1.450000e+01</td>\n",
       "      <td>1.000000e+00</td>\n",
       "      <td>3.490000e+00</td>\n",
       "    </tr>\n",
       "    <tr>\n",
       "      <th>75%</th>\n",
       "      <td>1.329357e+08</td>\n",
       "      <td>1.800000e+01</td>\n",
       "      <td>6.000000e+01</td>\n",
       "      <td>6.001000e+03</td>\n",
       "      <td>1.072831e+08</td>\n",
       "      <td>1.709000e+04</td>\n",
       "      <td>2.400000e+01</td>\n",
       "      <td>1.000000e+00</td>\n",
       "      <td>5.440000e+00</td>\n",
       "    </tr>\n",
       "    <tr>\n",
       "      <th>max</th>\n",
       "      <td>1.394179e+08</td>\n",
       "      <td>2.170000e+02</td>\n",
       "      <td>9.900000e+01</td>\n",
       "      <td>9.909000e+03</td>\n",
       "      <td>1.097815e+10</td>\n",
       "      <td>1.086200e+05</td>\n",
       "      <td>4.000000e+03</td>\n",
       "      <td>9.700000e+01</td>\n",
       "      <td>1.500000e+03</td>\n",
       "    </tr>\n",
       "  </tbody>\n",
       "</table>\n",
       "</div>"
      ],
      "text/plain": [
       "         CustomerID         Chain          Dept      Category       Company  \\\n",
       "count  1.048574e+06  1.048574e+06  1.048574e+06  1.048574e+06  1.048574e+06   \n",
       "mean   1.186249e+08  2.623007e+01  4.162948e+01  4.176521e+03  2.154439e+08   \n",
       "std    1.932857e+07  3.129865e+01  2.758843e+01  2.761479e+03  4.079861e+08   \n",
       "min    8.624600e+04  2.000000e+00  0.000000e+00  0.000000e+00  1.000000e+04   \n",
       "25%    1.088637e+08  1.400000e+01  1.900000e+01  1.905000e+03  1.021130e+08   \n",
       "50%    1.236480e+08  1.500000e+01  3.600000e+01  3.634000e+03  1.039272e+08   \n",
       "75%    1.329357e+08  1.800000e+01  6.000000e+01  6.001000e+03  1.072831e+08   \n",
       "max    1.394179e+08  2.170000e+02  9.900000e+01  9.909000e+03  1.097815e+10   \n",
       "\n",
       "              Brand   Productsize  Purchasequantity  Purchaseamount  \n",
       "count  1.048574e+06  1.048574e+06      1.048574e+06    1.048574e+06  \n",
       "mean   1.593452e+04  2.775495e+01      1.376910e+00    4.481541e+00  \n",
       "std    1.497047e+04  4.931433e+01      1.113520e+00    5.502537e+00  \n",
       "min    0.000000e+00  0.000000e+00     -9.000000e+00   -6.406000e+01  \n",
       "25%    7.848000e+03  7.620000e+00      1.000000e+00    2.210000e+00  \n",
       "50%    1.331000e+04  1.450000e+01      1.000000e+00    3.490000e+00  \n",
       "75%    1.709000e+04  2.400000e+01      1.000000e+00    5.440000e+00  \n",
       "max    1.086200e+05  4.000000e+03      9.700000e+01    1.500000e+03  "
      ]
     },
     "execution_count": 33,
     "metadata": {},
     "output_type": "execute_result"
    }
   ],
   "source": [
    "df.describe()"
   ]
  },
  {
   "cell_type": "code",
   "execution_count": 34,
   "metadata": {},
   "outputs": [
    {
     "data": {
      "text/html": [
       "<div>\n",
       "<style>\n",
       "    .dataframe thead tr:only-child th {\n",
       "        text-align: right;\n",
       "    }\n",
       "\n",
       "    .dataframe thead th {\n",
       "        text-align: left;\n",
       "    }\n",
       "\n",
       "    .dataframe tbody tr th {\n",
       "        vertical-align: top;\n",
       "    }\n",
       "</style>\n",
       "<table border=\"1\" class=\"dataframe\">\n",
       "  <thead>\n",
       "    <tr style=\"text-align: right;\">\n",
       "      <th></th>\n",
       "      <th>CustomerID</th>\n",
       "      <th>Chain</th>\n",
       "      <th>Dept</th>\n",
       "      <th>Category</th>\n",
       "      <th>Company</th>\n",
       "      <th>Brand</th>\n",
       "      <th>Date</th>\n",
       "      <th>Productsize</th>\n",
       "      <th>productmeasure</th>\n",
       "      <th>Purchasequantity</th>\n",
       "      <th>Purchaseamount</th>\n",
       "    </tr>\n",
       "  </thead>\n",
       "  <tbody>\n",
       "    <tr>\n",
       "      <th>0</th>\n",
       "      <td>86246</td>\n",
       "      <td>205</td>\n",
       "      <td>56</td>\n",
       "      <td>5613</td>\n",
       "      <td>107592575</td>\n",
       "      <td>4368</td>\n",
       "      <td>1/2/2013</td>\n",
       "      <td>15.00</td>\n",
       "      <td>OZ</td>\n",
       "      <td>1</td>\n",
       "      <td>3.49</td>\n",
       "    </tr>\n",
       "    <tr>\n",
       "      <th>1</th>\n",
       "      <td>86246</td>\n",
       "      <td>205</td>\n",
       "      <td>63</td>\n",
       "      <td>6305</td>\n",
       "      <td>102500020</td>\n",
       "      <td>11749</td>\n",
       "      <td>1/2/2013</td>\n",
       "      <td>59.00</td>\n",
       "      <td>OZ</td>\n",
       "      <td>1</td>\n",
       "      <td>4.29</td>\n",
       "    </tr>\n",
       "    <tr>\n",
       "      <th>2</th>\n",
       "      <td>86246</td>\n",
       "      <td>205</td>\n",
       "      <td>9</td>\n",
       "      <td>907</td>\n",
       "      <td>1065752262</td>\n",
       "      <td>25738</td>\n",
       "      <td>1/2/2013</td>\n",
       "      <td>16.00</td>\n",
       "      <td>OZ</td>\n",
       "      <td>1</td>\n",
       "      <td>3.69</td>\n",
       "    </tr>\n",
       "    <tr>\n",
       "      <th>3</th>\n",
       "      <td>86246</td>\n",
       "      <td>205</td>\n",
       "      <td>63</td>\n",
       "      <td>6315</td>\n",
       "      <td>101116616</td>\n",
       "      <td>15266</td>\n",
       "      <td>1/2/2013</td>\n",
       "      <td>64.00</td>\n",
       "      <td>OZ</td>\n",
       "      <td>1</td>\n",
       "      <td>2.98</td>\n",
       "    </tr>\n",
       "    <tr>\n",
       "      <th>4</th>\n",
       "      <td>86246</td>\n",
       "      <td>205</td>\n",
       "      <td>4</td>\n",
       "      <td>416</td>\n",
       "      <td>104000040</td>\n",
       "      <td>16765</td>\n",
       "      <td>1/2/2013</td>\n",
       "      <td>2.07</td>\n",
       "      <td>OZ</td>\n",
       "      <td>1</td>\n",
       "      <td>0.99</td>\n",
       "    </tr>\n",
       "  </tbody>\n",
       "</table>\n",
       "</div>"
      ],
      "text/plain": [
       "   CustomerID  Chain  Dept  Category     Company  Brand      Date  \\\n",
       "0       86246    205    56      5613   107592575   4368  1/2/2013   \n",
       "1       86246    205    63      6305   102500020  11749  1/2/2013   \n",
       "2       86246    205     9       907  1065752262  25738  1/2/2013   \n",
       "3       86246    205    63      6315   101116616  15266  1/2/2013   \n",
       "4       86246    205     4       416   104000040  16765  1/2/2013   \n",
       "\n",
       "   Productsize productmeasure  Purchasequantity  Purchaseamount  \n",
       "0        15.00             OZ                 1            3.49  \n",
       "1        59.00             OZ                 1            4.29  \n",
       "2        16.00             OZ                 1            3.69  \n",
       "3        64.00             OZ                 1            2.98  \n",
       "4         2.07             OZ                 1            0.99  "
      ]
     },
     "execution_count": 34,
     "metadata": {},
     "output_type": "execute_result"
    }
   ],
   "source": [
    "df.head()"
   ]
  },
  {
   "cell_type": "code",
   "execution_count": 35,
   "metadata": {},
   "outputs": [
    {
     "name": "stdout",
     "output_type": "stream",
     "text": [
      "<class 'pandas.core.frame.DataFrame'>\n",
      "RangeIndex: 1048574 entries, 0 to 1048573\n",
      "Data columns (total 11 columns):\n",
      "CustomerID          1048574 non-null int64\n",
      "Chain               1048574 non-null int64\n",
      "Dept                1048574 non-null int64\n",
      "Category            1048574 non-null int64\n",
      "Company             1048574 non-null int64\n",
      "Brand               1048574 non-null int64\n",
      "Date                1048574 non-null object\n",
      "Productsize         1048574 non-null float64\n",
      "productmeasure      1037317 non-null object\n",
      "Purchasequantity    1048574 non-null int64\n",
      "Purchaseamount      1048574 non-null float64\n",
      "dtypes: float64(2), int64(7), object(2)\n",
      "memory usage: 88.0+ MB\n"
     ]
    }
   ],
   "source": [
    "df.info()"
   ]
  },
  {
   "cell_type": "code",
   "execution_count": 36,
   "metadata": {
    "scrolled": true
   },
   "outputs": [
    {
     "data": {
      "text/plain": [
       "<matplotlib.axes._subplots.AxesSubplot at 0x207cd3b6668>"
      ]
     },
     "execution_count": 36,
     "metadata": {},
     "output_type": "execute_result"
    },
    {
     "data": {
      "image/png": "[encoded data removed]",
      "text/plain": [
       "<matplotlib.figure.Figure at 0x207cd355438>"
      ]
     },
     "metadata": {},
     "output_type": "display_data"
    }
   ],
   "source": [
    "sns.distplot(df['Brand'].dropna(),kde=False,bins=40)"
   ]
  },
  {
   "cell_type": "code",
   "execution_count": 37,
   "metadata": {
    "collapsed": true
   },
   "outputs": [],
   "source": [
    "assert df.productmeasure.notnull().any()"
   ]
  },
  {
   "cell_type": "code",
   "execution_count": 38,
   "metadata": {},
   "outputs": [
    {
     "data": {
      "text/plain": [
       "CustomerID              0\n",
       "Chain                   0\n",
       "Dept                    0\n",
       "Category                0\n",
       "Company                 0\n",
       "Brand                   0\n",
       "Date                    0\n",
       "Productsize             0\n",
       "productmeasure      11257\n",
       "Purchasequantity        0\n",
       "Purchaseamount          0\n",
       "dtype: int64"
      ]
     },
     "execution_count": 38,
     "metadata": {},
     "output_type": "execute_result"
    }
   ],
   "source": [
    "# Check for missing values \n",
    "df.isnull().sum()"
   ]
  },
  {
   "cell_type": "code",
   "execution_count": 39,
   "metadata": {},
   "outputs": [
    {
     "data": {
      "text/plain": [
       "1048574"
      ]
     },
     "execution_count": 39,
     "metadata": {},
     "output_type": "execute_result"
    }
   ],
   "source": [
    "len(df)"
   ]
  },
  {
   "cell_type": "code",
   "execution_count": 40,
   "metadata": {
    "collapsed": true
   },
   "outputs": [],
   "source": [
    "#drop missing values from the data frame\n",
    "df.dropna(inplace=True)"
   ]
  },
  {
   "cell_type": "code",
   "execution_count": 41,
   "metadata": {},
   "outputs": [
    {
     "data": {
      "text/plain": [
       "1037317"
      ]
     },
     "execution_count": 41,
     "metadata": {},
     "output_type": "execute_result"
    }
   ],
   "source": [
    "len(df)"
   ]
  },
  {
   "cell_type": "code",
   "execution_count": 42,
   "metadata": {
    "collapsed": true
   },
   "outputs": [],
   "source": [
    "# check missing values removed from the data frame"
   ]
  },
  {
   "cell_type": "code",
   "execution_count": 43,
   "metadata": {},
   "outputs": [
    {
     "data": {
      "text/plain": [
       "CustomerID          0\n",
       "Chain               0\n",
       "Dept                0\n",
       "Category            0\n",
       "Company             0\n",
       "Brand               0\n",
       "Date                0\n",
       "Productsize         0\n",
       "productmeasure      0\n",
       "Purchasequantity    0\n",
       "Purchaseamount      0\n",
       "dtype: int64"
      ]
     },
     "execution_count": 43,
     "metadata": {},
     "output_type": "execute_result"
    }
   ],
   "source": [
    "df.isnull().sum()"
   ]
  },
  {
   "cell_type": "markdown",
   "metadata": {},
   "source": [
    "Validation"
   ]
  },
  {
   "cell_type": "code",
   "execution_count": 44,
   "metadata": {},
   "outputs": [
    {
     "data": {
      "text/plain": [
       "<matplotlib.axes._subplots.AxesSubplot at 0x207cc8fd080>"
      ]
     },
     "execution_count": 44,
     "metadata": {},
     "output_type": "execute_result"
    },
    {
     "data": {
      "image/png": "[encoded data removed]",
      "text/plain": [
       "<matplotlib.figure.Figure at 0x207cbf900f0>"
      ]
     },
     "metadata": {},
     "output_type": "display_data"
    }
   ],
   "source": [
    "# check to verify no missing values : Method 1\n",
    "sns.heatmap((df.isnull()),yticklabels=False,cbar=False,cmap='viridis')"
   ]
  },
  {
   "cell_type": "code",
   "execution_count": 45,
   "metadata": {},
   "outputs": [
    {
     "data": {
      "text/plain": [
       "CustomerID          0\n",
       "Chain               0\n",
       "Dept                0\n",
       "Category            0\n",
       "Company             0\n",
       "Brand               0\n",
       "Date                0\n",
       "Productsize         0\n",
       "productmeasure      0\n",
       "Purchasequantity    0\n",
       "Purchaseamount      0\n",
       "dtype: int64"
      ]
     },
     "execution_count": 45,
     "metadata": {},
     "output_type": "execute_result"
    }
   ],
   "source": [
    "# check to verify no missing values : Method 2\n",
    "df.isnull().sum()"
   ]
  },
  {
   "cell_type": "code",
   "execution_count": 46,
   "metadata": {
    "collapsed": true
   },
   "outputs": [],
   "source": [
    "# Negative values on Purchaseamount : negative_values_pa\n",
    "negative_values_pa=df[df['Purchaseamount']<0]\n",
    "     "
   ]
  },
  {
   "cell_type": "code",
   "execution_count": 47,
   "metadata": {},
   "outputs": [
    {
     "data": {
      "text/plain": [
       "21252"
      ]
     },
     "execution_count": 47,
     "metadata": {},
     "output_type": "execute_result"
    }
   ],
   "source": [
    "len(negative_values_pa)"
   ]
  },
  {
   "cell_type": "code",
   "execution_count": 48,
   "metadata": {
    "collapsed": true
   },
   "outputs": [],
   "source": [
    "# Drop negative values from purchaseamount \n",
    "df=df[df['Purchaseamount']>0]"
   ]
  },
  {
   "cell_type": "code",
   "execution_count": 49,
   "metadata": {},
   "outputs": [
    {
     "data": {
      "text/plain": [
       "1012229"
      ]
     },
     "execution_count": 49,
     "metadata": {},
     "output_type": "execute_result"
    }
   ],
   "source": [
    "len(df)"
   ]
  },
  {
   "cell_type": "code",
   "execution_count": 50,
   "metadata": {},
   "outputs": [
    {
     "data": {
      "text/plain": [
       "0"
      ]
     },
     "execution_count": 50,
     "metadata": {},
     "output_type": "execute_result"
    }
   ],
   "source": [
    "#check no negative values on purchaseamount\n",
    "len(df[df['Purchaseamount']<0])"
   ]
  },
  {
   "cell_type": "code",
   "execution_count": 51,
   "metadata": {},
   "outputs": [
    {
     "data": {
      "text/plain": [
       "1     782639\n",
       "2     165506\n",
       "3      27977\n",
       "4      20127\n",
       "5       4809\n",
       "6       4718\n",
       "10      2090\n",
       "8       1508\n",
       "7        862\n",
       "9        467\n",
       "12       456\n",
       "11       193\n",
       "20       121\n",
       "15       113\n",
       "14       112\n",
       "16        85\n",
       "13        78\n",
       "0         60\n",
       "24        49\n",
       "18        41\n",
       "19        26\n",
       "21        23\n",
       "17        21\n",
       "30        21\n",
       "22        20\n",
       "36        11\n",
       "40         9\n",
       "25         8\n",
       "27         8\n",
       "26         7\n",
       "28         7\n",
       "29         6\n",
       "72         6\n",
       "48         6\n",
       "23         5\n",
       "32         4\n",
       "45         3\n",
       "42         3\n",
       "33         3\n",
       "35         2\n",
       "39         2\n",
       "41         2\n",
       "34         2\n",
       "52         2\n",
       "57         1\n",
       "83         1\n",
       "76         1\n",
       "74         1\n",
       "31         1\n",
       "49         1\n",
       "53         1\n",
       "37         1\n",
       "44         1\n",
       "96         1\n",
       "97         1\n",
       "Name: Purchasequantity, dtype: int64"
      ]
     },
     "execution_count": 51,
     "metadata": {},
     "output_type": "execute_result"
    }
   ],
   "source": [
    "df['Purchasequantity'].value_counts(dropna=False)\n",
    "# No negative values on Purchasequantity"
   ]
  },
  {
   "cell_type": "code",
   "execution_count": 52,
   "metadata": {},
   "outputs": [
    {
     "data": {
      "text/plain": [
       "0"
      ]
     },
     "execution_count": 52,
     "metadata": {},
     "output_type": "execute_result"
    }
   ],
   "source": [
    "# check no negative values on Purchasequantity\n",
    "len(df[df['Purchasequantity']<0])"
   ]
  },
  {
   "cell_type": "code",
   "execution_count": 53,
   "metadata": {},
   "outputs": [
    {
     "data": {
      "text/html": [
       "<div>\n",
       "<style>\n",
       "    .dataframe thead tr:only-child th {\n",
       "        text-align: right;\n",
       "    }\n",
       "\n",
       "    .dataframe thead th {\n",
       "        text-align: left;\n",
       "    }\n",
       "\n",
       "    .dataframe tbody tr th {\n",
       "        vertical-align: top;\n",
       "    }\n",
       "</style>\n",
       "<table border=\"1\" class=\"dataframe\">\n",
       "  <thead>\n",
       "    <tr style=\"text-align: right;\">\n",
       "      <th></th>\n",
       "      <th>CustomerID</th>\n",
       "      <th>Chain</th>\n",
       "      <th>Dept</th>\n",
       "      <th>Category</th>\n",
       "      <th>Company</th>\n",
       "      <th>Brand</th>\n",
       "      <th>Date</th>\n",
       "      <th>Productsize</th>\n",
       "      <th>productmeasure</th>\n",
       "      <th>Purchasequantity</th>\n",
       "      <th>Purchaseamount</th>\n",
       "    </tr>\n",
       "  </thead>\n",
       "  <tbody>\n",
       "    <tr>\n",
       "      <th>0</th>\n",
       "      <td>86246</td>\n",
       "      <td>205</td>\n",
       "      <td>56</td>\n",
       "      <td>5613</td>\n",
       "      <td>107592575</td>\n",
       "      <td>4368</td>\n",
       "      <td>1/2/2013</td>\n",
       "      <td>15.00</td>\n",
       "      <td>OZ</td>\n",
       "      <td>1</td>\n",
       "      <td>3.49</td>\n",
       "    </tr>\n",
       "    <tr>\n",
       "      <th>1</th>\n",
       "      <td>86246</td>\n",
       "      <td>205</td>\n",
       "      <td>63</td>\n",
       "      <td>6305</td>\n",
       "      <td>102500020</td>\n",
       "      <td>11749</td>\n",
       "      <td>1/2/2013</td>\n",
       "      <td>59.00</td>\n",
       "      <td>OZ</td>\n",
       "      <td>1</td>\n",
       "      <td>4.29</td>\n",
       "    </tr>\n",
       "    <tr>\n",
       "      <th>2</th>\n",
       "      <td>86246</td>\n",
       "      <td>205</td>\n",
       "      <td>9</td>\n",
       "      <td>907</td>\n",
       "      <td>1065752262</td>\n",
       "      <td>25738</td>\n",
       "      <td>1/2/2013</td>\n",
       "      <td>16.00</td>\n",
       "      <td>OZ</td>\n",
       "      <td>1</td>\n",
       "      <td>3.69</td>\n",
       "    </tr>\n",
       "    <tr>\n",
       "      <th>3</th>\n",
       "      <td>86246</td>\n",
       "      <td>205</td>\n",
       "      <td>63</td>\n",
       "      <td>6315</td>\n",
       "      <td>101116616</td>\n",
       "      <td>15266</td>\n",
       "      <td>1/2/2013</td>\n",
       "      <td>64.00</td>\n",
       "      <td>OZ</td>\n",
       "      <td>1</td>\n",
       "      <td>2.98</td>\n",
       "    </tr>\n",
       "    <tr>\n",
       "      <th>4</th>\n",
       "      <td>86246</td>\n",
       "      <td>205</td>\n",
       "      <td>4</td>\n",
       "      <td>416</td>\n",
       "      <td>104000040</td>\n",
       "      <td>16765</td>\n",
       "      <td>1/2/2013</td>\n",
       "      <td>2.07</td>\n",
       "      <td>OZ</td>\n",
       "      <td>1</td>\n",
       "      <td>0.99</td>\n",
       "    </tr>\n",
       "  </tbody>\n",
       "</table>\n",
       "</div>"
      ],
      "text/plain": [
       "   CustomerID  Chain  Dept  Category     Company  Brand      Date  \\\n",
       "0       86246    205    56      5613   107592575   4368  1/2/2013   \n",
       "1       86246    205    63      6305   102500020  11749  1/2/2013   \n",
       "2       86246    205     9       907  1065752262  25738  1/2/2013   \n",
       "3       86246    205    63      6315   101116616  15266  1/2/2013   \n",
       "4       86246    205     4       416   104000040  16765  1/2/2013   \n",
       "\n",
       "   Productsize productmeasure  Purchasequantity  Purchaseamount  \n",
       "0        15.00             OZ                 1            3.49  \n",
       "1        59.00             OZ                 1            4.29  \n",
       "2        16.00             OZ                 1            3.69  \n",
       "3        64.00             OZ                 1            2.98  \n",
       "4         2.07             OZ                 1            0.99  "
      ]
     },
     "execution_count": 53,
     "metadata": {},
     "output_type": "execute_result"
    }
   ],
   "source": [
    "df.head()"
   ]
  },
  {
   "cell_type": "code",
   "execution_count": 54,
   "metadata": {},
   "outputs": [
    {
     "data": {
      "text/plain": [
       "1012229"
      ]
     },
     "execution_count": 54,
     "metadata": {},
     "output_type": "execute_result"
    }
   ],
   "source": [
    "len(df)"
   ]
  },
  {
   "cell_type": "code",
   "execution_count": 55,
   "metadata": {
    "collapsed": true
   },
   "outputs": [],
   "source": [
    "# Unique Customers : Customer_val\n",
    "Customer_val=df.CustomerID.value_counts()"
   ]
  },
  {
   "cell_type": "code",
   "execution_count": 56,
   "metadata": {
    "collapsed": true
   },
   "outputs": [],
   "source": [
    "#Get and remove the most infrequent CustomerID present in dataset. \n",
    "#Customers having less than 5 occurrences would be removed as there buying pattern is not sufficient for recommendation\n",
    "Customer_gt_5=Customer_val[lambda x: x > 5]"
   ]
  },
  {
   "cell_type": "code",
   "execution_count": 57,
   "metadata": {},
   "outputs": [
    {
     "data": {
      "text/plain": [
       "13665"
      ]
     },
     "execution_count": 57,
     "metadata": {},
     "output_type": "execute_result"
    }
   ],
   "source": [
    "len(Customer_gt_5)"
   ]
  },
  {
   "cell_type": "code",
   "execution_count": 58,
   "metadata": {
    "collapsed": true
   },
   "outputs": [],
   "source": [
    "customerid_gt_5=list(Customer_gt_5.to_frame().index)"
   ]
  },
  {
   "cell_type": "code",
   "execution_count": 59,
   "metadata": {},
   "outputs": [
    {
     "data": {
      "text/plain": [
       "13665"
      ]
     },
     "execution_count": 59,
     "metadata": {},
     "output_type": "execute_result"
    }
   ],
   "source": [
    "len(customerid_gt_5)"
   ]
  },
  {
   "cell_type": "code",
   "execution_count": 60,
   "metadata": {},
   "outputs": [
    {
     "data": {
      "text/plain": [
       "list"
      ]
     },
     "execution_count": 60,
     "metadata": {},
     "output_type": "execute_result"
    }
   ],
   "source": [
    "type(customerid_gt_5)"
   ]
  },
  {
   "cell_type": "code",
   "execution_count": 61,
   "metadata": {
    "collapsed": true
   },
   "outputs": [],
   "source": [
    "app_func_df=[lambda x: x in customerid_gt_5]"
   ]
  },
  {
   "cell_type": "code",
   "execution_count": 62,
   "metadata": {
    "collapsed": true
   },
   "outputs": [],
   "source": [
    "df=df[df.CustomerID.isin(customerid_gt_5)]"
   ]
  },
  {
   "cell_type": "code",
   "execution_count": 63,
   "metadata": {},
   "outputs": [
    {
     "data": {
      "text/html": [
       "<div>\n",
       "<style>\n",
       "    .dataframe thead tr:only-child th {\n",
       "        text-align: right;\n",
       "    }\n",
       "\n",
       "    .dataframe thead th {\n",
       "        text-align: left;\n",
       "    }\n",
       "\n",
       "    .dataframe tbody tr th {\n",
       "        vertical-align: top;\n",
       "    }\n",
       "</style>\n",
       "<table border=\"1\" class=\"dataframe\">\n",
       "  <thead>\n",
       "    <tr style=\"text-align: right;\">\n",
       "      <th></th>\n",
       "      <th>CustomerID</th>\n",
       "      <th>Chain</th>\n",
       "      <th>Dept</th>\n",
       "      <th>Category</th>\n",
       "      <th>Company</th>\n",
       "      <th>Brand</th>\n",
       "      <th>Date</th>\n",
       "      <th>Productsize</th>\n",
       "      <th>productmeasure</th>\n",
       "      <th>Purchasequantity</th>\n",
       "      <th>Purchaseamount</th>\n",
       "    </tr>\n",
       "  </thead>\n",
       "  <tbody>\n",
       "    <tr>\n",
       "      <th>0</th>\n",
       "      <td>86246</td>\n",
       "      <td>205</td>\n",
       "      <td>56</td>\n",
       "      <td>5613</td>\n",
       "      <td>107592575</td>\n",
       "      <td>4368</td>\n",
       "      <td>1/2/2013</td>\n",
       "      <td>15.00</td>\n",
       "      <td>OZ</td>\n",
       "      <td>1</td>\n",
       "      <td>3.49</td>\n",
       "    </tr>\n",
       "    <tr>\n",
       "      <th>1</th>\n",
       "      <td>86246</td>\n",
       "      <td>205</td>\n",
       "      <td>63</td>\n",
       "      <td>6305</td>\n",
       "      <td>102500020</td>\n",
       "      <td>11749</td>\n",
       "      <td>1/2/2013</td>\n",
       "      <td>59.00</td>\n",
       "      <td>OZ</td>\n",
       "      <td>1</td>\n",
       "      <td>4.29</td>\n",
       "    </tr>\n",
       "    <tr>\n",
       "      <th>2</th>\n",
       "      <td>86246</td>\n",
       "      <td>205</td>\n",
       "      <td>9</td>\n",
       "      <td>907</td>\n",
       "      <td>1065752262</td>\n",
       "      <td>25738</td>\n",
       "      <td>1/2/2013</td>\n",
       "      <td>16.00</td>\n",
       "      <td>OZ</td>\n",
       "      <td>1</td>\n",
       "      <td>3.69</td>\n",
       "    </tr>\n",
       "    <tr>\n",
       "      <th>3</th>\n",
       "      <td>86246</td>\n",
       "      <td>205</td>\n",
       "      <td>63</td>\n",
       "      <td>6315</td>\n",
       "      <td>101116616</td>\n",
       "      <td>15266</td>\n",
       "      <td>1/2/2013</td>\n",
       "      <td>64.00</td>\n",
       "      <td>OZ</td>\n",
       "      <td>1</td>\n",
       "      <td>2.98</td>\n",
       "    </tr>\n",
       "    <tr>\n",
       "      <th>4</th>\n",
       "      <td>86246</td>\n",
       "      <td>205</td>\n",
       "      <td>4</td>\n",
       "      <td>416</td>\n",
       "      <td>104000040</td>\n",
       "      <td>16765</td>\n",
       "      <td>1/2/2013</td>\n",
       "      <td>2.07</td>\n",
       "      <td>OZ</td>\n",
       "      <td>1</td>\n",
       "      <td>0.99</td>\n",
       "    </tr>\n",
       "  </tbody>\n",
       "</table>\n",
       "</div>"
      ],
      "text/plain": [
       "   CustomerID  Chain  Dept  Category     Company  Brand      Date  \\\n",
       "0       86246    205    56      5613   107592575   4368  1/2/2013   \n",
       "1       86246    205    63      6305   102500020  11749  1/2/2013   \n",
       "2       86246    205     9       907  1065752262  25738  1/2/2013   \n",
       "3       86246    205    63      6315   101116616  15266  1/2/2013   \n",
       "4       86246    205     4       416   104000040  16765  1/2/2013   \n",
       "\n",
       "   Productsize productmeasure  Purchasequantity  Purchaseamount  \n",
       "0        15.00             OZ                 1            3.49  \n",
       "1        59.00             OZ                 1            4.29  \n",
       "2        16.00             OZ                 1            3.69  \n",
       "3        64.00             OZ                 1            2.98  \n",
       "4         2.07             OZ                 1            0.99  "
      ]
     },
     "execution_count": 63,
     "metadata": {},
     "output_type": "execute_result"
    }
   ],
   "source": [
    "df.head()"
   ]
  },
  {
   "cell_type": "code",
   "execution_count": 64,
   "metadata": {},
   "outputs": [
    {
     "data": {
      "text/plain": [
       "1011088"
      ]
     },
     "execution_count": 64,
     "metadata": {},
     "output_type": "execute_result"
    }
   ],
   "source": [
    "len(df)"
   ]
  },
  {
   "cell_type": "code",
   "execution_count": 65,
   "metadata": {},
   "outputs": [
    {
     "data": {
      "text/html": [
       "<div>\n",
       "<style>\n",
       "    .dataframe thead tr:only-child th {\n",
       "        text-align: right;\n",
       "    }\n",
       "\n",
       "    .dataframe thead th {\n",
       "        text-align: left;\n",
       "    }\n",
       "\n",
       "    .dataframe tbody tr th {\n",
       "        vertical-align: top;\n",
       "    }\n",
       "</style>\n",
       "<table border=\"1\" class=\"dataframe\">\n",
       "  <thead>\n",
       "    <tr style=\"text-align: right;\">\n",
       "      <th></th>\n",
       "      <th>CustomerID</th>\n",
       "      <th>Chain</th>\n",
       "      <th>Dept</th>\n",
       "      <th>Category</th>\n",
       "      <th>Company</th>\n",
       "      <th>Brand</th>\n",
       "      <th>Productsize</th>\n",
       "      <th>Purchasequantity</th>\n",
       "      <th>Purchaseamount</th>\n",
       "    </tr>\n",
       "  </thead>\n",
       "  <tbody>\n",
       "    <tr>\n",
       "      <th>count</th>\n",
       "      <td>1.011088e+06</td>\n",
       "      <td>1.011088e+06</td>\n",
       "      <td>1.011088e+06</td>\n",
       "      <td>1.011088e+06</td>\n",
       "      <td>1.011088e+06</td>\n",
       "      <td>1.011088e+06</td>\n",
       "      <td>1.011088e+06</td>\n",
       "      <td>1.011088e+06</td>\n",
       "      <td>1.011088e+06</td>\n",
       "    </tr>\n",
       "    <tr>\n",
       "      <th>mean</th>\n",
       "      <td>1.186504e+08</td>\n",
       "      <td>2.621070e+01</td>\n",
       "      <td>4.131506e+01</td>\n",
       "      <td>4.145145e+03</td>\n",
       "      <td>2.089315e+08</td>\n",
       "      <td>1.533619e+04</td>\n",
       "      <td>2.801710e+01</td>\n",
       "      <td>1.380814e+00</td>\n",
       "      <td>4.716104e+00</td>\n",
       "    </tr>\n",
       "    <tr>\n",
       "      <th>std</th>\n",
       "      <td>1.930249e+07</td>\n",
       "      <td>3.130396e+01</td>\n",
       "      <td>2.722374e+01</td>\n",
       "      <td>2.725108e+03</td>\n",
       "      <td>4.043709e+08</td>\n",
       "      <td>1.344133e+04</td>\n",
       "      <td>4.939128e+01</td>\n",
       "      <td>1.118507e+00</td>\n",
       "      <td>5.384703e+00</td>\n",
       "    </tr>\n",
       "    <tr>\n",
       "      <th>min</th>\n",
       "      <td>8.624600e+04</td>\n",
       "      <td>2.000000e+00</td>\n",
       "      <td>1.000000e+00</td>\n",
       "      <td>1.030000e+02</td>\n",
       "      <td>1.000000e+04</td>\n",
       "      <td>0.000000e+00</td>\n",
       "      <td>0.000000e+00</td>\n",
       "      <td>0.000000e+00</td>\n",
       "      <td>1.000000e-02</td>\n",
       "    </tr>\n",
       "    <tr>\n",
       "      <th>25%</th>\n",
       "      <td>1.089731e+08</td>\n",
       "      <td>1.400000e+01</td>\n",
       "      <td>1.900000e+01</td>\n",
       "      <td>1.905000e+03</td>\n",
       "      <td>1.021130e+08</td>\n",
       "      <td>7.848000e+03</td>\n",
       "      <td>8.000000e+00</td>\n",
       "      <td>1.000000e+00</td>\n",
       "      <td>2.490000e+00</td>\n",
       "    </tr>\n",
       "    <tr>\n",
       "      <th>50%</th>\n",
       "      <td>1.236581e+08</td>\n",
       "      <td>1.500000e+01</td>\n",
       "      <td>3.600000e+01</td>\n",
       "      <td>3.632000e+03</td>\n",
       "      <td>1.038900e+08</td>\n",
       "      <td>1.331000e+04</td>\n",
       "      <td>1.450000e+01</td>\n",
       "      <td>1.000000e+00</td>\n",
       "      <td>3.580000e+00</td>\n",
       "    </tr>\n",
       "    <tr>\n",
       "      <th>75%</th>\n",
       "      <td>1.329357e+08</td>\n",
       "      <td>1.800000e+01</td>\n",
       "      <td>5.900000e+01</td>\n",
       "      <td>5.902000e+03</td>\n",
       "      <td>1.072614e+08</td>\n",
       "      <td>1.685300e+04</td>\n",
       "      <td>2.400000e+01</td>\n",
       "      <td>1.000000e+00</td>\n",
       "      <td>5.490000e+00</td>\n",
       "    </tr>\n",
       "    <tr>\n",
       "      <th>max</th>\n",
       "      <td>1.394179e+08</td>\n",
       "      <td>2.170000e+02</td>\n",
       "      <td>9.900000e+01</td>\n",
       "      <td>9.909000e+03</td>\n",
       "      <td>1.097815e+10</td>\n",
       "      <td>1.086200e+05</td>\n",
       "      <td>4.000000e+03</td>\n",
       "      <td>9.700000e+01</td>\n",
       "      <td>1.500000e+03</td>\n",
       "    </tr>\n",
       "  </tbody>\n",
       "</table>\n",
       "</div>"
      ],
      "text/plain": [
       "         CustomerID         Chain          Dept      Category       Company  \\\n",
       "count  1.011088e+06  1.011088e+06  1.011088e+06  1.011088e+06  1.011088e+06   \n",
       "mean   1.186504e+08  2.621070e+01  4.131506e+01  4.145145e+03  2.089315e+08   \n",
       "std    1.930249e+07  3.130396e+01  2.722374e+01  2.725108e+03  4.043709e+08   \n",
       "min    8.624600e+04  2.000000e+00  1.000000e+00  1.030000e+02  1.000000e+04   \n",
       "25%    1.089731e+08  1.400000e+01  1.900000e+01  1.905000e+03  1.021130e+08   \n",
       "50%    1.236581e+08  1.500000e+01  3.600000e+01  3.632000e+03  1.038900e+08   \n",
       "75%    1.329357e+08  1.800000e+01  5.900000e+01  5.902000e+03  1.072614e+08   \n",
       "max    1.394179e+08  2.170000e+02  9.900000e+01  9.909000e+03  1.097815e+10   \n",
       "\n",
       "              Brand   Productsize  Purchasequantity  Purchaseamount  \n",
       "count  1.011088e+06  1.011088e+06      1.011088e+06    1.011088e+06  \n",
       "mean   1.533619e+04  2.801710e+01      1.380814e+00    4.716104e+00  \n",
       "std    1.344133e+04  4.939128e+01      1.118507e+00    5.384703e+00  \n",
       "min    0.000000e+00  0.000000e+00      0.000000e+00    1.000000e-02  \n",
       "25%    7.848000e+03  8.000000e+00      1.000000e+00    2.490000e+00  \n",
       "50%    1.331000e+04  1.450000e+01      1.000000e+00    3.580000e+00  \n",
       "75%    1.685300e+04  2.400000e+01      1.000000e+00    5.490000e+00  \n",
       "max    1.086200e+05  4.000000e+03      9.700000e+01    1.500000e+03  "
      ]
     },
     "execution_count": 65,
     "metadata": {},
     "output_type": "execute_result"
    }
   ],
   "source": [
    "df.describe()"
   ]
  },
  {
   "cell_type": "code",
   "execution_count": 66,
   "metadata": {
    "collapsed": true
   },
   "outputs": [],
   "source": [
    "# check number of different Brands bought by every Customer\n",
    "tempDF=df.groupby(['CustomerID'])['Brand'].agg(['value_counts']).reset_index()"
   ]
  },
  {
   "cell_type": "code",
   "execution_count": 67,
   "metadata": {},
   "outputs": [
    {
     "data": {
      "text/html": [
       "<div>\n",
       "<style>\n",
       "    .dataframe thead tr:only-child th {\n",
       "        text-align: right;\n",
       "    }\n",
       "\n",
       "    .dataframe thead th {\n",
       "        text-align: left;\n",
       "    }\n",
       "\n",
       "    .dataframe tbody tr th {\n",
       "        vertical-align: top;\n",
       "    }\n",
       "</style>\n",
       "<table border=\"1\" class=\"dataframe\">\n",
       "  <thead>\n",
       "    <tr style=\"text-align: right;\">\n",
       "      <th></th>\n",
       "      <th>CustomerID</th>\n",
       "      <th>Brand</th>\n",
       "      <th>value_counts</th>\n",
       "    </tr>\n",
       "  </thead>\n",
       "  <tbody>\n",
       "    <tr>\n",
       "      <th>0</th>\n",
       "      <td>86246</td>\n",
       "      <td>38922</td>\n",
       "      <td>21</td>\n",
       "    </tr>\n",
       "    <tr>\n",
       "      <th>1</th>\n",
       "      <td>86246</td>\n",
       "      <td>0</td>\n",
       "      <td>14</td>\n",
       "    </tr>\n",
       "    <tr>\n",
       "      <th>2</th>\n",
       "      <td>86246</td>\n",
       "      <td>28204</td>\n",
       "      <td>8</td>\n",
       "    </tr>\n",
       "    <tr>\n",
       "      <th>3</th>\n",
       "      <td>86246</td>\n",
       "      <td>69929</td>\n",
       "      <td>8</td>\n",
       "    </tr>\n",
       "    <tr>\n",
       "      <th>4</th>\n",
       "      <td>86246</td>\n",
       "      <td>19154</td>\n",
       "      <td>5</td>\n",
       "    </tr>\n",
       "    <tr>\n",
       "      <th>5</th>\n",
       "      <td>86246</td>\n",
       "      <td>33170</td>\n",
       "      <td>5</td>\n",
       "    </tr>\n",
       "    <tr>\n",
       "      <th>6</th>\n",
       "      <td>86246</td>\n",
       "      <td>4704</td>\n",
       "      <td>4</td>\n",
       "    </tr>\n",
       "    <tr>\n",
       "      <th>7</th>\n",
       "      <td>86246</td>\n",
       "      <td>7667</td>\n",
       "      <td>4</td>\n",
       "    </tr>\n",
       "    <tr>\n",
       "      <th>8</th>\n",
       "      <td>86246</td>\n",
       "      <td>10577</td>\n",
       "      <td>4</td>\n",
       "    </tr>\n",
       "    <tr>\n",
       "      <th>9</th>\n",
       "      <td>86246</td>\n",
       "      <td>15266</td>\n",
       "      <td>4</td>\n",
       "    </tr>\n",
       "  </tbody>\n",
       "</table>\n",
       "</div>"
      ],
      "text/plain": [
       "   CustomerID  Brand  value_counts\n",
       "0       86246  38922            21\n",
       "1       86246      0            14\n",
       "2       86246  28204             8\n",
       "3       86246  69929             8\n",
       "4       86246  19154             5\n",
       "5       86246  33170             5\n",
       "6       86246   4704             4\n",
       "7       86246   7667             4\n",
       "8       86246  10577             4\n",
       "9       86246  15266             4"
      ]
     },
     "execution_count": 67,
     "metadata": {},
     "output_type": "execute_result"
    }
   ],
   "source": [
    "tempDF.head(10)"
   ]
  },
  {
   "cell_type": "code",
   "execution_count": 68,
   "metadata": {
    "collapsed": true
   },
   "outputs": [],
   "source": [
    "# There are some brands very infrequently bought by Customers. we will remove Brands having less than 5 times bought by customers"
   ]
  },
  {
   "cell_type": "code",
   "execution_count": 69,
   "metadata": {
    "collapsed": true
   },
   "outputs": [],
   "source": [
    "brands_gt_5=tempDF[tempDF.value_counts > 5]"
   ]
  },
  {
   "cell_type": "code",
   "execution_count": 70,
   "metadata": {},
   "outputs": [
    {
     "data": {
      "text/html": [
       "<div>\n",
       "<style>\n",
       "    .dataframe thead tr:only-child th {\n",
       "        text-align: right;\n",
       "    }\n",
       "\n",
       "    .dataframe thead th {\n",
       "        text-align: left;\n",
       "    }\n",
       "\n",
       "    .dataframe tbody tr th {\n",
       "        vertical-align: top;\n",
       "    }\n",
       "</style>\n",
       "<table border=\"1\" class=\"dataframe\">\n",
       "  <thead>\n",
       "    <tr style=\"text-align: right;\">\n",
       "      <th></th>\n",
       "      <th>CustomerID</th>\n",
       "      <th>Brand</th>\n",
       "      <th>value_counts</th>\n",
       "    </tr>\n",
       "  </thead>\n",
       "  <tbody>\n",
       "    <tr>\n",
       "      <th>0</th>\n",
       "      <td>86246</td>\n",
       "      <td>38922</td>\n",
       "      <td>21</td>\n",
       "    </tr>\n",
       "    <tr>\n",
       "      <th>1</th>\n",
       "      <td>86246</td>\n",
       "      <td>0</td>\n",
       "      <td>14</td>\n",
       "    </tr>\n",
       "    <tr>\n",
       "      <th>2</th>\n",
       "      <td>86246</td>\n",
       "      <td>28204</td>\n",
       "      <td>8</td>\n",
       "    </tr>\n",
       "    <tr>\n",
       "      <th>3</th>\n",
       "      <td>86246</td>\n",
       "      <td>69929</td>\n",
       "      <td>8</td>\n",
       "    </tr>\n",
       "    <tr>\n",
       "      <th>172</th>\n",
       "      <td>86252</td>\n",
       "      <td>38922</td>\n",
       "      <td>36</td>\n",
       "    </tr>\n",
       "    <tr>\n",
       "      <th>173</th>\n",
       "      <td>86252</td>\n",
       "      <td>0</td>\n",
       "      <td>18</td>\n",
       "    </tr>\n",
       "    <tr>\n",
       "      <th>174</th>\n",
       "      <td>86252</td>\n",
       "      <td>15266</td>\n",
       "      <td>14</td>\n",
       "    </tr>\n",
       "    <tr>\n",
       "      <th>175</th>\n",
       "      <td>86252</td>\n",
       "      <td>69929</td>\n",
       "      <td>11</td>\n",
       "    </tr>\n",
       "    <tr>\n",
       "      <th>176</th>\n",
       "      <td>86252</td>\n",
       "      <td>17690</td>\n",
       "      <td>9</td>\n",
       "    </tr>\n",
       "    <tr>\n",
       "      <th>177</th>\n",
       "      <td>86252</td>\n",
       "      <td>33170</td>\n",
       "      <td>7</td>\n",
       "    </tr>\n",
       "  </tbody>\n",
       "</table>\n",
       "</div>"
      ],
      "text/plain": [
       "     CustomerID  Brand  value_counts\n",
       "0         86246  38922            21\n",
       "1         86246      0            14\n",
       "2         86246  28204             8\n",
       "3         86246  69929             8\n",
       "172       86252  38922            36\n",
       "173       86252      0            18\n",
       "174       86252  15266            14\n",
       "175       86252  69929            11\n",
       "176       86252  17690             9\n",
       "177       86252  33170             7"
      ]
     },
     "execution_count": 70,
     "metadata": {},
     "output_type": "execute_result"
    }
   ],
   "source": [
    "brands_gt_5.head(10)"
   ]
  },
  {
   "cell_type": "code",
   "execution_count": 71,
   "metadata": {},
   "outputs": [
    {
     "data": {
      "text/plain": [
       "19178"
      ]
     },
     "execution_count": 71,
     "metadata": {},
     "output_type": "execute_result"
    }
   ],
   "source": [
    "len(brands_gt_5)"
   ]
  },
  {
   "cell_type": "code",
   "execution_count": 72,
   "metadata": {
    "collapsed": true
   },
   "outputs": [],
   "source": [
    "#keep the brands that were bought more than 5 times by customers. Using inner join\n",
    "df_common_brands=pd.merge(df,brands_gt_5,on=(['CustomerID','Brand']),how='inner')"
   ]
  },
  {
   "cell_type": "code",
   "execution_count": 73,
   "metadata": {},
   "outputs": [
    {
     "data": {
      "text/html": [
       "<div>\n",
       "<style>\n",
       "    .dataframe thead tr:only-child th {\n",
       "        text-align: right;\n",
       "    }\n",
       "\n",
       "    .dataframe thead th {\n",
       "        text-align: left;\n",
       "    }\n",
       "\n",
       "    .dataframe tbody tr th {\n",
       "        vertical-align: top;\n",
       "    }\n",
       "</style>\n",
       "<table border=\"1\" class=\"dataframe\">\n",
       "  <thead>\n",
       "    <tr style=\"text-align: right;\">\n",
       "      <th></th>\n",
       "      <th>CustomerID</th>\n",
       "      <th>Chain</th>\n",
       "      <th>Dept</th>\n",
       "      <th>Category</th>\n",
       "      <th>Company</th>\n",
       "      <th>Brand</th>\n",
       "      <th>Date</th>\n",
       "      <th>Productsize</th>\n",
       "      <th>productmeasure</th>\n",
       "      <th>Purchasequantity</th>\n",
       "      <th>Purchaseamount</th>\n",
       "      <th>value_counts</th>\n",
       "    </tr>\n",
       "  </thead>\n",
       "  <tbody>\n",
       "    <tr>\n",
       "      <th>0</th>\n",
       "      <td>86246</td>\n",
       "      <td>205</td>\n",
       "      <td>56</td>\n",
       "      <td>5617</td>\n",
       "      <td>104113040</td>\n",
       "      <td>28204</td>\n",
       "      <td>1/3/2013</td>\n",
       "      <td>10.66</td>\n",
       "      <td>OZ</td>\n",
       "      <td>1</td>\n",
       "      <td>1.29</td>\n",
       "      <td>8</td>\n",
       "    </tr>\n",
       "    <tr>\n",
       "      <th>1</th>\n",
       "      <td>86246</td>\n",
       "      <td>205</td>\n",
       "      <td>35</td>\n",
       "      <td>3509</td>\n",
       "      <td>104113040</td>\n",
       "      <td>28204</td>\n",
       "      <td>1/11/2013</td>\n",
       "      <td>50.00</td>\n",
       "      <td>OZ</td>\n",
       "      <td>1</td>\n",
       "      <td>2.39</td>\n",
       "      <td>8</td>\n",
       "    </tr>\n",
       "    <tr>\n",
       "      <th>2</th>\n",
       "      <td>86246</td>\n",
       "      <td>205</td>\n",
       "      <td>22</td>\n",
       "      <td>2210</td>\n",
       "      <td>104113040</td>\n",
       "      <td>28204</td>\n",
       "      <td>1/11/2013</td>\n",
       "      <td>64.00</td>\n",
       "      <td>OZ</td>\n",
       "      <td>1</td>\n",
       "      <td>2.59</td>\n",
       "      <td>8</td>\n",
       "    </tr>\n",
       "    <tr>\n",
       "      <th>3</th>\n",
       "      <td>86246</td>\n",
       "      <td>205</td>\n",
       "      <td>56</td>\n",
       "      <td>5617</td>\n",
       "      <td>104113040</td>\n",
       "      <td>28204</td>\n",
       "      <td>1/19/2013</td>\n",
       "      <td>10.66</td>\n",
       "      <td>OZ</td>\n",
       "      <td>1</td>\n",
       "      <td>1.29</td>\n",
       "      <td>8</td>\n",
       "    </tr>\n",
       "    <tr>\n",
       "      <th>4</th>\n",
       "      <td>86246</td>\n",
       "      <td>205</td>\n",
       "      <td>25</td>\n",
       "      <td>2503</td>\n",
       "      <td>104113040</td>\n",
       "      <td>28204</td>\n",
       "      <td>1/22/2013</td>\n",
       "      <td>35.30</td>\n",
       "      <td>OZ</td>\n",
       "      <td>1</td>\n",
       "      <td>2.99</td>\n",
       "      <td>8</td>\n",
       "    </tr>\n",
       "  </tbody>\n",
       "</table>\n",
       "</div>"
      ],
      "text/plain": [
       "   CustomerID  Chain  Dept  Category    Company  Brand       Date  \\\n",
       "0       86246    205    56      5617  104113040  28204   1/3/2013   \n",
       "1       86246    205    35      3509  104113040  28204  1/11/2013   \n",
       "2       86246    205    22      2210  104113040  28204  1/11/2013   \n",
       "3       86246    205    56      5617  104113040  28204  1/19/2013   \n",
       "4       86246    205    25      2503  104113040  28204  1/22/2013   \n",
       "\n",
       "   Productsize productmeasure  Purchasequantity  Purchaseamount  value_counts  \n",
       "0        10.66             OZ                 1            1.29             8  \n",
       "1        50.00             OZ                 1            2.39             8  \n",
       "2        64.00             OZ                 1            2.59             8  \n",
       "3        10.66             OZ                 1            1.29             8  \n",
       "4        35.30             OZ                 1            2.99             8  "
      ]
     },
     "execution_count": 73,
     "metadata": {},
     "output_type": "execute_result"
    }
   ],
   "source": [
    "# Display top five rows of df_common_brands\n",
    "df_common_brands.head()"
   ]
  },
  {
   "cell_type": "code",
   "execution_count": 74,
   "metadata": {},
   "outputs": [
    {
     "data": {
      "text/html": [
       "<div>\n",
       "<style>\n",
       "    .dataframe thead tr:only-child th {\n",
       "        text-align: right;\n",
       "    }\n",
       "\n",
       "    .dataframe thead th {\n",
       "        text-align: left;\n",
       "    }\n",
       "\n",
       "    .dataframe tbody tr th {\n",
       "        vertical-align: top;\n",
       "    }\n",
       "</style>\n",
       "<table border=\"1\" class=\"dataframe\">\n",
       "  <thead>\n",
       "    <tr style=\"text-align: right;\">\n",
       "      <th></th>\n",
       "      <th>CustomerID</th>\n",
       "      <th>Chain</th>\n",
       "      <th>Dept</th>\n",
       "      <th>Category</th>\n",
       "      <th>Company</th>\n",
       "      <th>Brand</th>\n",
       "      <th>Productsize</th>\n",
       "      <th>Purchasequantity</th>\n",
       "      <th>Purchaseamount</th>\n",
       "      <th>value_counts</th>\n",
       "    </tr>\n",
       "  </thead>\n",
       "  <tbody>\n",
       "    <tr>\n",
       "      <th>count</th>\n",
       "      <td>2.142030e+05</td>\n",
       "      <td>214203.000000</td>\n",
       "      <td>214203.000000</td>\n",
       "      <td>214203.000000</td>\n",
       "      <td>2.142030e+05</td>\n",
       "      <td>214203.000000</td>\n",
       "      <td>214203.000000</td>\n",
       "      <td>214203.000000</td>\n",
       "      <td>214203.000000</td>\n",
       "      <td>214203.000000</td>\n",
       "    </tr>\n",
       "    <tr>\n",
       "      <th>mean</th>\n",
       "      <td>1.188117e+08</td>\n",
       "      <td>27.267480</td>\n",
       "      <td>44.639991</td>\n",
       "      <td>4477.778453</td>\n",
       "      <td>1.470937e+08</td>\n",
       "      <td>14670.813471</td>\n",
       "      <td>35.697997</td>\n",
       "      <td>1.392338</td>\n",
       "      <td>4.032384</td>\n",
       "      <td>15.605332</td>\n",
       "    </tr>\n",
       "    <tr>\n",
       "      <th>std</th>\n",
       "      <td>1.915566e+07</td>\n",
       "      <td>31.813628</td>\n",
       "      <td>26.473093</td>\n",
       "      <td>2649.230047</td>\n",
       "      <td>2.481903e+08</td>\n",
       "      <td>6373.132545</td>\n",
       "      <td>57.014366</td>\n",
       "      <td>1.213011</td>\n",
       "      <td>3.879071</td>\n",
       "      <td>10.709839</td>\n",
       "    </tr>\n",
       "    <tr>\n",
       "      <th>min</th>\n",
       "      <td>8.624600e+04</td>\n",
       "      <td>2.000000</td>\n",
       "      <td>1.000000</td>\n",
       "      <td>103.000000</td>\n",
       "      <td>1.000000e+04</td>\n",
       "      <td>0.000000</td>\n",
       "      <td>0.010000</td>\n",
       "      <td>0.000000</td>\n",
       "      <td>0.010000</td>\n",
       "      <td>6.000000</td>\n",
       "    </tr>\n",
       "    <tr>\n",
       "      <th>25%</th>\n",
       "      <td>1.111295e+08</td>\n",
       "      <td>15.000000</td>\n",
       "      <td>26.000000</td>\n",
       "      <td>2606.000000</td>\n",
       "      <td>1.021130e+08</td>\n",
       "      <td>10786.000000</td>\n",
       "      <td>9.000000</td>\n",
       "      <td>1.000000</td>\n",
       "      <td>1.990000</td>\n",
       "      <td>8.000000</td>\n",
       "    </tr>\n",
       "    <tr>\n",
       "      <th>50%</th>\n",
       "      <td>1.237720e+08</td>\n",
       "      <td>17.000000</td>\n",
       "      <td>42.000000</td>\n",
       "      <td>4220.000000</td>\n",
       "      <td>1.021130e+08</td>\n",
       "      <td>15704.000000</td>\n",
       "      <td>16.000000</td>\n",
       "      <td>1.000000</td>\n",
       "      <td>2.990000</td>\n",
       "      <td>12.000000</td>\n",
       "    </tr>\n",
       "    <tr>\n",
       "      <th>75%</th>\n",
       "      <td>1.291491e+08</td>\n",
       "      <td>18.000000</td>\n",
       "      <td>63.000000</td>\n",
       "      <td>6315.000000</td>\n",
       "      <td>1.021130e+08</td>\n",
       "      <td>15704.000000</td>\n",
       "      <td>32.000000</td>\n",
       "      <td>1.000000</td>\n",
       "      <td>4.980000</td>\n",
       "      <td>20.000000</td>\n",
       "    </tr>\n",
       "    <tr>\n",
       "      <th>max</th>\n",
       "      <td>1.394169e+08</td>\n",
       "      <td>217.000000</td>\n",
       "      <td>99.000000</td>\n",
       "      <td>9909.000000</td>\n",
       "      <td>1.097815e+10</td>\n",
       "      <td>107956.000000</td>\n",
       "      <td>750.000000</td>\n",
       "      <td>97.000000</td>\n",
       "      <td>200.000000</td>\n",
       "      <td>86.000000</td>\n",
       "    </tr>\n",
       "  </tbody>\n",
       "</table>\n",
       "</div>"
      ],
      "text/plain": [
       "         CustomerID          Chain           Dept       Category  \\\n",
       "count  2.142030e+05  214203.000000  214203.000000  214203.000000   \n",
       "mean   1.188117e+08      27.267480      44.639991    4477.778453   \n",
       "std    1.915566e+07      31.813628      26.473093    2649.230047   \n",
       "min    8.624600e+04       2.000000       1.000000     103.000000   \n",
       "25%    1.111295e+08      15.000000      26.000000    2606.000000   \n",
       "50%    1.237720e+08      17.000000      42.000000    4220.000000   \n",
       "75%    1.291491e+08      18.000000      63.000000    6315.000000   \n",
       "max    1.394169e+08     217.000000      99.000000    9909.000000   \n",
       "\n",
       "            Company          Brand    Productsize  Purchasequantity  \\\n",
       "count  2.142030e+05  214203.000000  214203.000000     214203.000000   \n",
       "mean   1.470937e+08   14670.813471      35.697997          1.392338   \n",
       "std    2.481903e+08    6373.132545      57.014366          1.213011   \n",
       "min    1.000000e+04       0.000000       0.010000          0.000000   \n",
       "25%    1.021130e+08   10786.000000       9.000000          1.000000   \n",
       "50%    1.021130e+08   15704.000000      16.000000          1.000000   \n",
       "75%    1.021130e+08   15704.000000      32.000000          1.000000   \n",
       "max    1.097815e+10  107956.000000     750.000000         97.000000   \n",
       "\n",
       "       Purchaseamount   value_counts  \n",
       "count   214203.000000  214203.000000  \n",
       "mean         4.032384      15.605332  \n",
       "std          3.879071      10.709839  \n",
       "min          0.010000       6.000000  \n",
       "25%          1.990000       8.000000  \n",
       "50%          2.990000      12.000000  \n",
       "75%          4.980000      20.000000  \n",
       "max        200.000000      86.000000  "
      ]
     },
     "execution_count": 74,
     "metadata": {},
     "output_type": "execute_result"
    }
   ],
   "source": [
    "# Statistical summary on df_common_brands\n",
    "df_common_brands.describe()"
   ]
  },
  {
   "cell_type": "markdown",
   "metadata": {},
   "source": [
    "### Count : No of Distinct brands in the dataframe : df_common_brands"
   ]
  },
  {
   "cell_type": "code",
   "execution_count": 75,
   "metadata": {},
   "outputs": [
    {
     "data": {
      "text/plain": [
       "731"
      ]
     },
     "execution_count": 75,
     "metadata": {},
     "output_type": "execute_result"
    }
   ],
   "source": [
    "# Unique brands \n",
    "df_common_brands.Brand.nunique()"
   ]
  },
  {
   "cell_type": "markdown",
   "metadata": {},
   "source": [
    "### Count customers by Brand and sort in ascending order on df_common_brands dataframe"
   ]
  },
  {
   "cell_type": "code",
   "execution_count": 76,
   "metadata": {},
   "outputs": [
    {
     "data": {
      "text/plain": [
       "Brand\n",
       "15704    118400\n",
       "10786     42253\n",
       "12908      6574\n",
       "30626      4818\n",
       "0          3005\n",
       "33170      2085\n",
       "16397      2071\n",
       "10271      1450\n",
       "6732       1095\n",
       "5537       1068\n",
       "2820       1028\n",
       "14017       755\n",
       "29344       661\n",
       "23359       630\n",
       "20230       612\n",
       "14760       472\n",
       "27474       468\n",
       "11473       456\n",
       "10837       442\n",
       "16668       423\n",
       "5278        399\n",
       "12973       380\n",
       "4568        366\n",
       "23361       338\n",
       "2510        333\n",
       "11151       331\n",
       "6775        312\n",
       "6132        299\n",
       "1358        287\n",
       "3809        283\n",
       "          ...  \n",
       "4312          6\n",
       "4139          6\n",
       "4086          6\n",
       "4051          6\n",
       "18041         6\n",
       "36411         6\n",
       "5379          6\n",
       "17035         6\n",
       "16475         6\n",
       "15870         6\n",
       "38821         6\n",
       "16095         6\n",
       "6356          6\n",
       "16123         6\n",
       "38355         6\n",
       "16451         6\n",
       "6170          6\n",
       "6137          6\n",
       "81641         6\n",
       "17034         6\n",
       "16483         6\n",
       "16492         6\n",
       "16583         6\n",
       "5872          6\n",
       "5858          6\n",
       "5740          6\n",
       "16798         6\n",
       "16983         6\n",
       "85927         6\n",
       "30096         6\n",
       "Name: CustomerID, Length: 731, dtype: int64"
      ]
     },
     "execution_count": 76,
     "metadata": {},
     "output_type": "execute_result"
    }
   ],
   "source": [
    "df_common_brands.groupby('Brand')['CustomerID'].count().sort_values(ascending=False)"
   ]
  },
  {
   "cell_type": "code",
   "execution_count": 77,
   "metadata": {
    "collapsed": true
   },
   "outputs": [],
   "source": [
    "# Convert data type on Date column from string to Datetime : DateTime\n",
    "df_common_brands['DateTime']=pd.to_datetime(df_common_brands['Date'])"
   ]
  },
  {
   "cell_type": "markdown",
   "metadata": {},
   "source": [
    "## DATA STORY"
   ]
  },
  {
   "cell_type": "code",
   "execution_count": 78,
   "metadata": {},
   "outputs": [
    {
     "name": "stdout",
     "output_type": "stream",
     "text": [
      "<class 'pandas.core.frame.DataFrame'>\n",
      "Int64Index: 214203 entries, 0 to 214202\n",
      "Data columns (total 13 columns):\n",
      "CustomerID          214203 non-null int64\n",
      "Chain               214203 non-null int64\n",
      "Dept                214203 non-null int64\n",
      "Category            214203 non-null int64\n",
      "Company             214203 non-null int64\n",
      "Brand               214203 non-null int64\n",
      "Date                214203 non-null object\n",
      "Productsize         214203 non-null float64\n",
      "productmeasure      214203 non-null object\n",
      "Purchasequantity    214203 non-null int64\n",
      "Purchaseamount      214203 non-null float64\n",
      "value_counts        214203 non-null int64\n",
      "DateTime            214203 non-null datetime64[ns]\n",
      "dtypes: datetime64[ns](1), float64(2), int64(8), object(2)\n",
      "memory usage: 22.9+ MB\n"
     ]
    }
   ],
   "source": [
    "# Verify datatype on dateTime column\n",
    "df_common_brands.info()"
   ]
  },
  {
   "cell_type": "markdown",
   "metadata": {},
   "source": [
    "### Custom Method to Define Week Number"
   ]
  },
  {
   "cell_type": "code",
   "execution_count": 79,
   "metadata": {
    "collapsed": true
   },
   "outputs": [],
   "source": [
    "# create a custom method to define week number \n",
    "def get_week(day):\n",
    "    if day < 8:\n",
    "        return 1\n",
    "    elif day < 15:\n",
    "        return 2\n",
    "    elif day < 22:\n",
    "        return 3\n",
    "    else:\n",
    "        return 4"
   ]
  },
  {
   "cell_type": "markdown",
   "metadata": {},
   "source": [
    "### Add Features - Year, Month, Day, Week, Weekday to df_common_brands "
   ]
  },
  {
   "cell_type": "code",
   "execution_count": 80,
   "metadata": {
    "collapsed": true
   },
   "outputs": [],
   "source": [
    "# map function on DateTime column to extract year :Year\n",
    "df_common_brands['Year']=df_common_brands['DateTime'].map(lambda x: x.year)"
   ]
  },
  {
   "cell_type": "code",
   "execution_count": 81,
   "metadata": {
    "collapsed": true
   },
   "outputs": [],
   "source": [
    "# map function on DateTime column to extract month : Month \n",
    "df_common_brands['Month']=df_common_brands['DateTime'].map(lambda x: x.month)"
   ]
  },
  {
   "cell_type": "code",
   "execution_count": 82,
   "metadata": {
    "collapsed": true
   },
   "outputs": [],
   "source": [
    "# map function on DateTime column to extract day of the month : Day \n",
    "df_common_brands['Day']=df_common_brands['DateTime'].map(lambda x: x.day)"
   ]
  },
  {
   "cell_type": "code",
   "execution_count": 83,
   "metadata": {
    "collapsed": true
   },
   "outputs": [],
   "source": [
    "# call custom method to exact week  : Week\n",
    "df_common_brands['Week']=df_common_brands['DateTime'].map(lambda x: get_week(x.day))\n"
   ]
  },
  {
   "cell_type": "code",
   "execution_count": 84,
   "metadata": {
    "collapsed": true
   },
   "outputs": [],
   "source": [
    "# map function on DateTime column to exact weekday and apply formatting style to display day of week : Weekday\n",
    "df_common_brands['Weekday']=df_common_brands['DateTime'].map(lambda x: x.strftime(\"%A\"))"
   ]
  },
  {
   "cell_type": "code",
   "execution_count": 85,
   "metadata": {},
   "outputs": [
    {
     "data": {
      "text/html": [
       "<div>\n",
       "<style>\n",
       "    .dataframe thead tr:only-child th {\n",
       "        text-align: right;\n",
       "    }\n",
       "\n",
       "    .dataframe thead th {\n",
       "        text-align: left;\n",
       "    }\n",
       "\n",
       "    .dataframe tbody tr th {\n",
       "        vertical-align: top;\n",
       "    }\n",
       "</style>\n",
       "<table border=\"1\" class=\"dataframe\">\n",
       "  <thead>\n",
       "    <tr style=\"text-align: right;\">\n",
       "      <th></th>\n",
       "      <th>CustomerID</th>\n",
       "      <th>Chain</th>\n",
       "      <th>Dept</th>\n",
       "      <th>Category</th>\n",
       "      <th>Company</th>\n",
       "      <th>Brand</th>\n",
       "      <th>Date</th>\n",
       "      <th>Productsize</th>\n",
       "      <th>productmeasure</th>\n",
       "      <th>Purchasequantity</th>\n",
       "      <th>Purchaseamount</th>\n",
       "      <th>value_counts</th>\n",
       "      <th>DateTime</th>\n",
       "      <th>Year</th>\n",
       "      <th>Month</th>\n",
       "      <th>Day</th>\n",
       "      <th>Week</th>\n",
       "      <th>Weekday</th>\n",
       "    </tr>\n",
       "  </thead>\n",
       "  <tbody>\n",
       "    <tr>\n",
       "      <th>0</th>\n",
       "      <td>86246</td>\n",
       "      <td>205</td>\n",
       "      <td>56</td>\n",
       "      <td>5617</td>\n",
       "      <td>104113040</td>\n",
       "      <td>28204</td>\n",
       "      <td>1/3/2013</td>\n",
       "      <td>10.66</td>\n",
       "      <td>OZ</td>\n",
       "      <td>1</td>\n",
       "      <td>1.29</td>\n",
       "      <td>8</td>\n",
       "      <td>2013-01-03</td>\n",
       "      <td>2013</td>\n",
       "      <td>1</td>\n",
       "      <td>3</td>\n",
       "      <td>1</td>\n",
       "      <td>Thursday</td>\n",
       "    </tr>\n",
       "    <tr>\n",
       "      <th>1</th>\n",
       "      <td>86246</td>\n",
       "      <td>205</td>\n",
       "      <td>35</td>\n",
       "      <td>3509</td>\n",
       "      <td>104113040</td>\n",
       "      <td>28204</td>\n",
       "      <td>1/11/2013</td>\n",
       "      <td>50.00</td>\n",
       "      <td>OZ</td>\n",
       "      <td>1</td>\n",
       "      <td>2.39</td>\n",
       "      <td>8</td>\n",
       "      <td>2013-01-11</td>\n",
       "      <td>2013</td>\n",
       "      <td>1</td>\n",
       "      <td>11</td>\n",
       "      <td>2</td>\n",
       "      <td>Friday</td>\n",
       "    </tr>\n",
       "    <tr>\n",
       "      <th>2</th>\n",
       "      <td>86246</td>\n",
       "      <td>205</td>\n",
       "      <td>22</td>\n",
       "      <td>2210</td>\n",
       "      <td>104113040</td>\n",
       "      <td>28204</td>\n",
       "      <td>1/11/2013</td>\n",
       "      <td>64.00</td>\n",
       "      <td>OZ</td>\n",
       "      <td>1</td>\n",
       "      <td>2.59</td>\n",
       "      <td>8</td>\n",
       "      <td>2013-01-11</td>\n",
       "      <td>2013</td>\n",
       "      <td>1</td>\n",
       "      <td>11</td>\n",
       "      <td>2</td>\n",
       "      <td>Friday</td>\n",
       "    </tr>\n",
       "    <tr>\n",
       "      <th>3</th>\n",
       "      <td>86246</td>\n",
       "      <td>205</td>\n",
       "      <td>56</td>\n",
       "      <td>5617</td>\n",
       "      <td>104113040</td>\n",
       "      <td>28204</td>\n",
       "      <td>1/19/2013</td>\n",
       "      <td>10.66</td>\n",
       "      <td>OZ</td>\n",
       "      <td>1</td>\n",
       "      <td>1.29</td>\n",
       "      <td>8</td>\n",
       "      <td>2013-01-19</td>\n",
       "      <td>2013</td>\n",
       "      <td>1</td>\n",
       "      <td>19</td>\n",
       "      <td>3</td>\n",
       "      <td>Saturday</td>\n",
       "    </tr>\n",
       "    <tr>\n",
       "      <th>4</th>\n",
       "      <td>86246</td>\n",
       "      <td>205</td>\n",
       "      <td>25</td>\n",
       "      <td>2503</td>\n",
       "      <td>104113040</td>\n",
       "      <td>28204</td>\n",
       "      <td>1/22/2013</td>\n",
       "      <td>35.30</td>\n",
       "      <td>OZ</td>\n",
       "      <td>1</td>\n",
       "      <td>2.99</td>\n",
       "      <td>8</td>\n",
       "      <td>2013-01-22</td>\n",
       "      <td>2013</td>\n",
       "      <td>1</td>\n",
       "      <td>22</td>\n",
       "      <td>4</td>\n",
       "      <td>Tuesday</td>\n",
       "    </tr>\n",
       "  </tbody>\n",
       "</table>\n",
       "</div>"
      ],
      "text/plain": [
       "   CustomerID  Chain  Dept  Category    Company  Brand       Date  \\\n",
       "0       86246    205    56      5617  104113040  28204   1/3/2013   \n",
       "1       86246    205    35      3509  104113040  28204  1/11/2013   \n",
       "2       86246    205    22      2210  104113040  28204  1/11/2013   \n",
       "3       86246    205    56      5617  104113040  28204  1/19/2013   \n",
       "4       86246    205    25      2503  104113040  28204  1/22/2013   \n",
       "\n",
       "   Productsize productmeasure  Purchasequantity  Purchaseamount  value_counts  \\\n",
       "0        10.66             OZ                 1            1.29             8   \n",
       "1        50.00             OZ                 1            2.39             8   \n",
       "2        64.00             OZ                 1            2.59             8   \n",
       "3        10.66             OZ                 1            1.29             8   \n",
       "4        35.30             OZ                 1            2.99             8   \n",
       "\n",
       "    DateTime  Year  Month  Day  Week   Weekday  \n",
       "0 2013-01-03  2013      1    3     1  Thursday  \n",
       "1 2013-01-11  2013      1   11     2    Friday  \n",
       "2 2013-01-11  2013      1   11     2    Friday  \n",
       "3 2013-01-19  2013      1   19     3  Saturday  \n",
       "4 2013-01-22  2013      1   22     4   Tuesday  "
      ]
     },
     "execution_count": 85,
     "metadata": {},
     "output_type": "execute_result"
    }
   ],
   "source": [
    "#Verify added features\n",
    "df_common_brands.head()"
   ]
  },
  {
   "cell_type": "markdown",
   "metadata": {},
   "source": [
    "### Sales Trend  by Day of the Month"
   ]
  },
  {
   "cell_type": "code",
   "execution_count": 86,
   "metadata": {
    "collapsed": true
   },
   "outputs": [],
   "source": [
    "df_sell_trend=pd.DataFrame()"
   ]
  },
  {
   "cell_type": "code",
   "execution_count": 87,
   "metadata": {
    "collapsed": true
   },
   "outputs": [],
   "source": [
    "\n",
    "# group Purchaseamount by day to find total sales by day of the month\n",
    "df_sell_trend=df_common_brands.groupby('Day')['Purchaseamount'].sum()"
   ]
  },
  {
   "cell_type": "code",
   "execution_count": 88,
   "metadata": {},
   "outputs": [
    {
     "data": {
      "text/plain": [
       "Day\n",
       "1    22364.23\n",
       "2    26834.01\n",
       "3    25835.12\n",
       "4    30640.79\n",
       "5    34336.48\n",
       "Name: Purchaseamount, dtype: float64"
      ]
     },
     "execution_count": 88,
     "metadata": {},
     "output_type": "execute_result"
    }
   ],
   "source": [
    "# display top 5 values\n",
    "df_sell_trend.head()"
   ]
  },
  {
   "cell_type": "code",
   "execution_count": 89,
   "metadata": {},
   "outputs": [
    {
     "data": {
      "image/png": "[encoded data removed]",
      "text/plain": [
       "<matplotlib.figure.Figure at 0x207b53a9128>"
      ]
     },
     "metadata": {},
     "output_type": "display_data"
    }
   ],
   "source": [
    "# Apply bar plot to display sales Trend\n",
    "sns.set(style='darkgrid', palette='dark', font_scale=1, rc={'figure.figsize':(11.7,8.27)})\n",
    "plt.title('Sales Trend by Day of Month - 4 Peaks')\n",
    "df_sell_trend.plot.bar()\n",
    "plt.ylabel('Amount')\n",
    "plt.xlabel('Day of Month')\n",
    "plt.show()\n",
    "\n",
    "# What is the sales trend by days of Month?\n",
    "# 4 peaks are noticed during 31 days of the month(January) which indicate spike in sale on those specific days of the Month ie 6th, 13th, 20th and 27th of the Month\n",
    "# Intuition : 4 spikes are related to the 4 weeks of the month"
   ]
  },
  {
   "cell_type": "markdown",
   "metadata": {},
   "source": [
    "### Sales Trend by Week "
   ]
  },
  {
   "cell_type": "code",
   "execution_count": 90,
   "metadata": {
    "collapsed": true
   },
   "outputs": [],
   "source": [
    "# Total purchase amount by week : df_sell_trend\n",
    "df_sell_trend = pd.DataFrame()\n",
    "df_sell_trend = df_common_brands.groupby('Week')['Purchaseamount'].sum()"
   ]
  },
  {
   "cell_type": "code",
   "execution_count": 91,
   "metadata": {
    "scrolled": true
   },
   "outputs": [
    {
     "data": {
      "image/png": "[encoded data removed]",
      "text/plain": [
       "<matplotlib.figure.Figure at 0x2079c663550>"
      ]
     },
     "metadata": {},
     "output_type": "display_data"
    }
   ],
   "source": [
    "# barplot to display weekly sales trend\n",
    "sns.set(style='darkgrid', palette='dark', font_scale=1, rc={'figure.figsize':(11.7,8.27)})\n",
    "plt.title('Weekly Sales Trend- 4th Week Maximum Sales')\n",
    "df_sell_trend.plot.bar()\n",
    "plt.ylabel('Amount')\n",
    "plt.xlabel('Week')\n",
    "plt.show()\n",
    "#What is the sales trend on Weekly basis?\n",
    "# Maximum sales noticed on the 4th week of the month , while lowest on the 3rd week of the month. \n",
    "# There is not much difference in sales during first three weeks.\n",
    "#Need business strategy to promote sales during first three weeks of the month"
   ]
  },
  {
   "cell_type": "code",
   "execution_count": 92,
   "metadata": {},
   "outputs": [
    {
     "data": {
      "text/plain": [
       "Week\n",
       "1    205957.75\n",
       "2    197251.31\n",
       "3    193402.62\n",
       "4    267137.10\n",
       "Name: Purchaseamount, dtype: float64"
      ]
     },
     "execution_count": 92,
     "metadata": {},
     "output_type": "execute_result"
    }
   ],
   "source": [
    "# Is there a major difference in sales during 1st three weeks?\n",
    "# The sales during first 3 weeks in consistent\n",
    "df_sell_trend"
   ]
  },
  {
   "cell_type": "code",
   "execution_count": 93,
   "metadata": {},
   "outputs": [
    {
     "name": "stdout",
     "output_type": "stream",
     "text": [
      "sales range for First three weeks : 12555.0\n"
     ]
    }
   ],
   "source": [
    "# What is the range of sales during first three weeks?\n",
    "print('sales range for First three weeks :', round(df_sell_trend[:3].max() - df_sell_trend[:3].min()))"
   ]
  },
  {
   "cell_type": "markdown",
   "metadata": {},
   "source": [
    "### Sales Trend by Weekdays"
   ]
  },
  {
   "cell_type": "code",
   "execution_count": 94,
   "metadata": {},
   "outputs": [
    {
     "data": {
      "image/png": "[encoded data removed]",
      "text/plain": [
       "<matplotlib.figure.Figure at 0x207968ebba8>"
      ]
     },
     "metadata": {},
     "output_type": "display_data"
    }
   ],
   "source": [
    "# Group by Weekday\n",
    "df_sell_trend = pd.DataFrame()\n",
    "df_sell_trend = df_common_brands.groupby('Weekday')['Purchaseamount'].sum()\n",
    "# create a barplot\n",
    "sns.set(style='darkgrid', palette='dark', font_scale=1, rc={'figure.figsize':(11.7,8.27)})\n",
    "plt.title('Weekday Sales Trend - Spike in Weekends')\n",
    "df_sell_trend.plot.bar()\n",
    "plt.ylabel('Amount')\n",
    "plt.xlabel('Week day')\n",
    "plt.show()\n",
    "\n",
    "# What is the sales Trend for the Weekdays?\n",
    "#Trend shows high sales during weekends and the sales is lowest on Monday. \n",
    "#The sales pattern is similar in weekdays-Tuesday through Friday \n",
    "# Need to promote sales during weekdays and investigate the reason for low sales on Monday.\n"
   ]
  },
  {
   "cell_type": "markdown",
   "metadata": {},
   "source": [
    "#### Sales Trend by Chain"
   ]
  },
  {
   "cell_type": "code",
   "execution_count": 95,
   "metadata": {},
   "outputs": [
    {
     "data": {
      "text/plain": [
       "<matplotlib.text.Text at 0x2079cd314e0>"
      ]
     },
     "execution_count": 95,
     "metadata": {},
     "output_type": "execute_result"
    },
    {
     "data": {
      "image/png": "[encoded data removed]",
      "text/plain": [
       "<matplotlib.figure.Figure at 0x2079c70beb8>"
      ]
     },
     "metadata": {},
     "output_type": "display_data"
    }
   ],
   "source": [
    "chain_group=df_common_brands.groupby('Chain')\n",
    "chain_group.Purchaseamount.sum().sort_values(ascending=False).plot(kind='bar')\n",
    "plt.title('Sales performance by Chains - Top chains 15, 18 and 4')\n",
    "\n",
    "#Which are the top 3 chains having most sales by purchase amount?\n",
    "\n",
    "#Chain No 15,18 and 4 are among the top performers in sales\n"
   ]
  },
  {
   "cell_type": "code",
   "execution_count": 96,
   "metadata": {},
   "outputs": [
    {
     "data": {
      "text/html": [
       "<div>\n",
       "<style>\n",
       "    .dataframe thead tr:only-child th {\n",
       "        text-align: right;\n",
       "    }\n",
       "\n",
       "    .dataframe thead th {\n",
       "        text-align: left;\n",
       "    }\n",
       "\n",
       "    .dataframe tbody tr th {\n",
       "        vertical-align: top;\n",
       "    }\n",
       "</style>\n",
       "<table border=\"1\" class=\"dataframe\">\n",
       "  <thead>\n",
       "    <tr style=\"text-align: right;\">\n",
       "      <th></th>\n",
       "      <th>Brand</th>\n",
       "      <th>Purchasequantity</th>\n",
       "      <th>Purchaseamount</th>\n",
       "    </tr>\n",
       "    <tr>\n",
       "      <th>Chain</th>\n",
       "      <th></th>\n",
       "      <th></th>\n",
       "      <th></th>\n",
       "    </tr>\n",
       "  </thead>\n",
       "  <tbody>\n",
       "    <tr>\n",
       "      <th>2</th>\n",
       "      <td>243233</td>\n",
       "      <td>23</td>\n",
       "      <td>65.52</td>\n",
       "    </tr>\n",
       "    <tr>\n",
       "      <th>3</th>\n",
       "      <td>85473205</td>\n",
       "      <td>8983</td>\n",
       "      <td>25586.69</td>\n",
       "    </tr>\n",
       "    <tr>\n",
       "      <th>4</th>\n",
       "      <td>502985499</td>\n",
       "      <td>47265</td>\n",
       "      <td>138792.99</td>\n",
       "    </tr>\n",
       "    <tr>\n",
       "      <th>14</th>\n",
       "      <td>142080193</td>\n",
       "      <td>14615</td>\n",
       "      <td>41882.95</td>\n",
       "    </tr>\n",
       "    <tr>\n",
       "      <th>15</th>\n",
       "      <td>826487309</td>\n",
       "      <td>76119</td>\n",
       "      <td>226075.83</td>\n",
       "    </tr>\n",
       "    <tr>\n",
       "      <th>17</th>\n",
       "      <td>247562091</td>\n",
       "      <td>24782</td>\n",
       "      <td>72006.81</td>\n",
       "    </tr>\n",
       "    <tr>\n",
       "      <th>18</th>\n",
       "      <td>603816543</td>\n",
       "      <td>57353</td>\n",
       "      <td>166555.34</td>\n",
       "    </tr>\n",
       "    <tr>\n",
       "      <th>20</th>\n",
       "      <td>209830928</td>\n",
       "      <td>20112</td>\n",
       "      <td>56018.76</td>\n",
       "    </tr>\n",
       "    <tr>\n",
       "      <th>46</th>\n",
       "      <td>5879077</td>\n",
       "      <td>695</td>\n",
       "      <td>1998.47</td>\n",
       "    </tr>\n",
       "    <tr>\n",
       "      <th>58</th>\n",
       "      <td>723583</td>\n",
       "      <td>100</td>\n",
       "      <td>229.61</td>\n",
       "    </tr>\n",
       "    <tr>\n",
       "      <th>88</th>\n",
       "      <td>207575000</td>\n",
       "      <td>18829</td>\n",
       "      <td>54097.88</td>\n",
       "    </tr>\n",
       "    <tr>\n",
       "      <th>95</th>\n",
       "      <td>289916197</td>\n",
       "      <td>27724</td>\n",
       "      <td>76162.28</td>\n",
       "    </tr>\n",
       "    <tr>\n",
       "      <th>192</th>\n",
       "      <td>14649007</td>\n",
       "      <td>1383</td>\n",
       "      <td>3467.92</td>\n",
       "    </tr>\n",
       "    <tr>\n",
       "      <th>205</th>\n",
       "      <td>4682233</td>\n",
       "      <td>213</td>\n",
       "      <td>697.85</td>\n",
       "    </tr>\n",
       "    <tr>\n",
       "      <th>217</th>\n",
       "      <td>628160</td>\n",
       "      <td>47</td>\n",
       "      <td>109.88</td>\n",
       "    </tr>\n",
       "  </tbody>\n",
       "</table>\n",
       "</div>"
      ],
      "text/plain": [
       "           Brand  Purchasequantity  Purchaseamount\n",
       "Chain                                             \n",
       "2         243233                23           65.52\n",
       "3       85473205              8983        25586.69\n",
       "4      502985499             47265       138792.99\n",
       "14     142080193             14615        41882.95\n",
       "15     826487309             76119       226075.83\n",
       "17     247562091             24782        72006.81\n",
       "18     603816543             57353       166555.34\n",
       "20     209830928             20112        56018.76\n",
       "46       5879077               695         1998.47\n",
       "58        723583               100          229.61\n",
       "88     207575000             18829        54097.88\n",
       "95     289916197             27724        76162.28\n",
       "192     14649007              1383         3467.92\n",
       "205      4682233               213          697.85\n",
       "217       628160                47          109.88"
      ]
     },
     "execution_count": 96,
     "metadata": {},
     "output_type": "execute_result"
    }
   ],
   "source": [
    "# which chain had poor performance in Sales?\n",
    "# Chain No. 2\n",
    "\n",
    "chain_group[['Brand','Purchasequantity','Purchaseamount']].sum()"
   ]
  },
  {
   "cell_type": "markdown",
   "metadata": {},
   "source": [
    "# EDA"
   ]
  },
  {
   "cell_type": "code",
   "execution_count": 97,
   "metadata": {},
   "outputs": [
    {
     "data": {
      "text/plain": [
       "Index(['CustomerID', 'Chain', 'Dept', 'Category', 'Company', 'Brand', 'Date',\n",
       "       'Productsize', 'productmeasure', 'Purchasequantity', 'Purchaseamount',\n",
       "       'value_counts', 'DateTime', 'Year', 'Month', 'Day', 'Week', 'Weekday'],\n",
       "      dtype='object')"
      ]
     },
     "execution_count": 97,
     "metadata": {},
     "output_type": "execute_result"
    }
   ],
   "source": [
    "# columns of dataframe\n",
    "df_common_brands.columns"
   ]
  },
  {
   "cell_type": "code",
   "execution_count": 98,
   "metadata": {
    "collapsed": true
   },
   "outputs": [],
   "source": [
    "#Group by customerID\n",
    "cust_group=df_common_brands.groupby('CustomerID')"
   ]
  },
  {
   "cell_type": "code",
   "execution_count": 99,
   "metadata": {},
   "outputs": [
    {
     "data": {
      "text/plain": [
       "9279"
      ]
     },
     "execution_count": 99,
     "metadata": {},
     "output_type": "execute_result"
    }
   ],
   "source": [
    "# Number of Distinct customers\n",
    "len(cust_group)"
   ]
  },
  {
   "cell_type": "code",
   "execution_count": 100,
   "metadata": {},
   "outputs": [
    {
     "data": {
      "text/html": [
       "<div>\n",
       "<style>\n",
       "    .dataframe thead tr:only-child th {\n",
       "        text-align: right;\n",
       "    }\n",
       "\n",
       "    .dataframe thead th {\n",
       "        text-align: left;\n",
       "    }\n",
       "\n",
       "    .dataframe tbody tr th {\n",
       "        vertical-align: top;\n",
       "    }\n",
       "</style>\n",
       "<table border=\"1\" class=\"dataframe\">\n",
       "  <thead>\n",
       "    <tr style=\"text-align: right;\">\n",
       "      <th></th>\n",
       "      <th>mean</th>\n",
       "      <th>max</th>\n",
       "      <th>size</th>\n",
       "      <th>min</th>\n",
       "    </tr>\n",
       "    <tr>\n",
       "      <th>CustomerID</th>\n",
       "      <th></th>\n",
       "      <th></th>\n",
       "      <th></th>\n",
       "      <th></th>\n",
       "    </tr>\n",
       "  </thead>\n",
       "  <tbody>\n",
       "    <tr>\n",
       "      <th>86246</th>\n",
       "      <td>4.760000</td>\n",
       "      <td>33.65</td>\n",
       "      <td>51</td>\n",
       "      <td>0.79</td>\n",
       "    </tr>\n",
       "    <tr>\n",
       "      <th>86252</th>\n",
       "      <td>3.824286</td>\n",
       "      <td>51.27</td>\n",
       "      <td>119</td>\n",
       "      <td>0.59</td>\n",
       "    </tr>\n",
       "    <tr>\n",
       "      <th>12277270</th>\n",
       "      <td>9.880000</td>\n",
       "      <td>15.69</td>\n",
       "      <td>25</td>\n",
       "      <td>4.49</td>\n",
       "    </tr>\n",
       "    <tr>\n",
       "      <th>12332190</th>\n",
       "      <td>4.738261</td>\n",
       "      <td>11.79</td>\n",
       "      <td>23</td>\n",
       "      <td>0.89</td>\n",
       "    </tr>\n",
       "    <tr>\n",
       "      <th>12524696</th>\n",
       "      <td>2.665000</td>\n",
       "      <td>3.99</td>\n",
       "      <td>12</td>\n",
       "      <td>0.45</td>\n",
       "    </tr>\n",
       "    <tr>\n",
       "      <th>12682470</th>\n",
       "      <td>2.448947</td>\n",
       "      <td>4.49</td>\n",
       "      <td>19</td>\n",
       "      <td>0.10</td>\n",
       "    </tr>\n",
       "    <tr>\n",
       "      <th>12996040</th>\n",
       "      <td>3.174545</td>\n",
       "      <td>5.97</td>\n",
       "      <td>11</td>\n",
       "      <td>1.49</td>\n",
       "    </tr>\n",
       "    <tr>\n",
       "      <th>13074629</th>\n",
       "      <td>6.557857</td>\n",
       "      <td>19.14</td>\n",
       "      <td>14</td>\n",
       "      <td>2.19</td>\n",
       "    </tr>\n",
       "    <tr>\n",
       "      <th>13089312</th>\n",
       "      <td>2.273333</td>\n",
       "      <td>4.99</td>\n",
       "      <td>27</td>\n",
       "      <td>0.79</td>\n",
       "    </tr>\n",
       "    <tr>\n",
       "      <th>13179265</th>\n",
       "      <td>2.455000</td>\n",
       "      <td>4.98</td>\n",
       "      <td>22</td>\n",
       "      <td>0.84</td>\n",
       "    </tr>\n",
       "    <tr>\n",
       "      <th>13251776</th>\n",
       "      <td>3.568889</td>\n",
       "      <td>13.98</td>\n",
       "      <td>36</td>\n",
       "      <td>1.25</td>\n",
       "    </tr>\n",
       "    <tr>\n",
       "      <th>13387341</th>\n",
       "      <td>11.712222</td>\n",
       "      <td>19.99</td>\n",
       "      <td>18</td>\n",
       "      <td>4.99</td>\n",
       "    </tr>\n",
       "    <tr>\n",
       "      <th>13501141</th>\n",
       "      <td>3.345429</td>\n",
       "      <td>9.98</td>\n",
       "      <td>35</td>\n",
       "      <td>0.50</td>\n",
       "    </tr>\n",
       "    <tr>\n",
       "      <th>13540129</th>\n",
       "      <td>2.631000</td>\n",
       "      <td>5.49</td>\n",
       "      <td>10</td>\n",
       "      <td>0.49</td>\n",
       "    </tr>\n",
       "    <tr>\n",
       "      <th>13744500</th>\n",
       "      <td>3.606667</td>\n",
       "      <td>4.99</td>\n",
       "      <td>9</td>\n",
       "      <td>2.50</td>\n",
       "    </tr>\n",
       "    <tr>\n",
       "      <th>13807224</th>\n",
       "      <td>4.178437</td>\n",
       "      <td>11.96</td>\n",
       "      <td>32</td>\n",
       "      <td>1.00</td>\n",
       "    </tr>\n",
       "    <tr>\n",
       "      <th>13873775</th>\n",
       "      <td>3.546471</td>\n",
       "      <td>9.58</td>\n",
       "      <td>17</td>\n",
       "      <td>0.27</td>\n",
       "    </tr>\n",
       "    <tr>\n",
       "      <th>14049441</th>\n",
       "      <td>2.262222</td>\n",
       "      <td>4.99</td>\n",
       "      <td>18</td>\n",
       "      <td>0.79</td>\n",
       "    </tr>\n",
       "    <tr>\n",
       "      <th>14088807</th>\n",
       "      <td>3.373333</td>\n",
       "      <td>5.18</td>\n",
       "      <td>6</td>\n",
       "      <td>1.80</td>\n",
       "    </tr>\n",
       "    <tr>\n",
       "      <th>14723452</th>\n",
       "      <td>3.100000</td>\n",
       "      <td>8.33</td>\n",
       "      <td>24</td>\n",
       "      <td>0.89</td>\n",
       "    </tr>\n",
       "    <tr>\n",
       "      <th>14790034</th>\n",
       "      <td>2.678889</td>\n",
       "      <td>5.99</td>\n",
       "      <td>9</td>\n",
       "      <td>1.29</td>\n",
       "    </tr>\n",
       "    <tr>\n",
       "      <th>15073302</th>\n",
       "      <td>2.773333</td>\n",
       "      <td>4.99</td>\n",
       "      <td>6</td>\n",
       "      <td>0.89</td>\n",
       "    </tr>\n",
       "    <tr>\n",
       "      <th>15134033</th>\n",
       "      <td>3.076667</td>\n",
       "      <td>9.99</td>\n",
       "      <td>9</td>\n",
       "      <td>0.27</td>\n",
       "    </tr>\n",
       "    <tr>\n",
       "      <th>15163210</th>\n",
       "      <td>3.361429</td>\n",
       "      <td>4.49</td>\n",
       "      <td>7</td>\n",
       "      <td>1.69</td>\n",
       "    </tr>\n",
       "    <tr>\n",
       "      <th>15530842</th>\n",
       "      <td>3.535000</td>\n",
       "      <td>5.18</td>\n",
       "      <td>6</td>\n",
       "      <td>1.99</td>\n",
       "    </tr>\n",
       "    <tr>\n",
       "      <th>15575309</th>\n",
       "      <td>3.511429</td>\n",
       "      <td>5.99</td>\n",
       "      <td>7</td>\n",
       "      <td>1.60</td>\n",
       "    </tr>\n",
       "    <tr>\n",
       "      <th>15705695</th>\n",
       "      <td>3.213750</td>\n",
       "      <td>4.00</td>\n",
       "      <td>8</td>\n",
       "      <td>2.59</td>\n",
       "    </tr>\n",
       "    <tr>\n",
       "      <th>15753725</th>\n",
       "      <td>5.935227</td>\n",
       "      <td>12.12</td>\n",
       "      <td>44</td>\n",
       "      <td>0.88</td>\n",
       "    </tr>\n",
       "    <tr>\n",
       "      <th>15941277</th>\n",
       "      <td>3.015385</td>\n",
       "      <td>7.77</td>\n",
       "      <td>13</td>\n",
       "      <td>0.89</td>\n",
       "    </tr>\n",
       "    <tr>\n",
       "      <th>16078766</th>\n",
       "      <td>3.098333</td>\n",
       "      <td>7.74</td>\n",
       "      <td>6</td>\n",
       "      <td>1.50</td>\n",
       "    </tr>\n",
       "    <tr>\n",
       "      <th>...</th>\n",
       "      <td>...</td>\n",
       "      <td>...</td>\n",
       "      <td>...</td>\n",
       "      <td>...</td>\n",
       "    </tr>\n",
       "    <tr>\n",
       "      <th>139361800</th>\n",
       "      <td>6.164516</td>\n",
       "      <td>15.99</td>\n",
       "      <td>31</td>\n",
       "      <td>0.19</td>\n",
       "    </tr>\n",
       "    <tr>\n",
       "      <th>139365765</th>\n",
       "      <td>3.640000</td>\n",
       "      <td>4.29</td>\n",
       "      <td>6</td>\n",
       "      <td>2.49</td>\n",
       "    </tr>\n",
       "    <tr>\n",
       "      <th>139365798</th>\n",
       "      <td>3.598333</td>\n",
       "      <td>6.99</td>\n",
       "      <td>6</td>\n",
       "      <td>1.99</td>\n",
       "    </tr>\n",
       "    <tr>\n",
       "      <th>139366020</th>\n",
       "      <td>7.132593</td>\n",
       "      <td>18.00</td>\n",
       "      <td>27</td>\n",
       "      <td>2.39</td>\n",
       "    </tr>\n",
       "    <tr>\n",
       "      <th>139368702</th>\n",
       "      <td>3.366750</td>\n",
       "      <td>9.96</td>\n",
       "      <td>40</td>\n",
       "      <td>0.88</td>\n",
       "    </tr>\n",
       "    <tr>\n",
       "      <th>139369051</th>\n",
       "      <td>5.175000</td>\n",
       "      <td>21.57</td>\n",
       "      <td>20</td>\n",
       "      <td>0.99</td>\n",
       "    </tr>\n",
       "    <tr>\n",
       "      <th>139370209</th>\n",
       "      <td>3.128679</td>\n",
       "      <td>6.00</td>\n",
       "      <td>53</td>\n",
       "      <td>0.20</td>\n",
       "    </tr>\n",
       "    <tr>\n",
       "      <th>139371197</th>\n",
       "      <td>3.364565</td>\n",
       "      <td>8.99</td>\n",
       "      <td>46</td>\n",
       "      <td>0.09</td>\n",
       "    </tr>\n",
       "    <tr>\n",
       "      <th>139373878</th>\n",
       "      <td>7.242368</td>\n",
       "      <td>14.97</td>\n",
       "      <td>38</td>\n",
       "      <td>0.89</td>\n",
       "    </tr>\n",
       "    <tr>\n",
       "      <th>139376236</th>\n",
       "      <td>2.870000</td>\n",
       "      <td>5.00</td>\n",
       "      <td>36</td>\n",
       "      <td>0.99</td>\n",
       "    </tr>\n",
       "    <tr>\n",
       "      <th>139377053</th>\n",
       "      <td>3.425000</td>\n",
       "      <td>6.98</td>\n",
       "      <td>16</td>\n",
       "      <td>1.35</td>\n",
       "    </tr>\n",
       "    <tr>\n",
       "      <th>139378770</th>\n",
       "      <td>3.552308</td>\n",
       "      <td>8.99</td>\n",
       "      <td>13</td>\n",
       "      <td>0.99</td>\n",
       "    </tr>\n",
       "    <tr>\n",
       "      <th>139378923</th>\n",
       "      <td>6.295897</td>\n",
       "      <td>15.21</td>\n",
       "      <td>39</td>\n",
       "      <td>0.57</td>\n",
       "    </tr>\n",
       "    <tr>\n",
       "      <th>139381353</th>\n",
       "      <td>3.472069</td>\n",
       "      <td>7.49</td>\n",
       "      <td>29</td>\n",
       "      <td>0.59</td>\n",
       "    </tr>\n",
       "    <tr>\n",
       "      <th>139383641</th>\n",
       "      <td>5.257143</td>\n",
       "      <td>8.88</td>\n",
       "      <td>7</td>\n",
       "      <td>1.79</td>\n",
       "    </tr>\n",
       "    <tr>\n",
       "      <th>139385231</th>\n",
       "      <td>10.795714</td>\n",
       "      <td>24.49</td>\n",
       "      <td>21</td>\n",
       "      <td>2.18</td>\n",
       "    </tr>\n",
       "    <tr>\n",
       "      <th>139386770</th>\n",
       "      <td>2.057619</td>\n",
       "      <td>3.79</td>\n",
       "      <td>21</td>\n",
       "      <td>0.10</td>\n",
       "    </tr>\n",
       "    <tr>\n",
       "      <th>139391262</th>\n",
       "      <td>3.987500</td>\n",
       "      <td>8.49</td>\n",
       "      <td>8</td>\n",
       "      <td>1.25</td>\n",
       "    </tr>\n",
       "    <tr>\n",
       "      <th>139392889</th>\n",
       "      <td>3.499800</td>\n",
       "      <td>14.18</td>\n",
       "      <td>50</td>\n",
       "      <td>0.80</td>\n",
       "    </tr>\n",
       "    <tr>\n",
       "      <th>139394094</th>\n",
       "      <td>5.217200</td>\n",
       "      <td>13.18</td>\n",
       "      <td>25</td>\n",
       "      <td>0.99</td>\n",
       "    </tr>\n",
       "    <tr>\n",
       "      <th>139394286</th>\n",
       "      <td>3.200000</td>\n",
       "      <td>10.98</td>\n",
       "      <td>33</td>\n",
       "      <td>0.39</td>\n",
       "    </tr>\n",
       "    <tr>\n",
       "      <th>139395685</th>\n",
       "      <td>4.235357</td>\n",
       "      <td>31.16</td>\n",
       "      <td>56</td>\n",
       "      <td>1.00</td>\n",
       "    </tr>\n",
       "    <tr>\n",
       "      <th>139397387</th>\n",
       "      <td>3.706190</td>\n",
       "      <td>18.47</td>\n",
       "      <td>63</td>\n",
       "      <td>0.79</td>\n",
       "    </tr>\n",
       "    <tr>\n",
       "      <th>139399129</th>\n",
       "      <td>2.571333</td>\n",
       "      <td>5.69</td>\n",
       "      <td>15</td>\n",
       "      <td>1.49</td>\n",
       "    </tr>\n",
       "    <tr>\n",
       "      <th>139409051</th>\n",
       "      <td>3.582000</td>\n",
       "      <td>8.97</td>\n",
       "      <td>10</td>\n",
       "      <td>0.75</td>\n",
       "    </tr>\n",
       "    <tr>\n",
       "      <th>139410034</th>\n",
       "      <td>4.224375</td>\n",
       "      <td>8.98</td>\n",
       "      <td>32</td>\n",
       "      <td>0.75</td>\n",
       "    </tr>\n",
       "    <tr>\n",
       "      <th>139410525</th>\n",
       "      <td>4.848400</td>\n",
       "      <td>11.99</td>\n",
       "      <td>25</td>\n",
       "      <td>1.39</td>\n",
       "    </tr>\n",
       "    <tr>\n",
       "      <th>139414357</th>\n",
       "      <td>4.056607</td>\n",
       "      <td>11.96</td>\n",
       "      <td>56</td>\n",
       "      <td>0.99</td>\n",
       "    </tr>\n",
       "    <tr>\n",
       "      <th>139415146</th>\n",
       "      <td>2.241250</td>\n",
       "      <td>2.99</td>\n",
       "      <td>8</td>\n",
       "      <td>0.89</td>\n",
       "    </tr>\n",
       "    <tr>\n",
       "      <th>139416901</th>\n",
       "      <td>3.153750</td>\n",
       "      <td>11.94</td>\n",
       "      <td>40</td>\n",
       "      <td>0.50</td>\n",
       "    </tr>\n",
       "  </tbody>\n",
       "</table>\n",
       "<p>9279 rows × 4 columns</p>\n",
       "</div>"
      ],
      "text/plain": [
       "                 mean    max  size   min\n",
       "CustomerID                              \n",
       "86246        4.760000  33.65    51  0.79\n",
       "86252        3.824286  51.27   119  0.59\n",
       "12277270     9.880000  15.69    25  4.49\n",
       "12332190     4.738261  11.79    23  0.89\n",
       "12524696     2.665000   3.99    12  0.45\n",
       "12682470     2.448947   4.49    19  0.10\n",
       "12996040     3.174545   5.97    11  1.49\n",
       "13074629     6.557857  19.14    14  2.19\n",
       "13089312     2.273333   4.99    27  0.79\n",
       "13179265     2.455000   4.98    22  0.84\n",
       "13251776     3.568889  13.98    36  1.25\n",
       "13387341    11.712222  19.99    18  4.99\n",
       "13501141     3.345429   9.98    35  0.50\n",
       "13540129     2.631000   5.49    10  0.49\n",
       "13744500     3.606667   4.99     9  2.50\n",
       "13807224     4.178437  11.96    32  1.00\n",
       "13873775     3.546471   9.58    17  0.27\n",
       "14049441     2.262222   4.99    18  0.79\n",
       "14088807     3.373333   5.18     6  1.80\n",
       "14723452     3.100000   8.33    24  0.89\n",
       "14790034     2.678889   5.99     9  1.29\n",
       "15073302     2.773333   4.99     6  0.89\n",
       "15134033     3.076667   9.99     9  0.27\n",
       "15163210     3.361429   4.49     7  1.69\n",
       "15530842     3.535000   5.18     6  1.99\n",
       "15575309     3.511429   5.99     7  1.60\n",
       "15705695     3.213750   4.00     8  2.59\n",
       "15753725     5.935227  12.12    44  0.88\n",
       "15941277     3.015385   7.77    13  0.89\n",
       "16078766     3.098333   7.74     6  1.50\n",
       "...               ...    ...   ...   ...\n",
       "139361800    6.164516  15.99    31  0.19\n",
       "139365765    3.640000   4.29     6  2.49\n",
       "139365798    3.598333   6.99     6  1.99\n",
       "139366020    7.132593  18.00    27  2.39\n",
       "139368702    3.366750   9.96    40  0.88\n",
       "139369051    5.175000  21.57    20  0.99\n",
       "139370209    3.128679   6.00    53  0.20\n",
       "139371197    3.364565   8.99    46  0.09\n",
       "139373878    7.242368  14.97    38  0.89\n",
       "139376236    2.870000   5.00    36  0.99\n",
       "139377053    3.425000   6.98    16  1.35\n",
       "139378770    3.552308   8.99    13  0.99\n",
       "139378923    6.295897  15.21    39  0.57\n",
       "139381353    3.472069   7.49    29  0.59\n",
       "139383641    5.257143   8.88     7  1.79\n",
       "139385231   10.795714  24.49    21  2.18\n",
       "139386770    2.057619   3.79    21  0.10\n",
       "139391262    3.987500   8.49     8  1.25\n",
       "139392889    3.499800  14.18    50  0.80\n",
       "139394094    5.217200  13.18    25  0.99\n",
       "139394286    3.200000  10.98    33  0.39\n",
       "139395685    4.235357  31.16    56  1.00\n",
       "139397387    3.706190  18.47    63  0.79\n",
       "139399129    2.571333   5.69    15  1.49\n",
       "139409051    3.582000   8.97    10  0.75\n",
       "139410034    4.224375   8.98    32  0.75\n",
       "139410525    4.848400  11.99    25  1.39\n",
       "139414357    4.056607  11.96    56  0.99\n",
       "139415146    2.241250   2.99     8  0.89\n",
       "139416901    3.153750  11.94    40  0.50\n",
       "\n",
       "[9279 rows x 4 columns]"
      ]
     },
     "execution_count": 100,
     "metadata": {},
     "output_type": "execute_result"
    }
   ],
   "source": [
    "cust_group.Purchaseamount.agg(['mean','max','size','min'])"
   ]
  },
  {
   "cell_type": "code",
   "execution_count": 101,
   "metadata": {
    "collapsed": true
   },
   "outputs": [],
   "source": [
    "# Customer ID with maximum purchases\n",
    "cust_max=cust_group['Purchaseamount'].max()"
   ]
  },
  {
   "cell_type": "code",
   "execution_count": 102,
   "metadata": {
    "collapsed": true
   },
   "outputs": [],
   "source": [
    "#Top ten Customer by Purchaseamount \n",
    "customer_ten_high=cust_max.sort_values(ascending=False).head(10)"
   ]
  },
  {
   "cell_type": "code",
   "execution_count": 103,
   "metadata": {},
   "outputs": [
    {
     "name": "stdout",
     "output_type": "stream",
     "text": [
      "CustomerID\n",
      "119431282    200.00\n",
      "126075017    136.18\n",
      "98101226     130.08\n",
      "124410252    107.70\n",
      "133602925    100.00\n",
      "138866513    100.00\n",
      "107183817     99.00\n",
      "106230280     95.98\n",
      "121766912     91.69\n",
      "123828040     89.94\n",
      "Name: Purchaseamount, dtype: float64\n"
     ]
    }
   ],
   "source": [
    "print(customer_ten_high)"
   ]
  },
  {
   "cell_type": "code",
   "execution_count": 104,
   "metadata": {},
   "outputs": [
    {
     "data": {
      "text/plain": [
       "CustomerID\n",
       "134018820    0.20\n",
       "62310326     1.19\n",
       "114884014    1.49\n",
       "107640746    1.50\n",
       "105150199    1.79\n",
       "125805924    1.97\n",
       "119298822    1.98\n",
       "125189350    1.98\n",
       "103210771    1.99\n",
       "121374023    1.99\n",
       "Name: Purchaseamount, dtype: float64"
      ]
     },
     "execution_count": 104,
     "metadata": {},
     "output_type": "execute_result"
    }
   ],
   "source": [
    "# Customers with the least purchase amount \n",
    "cust_max.sort_values(ascending=True).head(10)"
   ]
  },
  {
   "cell_type": "code",
   "execution_count": 105,
   "metadata": {
    "collapsed": true
   },
   "outputs": [],
   "source": [
    "# Top ten Customer ids\n",
    "cust_ids=customer_ten_high.index.values"
   ]
  },
  {
   "cell_type": "code",
   "execution_count": 106,
   "metadata": {},
   "outputs": [
    {
     "data": {
      "text/plain": [
       "CustomerID\n",
       "119431282    200.00\n",
       "126075017    136.18\n",
       "98101226     130.08\n",
       "124410252    107.70\n",
       "133602925    100.00\n",
       "138866513    100.00\n",
       "107183817     99.00\n",
       "106230280     95.98\n",
       "121766912     91.69\n",
       "123828040     89.94\n",
       "Name: Purchaseamount, dtype: float64"
      ]
     },
     "execution_count": 106,
     "metadata": {},
     "output_type": "execute_result"
    }
   ],
   "source": [
    "customer_ten_high"
   ]
  },
  {
   "cell_type": "code",
   "execution_count": 107,
   "metadata": {
    "collapsed": true
   },
   "outputs": [],
   "source": [
    "# Dataframe of top ten customers\n",
    "ten_cust=df_common_brands[df_common_brands.CustomerID.isin(cust_ids)]"
   ]
  },
  {
   "cell_type": "code",
   "execution_count": 108,
   "metadata": {},
   "outputs": [
    {
     "data": {
      "text/plain": [
       "322"
      ]
     },
     "execution_count": 108,
     "metadata": {},
     "output_type": "execute_result"
    }
   ],
   "source": [
    "# No of records \n",
    "len(ten_cust)"
   ]
  },
  {
   "cell_type": "code",
   "execution_count": 109,
   "metadata": {},
   "outputs": [
    {
     "data": {
      "text/html": [
       "<div>\n",
       "<style>\n",
       "    .dataframe thead tr:only-child th {\n",
       "        text-align: right;\n",
       "    }\n",
       "\n",
       "    .dataframe thead th {\n",
       "        text-align: left;\n",
       "    }\n",
       "\n",
       "    .dataframe tbody tr th {\n",
       "        vertical-align: top;\n",
       "    }\n",
       "</style>\n",
       "<table border=\"1\" class=\"dataframe\">\n",
       "  <thead>\n",
       "    <tr style=\"text-align: right;\">\n",
       "      <th></th>\n",
       "      <th>CustomerID</th>\n",
       "      <th>Chain</th>\n",
       "      <th>Dept</th>\n",
       "      <th>Category</th>\n",
       "      <th>Company</th>\n",
       "      <th>Brand</th>\n",
       "      <th>Date</th>\n",
       "      <th>Productsize</th>\n",
       "      <th>productmeasure</th>\n",
       "      <th>Purchasequantity</th>\n",
       "      <th>Purchaseamount</th>\n",
       "      <th>value_counts</th>\n",
       "      <th>DateTime</th>\n",
       "      <th>Year</th>\n",
       "      <th>Month</th>\n",
       "      <th>Day</th>\n",
       "      <th>Week</th>\n",
       "      <th>Weekday</th>\n",
       "    </tr>\n",
       "  </thead>\n",
       "  <tbody>\n",
       "    <tr>\n",
       "      <th>17283</th>\n",
       "      <td>98101226</td>\n",
       "      <td>88</td>\n",
       "      <td>63</td>\n",
       "      <td>6315</td>\n",
       "      <td>102113020</td>\n",
       "      <td>10786</td>\n",
       "      <td>1/2/2013</td>\n",
       "      <td>64.0</td>\n",
       "      <td>OZ</td>\n",
       "      <td>1</td>\n",
       "      <td>2.09</td>\n",
       "      <td>9</td>\n",
       "      <td>2013-01-02</td>\n",
       "      <td>2013</td>\n",
       "      <td>1</td>\n",
       "      <td>2</td>\n",
       "      <td>1</td>\n",
       "      <td>Wednesday</td>\n",
       "    </tr>\n",
       "    <tr>\n",
       "      <th>17284</th>\n",
       "      <td>98101226</td>\n",
       "      <td>88</td>\n",
       "      <td>56</td>\n",
       "      <td>5609</td>\n",
       "      <td>102113020</td>\n",
       "      <td>10786</td>\n",
       "      <td>1/2/2013</td>\n",
       "      <td>16.0</td>\n",
       "      <td>OZ</td>\n",
       "      <td>1</td>\n",
       "      <td>2.07</td>\n",
       "      <td>9</td>\n",
       "      <td>2013-01-02</td>\n",
       "      <td>2013</td>\n",
       "      <td>1</td>\n",
       "      <td>2</td>\n",
       "      <td>1</td>\n",
       "      <td>Wednesday</td>\n",
       "    </tr>\n",
       "    <tr>\n",
       "      <th>17285</th>\n",
       "      <td>98101226</td>\n",
       "      <td>88</td>\n",
       "      <td>63</td>\n",
       "      <td>6315</td>\n",
       "      <td>102113020</td>\n",
       "      <td>10786</td>\n",
       "      <td>1/9/2013</td>\n",
       "      <td>64.0</td>\n",
       "      <td>OZ</td>\n",
       "      <td>1</td>\n",
       "      <td>1.99</td>\n",
       "      <td>9</td>\n",
       "      <td>2013-01-09</td>\n",
       "      <td>2013</td>\n",
       "      <td>1</td>\n",
       "      <td>9</td>\n",
       "      <td>2</td>\n",
       "      <td>Wednesday</td>\n",
       "    </tr>\n",
       "    <tr>\n",
       "      <th>17286</th>\n",
       "      <td>98101226</td>\n",
       "      <td>88</td>\n",
       "      <td>63</td>\n",
       "      <td>6315</td>\n",
       "      <td>102113020</td>\n",
       "      <td>10786</td>\n",
       "      <td>1/13/2013</td>\n",
       "      <td>128.0</td>\n",
       "      <td>OZ</td>\n",
       "      <td>1</td>\n",
       "      <td>3.89</td>\n",
       "      <td>9</td>\n",
       "      <td>2013-01-13</td>\n",
       "      <td>2013</td>\n",
       "      <td>1</td>\n",
       "      <td>13</td>\n",
       "      <td>2</td>\n",
       "      <td>Sunday</td>\n",
       "    </tr>\n",
       "    <tr>\n",
       "      <th>17287</th>\n",
       "      <td>98101226</td>\n",
       "      <td>88</td>\n",
       "      <td>56</td>\n",
       "      <td>5609</td>\n",
       "      <td>102113020</td>\n",
       "      <td>10786</td>\n",
       "      <td>1/16/2013</td>\n",
       "      <td>16.0</td>\n",
       "      <td>OZ</td>\n",
       "      <td>1</td>\n",
       "      <td>2.07</td>\n",
       "      <td>9</td>\n",
       "      <td>2013-01-16</td>\n",
       "      <td>2013</td>\n",
       "      <td>1</td>\n",
       "      <td>16</td>\n",
       "      <td>3</td>\n",
       "      <td>Wednesday</td>\n",
       "    </tr>\n",
       "  </tbody>\n",
       "</table>\n",
       "</div>"
      ],
      "text/plain": [
       "       CustomerID  Chain  Dept  Category    Company  Brand       Date  \\\n",
       "17283    98101226     88    63      6315  102113020  10786   1/2/2013   \n",
       "17284    98101226     88    56      5609  102113020  10786   1/2/2013   \n",
       "17285    98101226     88    63      6315  102113020  10786   1/9/2013   \n",
       "17286    98101226     88    63      6315  102113020  10786  1/13/2013   \n",
       "17287    98101226     88    56      5609  102113020  10786  1/16/2013   \n",
       "\n",
       "       Productsize productmeasure  Purchasequantity  Purchaseamount  \\\n",
       "17283         64.0             OZ                 1            2.09   \n",
       "17284         16.0             OZ                 1            2.07   \n",
       "17285         64.0             OZ                 1            1.99   \n",
       "17286        128.0             OZ                 1            3.89   \n",
       "17287         16.0             OZ                 1            2.07   \n",
       "\n",
       "       value_counts   DateTime  Year  Month  Day  Week    Weekday  \n",
       "17283             9 2013-01-02  2013      1    2     1  Wednesday  \n",
       "17284             9 2013-01-02  2013      1    2     1  Wednesday  \n",
       "17285             9 2013-01-09  2013      1    9     2  Wednesday  \n",
       "17286             9 2013-01-13  2013      1   13     2     Sunday  \n",
       "17287             9 2013-01-16  2013      1   16     3  Wednesday  "
      ]
     },
     "execution_count": 109,
     "metadata": {},
     "output_type": "execute_result"
    }
   ],
   "source": [
    "# display 5 records\n",
    "\n",
    "ten_cust.head()"
   ]
  },
  {
   "cell_type": "code",
   "execution_count": 110,
   "metadata": {
    "collapsed": true
   },
   "outputs": [],
   "source": [
    "#Reset index on ten_cust \n",
    "ten_cust.reset_index(drop=True,inplace=True)"
   ]
  },
  {
   "cell_type": "code",
   "execution_count": 111,
   "metadata": {},
   "outputs": [
    {
     "data": {
      "text/html": [
       "<div>\n",
       "<style>\n",
       "    .dataframe thead tr:only-child th {\n",
       "        text-align: right;\n",
       "    }\n",
       "\n",
       "    .dataframe thead th {\n",
       "        text-align: left;\n",
       "    }\n",
       "\n",
       "    .dataframe tbody tr th {\n",
       "        vertical-align: top;\n",
       "    }\n",
       "</style>\n",
       "<table border=\"1\" class=\"dataframe\">\n",
       "  <thead>\n",
       "    <tr style=\"text-align: right;\">\n",
       "      <th></th>\n",
       "      <th>CustomerID</th>\n",
       "      <th>Chain</th>\n",
       "      <th>Dept</th>\n",
       "      <th>Category</th>\n",
       "      <th>Company</th>\n",
       "      <th>Brand</th>\n",
       "      <th>Date</th>\n",
       "      <th>Productsize</th>\n",
       "      <th>productmeasure</th>\n",
       "      <th>Purchasequantity</th>\n",
       "      <th>Purchaseamount</th>\n",
       "      <th>value_counts</th>\n",
       "      <th>DateTime</th>\n",
       "      <th>Year</th>\n",
       "      <th>Month</th>\n",
       "      <th>Day</th>\n",
       "      <th>Week</th>\n",
       "      <th>Weekday</th>\n",
       "    </tr>\n",
       "  </thead>\n",
       "  <tbody>\n",
       "    <tr>\n",
       "      <th>0</th>\n",
       "      <td>98101226</td>\n",
       "      <td>88</td>\n",
       "      <td>63</td>\n",
       "      <td>6315</td>\n",
       "      <td>102113020</td>\n",
       "      <td>10786</td>\n",
       "      <td>1/2/2013</td>\n",
       "      <td>64.0</td>\n",
       "      <td>OZ</td>\n",
       "      <td>1</td>\n",
       "      <td>2.09</td>\n",
       "      <td>9</td>\n",
       "      <td>2013-01-02</td>\n",
       "      <td>2013</td>\n",
       "      <td>1</td>\n",
       "      <td>2</td>\n",
       "      <td>1</td>\n",
       "      <td>Wednesday</td>\n",
       "    </tr>\n",
       "    <tr>\n",
       "      <th>1</th>\n",
       "      <td>98101226</td>\n",
       "      <td>88</td>\n",
       "      <td>56</td>\n",
       "      <td>5609</td>\n",
       "      <td>102113020</td>\n",
       "      <td>10786</td>\n",
       "      <td>1/2/2013</td>\n",
       "      <td>16.0</td>\n",
       "      <td>OZ</td>\n",
       "      <td>1</td>\n",
       "      <td>2.07</td>\n",
       "      <td>9</td>\n",
       "      <td>2013-01-02</td>\n",
       "      <td>2013</td>\n",
       "      <td>1</td>\n",
       "      <td>2</td>\n",
       "      <td>1</td>\n",
       "      <td>Wednesday</td>\n",
       "    </tr>\n",
       "    <tr>\n",
       "      <th>2</th>\n",
       "      <td>98101226</td>\n",
       "      <td>88</td>\n",
       "      <td>63</td>\n",
       "      <td>6315</td>\n",
       "      <td>102113020</td>\n",
       "      <td>10786</td>\n",
       "      <td>1/9/2013</td>\n",
       "      <td>64.0</td>\n",
       "      <td>OZ</td>\n",
       "      <td>1</td>\n",
       "      <td>1.99</td>\n",
       "      <td>9</td>\n",
       "      <td>2013-01-09</td>\n",
       "      <td>2013</td>\n",
       "      <td>1</td>\n",
       "      <td>9</td>\n",
       "      <td>2</td>\n",
       "      <td>Wednesday</td>\n",
       "    </tr>\n",
       "    <tr>\n",
       "      <th>3</th>\n",
       "      <td>98101226</td>\n",
       "      <td>88</td>\n",
       "      <td>63</td>\n",
       "      <td>6315</td>\n",
       "      <td>102113020</td>\n",
       "      <td>10786</td>\n",
       "      <td>1/13/2013</td>\n",
       "      <td>128.0</td>\n",
       "      <td>OZ</td>\n",
       "      <td>1</td>\n",
       "      <td>3.89</td>\n",
       "      <td>9</td>\n",
       "      <td>2013-01-13</td>\n",
       "      <td>2013</td>\n",
       "      <td>1</td>\n",
       "      <td>13</td>\n",
       "      <td>2</td>\n",
       "      <td>Sunday</td>\n",
       "    </tr>\n",
       "    <tr>\n",
       "      <th>4</th>\n",
       "      <td>98101226</td>\n",
       "      <td>88</td>\n",
       "      <td>56</td>\n",
       "      <td>5609</td>\n",
       "      <td>102113020</td>\n",
       "      <td>10786</td>\n",
       "      <td>1/16/2013</td>\n",
       "      <td>16.0</td>\n",
       "      <td>OZ</td>\n",
       "      <td>1</td>\n",
       "      <td>2.07</td>\n",
       "      <td>9</td>\n",
       "      <td>2013-01-16</td>\n",
       "      <td>2013</td>\n",
       "      <td>1</td>\n",
       "      <td>16</td>\n",
       "      <td>3</td>\n",
       "      <td>Wednesday</td>\n",
       "    </tr>\n",
       "  </tbody>\n",
       "</table>\n",
       "</div>"
      ],
      "text/plain": [
       "   CustomerID  Chain  Dept  Category    Company  Brand       Date  \\\n",
       "0    98101226     88    63      6315  102113020  10786   1/2/2013   \n",
       "1    98101226     88    56      5609  102113020  10786   1/2/2013   \n",
       "2    98101226     88    63      6315  102113020  10786   1/9/2013   \n",
       "3    98101226     88    63      6315  102113020  10786  1/13/2013   \n",
       "4    98101226     88    56      5609  102113020  10786  1/16/2013   \n",
       "\n",
       "   Productsize productmeasure  Purchasequantity  Purchaseamount  value_counts  \\\n",
       "0         64.0             OZ                 1            2.09             9   \n",
       "1         16.0             OZ                 1            2.07             9   \n",
       "2         64.0             OZ                 1            1.99             9   \n",
       "3        128.0             OZ                 1            3.89             9   \n",
       "4         16.0             OZ                 1            2.07             9   \n",
       "\n",
       "    DateTime  Year  Month  Day  Week    Weekday  \n",
       "0 2013-01-02  2013      1    2     1  Wednesday  \n",
       "1 2013-01-02  2013      1    2     1  Wednesday  \n",
       "2 2013-01-09  2013      1    9     2  Wednesday  \n",
       "3 2013-01-13  2013      1   13     2     Sunday  \n",
       "4 2013-01-16  2013      1   16     3  Wednesday  "
      ]
     },
     "execution_count": 111,
     "metadata": {},
     "output_type": "execute_result"
    }
   ],
   "source": [
    "ten_cust.head()"
   ]
  },
  {
   "cell_type": "code",
   "execution_count": 112,
   "metadata": {},
   "outputs": [
    {
     "data": {
      "text/plain": [
       "CustomerID  Brand \n",
       "98101226    10786      9\n",
       "            11220      6\n",
       "            11749      6\n",
       "            15704      8\n",
       "106230280   0          7\n",
       "            10786      9\n",
       "            15704     12\n",
       "            33170      9\n",
       "107183817   12180      6\n",
       "119431282   8409      15\n",
       "121766912   10786     10\n",
       "            15704     16\n",
       "            16397      6\n",
       "123828040   6732       6\n",
       "            10786     11\n",
       "            15704     39\n",
       "            97430      9\n",
       "124410252   10786     12\n",
       "            15704     19\n",
       "126075017   10786     11\n",
       "            12908      6\n",
       "            15704     13\n",
       "            16452      7\n",
       "133602925   648        7\n",
       "            6732       6\n",
       "            10786     12\n",
       "            15704     22\n",
       "            17050      6\n",
       "            101646     7\n",
       "138866513   11273     10\n",
       "Name: Purchasequantity, dtype: int64"
      ]
     },
     "execution_count": 112,
     "metadata": {},
     "output_type": "execute_result"
    }
   ],
   "source": [
    "# Purchase quantity by customerid and brand \n",
    "ten_cust.groupby(['CustomerID','Brand'])['Purchasequantity'].size()"
   ]
  },
  {
   "cell_type": "code",
   "execution_count": 113,
   "metadata": {},
   "outputs": [
    {
     "data": {
      "text/html": [
       "<div>\n",
       "<style>\n",
       "    .dataframe thead tr:only-child th {\n",
       "        text-align: right;\n",
       "    }\n",
       "\n",
       "    .dataframe thead th {\n",
       "        text-align: left;\n",
       "    }\n",
       "\n",
       "    .dataframe tbody tr th {\n",
       "        vertical-align: top;\n",
       "    }\n",
       "</style>\n",
       "<table border=\"1\" class=\"dataframe\">\n",
       "  <thead>\n",
       "    <tr style=\"text-align: right;\">\n",
       "      <th></th>\n",
       "      <th>CustomerID</th>\n",
       "      <th>Chain</th>\n",
       "      <th>Dept</th>\n",
       "      <th>Category</th>\n",
       "      <th>Company</th>\n",
       "      <th>Brand</th>\n",
       "      <th>Date</th>\n",
       "      <th>Productsize</th>\n",
       "      <th>productmeasure</th>\n",
       "      <th>Purchasequantity</th>\n",
       "      <th>Purchaseamount</th>\n",
       "      <th>value_counts</th>\n",
       "      <th>DateTime</th>\n",
       "      <th>Year</th>\n",
       "      <th>Month</th>\n",
       "      <th>Day</th>\n",
       "      <th>Week</th>\n",
       "      <th>Weekday</th>\n",
       "    </tr>\n",
       "  </thead>\n",
       "  <tbody>\n",
       "    <tr>\n",
       "      <th>0</th>\n",
       "      <td>98101226</td>\n",
       "      <td>88</td>\n",
       "      <td>63</td>\n",
       "      <td>6315</td>\n",
       "      <td>102113020</td>\n",
       "      <td>10786</td>\n",
       "      <td>1/2/2013</td>\n",
       "      <td>64.0</td>\n",
       "      <td>OZ</td>\n",
       "      <td>1</td>\n",
       "      <td>2.09</td>\n",
       "      <td>9</td>\n",
       "      <td>2013-01-02</td>\n",
       "      <td>2013</td>\n",
       "      <td>1</td>\n",
       "      <td>2</td>\n",
       "      <td>1</td>\n",
       "      <td>Wednesday</td>\n",
       "    </tr>\n",
       "    <tr>\n",
       "      <th>1</th>\n",
       "      <td>98101226</td>\n",
       "      <td>88</td>\n",
       "      <td>56</td>\n",
       "      <td>5609</td>\n",
       "      <td>102113020</td>\n",
       "      <td>10786</td>\n",
       "      <td>1/2/2013</td>\n",
       "      <td>16.0</td>\n",
       "      <td>OZ</td>\n",
       "      <td>1</td>\n",
       "      <td>2.07</td>\n",
       "      <td>9</td>\n",
       "      <td>2013-01-02</td>\n",
       "      <td>2013</td>\n",
       "      <td>1</td>\n",
       "      <td>2</td>\n",
       "      <td>1</td>\n",
       "      <td>Wednesday</td>\n",
       "    </tr>\n",
       "    <tr>\n",
       "      <th>2</th>\n",
       "      <td>98101226</td>\n",
       "      <td>88</td>\n",
       "      <td>63</td>\n",
       "      <td>6315</td>\n",
       "      <td>102113020</td>\n",
       "      <td>10786</td>\n",
       "      <td>1/9/2013</td>\n",
       "      <td>64.0</td>\n",
       "      <td>OZ</td>\n",
       "      <td>1</td>\n",
       "      <td>1.99</td>\n",
       "      <td>9</td>\n",
       "      <td>2013-01-09</td>\n",
       "      <td>2013</td>\n",
       "      <td>1</td>\n",
       "      <td>9</td>\n",
       "      <td>2</td>\n",
       "      <td>Wednesday</td>\n",
       "    </tr>\n",
       "    <tr>\n",
       "      <th>3</th>\n",
       "      <td>98101226</td>\n",
       "      <td>88</td>\n",
       "      <td>63</td>\n",
       "      <td>6315</td>\n",
       "      <td>102113020</td>\n",
       "      <td>10786</td>\n",
       "      <td>1/13/2013</td>\n",
       "      <td>128.0</td>\n",
       "      <td>OZ</td>\n",
       "      <td>1</td>\n",
       "      <td>3.89</td>\n",
       "      <td>9</td>\n",
       "      <td>2013-01-13</td>\n",
       "      <td>2013</td>\n",
       "      <td>1</td>\n",
       "      <td>13</td>\n",
       "      <td>2</td>\n",
       "      <td>Sunday</td>\n",
       "    </tr>\n",
       "    <tr>\n",
       "      <th>4</th>\n",
       "      <td>98101226</td>\n",
       "      <td>88</td>\n",
       "      <td>56</td>\n",
       "      <td>5609</td>\n",
       "      <td>102113020</td>\n",
       "      <td>10786</td>\n",
       "      <td>1/16/2013</td>\n",
       "      <td>16.0</td>\n",
       "      <td>OZ</td>\n",
       "      <td>1</td>\n",
       "      <td>2.07</td>\n",
       "      <td>9</td>\n",
       "      <td>2013-01-16</td>\n",
       "      <td>2013</td>\n",
       "      <td>1</td>\n",
       "      <td>16</td>\n",
       "      <td>3</td>\n",
       "      <td>Wednesday</td>\n",
       "    </tr>\n",
       "  </tbody>\n",
       "</table>\n",
       "</div>"
      ],
      "text/plain": [
       "   CustomerID  Chain  Dept  Category    Company  Brand       Date  \\\n",
       "0    98101226     88    63      6315  102113020  10786   1/2/2013   \n",
       "1    98101226     88    56      5609  102113020  10786   1/2/2013   \n",
       "2    98101226     88    63      6315  102113020  10786   1/9/2013   \n",
       "3    98101226     88    63      6315  102113020  10786  1/13/2013   \n",
       "4    98101226     88    56      5609  102113020  10786  1/16/2013   \n",
       "\n",
       "   Productsize productmeasure  Purchasequantity  Purchaseamount  value_counts  \\\n",
       "0         64.0             OZ                 1            2.09             9   \n",
       "1         16.0             OZ                 1            2.07             9   \n",
       "2         64.0             OZ                 1            1.99             9   \n",
       "3        128.0             OZ                 1            3.89             9   \n",
       "4         16.0             OZ                 1            2.07             9   \n",
       "\n",
       "    DateTime  Year  Month  Day  Week    Weekday  \n",
       "0 2013-01-02  2013      1    2     1  Wednesday  \n",
       "1 2013-01-02  2013      1    2     1  Wednesday  \n",
       "2 2013-01-09  2013      1    9     2  Wednesday  \n",
       "3 2013-01-13  2013      1   13     2     Sunday  \n",
       "4 2013-01-16  2013      1   16     3  Wednesday  "
      ]
     },
     "execution_count": 113,
     "metadata": {},
     "output_type": "execute_result"
    }
   ],
   "source": [
    "ten_cust.head()\n"
   ]
  },
  {
   "cell_type": "code",
   "execution_count": 114,
   "metadata": {
    "collapsed": true
   },
   "outputs": [],
   "source": [
    "ind_ten_cust=ten_cust.copy()"
   ]
  },
  {
   "cell_type": "code",
   "execution_count": 115,
   "metadata": {
    "collapsed": true
   },
   "outputs": [],
   "source": [
    "ind_ten_cust.set_index('DateTime',inplace=True)"
   ]
  },
  {
   "cell_type": "code",
   "execution_count": 116,
   "metadata": {},
   "outputs": [
    {
     "data": {
      "text/html": [
       "<div>\n",
       "<style>\n",
       "    .dataframe thead tr:only-child th {\n",
       "        text-align: right;\n",
       "    }\n",
       "\n",
       "    .dataframe thead th {\n",
       "        text-align: left;\n",
       "    }\n",
       "\n",
       "    .dataframe tbody tr th {\n",
       "        vertical-align: top;\n",
       "    }\n",
       "</style>\n",
       "<table border=\"1\" class=\"dataframe\">\n",
       "  <thead>\n",
       "    <tr style=\"text-align: right;\">\n",
       "      <th></th>\n",
       "      <th>CustomerID</th>\n",
       "      <th>Chain</th>\n",
       "      <th>Dept</th>\n",
       "      <th>Category</th>\n",
       "      <th>Company</th>\n",
       "      <th>Brand</th>\n",
       "      <th>Date</th>\n",
       "      <th>Productsize</th>\n",
       "      <th>productmeasure</th>\n",
       "      <th>Purchasequantity</th>\n",
       "      <th>Purchaseamount</th>\n",
       "      <th>value_counts</th>\n",
       "      <th>Year</th>\n",
       "      <th>Month</th>\n",
       "      <th>Day</th>\n",
       "      <th>Week</th>\n",
       "      <th>Weekday</th>\n",
       "    </tr>\n",
       "    <tr>\n",
       "      <th>DateTime</th>\n",
       "      <th></th>\n",
       "      <th></th>\n",
       "      <th></th>\n",
       "      <th></th>\n",
       "      <th></th>\n",
       "      <th></th>\n",
       "      <th></th>\n",
       "      <th></th>\n",
       "      <th></th>\n",
       "      <th></th>\n",
       "      <th></th>\n",
       "      <th></th>\n",
       "      <th></th>\n",
       "      <th></th>\n",
       "      <th></th>\n",
       "      <th></th>\n",
       "      <th></th>\n",
       "    </tr>\n",
       "  </thead>\n",
       "  <tbody>\n",
       "    <tr>\n",
       "      <th>2013-01-02</th>\n",
       "      <td>98101226</td>\n",
       "      <td>88</td>\n",
       "      <td>63</td>\n",
       "      <td>6315</td>\n",
       "      <td>102113020</td>\n",
       "      <td>10786</td>\n",
       "      <td>1/2/2013</td>\n",
       "      <td>64.0</td>\n",
       "      <td>OZ</td>\n",
       "      <td>1</td>\n",
       "      <td>2.09</td>\n",
       "      <td>9</td>\n",
       "      <td>2013</td>\n",
       "      <td>1</td>\n",
       "      <td>2</td>\n",
       "      <td>1</td>\n",
       "      <td>Wednesday</td>\n",
       "    </tr>\n",
       "    <tr>\n",
       "      <th>2013-01-02</th>\n",
       "      <td>98101226</td>\n",
       "      <td>88</td>\n",
       "      <td>56</td>\n",
       "      <td>5609</td>\n",
       "      <td>102113020</td>\n",
       "      <td>10786</td>\n",
       "      <td>1/2/2013</td>\n",
       "      <td>16.0</td>\n",
       "      <td>OZ</td>\n",
       "      <td>1</td>\n",
       "      <td>2.07</td>\n",
       "      <td>9</td>\n",
       "      <td>2013</td>\n",
       "      <td>1</td>\n",
       "      <td>2</td>\n",
       "      <td>1</td>\n",
       "      <td>Wednesday</td>\n",
       "    </tr>\n",
       "    <tr>\n",
       "      <th>2013-01-09</th>\n",
       "      <td>98101226</td>\n",
       "      <td>88</td>\n",
       "      <td>63</td>\n",
       "      <td>6315</td>\n",
       "      <td>102113020</td>\n",
       "      <td>10786</td>\n",
       "      <td>1/9/2013</td>\n",
       "      <td>64.0</td>\n",
       "      <td>OZ</td>\n",
       "      <td>1</td>\n",
       "      <td>1.99</td>\n",
       "      <td>9</td>\n",
       "      <td>2013</td>\n",
       "      <td>1</td>\n",
       "      <td>9</td>\n",
       "      <td>2</td>\n",
       "      <td>Wednesday</td>\n",
       "    </tr>\n",
       "    <tr>\n",
       "      <th>2013-01-13</th>\n",
       "      <td>98101226</td>\n",
       "      <td>88</td>\n",
       "      <td>63</td>\n",
       "      <td>6315</td>\n",
       "      <td>102113020</td>\n",
       "      <td>10786</td>\n",
       "      <td>1/13/2013</td>\n",
       "      <td>128.0</td>\n",
       "      <td>OZ</td>\n",
       "      <td>1</td>\n",
       "      <td>3.89</td>\n",
       "      <td>9</td>\n",
       "      <td>2013</td>\n",
       "      <td>1</td>\n",
       "      <td>13</td>\n",
       "      <td>2</td>\n",
       "      <td>Sunday</td>\n",
       "    </tr>\n",
       "    <tr>\n",
       "      <th>2013-01-16</th>\n",
       "      <td>98101226</td>\n",
       "      <td>88</td>\n",
       "      <td>56</td>\n",
       "      <td>5609</td>\n",
       "      <td>102113020</td>\n",
       "      <td>10786</td>\n",
       "      <td>1/16/2013</td>\n",
       "      <td>16.0</td>\n",
       "      <td>OZ</td>\n",
       "      <td>1</td>\n",
       "      <td>2.07</td>\n",
       "      <td>9</td>\n",
       "      <td>2013</td>\n",
       "      <td>1</td>\n",
       "      <td>16</td>\n",
       "      <td>3</td>\n",
       "      <td>Wednesday</td>\n",
       "    </tr>\n",
       "  </tbody>\n",
       "</table>\n",
       "</div>"
      ],
      "text/plain": [
       "            CustomerID  Chain  Dept  Category    Company  Brand       Date  \\\n",
       "DateTime                                                                     \n",
       "2013-01-02    98101226     88    63      6315  102113020  10786   1/2/2013   \n",
       "2013-01-02    98101226     88    56      5609  102113020  10786   1/2/2013   \n",
       "2013-01-09    98101226     88    63      6315  102113020  10786   1/9/2013   \n",
       "2013-01-13    98101226     88    63      6315  102113020  10786  1/13/2013   \n",
       "2013-01-16    98101226     88    56      5609  102113020  10786  1/16/2013   \n",
       "\n",
       "            Productsize productmeasure  Purchasequantity  Purchaseamount  \\\n",
       "DateTime                                                                   \n",
       "2013-01-02         64.0             OZ                 1            2.09   \n",
       "2013-01-02         16.0             OZ                 1            2.07   \n",
       "2013-01-09         64.0             OZ                 1            1.99   \n",
       "2013-01-13        128.0             OZ                 1            3.89   \n",
       "2013-01-16         16.0             OZ                 1            2.07   \n",
       "\n",
       "            value_counts  Year  Month  Day  Week    Weekday  \n",
       "DateTime                                                     \n",
       "2013-01-02             9  2013      1    2     1  Wednesday  \n",
       "2013-01-02             9  2013      1    2     1  Wednesday  \n",
       "2013-01-09             9  2013      1    9     2  Wednesday  \n",
       "2013-01-13             9  2013      1   13     2     Sunday  \n",
       "2013-01-16             9  2013      1   16     3  Wednesday  "
      ]
     },
     "execution_count": 116,
     "metadata": {},
     "output_type": "execute_result"
    }
   ],
   "source": [
    "ind_ten_cust.head(5)"
   ]
  },
  {
   "cell_type": "code",
   "execution_count": 117,
   "metadata": {},
   "outputs": [
    {
     "data": {
      "text/html": [
       "<div>\n",
       "<style>\n",
       "    .dataframe thead tr:only-child th {\n",
       "        text-align: right;\n",
       "    }\n",
       "\n",
       "    .dataframe thead th {\n",
       "        text-align: left;\n",
       "    }\n",
       "\n",
       "    .dataframe tbody tr th {\n",
       "        vertical-align: top;\n",
       "    }\n",
       "</style>\n",
       "<table border=\"1\" class=\"dataframe\">\n",
       "  <thead>\n",
       "    <tr style=\"text-align: right;\">\n",
       "      <th></th>\n",
       "      <th>CustomerID</th>\n",
       "      <th>Chain</th>\n",
       "      <th>Dept</th>\n",
       "      <th>Category</th>\n",
       "      <th>Company</th>\n",
       "      <th>Brand</th>\n",
       "      <th>Date</th>\n",
       "      <th>Productsize</th>\n",
       "      <th>productmeasure</th>\n",
       "      <th>Purchasequantity</th>\n",
       "      <th>Purchaseamount</th>\n",
       "      <th>value_counts</th>\n",
       "      <th>DateTime</th>\n",
       "      <th>Year</th>\n",
       "      <th>Month</th>\n",
       "      <th>Day</th>\n",
       "      <th>Week</th>\n",
       "      <th>Weekday</th>\n",
       "    </tr>\n",
       "  </thead>\n",
       "  <tbody>\n",
       "    <tr>\n",
       "      <th>0</th>\n",
       "      <td>98101226</td>\n",
       "      <td>88</td>\n",
       "      <td>63</td>\n",
       "      <td>6315</td>\n",
       "      <td>102113020</td>\n",
       "      <td>10786</td>\n",
       "      <td>1/2/2013</td>\n",
       "      <td>64.0</td>\n",
       "      <td>OZ</td>\n",
       "      <td>1</td>\n",
       "      <td>2.09</td>\n",
       "      <td>9</td>\n",
       "      <td>2013-01-02</td>\n",
       "      <td>2013</td>\n",
       "      <td>1</td>\n",
       "      <td>2</td>\n",
       "      <td>1</td>\n",
       "      <td>Wednesday</td>\n",
       "    </tr>\n",
       "    <tr>\n",
       "      <th>1</th>\n",
       "      <td>98101226</td>\n",
       "      <td>88</td>\n",
       "      <td>56</td>\n",
       "      <td>5609</td>\n",
       "      <td>102113020</td>\n",
       "      <td>10786</td>\n",
       "      <td>1/2/2013</td>\n",
       "      <td>16.0</td>\n",
       "      <td>OZ</td>\n",
       "      <td>1</td>\n",
       "      <td>2.07</td>\n",
       "      <td>9</td>\n",
       "      <td>2013-01-02</td>\n",
       "      <td>2013</td>\n",
       "      <td>1</td>\n",
       "      <td>2</td>\n",
       "      <td>1</td>\n",
       "      <td>Wednesday</td>\n",
       "    </tr>\n",
       "  </tbody>\n",
       "</table>\n",
       "</div>"
      ],
      "text/plain": [
       "   CustomerID  Chain  Dept  Category    Company  Brand      Date  Productsize  \\\n",
       "0    98101226     88    63      6315  102113020  10786  1/2/2013         64.0   \n",
       "1    98101226     88    56      5609  102113020  10786  1/2/2013         16.0   \n",
       "\n",
       "  productmeasure  Purchasequantity  Purchaseamount  value_counts   DateTime  \\\n",
       "0             OZ                 1            2.09             9 2013-01-02   \n",
       "1             OZ                 1            2.07             9 2013-01-02   \n",
       "\n",
       "   Year  Month  Day  Week    Weekday  \n",
       "0  2013      1    2     1  Wednesday  \n",
       "1  2013      1    2     1  Wednesday  "
      ]
     },
     "execution_count": 117,
     "metadata": {},
     "output_type": "execute_result"
    }
   ],
   "source": [
    "ten_cust.head(2)"
   ]
  },
  {
   "cell_type": "code",
   "execution_count": 118,
   "metadata": {
    "collapsed": true
   },
   "outputs": [],
   "source": [
    "# create pivot tableof ten_cust dataframe\n",
    "\n",
    "pvt_cust_day=ten_cust.pivot_table(values='Purchaseamount',index='Day',columns='CustomerID',fill_value=0)"
   ]
  },
  {
   "cell_type": "code",
   "execution_count": 119,
   "metadata": {
    "collapsed": true
   },
   "outputs": [],
   "source": [
    "\n",
    "# Sum purchase amount by customer : x1\n",
    "x1=cust_group.Purchaseamount.sum()"
   ]
  },
  {
   "cell_type": "code",
   "execution_count": 120,
   "metadata": {
    "collapsed": true
   },
   "outputs": [],
   "source": [
    "# Sort Purchase amount from highest to lowest and extract top 10 records : x2\n",
    "x2=x1.sort_values(ascending=False)[0:10]"
   ]
  },
  {
   "cell_type": "code",
   "execution_count": 121,
   "metadata": {
    "collapsed": true
   },
   "outputs": [],
   "source": [
    "# Customer IDs with top 10 purchase amount : t_cust_no\n",
    "t_cust_no=x2.index.values"
   ]
  },
  {
   "cell_type": "code",
   "execution_count": 122,
   "metadata": {},
   "outputs": [
    {
     "data": {
      "text/plain": [
       "array([119431282, 121257064, 138866513, 106890119, 133602925, 134271490,\n",
       "       121996607, 123828040, 123057963, 121994722], dtype=int64)"
      ]
     },
     "execution_count": 122,
     "metadata": {},
     "output_type": "execute_result"
    }
   ],
   "source": [
    "#Display the Id's\n",
    "t_cust_no"
   ]
  },
  {
   "cell_type": "code",
   "execution_count": 123,
   "metadata": {
    "collapsed": true
   },
   "outputs": [],
   "source": [
    "#Find records in the datframe having those customer IDs: t_cust\n",
    "\n",
    "t_cust=df_common_brands[df_common_brands.CustomerID.isin(t_cust_no)]"
   ]
  },
  {
   "cell_type": "code",
   "execution_count": 124,
   "metadata": {},
   "outputs": [
    {
     "data": {
      "text/plain": [
       "821"
      ]
     },
     "execution_count": 124,
     "metadata": {},
     "output_type": "execute_result"
    }
   ],
   "source": [
    "len(t_cust)"
   ]
  },
  {
   "cell_type": "code",
   "execution_count": 125,
   "metadata": {},
   "outputs": [
    {
     "data": {
      "text/html": [
       "<div>\n",
       "<style>\n",
       "    .dataframe thead tr:only-child th {\n",
       "        text-align: right;\n",
       "    }\n",
       "\n",
       "    .dataframe thead th {\n",
       "        text-align: left;\n",
       "    }\n",
       "\n",
       "    .dataframe tbody tr th {\n",
       "        vertical-align: top;\n",
       "    }\n",
       "</style>\n",
       "<table border=\"1\" class=\"dataframe\">\n",
       "  <thead>\n",
       "    <tr style=\"text-align: right;\">\n",
       "      <th></th>\n",
       "      <th>CustomerID</th>\n",
       "      <th>Chain</th>\n",
       "      <th>Dept</th>\n",
       "      <th>Category</th>\n",
       "      <th>Company</th>\n",
       "      <th>Brand</th>\n",
       "      <th>Date</th>\n",
       "      <th>Productsize</th>\n",
       "      <th>productmeasure</th>\n",
       "      <th>Purchasequantity</th>\n",
       "      <th>Purchaseamount</th>\n",
       "      <th>value_counts</th>\n",
       "      <th>DateTime</th>\n",
       "      <th>Year</th>\n",
       "      <th>Month</th>\n",
       "      <th>Day</th>\n",
       "      <th>Week</th>\n",
       "      <th>Weekday</th>\n",
       "    </tr>\n",
       "  </thead>\n",
       "  <tbody>\n",
       "    <tr>\n",
       "      <th>43273</th>\n",
       "      <td>106890119</td>\n",
       "      <td>15</td>\n",
       "      <td>99</td>\n",
       "      <td>9909</td>\n",
       "      <td>102113020</td>\n",
       "      <td>15704</td>\n",
       "      <td>1/2/2013</td>\n",
       "      <td>18.0</td>\n",
       "      <td>OZ</td>\n",
       "      <td>2</td>\n",
       "      <td>6.98</td>\n",
       "      <td>81</td>\n",
       "      <td>2013-01-02</td>\n",
       "      <td>2013</td>\n",
       "      <td>1</td>\n",
       "      <td>2</td>\n",
       "      <td>1</td>\n",
       "      <td>Wednesday</td>\n",
       "    </tr>\n",
       "    <tr>\n",
       "      <th>43274</th>\n",
       "      <td>106890119</td>\n",
       "      <td>15</td>\n",
       "      <td>8</td>\n",
       "      <td>801</td>\n",
       "      <td>105820050</td>\n",
       "      <td>15704</td>\n",
       "      <td>1/2/2013</td>\n",
       "      <td>64.0</td>\n",
       "      <td>OZ</td>\n",
       "      <td>1</td>\n",
       "      <td>4.69</td>\n",
       "      <td>81</td>\n",
       "      <td>2013-01-02</td>\n",
       "      <td>2013</td>\n",
       "      <td>1</td>\n",
       "      <td>2</td>\n",
       "      <td>1</td>\n",
       "      <td>Wednesday</td>\n",
       "    </tr>\n",
       "    <tr>\n",
       "      <th>43275</th>\n",
       "      <td>106890119</td>\n",
       "      <td>15</td>\n",
       "      <td>5</td>\n",
       "      <td>519</td>\n",
       "      <td>102113020</td>\n",
       "      <td>15704</td>\n",
       "      <td>1/2/2013</td>\n",
       "      <td>12.3</td>\n",
       "      <td>OZ</td>\n",
       "      <td>1</td>\n",
       "      <td>2.80</td>\n",
       "      <td>81</td>\n",
       "      <td>2013-01-02</td>\n",
       "      <td>2013</td>\n",
       "      <td>1</td>\n",
       "      <td>2</td>\n",
       "      <td>1</td>\n",
       "      <td>Wednesday</td>\n",
       "    </tr>\n",
       "    <tr>\n",
       "      <th>43276</th>\n",
       "      <td>106890119</td>\n",
       "      <td>15</td>\n",
       "      <td>8</td>\n",
       "      <td>814</td>\n",
       "      <td>102113020</td>\n",
       "      <td>15704</td>\n",
       "      <td>1/2/2013</td>\n",
       "      <td>70.0</td>\n",
       "      <td>OZ</td>\n",
       "      <td>1</td>\n",
       "      <td>5.99</td>\n",
       "      <td>81</td>\n",
       "      <td>2013-01-02</td>\n",
       "      <td>2013</td>\n",
       "      <td>1</td>\n",
       "      <td>2</td>\n",
       "      <td>1</td>\n",
       "      <td>Wednesday</td>\n",
       "    </tr>\n",
       "    <tr>\n",
       "      <th>43277</th>\n",
       "      <td>106890119</td>\n",
       "      <td>15</td>\n",
       "      <td>5</td>\n",
       "      <td>501</td>\n",
       "      <td>102113020</td>\n",
       "      <td>15704</td>\n",
       "      <td>1/2/2013</td>\n",
       "      <td>18.0</td>\n",
       "      <td>OZ</td>\n",
       "      <td>1</td>\n",
       "      <td>2.29</td>\n",
       "      <td>81</td>\n",
       "      <td>2013-01-02</td>\n",
       "      <td>2013</td>\n",
       "      <td>1</td>\n",
       "      <td>2</td>\n",
       "      <td>1</td>\n",
       "      <td>Wednesday</td>\n",
       "    </tr>\n",
       "  </tbody>\n",
       "</table>\n",
       "</div>"
      ],
      "text/plain": [
       "       CustomerID  Chain  Dept  Category    Company  Brand      Date  \\\n",
       "43273   106890119     15    99      9909  102113020  15704  1/2/2013   \n",
       "43274   106890119     15     8       801  105820050  15704  1/2/2013   \n",
       "43275   106890119     15     5       519  102113020  15704  1/2/2013   \n",
       "43276   106890119     15     8       814  102113020  15704  1/2/2013   \n",
       "43277   106890119     15     5       501  102113020  15704  1/2/2013   \n",
       "\n",
       "       Productsize productmeasure  Purchasequantity  Purchaseamount  \\\n",
       "43273         18.0             OZ                 2            6.98   \n",
       "43274         64.0             OZ                 1            4.69   \n",
       "43275         12.3             OZ                 1            2.80   \n",
       "43276         70.0             OZ                 1            5.99   \n",
       "43277         18.0             OZ                 1            2.29   \n",
       "\n",
       "       value_counts   DateTime  Year  Month  Day  Week    Weekday  \n",
       "43273            81 2013-01-02  2013      1    2     1  Wednesday  \n",
       "43274            81 2013-01-02  2013      1    2     1  Wednesday  \n",
       "43275            81 2013-01-02  2013      1    2     1  Wednesday  \n",
       "43276            81 2013-01-02  2013      1    2     1  Wednesday  \n",
       "43277            81 2013-01-02  2013      1    2     1  Wednesday  "
      ]
     },
     "execution_count": 125,
     "metadata": {},
     "output_type": "execute_result"
    }
   ],
   "source": [
    "t_cust.head()"
   ]
  },
  {
   "cell_type": "code",
   "execution_count": 126,
   "metadata": {
    "collapsed": true
   },
   "outputs": [],
   "source": [
    "# reset Index \n",
    "t_cust.reset_index(drop=True,inplace=True)"
   ]
  },
  {
   "cell_type": "code",
   "execution_count": 127,
   "metadata": {},
   "outputs": [
    {
     "data": {
      "text/html": [
       "<div>\n",
       "<style>\n",
       "    .dataframe thead tr:only-child th {\n",
       "        text-align: right;\n",
       "    }\n",
       "\n",
       "    .dataframe thead th {\n",
       "        text-align: left;\n",
       "    }\n",
       "\n",
       "    .dataframe tbody tr th {\n",
       "        vertical-align: top;\n",
       "    }\n",
       "</style>\n",
       "<table border=\"1\" class=\"dataframe\">\n",
       "  <thead>\n",
       "    <tr style=\"text-align: right;\">\n",
       "      <th></th>\n",
       "      <th>CustomerID</th>\n",
       "      <th>Chain</th>\n",
       "      <th>Dept</th>\n",
       "      <th>Category</th>\n",
       "      <th>Company</th>\n",
       "      <th>Brand</th>\n",
       "      <th>Date</th>\n",
       "      <th>Productsize</th>\n",
       "      <th>productmeasure</th>\n",
       "      <th>Purchasequantity</th>\n",
       "      <th>Purchaseamount</th>\n",
       "      <th>value_counts</th>\n",
       "      <th>DateTime</th>\n",
       "      <th>Year</th>\n",
       "      <th>Month</th>\n",
       "      <th>Day</th>\n",
       "      <th>Week</th>\n",
       "      <th>Weekday</th>\n",
       "    </tr>\n",
       "  </thead>\n",
       "  <tbody>\n",
       "    <tr>\n",
       "      <th>0</th>\n",
       "      <td>106890119</td>\n",
       "      <td>15</td>\n",
       "      <td>99</td>\n",
       "      <td>9909</td>\n",
       "      <td>102113020</td>\n",
       "      <td>15704</td>\n",
       "      <td>1/2/2013</td>\n",
       "      <td>18.0</td>\n",
       "      <td>OZ</td>\n",
       "      <td>2</td>\n",
       "      <td>6.98</td>\n",
       "      <td>81</td>\n",
       "      <td>2013-01-02</td>\n",
       "      <td>2013</td>\n",
       "      <td>1</td>\n",
       "      <td>2</td>\n",
       "      <td>1</td>\n",
       "      <td>Wednesday</td>\n",
       "    </tr>\n",
       "    <tr>\n",
       "      <th>1</th>\n",
       "      <td>106890119</td>\n",
       "      <td>15</td>\n",
       "      <td>8</td>\n",
       "      <td>801</td>\n",
       "      <td>105820050</td>\n",
       "      <td>15704</td>\n",
       "      <td>1/2/2013</td>\n",
       "      <td>64.0</td>\n",
       "      <td>OZ</td>\n",
       "      <td>1</td>\n",
       "      <td>4.69</td>\n",
       "      <td>81</td>\n",
       "      <td>2013-01-02</td>\n",
       "      <td>2013</td>\n",
       "      <td>1</td>\n",
       "      <td>2</td>\n",
       "      <td>1</td>\n",
       "      <td>Wednesday</td>\n",
       "    </tr>\n",
       "    <tr>\n",
       "      <th>2</th>\n",
       "      <td>106890119</td>\n",
       "      <td>15</td>\n",
       "      <td>5</td>\n",
       "      <td>519</td>\n",
       "      <td>102113020</td>\n",
       "      <td>15704</td>\n",
       "      <td>1/2/2013</td>\n",
       "      <td>12.3</td>\n",
       "      <td>OZ</td>\n",
       "      <td>1</td>\n",
       "      <td>2.80</td>\n",
       "      <td>81</td>\n",
       "      <td>2013-01-02</td>\n",
       "      <td>2013</td>\n",
       "      <td>1</td>\n",
       "      <td>2</td>\n",
       "      <td>1</td>\n",
       "      <td>Wednesday</td>\n",
       "    </tr>\n",
       "    <tr>\n",
       "      <th>3</th>\n",
       "      <td>106890119</td>\n",
       "      <td>15</td>\n",
       "      <td>8</td>\n",
       "      <td>814</td>\n",
       "      <td>102113020</td>\n",
       "      <td>15704</td>\n",
       "      <td>1/2/2013</td>\n",
       "      <td>70.0</td>\n",
       "      <td>OZ</td>\n",
       "      <td>1</td>\n",
       "      <td>5.99</td>\n",
       "      <td>81</td>\n",
       "      <td>2013-01-02</td>\n",
       "      <td>2013</td>\n",
       "      <td>1</td>\n",
       "      <td>2</td>\n",
       "      <td>1</td>\n",
       "      <td>Wednesday</td>\n",
       "    </tr>\n",
       "    <tr>\n",
       "      <th>4</th>\n",
       "      <td>106890119</td>\n",
       "      <td>15</td>\n",
       "      <td>5</td>\n",
       "      <td>501</td>\n",
       "      <td>102113020</td>\n",
       "      <td>15704</td>\n",
       "      <td>1/2/2013</td>\n",
       "      <td>18.0</td>\n",
       "      <td>OZ</td>\n",
       "      <td>1</td>\n",
       "      <td>2.29</td>\n",
       "      <td>81</td>\n",
       "      <td>2013-01-02</td>\n",
       "      <td>2013</td>\n",
       "      <td>1</td>\n",
       "      <td>2</td>\n",
       "      <td>1</td>\n",
       "      <td>Wednesday</td>\n",
       "    </tr>\n",
       "  </tbody>\n",
       "</table>\n",
       "</div>"
      ],
      "text/plain": [
       "   CustomerID  Chain  Dept  Category    Company  Brand      Date  Productsize  \\\n",
       "0   106890119     15    99      9909  102113020  15704  1/2/2013         18.0   \n",
       "1   106890119     15     8       801  105820050  15704  1/2/2013         64.0   \n",
       "2   106890119     15     5       519  102113020  15704  1/2/2013         12.3   \n",
       "3   106890119     15     8       814  102113020  15704  1/2/2013         70.0   \n",
       "4   106890119     15     5       501  102113020  15704  1/2/2013         18.0   \n",
       "\n",
       "  productmeasure  Purchasequantity  Purchaseamount  value_counts   DateTime  \\\n",
       "0             OZ                 2            6.98            81 2013-01-02   \n",
       "1             OZ                 1            4.69            81 2013-01-02   \n",
       "2             OZ                 1            2.80            81 2013-01-02   \n",
       "3             OZ                 1            5.99            81 2013-01-02   \n",
       "4             OZ                 1            2.29            81 2013-01-02   \n",
       "\n",
       "   Year  Month  Day  Week    Weekday  \n",
       "0  2013      1    2     1  Wednesday  \n",
       "1  2013      1    2     1  Wednesday  \n",
       "2  2013      1    2     1  Wednesday  \n",
       "3  2013      1    2     1  Wednesday  \n",
       "4  2013      1    2     1  Wednesday  "
      ]
     },
     "execution_count": 127,
     "metadata": {},
     "output_type": "execute_result"
    }
   ],
   "source": [
    "t_cust.head()"
   ]
  },
  {
   "cell_type": "code",
   "execution_count": 128,
   "metadata": {
    "collapsed": true
   },
   "outputs": [],
   "source": [
    "n_weekends=['Saturday','Sunday']"
   ]
  },
  {
   "cell_type": "code",
   "execution_count": 129,
   "metadata": {
    "collapsed": true
   },
   "outputs": [],
   "source": [
    "weekday_gp=df_common_brands.groupby('Weekday')"
   ]
  },
  {
   "cell_type": "code",
   "execution_count": 130,
   "metadata": {},
   "outputs": [
    {
     "data": {
      "text/plain": [
       "1.3914825440590186"
      ]
     },
     "execution_count": 130,
     "metadata": {},
     "output_type": "execute_result"
    }
   ],
   "source": [
    "weekday_gp.get_group('Monday')['Purchasequantity'].mean()"
   ]
  },
  {
   "cell_type": "code",
   "execution_count": 131,
   "metadata": {},
   "outputs": [
    {
     "data": {
      "text/html": [
       "<div>\n",
       "<style>\n",
       "    .dataframe thead tr:only-child th {\n",
       "        text-align: right;\n",
       "    }\n",
       "\n",
       "    .dataframe thead th {\n",
       "        text-align: left;\n",
       "    }\n",
       "\n",
       "    .dataframe tbody tr th {\n",
       "        vertical-align: top;\n",
       "    }\n",
       "</style>\n",
       "<table border=\"1\" class=\"dataframe\">\n",
       "  <thead>\n",
       "    <tr style=\"text-align: right;\">\n",
       "      <th></th>\n",
       "      <th>Purchaseamount</th>\n",
       "    </tr>\n",
       "    <tr>\n",
       "      <th>Weekday</th>\n",
       "      <th></th>\n",
       "    </tr>\n",
       "  </thead>\n",
       "  <tbody>\n",
       "    <tr>\n",
       "      <th>Friday</th>\n",
       "      <td>4.085098</td>\n",
       "    </tr>\n",
       "    <tr>\n",
       "      <th>Monday</th>\n",
       "      <td>3.980640</td>\n",
       "    </tr>\n",
       "    <tr>\n",
       "      <th>Saturday</th>\n",
       "      <td>3.995055</td>\n",
       "    </tr>\n",
       "    <tr>\n",
       "      <th>Sunday</th>\n",
       "      <td>3.946020</td>\n",
       "    </tr>\n",
       "    <tr>\n",
       "      <th>Thursday</th>\n",
       "      <td>4.099014</td>\n",
       "    </tr>\n",
       "    <tr>\n",
       "      <th>Tuesday</th>\n",
       "      <td>4.077265</td>\n",
       "    </tr>\n",
       "    <tr>\n",
       "      <th>Wednesday</th>\n",
       "      <td>4.067017</td>\n",
       "    </tr>\n",
       "  </tbody>\n",
       "</table>\n",
       "</div>"
      ],
      "text/plain": [
       "           Purchaseamount\n",
       "Weekday                  \n",
       "Friday           4.085098\n",
       "Monday           3.980640\n",
       "Saturday         3.995055\n",
       "Sunday           3.946020\n",
       "Thursday         4.099014\n",
       "Tuesday          4.077265\n",
       "Wednesday        4.067017"
      ]
     },
     "execution_count": 131,
     "metadata": {},
     "output_type": "execute_result"
    }
   ],
   "source": [
    "weekday_gp[['Weekday','Purchaseamount']].mean()"
   ]
  },
  {
   "cell_type": "code",
   "execution_count": 132,
   "metadata": {},
   "outputs": [
    {
     "data": {
      "text/html": [
       "<div>\n",
       "<style>\n",
       "    .dataframe thead tr:only-child th {\n",
       "        text-align: right;\n",
       "    }\n",
       "\n",
       "    .dataframe thead th {\n",
       "        text-align: left;\n",
       "    }\n",
       "\n",
       "    .dataframe tbody tr th {\n",
       "        vertical-align: top;\n",
       "    }\n",
       "</style>\n",
       "<table border=\"1\" class=\"dataframe\">\n",
       "  <thead>\n",
       "    <tr style=\"text-align: right;\">\n",
       "      <th></th>\n",
       "      <th>Purchaseamount</th>\n",
       "    </tr>\n",
       "    <tr>\n",
       "      <th>Weekday</th>\n",
       "      <th></th>\n",
       "    </tr>\n",
       "  </thead>\n",
       "  <tbody>\n",
       "    <tr>\n",
       "      <th>Friday</th>\n",
       "      <td>2.99</td>\n",
       "    </tr>\n",
       "    <tr>\n",
       "      <th>Monday</th>\n",
       "      <td>2.99</td>\n",
       "    </tr>\n",
       "    <tr>\n",
       "      <th>Saturday</th>\n",
       "      <td>2.99</td>\n",
       "    </tr>\n",
       "    <tr>\n",
       "      <th>Sunday</th>\n",
       "      <td>2.99</td>\n",
       "    </tr>\n",
       "    <tr>\n",
       "      <th>Thursday</th>\n",
       "      <td>2.99</td>\n",
       "    </tr>\n",
       "    <tr>\n",
       "      <th>Tuesday</th>\n",
       "      <td>2.99</td>\n",
       "    </tr>\n",
       "    <tr>\n",
       "      <th>Wednesday</th>\n",
       "      <td>2.99</td>\n",
       "    </tr>\n",
       "  </tbody>\n",
       "</table>\n",
       "</div>"
      ],
      "text/plain": [
       "           Purchaseamount\n",
       "Weekday                  \n",
       "Friday               2.99\n",
       "Monday               2.99\n",
       "Saturday             2.99\n",
       "Sunday               2.99\n",
       "Thursday             2.99\n",
       "Tuesday              2.99\n",
       "Wednesday            2.99"
      ]
     },
     "execution_count": 132,
     "metadata": {},
     "output_type": "execute_result"
    }
   ],
   "source": [
    "weekday_gp[['Weekday','Purchaseamount']].median()"
   ]
  },
  {
   "cell_type": "code",
   "execution_count": 133,
   "metadata": {},
   "outputs": [
    {
     "data": {
      "text/html": [
       "<div>\n",
       "<style>\n",
       "    .dataframe thead tr:only-child th {\n",
       "        text-align: right;\n",
       "    }\n",
       "\n",
       "    .dataframe thead th {\n",
       "        text-align: left;\n",
       "    }\n",
       "\n",
       "    .dataframe tbody tr th {\n",
       "        vertical-align: top;\n",
       "    }\n",
       "</style>\n",
       "<table border=\"1\" class=\"dataframe\">\n",
       "  <thead>\n",
       "    <tr style=\"text-align: right;\">\n",
       "      <th></th>\n",
       "      <th>Purchaseamount</th>\n",
       "    </tr>\n",
       "    <tr>\n",
       "      <th>Weekday</th>\n",
       "      <th></th>\n",
       "    </tr>\n",
       "  </thead>\n",
       "  <tbody>\n",
       "    <tr>\n",
       "      <th>Friday</th>\n",
       "      <td>9.501368</td>\n",
       "    </tr>\n",
       "    <tr>\n",
       "      <th>Monday</th>\n",
       "      <td>5.079883</td>\n",
       "    </tr>\n",
       "    <tr>\n",
       "      <th>Saturday</th>\n",
       "      <td>5.986221</td>\n",
       "    </tr>\n",
       "    <tr>\n",
       "      <th>Sunday</th>\n",
       "      <td>6.957197</td>\n",
       "    </tr>\n",
       "    <tr>\n",
       "      <th>Thursday</th>\n",
       "      <td>6.793482</td>\n",
       "    </tr>\n",
       "    <tr>\n",
       "      <th>Tuesday</th>\n",
       "      <td>8.065684</td>\n",
       "    </tr>\n",
       "    <tr>\n",
       "      <th>Wednesday</th>\n",
       "      <td>10.467669</td>\n",
       "    </tr>\n",
       "  </tbody>\n",
       "</table>\n",
       "</div>"
      ],
      "text/plain": [
       "           Purchaseamount\n",
       "Weekday                  \n",
       "Friday           9.501368\n",
       "Monday           5.079883\n",
       "Saturday         5.986221\n",
       "Sunday           6.957197\n",
       "Thursday         6.793482\n",
       "Tuesday          8.065684\n",
       "Wednesday       10.467669"
      ]
     },
     "execution_count": 133,
     "metadata": {},
     "output_type": "execute_result"
    }
   ],
   "source": [
    "weekday_gp[['Weekday','Purchaseamount']].skew()"
   ]
  },
  {
   "cell_type": "code",
   "execution_count": 134,
   "metadata": {
    "collapsed": true
   },
   "outputs": [],
   "source": [
    "Monday_data=df_common_brands.Weekday=='Monday'\n",
    "\n",
    "Monday=df_common_brands[Monday_data]\n"
   ]
  },
  {
   "cell_type": "code",
   "execution_count": 135,
   "metadata": {},
   "outputs": [
    {
     "data": {
      "text/plain": [
       "<matplotlib.axes._subplots.AxesSubplot at 0x207a1bf29e8>"
      ]
     },
     "execution_count": 135,
     "metadata": {},
     "output_type": "execute_result"
    },
    {
     "data": {
      "image/png": "[encoded data removed]",
      "text/plain": [
       "<matplotlib.figure.Figure at 0x207a1bfbc50>"
      ]
     },
     "metadata": {},
     "output_type": "display_data"
    }
   ],
   "source": [
    "import pandas as pd\n",
    "import numpy as np\n",
    "import scipy.stats as stats\n",
    "from scipy.stats import norm\n",
    "import matplotlib.pyplot as plt\n",
    "import seaborn as sns\n",
    "%matplotlib inline\n",
    "sns.set()\n",
    "\n",
    "sns.kdeplot(df.Purchaseamount, shade=True,color='green')\n",
    "\n"
   ]
  },
  {
   "cell_type": "code",
   "execution_count": 136,
   "metadata": {},
   "outputs": [
    {
     "name": "stdout",
     "output_type": "stream",
     "text": [
      "chi-square statistic: 299435.61547133495\n",
      "p value = 0.0\n"
     ]
    }
   ],
   "source": [
    "\n",
    "# conduct normal test\n",
    "from scipy.stats import normaltest\n",
    "statistic, p_val = normaltest(df_common_brands['Purchaseamount'])\n",
    "\n",
    "print('chi-square statistic:',statistic)\n",
    "print('p value =',p_val)"
   ]
  },
  {
   "cell_type": "code",
   "execution_count": 137,
   "metadata": {
    "collapsed": true
   },
   "outputs": [],
   "source": [
    "# Mean Purchaseamount\n",
    "mean_purchaseamt=np.mean(df_common_brands.Purchaseamount)"
   ]
  },
  {
   "cell_type": "code",
   "execution_count": 138,
   "metadata": {},
   "outputs": [
    {
     "data": {
      "text/plain": [
       "4.032384140274447"
      ]
     },
     "execution_count": 138,
     "metadata": {},
     "output_type": "execute_result"
    }
   ],
   "source": [
    "mean_purchaseamt"
   ]
  },
  {
   "cell_type": "code",
   "execution_count": 139,
   "metadata": {
    "collapsed": true
   },
   "outputs": [],
   "source": [
    "# standard deviation of purchaseamount\n",
    "std_purchaseamt=np.std(df_common_brands.Purchaseamount)"
   ]
  },
  {
   "cell_type": "code",
   "execution_count": 140,
   "metadata": {},
   "outputs": [
    {
     "data": {
      "text/plain": [
       "3.8790624241223832"
      ]
     },
     "execution_count": 140,
     "metadata": {},
     "output_type": "execute_result"
    }
   ],
   "source": [
    "std_purchaseamt"
   ]
  },
  {
   "cell_type": "code",
   "execution_count": 141,
   "metadata": {
    "collapsed": true
   },
   "outputs": [],
   "source": [
    "df_weekend = df_common_brands[(df_common_brands.Weekday=='Sunday') | (df_common_brands.Weekday=='Saturday')]"
   ]
  },
  {
   "cell_type": "code",
   "execution_count": 142,
   "metadata": {},
   "outputs": [
    {
     "data": {
      "text/html": [
       "<div>\n",
       "<style>\n",
       "    .dataframe thead tr:only-child th {\n",
       "        text-align: right;\n",
       "    }\n",
       "\n",
       "    .dataframe thead th {\n",
       "        text-align: left;\n",
       "    }\n",
       "\n",
       "    .dataframe tbody tr th {\n",
       "        vertical-align: top;\n",
       "    }\n",
       "</style>\n",
       "<table border=\"1\" class=\"dataframe\">\n",
       "  <thead>\n",
       "    <tr style=\"text-align: right;\">\n",
       "      <th></th>\n",
       "      <th>CustomerID</th>\n",
       "      <th>sum</th>\n",
       "    </tr>\n",
       "  </thead>\n",
       "  <tbody>\n",
       "    <tr>\n",
       "      <th>6022</th>\n",
       "      <td>133990544</td>\n",
       "      <td>437.34</td>\n",
       "    </tr>\n",
       "    <tr>\n",
       "      <th>2739</th>\n",
       "      <td>121257064</td>\n",
       "      <td>416.42</td>\n",
       "    </tr>\n",
       "    <tr>\n",
       "      <th>4714</th>\n",
       "      <td>125449807</td>\n",
       "      <td>345.14</td>\n",
       "    </tr>\n",
       "    <tr>\n",
       "      <th>2850</th>\n",
       "      <td>121446341</td>\n",
       "      <td>342.62</td>\n",
       "    </tr>\n",
       "    <tr>\n",
       "      <th>1554</th>\n",
       "      <td>106890119</td>\n",
       "      <td>340.88</td>\n",
       "    </tr>\n",
       "  </tbody>\n",
       "</table>\n",
       "</div>"
      ],
      "text/plain": [
       "      CustomerID     sum\n",
       "6022   133990544  437.34\n",
       "2739   121257064  416.42\n",
       "4714   125449807  345.14\n",
       "2850   121446341  342.62\n",
       "1554   106890119  340.88"
      ]
     },
     "execution_count": 142,
     "metadata": {},
     "output_type": "execute_result"
    }
   ],
   "source": [
    "df_weekend.groupby(['CustomerID'])['Purchaseamount'].agg(['sum']).reset_index().sort_values(by='sum', ascending=False).head()"
   ]
  },
  {
   "cell_type": "code",
   "execution_count": 143,
   "metadata": {},
   "outputs": [
    {
     "data": {
      "text/plain": [
       "7587"
      ]
     },
     "execution_count": 143,
     "metadata": {},
     "output_type": "execute_result"
    }
   ],
   "source": [
    "#Unique customer IDs who bought on weekends\n",
    "df_weekend['CustomerID'].nunique()"
   ]
  },
  {
   "cell_type": "code",
   "execution_count": 144,
   "metadata": {},
   "outputs": [
    {
     "data": {
      "text/plain": [
       "9279"
      ]
     },
     "execution_count": 144,
     "metadata": {},
     "output_type": "execute_result"
    }
   ],
   "source": [
    "#Unique customer IDs from entire month\n",
    "df_common_brands['CustomerID'].nunique()"
   ]
  },
  {
   "cell_type": "code",
   "execution_count": 145,
   "metadata": {},
   "outputs": [
    {
     "data": {
      "text/plain": [
       "0.8176527643064986"
      ]
     },
     "execution_count": 145,
     "metadata": {},
     "output_type": "execute_result"
    }
   ],
   "source": [
    "7587/9279"
   ]
  },
  {
   "cell_type": "code",
   "execution_count": 146,
   "metadata": {},
   "outputs": [
    {
     "data": {
      "text/html": [
       "<div>\n",
       "<style>\n",
       "    .dataframe thead tr:only-child th {\n",
       "        text-align: right;\n",
       "    }\n",
       "\n",
       "    .dataframe thead th {\n",
       "        text-align: left;\n",
       "    }\n",
       "\n",
       "    .dataframe tbody tr th {\n",
       "        vertical-align: top;\n",
       "    }\n",
       "</style>\n",
       "<table border=\"1\" class=\"dataframe\">\n",
       "  <thead>\n",
       "    <tr style=\"text-align: right;\">\n",
       "      <th></th>\n",
       "      <th>CustomerID</th>\n",
       "      <th>sum</th>\n",
       "    </tr>\n",
       "  </thead>\n",
       "  <tbody>\n",
       "    <tr>\n",
       "      <th>0</th>\n",
       "      <td>86246</td>\n",
       "      <td>242.76</td>\n",
       "    </tr>\n",
       "    <tr>\n",
       "      <th>1</th>\n",
       "      <td>86252</td>\n",
       "      <td>455.09</td>\n",
       "    </tr>\n",
       "    <tr>\n",
       "      <th>2</th>\n",
       "      <td>12277270</td>\n",
       "      <td>247.00</td>\n",
       "    </tr>\n",
       "    <tr>\n",
       "      <th>3</th>\n",
       "      <td>12332190</td>\n",
       "      <td>108.98</td>\n",
       "    </tr>\n",
       "    <tr>\n",
       "      <th>4</th>\n",
       "      <td>12524696</td>\n",
       "      <td>31.98</td>\n",
       "    </tr>\n",
       "  </tbody>\n",
       "</table>\n",
       "</div>"
      ],
      "text/plain": [
       "   CustomerID     sum\n",
       "0       86246  242.76\n",
       "1       86252  455.09\n",
       "2    12277270  247.00\n",
       "3    12332190  108.98\n",
       "4    12524696   31.98"
      ]
     },
     "execution_count": 146,
     "metadata": {},
     "output_type": "execute_result"
    }
   ],
   "source": [
    "#df_common_brands.groupby(['CustomerID'])['Purchaseamount'].agg(['sum']).reset_index().sort_values(by='sum', ascending=False).head()\n",
    "df_common_brands.groupby(['CustomerID'])['Purchaseamount'].agg(['sum']).reset_index().head()"
   ]
  },
  {
   "cell_type": "code",
   "execution_count": 147,
   "metadata": {},
   "outputs": [
    {
     "data": {
      "text/html": [
       "<div>\n",
       "<style>\n",
       "    .dataframe thead tr:only-child th {\n",
       "        text-align: right;\n",
       "    }\n",
       "\n",
       "    .dataframe thead th {\n",
       "        text-align: left;\n",
       "    }\n",
       "\n",
       "    .dataframe tbody tr th {\n",
       "        vertical-align: top;\n",
       "    }\n",
       "</style>\n",
       "<table border=\"1\" class=\"dataframe\">\n",
       "  <thead>\n",
       "    <tr style=\"text-align: right;\">\n",
       "      <th></th>\n",
       "      <th>CustomerID</th>\n",
       "      <th>count</th>\n",
       "    </tr>\n",
       "  </thead>\n",
       "  <tbody>\n",
       "    <tr>\n",
       "      <th>8993</th>\n",
       "      <td>138800885</td>\n",
       "      <td>158</td>\n",
       "    </tr>\n",
       "    <tr>\n",
       "      <th>3251</th>\n",
       "      <td>120945028</td>\n",
       "      <td>153</td>\n",
       "    </tr>\n",
       "    <tr>\n",
       "      <th>199</th>\n",
       "      <td>57132131</td>\n",
       "      <td>148</td>\n",
       "    </tr>\n",
       "    <tr>\n",
       "      <th>4137</th>\n",
       "      <td>121994722</td>\n",
       "      <td>148</td>\n",
       "    </tr>\n",
       "    <tr>\n",
       "      <th>4293</th>\n",
       "      <td>122166179</td>\n",
       "      <td>146</td>\n",
       "    </tr>\n",
       "  </tbody>\n",
       "</table>\n",
       "</div>"
      ],
      "text/plain": [
       "      CustomerID  count\n",
       "8993   138800885    158\n",
       "3251   120945028    153\n",
       "199     57132131    148\n",
       "4137   121994722    148\n",
       "4293   122166179    146"
      ]
     },
     "execution_count": 147,
     "metadata": {},
     "output_type": "execute_result"
    }
   ],
   "source": [
    "df_common_brands.groupby(['CustomerID'])['Day'].agg(['count']).reset_index().sort_values(by='count', ascending=False).head()"
   ]
  },
  {
   "cell_type": "code",
   "execution_count": 148,
   "metadata": {
    "collapsed": true
   },
   "outputs": [],
   "source": [
    "temp = df_common_brands.groupby(['CustomerID'])['Purchaseamount','Day'].agg(['sum','count']).reset_index()"
   ]
  },
  {
   "cell_type": "code",
   "execution_count": 149,
   "metadata": {
    "collapsed": true
   },
   "outputs": [],
   "source": [
    "temp['avg'] = temp.Purchaseamount['sum']/temp.Day['count']"
   ]
  },
  {
   "cell_type": "code",
   "execution_count": 150,
   "metadata": {},
   "outputs": [
    {
     "data": {
      "text/html": [
       "<div>\n",
       "<style>\n",
       "    .dataframe thead tr:only-child th {\n",
       "        text-align: right;\n",
       "    }\n",
       "\n",
       "    .dataframe thead th {\n",
       "        text-align: left;\n",
       "    }\n",
       "\n",
       "    .dataframe tbody tr th {\n",
       "        vertical-align: top;\n",
       "    }\n",
       "</style>\n",
       "<table border=\"1\" class=\"dataframe\">\n",
       "  <thead>\n",
       "    <tr>\n",
       "      <th></th>\n",
       "      <th>CustomerID</th>\n",
       "      <th colspan=\"2\" halign=\"left\">Purchaseamount</th>\n",
       "      <th colspan=\"2\" halign=\"left\">Day</th>\n",
       "      <th>avg</th>\n",
       "    </tr>\n",
       "    <tr>\n",
       "      <th></th>\n",
       "      <th></th>\n",
       "      <th>sum</th>\n",
       "      <th>count</th>\n",
       "      <th>sum</th>\n",
       "      <th>count</th>\n",
       "      <th></th>\n",
       "    </tr>\n",
       "  </thead>\n",
       "  <tbody>\n",
       "    <tr>\n",
       "      <th>3042</th>\n",
       "      <td>119431282</td>\n",
       "      <td>1700.00</td>\n",
       "      <td>15</td>\n",
       "      <td>319</td>\n",
       "      <td>15</td>\n",
       "      <td>113.333333</td>\n",
       "    </tr>\n",
       "    <tr>\n",
       "      <th>9016</th>\n",
       "      <td>138866513</td>\n",
       "      <td>948.51</td>\n",
       "      <td>10</td>\n",
       "      <td>115</td>\n",
       "      <td>10</td>\n",
       "      <td>94.851000</td>\n",
       "    </tr>\n",
       "    <tr>\n",
       "      <th>2064</th>\n",
       "      <td>107183817</td>\n",
       "      <td>423.32</td>\n",
       "      <td>6</td>\n",
       "      <td>92</td>\n",
       "      <td>6</td>\n",
       "      <td>70.553333</td>\n",
       "    </tr>\n",
       "    <tr>\n",
       "      <th>3902</th>\n",
       "      <td>121753858</td>\n",
       "      <td>249.94</td>\n",
       "      <td>6</td>\n",
       "      <td>98</td>\n",
       "      <td>6</td>\n",
       "      <td>41.656667</td>\n",
       "    </tr>\n",
       "    <tr>\n",
       "      <th>4099</th>\n",
       "      <td>121959260</td>\n",
       "      <td>228.93</td>\n",
       "      <td>7</td>\n",
       "      <td>126</td>\n",
       "      <td>7</td>\n",
       "      <td>32.704286</td>\n",
       "    </tr>\n",
       "  </tbody>\n",
       "</table>\n",
       "</div>"
      ],
      "text/plain": [
       "     CustomerID Purchaseamount        Day               avg\n",
       "                           sum count  sum count            \n",
       "3042  119431282        1700.00    15  319    15  113.333333\n",
       "9016  138866513         948.51    10  115    10   94.851000\n",
       "2064  107183817         423.32     6   92     6   70.553333\n",
       "3902  121753858         249.94     6   98     6   41.656667\n",
       "4099  121959260         228.93     7  126     7   32.704286"
      ]
     },
     "execution_count": 150,
     "metadata": {},
     "output_type": "execute_result"
    }
   ],
   "source": [
    "temp.sort_values(by='avg', ascending=False).head()"
   ]
  },
  {
   "cell_type": "code",
   "execution_count": 151,
   "metadata": {
    "collapsed": true
   },
   "outputs": [],
   "source": [
    "weekdays = ['Thursday', 'Friday', 'Tuesday', 'Wednesday', 'Monday']"
   ]
  },
  {
   "cell_type": "code",
   "execution_count": 152,
   "metadata": {
    "collapsed": true
   },
   "outputs": [],
   "source": [
    "#customers exclusively shop on weekends\n",
    "custs = np.array(df_weekend['CustomerID'].unique())\n",
    "for weekday in weekdays:\n",
    "    df_weekdays = df_common_brands[(df_common_brands.Weekday==weekday)]\n",
    "    custs = np.setdiff1d(custs, np.array(df_weekdays['CustomerID'].unique()))"
   ]
  },
  {
   "cell_type": "code",
   "execution_count": 153,
   "metadata": {},
   "outputs": [
    {
     "data": {
      "text/plain": [
       "353"
      ]
     },
     "execution_count": 153,
     "metadata": {},
     "output_type": "execute_result"
    }
   ],
   "source": [
    "len(custs)"
   ]
  },
  {
   "cell_type": "code",
   "execution_count": 154,
   "metadata": {
    "collapsed": true
   },
   "outputs": [],
   "source": [
    "#Customer exclusively shop on weekdays\n",
    "\n",
    "df_weekdays = df_common_brands[(df_common_brands.Weekday!='Sunday') | (df_common_brands.Weekday!='Saturday')]\n",
    "custs = np.array(df_weekdays['CustomerID'].unique())\n",
    "for weekday in ['Sunday', 'Saturday']:\n",
    "    temp = df_common_brands[(df_common_brands.Weekday==weekday)]\n",
    "    custs = np.setdiff1d(custs, np.array(temp['CustomerID'].unique()))"
   ]
  },
  {
   "cell_type": "code",
   "execution_count": 155,
   "metadata": {},
   "outputs": [
    {
     "data": {
      "text/plain": [
       "1692"
      ]
     },
     "execution_count": 155,
     "metadata": {},
     "output_type": "execute_result"
    }
   ],
   "source": [
    "len(custs)"
   ]
  },
  {
   "cell_type": "code",
   "execution_count": 156,
   "metadata": {},
   "outputs": [
    {
     "data": {
      "text/html": [
       "<div>\n",
       "<style>\n",
       "    .dataframe thead tr:only-child th {\n",
       "        text-align: right;\n",
       "    }\n",
       "\n",
       "    .dataframe thead th {\n",
       "        text-align: left;\n",
       "    }\n",
       "\n",
       "    .dataframe tbody tr th {\n",
       "        vertical-align: top;\n",
       "    }\n",
       "</style>\n",
       "<table border=\"1\" class=\"dataframe\">\n",
       "  <thead>\n",
       "    <tr style=\"text-align: right;\">\n",
       "      <th></th>\n",
       "      <th>CustomerID</th>\n",
       "      <th>Chain</th>\n",
       "      <th>Dept</th>\n",
       "      <th>Category</th>\n",
       "      <th>Company</th>\n",
       "      <th>Brand</th>\n",
       "      <th>Date</th>\n",
       "      <th>Productsize</th>\n",
       "      <th>productmeasure</th>\n",
       "      <th>Purchasequantity</th>\n",
       "      <th>Purchaseamount</th>\n",
       "      <th>value_counts</th>\n",
       "      <th>DateTime</th>\n",
       "      <th>Year</th>\n",
       "      <th>Month</th>\n",
       "      <th>Day</th>\n",
       "      <th>Week</th>\n",
       "      <th>Weekday</th>\n",
       "    </tr>\n",
       "  </thead>\n",
       "  <tbody>\n",
       "    <tr>\n",
       "      <th>0</th>\n",
       "      <td>86246</td>\n",
       "      <td>205</td>\n",
       "      <td>56</td>\n",
       "      <td>5617</td>\n",
       "      <td>104113040</td>\n",
       "      <td>28204</td>\n",
       "      <td>1/3/2013</td>\n",
       "      <td>10.66</td>\n",
       "      <td>OZ</td>\n",
       "      <td>1</td>\n",
       "      <td>1.29</td>\n",
       "      <td>8</td>\n",
       "      <td>2013-01-03</td>\n",
       "      <td>2013</td>\n",
       "      <td>1</td>\n",
       "      <td>3</td>\n",
       "      <td>1</td>\n",
       "      <td>Thursday</td>\n",
       "    </tr>\n",
       "    <tr>\n",
       "      <th>1</th>\n",
       "      <td>86246</td>\n",
       "      <td>205</td>\n",
       "      <td>35</td>\n",
       "      <td>3509</td>\n",
       "      <td>104113040</td>\n",
       "      <td>28204</td>\n",
       "      <td>1/11/2013</td>\n",
       "      <td>50.00</td>\n",
       "      <td>OZ</td>\n",
       "      <td>1</td>\n",
       "      <td>2.39</td>\n",
       "      <td>8</td>\n",
       "      <td>2013-01-11</td>\n",
       "      <td>2013</td>\n",
       "      <td>1</td>\n",
       "      <td>11</td>\n",
       "      <td>2</td>\n",
       "      <td>Friday</td>\n",
       "    </tr>\n",
       "    <tr>\n",
       "      <th>2</th>\n",
       "      <td>86246</td>\n",
       "      <td>205</td>\n",
       "      <td>22</td>\n",
       "      <td>2210</td>\n",
       "      <td>104113040</td>\n",
       "      <td>28204</td>\n",
       "      <td>1/11/2013</td>\n",
       "      <td>64.00</td>\n",
       "      <td>OZ</td>\n",
       "      <td>1</td>\n",
       "      <td>2.59</td>\n",
       "      <td>8</td>\n",
       "      <td>2013-01-11</td>\n",
       "      <td>2013</td>\n",
       "      <td>1</td>\n",
       "      <td>11</td>\n",
       "      <td>2</td>\n",
       "      <td>Friday</td>\n",
       "    </tr>\n",
       "    <tr>\n",
       "      <th>3</th>\n",
       "      <td>86246</td>\n",
       "      <td>205</td>\n",
       "      <td>56</td>\n",
       "      <td>5617</td>\n",
       "      <td>104113040</td>\n",
       "      <td>28204</td>\n",
       "      <td>1/19/2013</td>\n",
       "      <td>10.66</td>\n",
       "      <td>OZ</td>\n",
       "      <td>1</td>\n",
       "      <td>1.29</td>\n",
       "      <td>8</td>\n",
       "      <td>2013-01-19</td>\n",
       "      <td>2013</td>\n",
       "      <td>1</td>\n",
       "      <td>19</td>\n",
       "      <td>3</td>\n",
       "      <td>Saturday</td>\n",
       "    </tr>\n",
       "    <tr>\n",
       "      <th>4</th>\n",
       "      <td>86246</td>\n",
       "      <td>205</td>\n",
       "      <td>25</td>\n",
       "      <td>2503</td>\n",
       "      <td>104113040</td>\n",
       "      <td>28204</td>\n",
       "      <td>1/22/2013</td>\n",
       "      <td>35.30</td>\n",
       "      <td>OZ</td>\n",
       "      <td>1</td>\n",
       "      <td>2.99</td>\n",
       "      <td>8</td>\n",
       "      <td>2013-01-22</td>\n",
       "      <td>2013</td>\n",
       "      <td>1</td>\n",
       "      <td>22</td>\n",
       "      <td>4</td>\n",
       "      <td>Tuesday</td>\n",
       "    </tr>\n",
       "  </tbody>\n",
       "</table>\n",
       "</div>"
      ],
      "text/plain": [
       "   CustomerID  Chain  Dept  Category    Company  Brand       Date  \\\n",
       "0       86246    205    56      5617  104113040  28204   1/3/2013   \n",
       "1       86246    205    35      3509  104113040  28204  1/11/2013   \n",
       "2       86246    205    22      2210  104113040  28204  1/11/2013   \n",
       "3       86246    205    56      5617  104113040  28204  1/19/2013   \n",
       "4       86246    205    25      2503  104113040  28204  1/22/2013   \n",
       "\n",
       "   Productsize productmeasure  Purchasequantity  Purchaseamount  value_counts  \\\n",
       "0        10.66             OZ                 1            1.29             8   \n",
       "1        50.00             OZ                 1            2.39             8   \n",
       "2        64.00             OZ                 1            2.59             8   \n",
       "3        10.66             OZ                 1            1.29             8   \n",
       "4        35.30             OZ                 1            2.99             8   \n",
       "\n",
       "    DateTime  Year  Month  Day  Week   Weekday  \n",
       "0 2013-01-03  2013      1    3     1  Thursday  \n",
       "1 2013-01-11  2013      1   11     2    Friday  \n",
       "2 2013-01-11  2013      1   11     2    Friday  \n",
       "3 2013-01-19  2013      1   19     3  Saturday  \n",
       "4 2013-01-22  2013      1   22     4   Tuesday  "
      ]
     },
     "execution_count": 156,
     "metadata": {},
     "output_type": "execute_result"
    }
   ],
   "source": [
    "df_common_brands.head()"
   ]
  },
  {
   "cell_type": "code",
   "execution_count": 157,
   "metadata": {},
   "outputs": [
    {
     "data": {
      "text/plain": [
       "731"
      ]
     },
     "execution_count": 157,
     "metadata": {},
     "output_type": "execute_result"
    }
   ],
   "source": [
    "df_common_brands.Brand.nunique()"
   ]
  },
  {
   "cell_type": "code",
   "execution_count": 158,
   "metadata": {
    "collapsed": true
   },
   "outputs": [],
   "source": [
    "df_trimmed = df_common_brands[['CustomerID',\n",
    " 'Chain',\n",
    " 'Dept',\n",
    " 'Category',\n",
    " 'Company',\n",
    " 'Brand',\n",
    " 'Productsize',\n",
    " 'Purchasequantity',\n",
    " 'Day']]"
   ]
  },
  {
   "cell_type": "code",
   "execution_count": 159,
   "metadata": {
    "collapsed": true
   },
   "outputs": [],
   "source": [
    "# Create Unique Transaction ID and Product ID \n",
    "df_trimmed['transaction_id'] = df_trimmed[['CustomerID','Chain','Day']].apply(lambda x: ''.join([ str(v) for v in x ]),1)\n",
    "df_trimmed['prod_id'] = df_trimmed[['Dept','Category','Company','Brand']].apply(lambda x: '-'.join([ str(v) for v in x ]),1)"
   ]
  },
  {
   "cell_type": "code",
   "execution_count": 160,
   "metadata": {
    "collapsed": true
   },
   "outputs": [],
   "source": [
    "tmp = df_trimmed.groupby('transaction_id').apply(lambda x: x.prod_id.tolist())"
   ]
  },
  {
   "cell_type": "code",
   "execution_count": 161,
   "metadata": {},
   "outputs": [
    {
     "data": {
      "text/plain": [
       "transaction_id\n",
       "1000074471518    [46-4606-102113020-15704, 8-814-102113020-1570...\n",
       "1000074471522     [26-2608-102113020-15704, 9-901-102113020-15704]\n",
       "1000074471528    [6-601-102113020-15704, 18-1802-102113020-1570...\n",
       "1000294731811    [14-1416-102113020-15704, 63-6316-102113020-10...\n",
       "1000294731814                              [5-501-102113020-15704]\n",
       "dtype: object"
      ]
     },
     "execution_count": 161,
     "metadata": {},
     "output_type": "execute_result"
    }
   ],
   "source": [
    "tmp.head()"
   ]
  },
  {
   "cell_type": "code",
   "execution_count": 162,
   "metadata": {
    "collapsed": true
   },
   "outputs": [],
   "source": [
    "#app_data = pd.DataFrame.from_records(list(tmp.values))\n",
    "app_data = pd.DataFrame(tmp.values, columns=['products']).set_index(tmp.index)"
   ]
  },
  {
   "cell_type": "code",
   "execution_count": 163,
   "metadata": {},
   "outputs": [
    {
     "data": {
      "text/html": [
       "<div>\n",
       "<style>\n",
       "    .dataframe thead tr:only-child th {\n",
       "        text-align: right;\n",
       "    }\n",
       "\n",
       "    .dataframe thead th {\n",
       "        text-align: left;\n",
       "    }\n",
       "\n",
       "    .dataframe tbody tr th {\n",
       "        vertical-align: top;\n",
       "    }\n",
       "</style>\n",
       "<table border=\"1\" class=\"dataframe\">\n",
       "  <thead>\n",
       "    <tr style=\"text-align: right;\">\n",
       "      <th></th>\n",
       "      <th>products</th>\n",
       "    </tr>\n",
       "    <tr>\n",
       "      <th>transaction_id</th>\n",
       "      <th></th>\n",
       "    </tr>\n",
       "  </thead>\n",
       "  <tbody>\n",
       "    <tr>\n",
       "      <th>1000074471518</th>\n",
       "      <td>[46-4606-102113020-15704, 8-814-102113020-1570...</td>\n",
       "    </tr>\n",
       "    <tr>\n",
       "      <th>1000074471522</th>\n",
       "      <td>[26-2608-102113020-15704, 9-901-102113020-15704]</td>\n",
       "    </tr>\n",
       "    <tr>\n",
       "      <th>1000074471528</th>\n",
       "      <td>[6-601-102113020-15704, 18-1802-102113020-1570...</td>\n",
       "    </tr>\n",
       "    <tr>\n",
       "      <th>1000294731811</th>\n",
       "      <td>[14-1416-102113020-15704, 63-6316-102113020-10...</td>\n",
       "    </tr>\n",
       "    <tr>\n",
       "      <th>1000294731814</th>\n",
       "      <td>[5-501-102113020-15704]</td>\n",
       "    </tr>\n",
       "  </tbody>\n",
       "</table>\n",
       "</div>"
      ],
      "text/plain": [
       "                                                         products\n",
       "transaction_id                                                   \n",
       "1000074471518   [46-4606-102113020-15704, 8-814-102113020-1570...\n",
       "1000074471522    [26-2608-102113020-15704, 9-901-102113020-15704]\n",
       "1000074471528   [6-601-102113020-15704, 18-1802-102113020-1570...\n",
       "1000294731811   [14-1416-102113020-15704, 63-6316-102113020-10...\n",
       "1000294731814                             [5-501-102113020-15704]"
      ]
     },
     "execution_count": 163,
     "metadata": {},
     "output_type": "execute_result"
    }
   ],
   "source": [
    "app_data.head()"
   ]
  },
  {
   "cell_type": "code",
   "execution_count": 164,
   "metadata": {},
   "outputs": [
    {
     "data": {
      "text/plain": [
       "LabelEncoder()"
      ]
     },
     "execution_count": 164,
     "metadata": {},
     "output_type": "execute_result"
    }
   ],
   "source": [
    "from sklearn import preprocessing\n",
    "le = preprocessing.LabelEncoder()\n",
    "le.fit([s for l in app_data['products'] for s in l])"
   ]
  },
  {
   "cell_type": "code",
   "execution_count": 165,
   "metadata": {},
   "outputs": [
    {
     "name": "stderr",
     "output_type": "stream",
     "text": [
      "C:\\Users\\keyur\\Anaconda3\\lib\\site-packages\\mlxtend\\preprocessing\\onehot.py:66: DeprecationWarning: OnehotTransactions has been deprecated and will be removed in future. Please use TransactionEncoder instead.\n",
      "  warnings.warn(msg, DeprecationWarning)\n"
     ]
    }
   ],
   "source": [
    "from mlxtend.preprocessing import OnehotTransactions\n",
    "oht = OnehotTransactions()\n",
    "oht_ary = oht.fit(app_data['products']).transform(app_data['products'])"
   ]
  },
  {
   "cell_type": "code",
   "execution_count": 166,
   "metadata": {
    "collapsed": true
   },
   "outputs": [],
   "source": [
    "df_trxn = pd.DataFrame(oht_ary, columns=oht.columns_)"
   ]
  },
  {
   "cell_type": "code",
   "execution_count": 167,
   "metadata": {},
   "outputs": [
    {
     "data": {
      "text/html": [
       "<div>\n",
       "<style>\n",
       "    .dataframe thead tr:only-child th {\n",
       "        text-align: right;\n",
       "    }\n",
       "\n",
       "    .dataframe thead th {\n",
       "        text-align: left;\n",
       "    }\n",
       "\n",
       "    .dataframe tbody tr th {\n",
       "        vertical-align: top;\n",
       "    }\n",
       "</style>\n",
       "<table border=\"1\" class=\"dataframe\">\n",
       "  <thead>\n",
       "    <tr style=\"text-align: right;\">\n",
       "      <th></th>\n",
       "      <th>1-103-101500010-29555</th>\n",
       "      <th>1-103-101500010-7142</th>\n",
       "      <th>1-103-102392323-5494</th>\n",
       "      <th>1-103-107989373-12908</th>\n",
       "      <th>1-104-101500010-29555</th>\n",
       "      <th>1-104-101500010-7142</th>\n",
       "      <th>1-105-102392323-5494</th>\n",
       "      <th>1-105-105000050-7142</th>\n",
       "      <th>1-105-107007474-16452</th>\n",
       "      <th>1-105-107989373-12908</th>\n",
       "      <th>...</th>\n",
       "      <th>99-9909-101111010-9907</th>\n",
       "      <th>99-9909-102113020-15704</th>\n",
       "      <th>99-9909-102113020-16397</th>\n",
       "      <th>99-9909-102791828-53783</th>\n",
       "      <th>99-9909-1070882070-11473</th>\n",
       "      <th>99-9909-107127979-6732</th>\n",
       "      <th>99-9909-1071373373-11473</th>\n",
       "      <th>99-9909-107143070-5072</th>\n",
       "      <th>99-9909-107774575-14997</th>\n",
       "      <th>99-9909-107989373-12908</th>\n",
       "    </tr>\n",
       "  </thead>\n",
       "  <tbody>\n",
       "    <tr>\n",
       "      <th>0</th>\n",
       "      <td>False</td>\n",
       "      <td>False</td>\n",
       "      <td>False</td>\n",
       "      <td>False</td>\n",
       "      <td>False</td>\n",
       "      <td>False</td>\n",
       "      <td>False</td>\n",
       "      <td>False</td>\n",
       "      <td>False</td>\n",
       "      <td>False</td>\n",
       "      <td>...</td>\n",
       "      <td>False</td>\n",
       "      <td>False</td>\n",
       "      <td>False</td>\n",
       "      <td>False</td>\n",
       "      <td>False</td>\n",
       "      <td>False</td>\n",
       "      <td>False</td>\n",
       "      <td>False</td>\n",
       "      <td>False</td>\n",
       "      <td>False</td>\n",
       "    </tr>\n",
       "    <tr>\n",
       "      <th>1</th>\n",
       "      <td>False</td>\n",
       "      <td>False</td>\n",
       "      <td>False</td>\n",
       "      <td>False</td>\n",
       "      <td>False</td>\n",
       "      <td>False</td>\n",
       "      <td>False</td>\n",
       "      <td>False</td>\n",
       "      <td>False</td>\n",
       "      <td>False</td>\n",
       "      <td>...</td>\n",
       "      <td>False</td>\n",
       "      <td>False</td>\n",
       "      <td>False</td>\n",
       "      <td>False</td>\n",
       "      <td>False</td>\n",
       "      <td>False</td>\n",
       "      <td>False</td>\n",
       "      <td>False</td>\n",
       "      <td>False</td>\n",
       "      <td>False</td>\n",
       "    </tr>\n",
       "    <tr>\n",
       "      <th>2</th>\n",
       "      <td>False</td>\n",
       "      <td>False</td>\n",
       "      <td>False</td>\n",
       "      <td>False</td>\n",
       "      <td>False</td>\n",
       "      <td>False</td>\n",
       "      <td>False</td>\n",
       "      <td>False</td>\n",
       "      <td>False</td>\n",
       "      <td>False</td>\n",
       "      <td>...</td>\n",
       "      <td>False</td>\n",
       "      <td>False</td>\n",
       "      <td>False</td>\n",
       "      <td>False</td>\n",
       "      <td>False</td>\n",
       "      <td>False</td>\n",
       "      <td>False</td>\n",
       "      <td>False</td>\n",
       "      <td>False</td>\n",
       "      <td>False</td>\n",
       "    </tr>\n",
       "    <tr>\n",
       "      <th>3</th>\n",
       "      <td>False</td>\n",
       "      <td>False</td>\n",
       "      <td>False</td>\n",
       "      <td>False</td>\n",
       "      <td>False</td>\n",
       "      <td>False</td>\n",
       "      <td>False</td>\n",
       "      <td>False</td>\n",
       "      <td>False</td>\n",
       "      <td>False</td>\n",
       "      <td>...</td>\n",
       "      <td>False</td>\n",
       "      <td>False</td>\n",
       "      <td>False</td>\n",
       "      <td>False</td>\n",
       "      <td>False</td>\n",
       "      <td>False</td>\n",
       "      <td>False</td>\n",
       "      <td>False</td>\n",
       "      <td>False</td>\n",
       "      <td>False</td>\n",
       "    </tr>\n",
       "    <tr>\n",
       "      <th>4</th>\n",
       "      <td>False</td>\n",
       "      <td>False</td>\n",
       "      <td>False</td>\n",
       "      <td>False</td>\n",
       "      <td>False</td>\n",
       "      <td>False</td>\n",
       "      <td>False</td>\n",
       "      <td>False</td>\n",
       "      <td>False</td>\n",
       "      <td>False</td>\n",
       "      <td>...</td>\n",
       "      <td>False</td>\n",
       "      <td>False</td>\n",
       "      <td>False</td>\n",
       "      <td>False</td>\n",
       "      <td>False</td>\n",
       "      <td>False</td>\n",
       "      <td>False</td>\n",
       "      <td>False</td>\n",
       "      <td>False</td>\n",
       "      <td>False</td>\n",
       "    </tr>\n",
       "  </tbody>\n",
       "</table>\n",
       "<p>5 rows × 2790 columns</p>\n",
       "</div>"
      ],
      "text/plain": [
       "   1-103-101500010-29555  1-103-101500010-7142  1-103-102392323-5494  \\\n",
       "0                  False                 False                 False   \n",
       "1                  False                 False                 False   \n",
       "2                  False                 False                 False   \n",
       "3                  False                 False                 False   \n",
       "4                  False                 False                 False   \n",
       "\n",
       "   1-103-107989373-12908  1-104-101500010-29555  1-104-101500010-7142  \\\n",
       "0                  False                  False                 False   \n",
       "1                  False                  False                 False   \n",
       "2                  False                  False                 False   \n",
       "3                  False                  False                 False   \n",
       "4                  False                  False                 False   \n",
       "\n",
       "   1-105-102392323-5494  1-105-105000050-7142  1-105-107007474-16452  \\\n",
       "0                 False                 False                  False   \n",
       "1                 False                 False                  False   \n",
       "2                 False                 False                  False   \n",
       "3                 False                 False                  False   \n",
       "4                 False                 False                  False   \n",
       "\n",
       "   1-105-107989373-12908           ...             99-9909-101111010-9907  \\\n",
       "0                  False           ...                              False   \n",
       "1                  False           ...                              False   \n",
       "2                  False           ...                              False   \n",
       "3                  False           ...                              False   \n",
       "4                  False           ...                              False   \n",
       "\n",
       "   99-9909-102113020-15704  99-9909-102113020-16397  99-9909-102791828-53783  \\\n",
       "0                    False                    False                    False   \n",
       "1                    False                    False                    False   \n",
       "2                    False                    False                    False   \n",
       "3                    False                    False                    False   \n",
       "4                    False                    False                    False   \n",
       "\n",
       "   99-9909-1070882070-11473  99-9909-107127979-6732  99-9909-1071373373-11473  \\\n",
       "0                     False                   False                     False   \n",
       "1                     False                   False                     False   \n",
       "2                     False                   False                     False   \n",
       "3                     False                   False                     False   \n",
       "4                     False                   False                     False   \n",
       "\n",
       "   99-9909-107143070-5072  99-9909-107774575-14997  99-9909-107989373-12908  \n",
       "0                   False                    False                    False  \n",
       "1                   False                    False                    False  \n",
       "2                   False                    False                    False  \n",
       "3                   False                    False                    False  \n",
       "4                   False                    False                    False  \n",
       "\n",
       "[5 rows x 2790 columns]"
      ]
     },
     "execution_count": 167,
     "metadata": {},
     "output_type": "execute_result"
    }
   ],
   "source": [
    "df_trxn.head()"
   ]
  },
  {
   "cell_type": "code",
   "execution_count": 168,
   "metadata": {},
   "outputs": [
    {
     "data": {
      "text/plain": [
       "(64602, 2790)"
      ]
     },
     "execution_count": 168,
     "metadata": {},
     "output_type": "execute_result"
    }
   ],
   "source": [
    "df_trxn.shape"
   ]
  },
  {
   "cell_type": "code",
   "execution_count": 169,
   "metadata": {},
   "outputs": [
    {
     "data": {
      "text/plain": [
       "(64602,)"
      ]
     },
     "execution_count": 169,
     "metadata": {},
     "output_type": "execute_result"
    }
   ],
   "source": [
    "tmp.shape"
   ]
  },
  {
   "cell_type": "code",
   "execution_count": 170,
   "metadata": {},
   "outputs": [
    {
     "data": {
      "text/html": [
       "<div>\n",
       "<style>\n",
       "    .dataframe thead tr:only-child th {\n",
       "        text-align: right;\n",
       "    }\n",
       "\n",
       "    .dataframe thead th {\n",
       "        text-align: left;\n",
       "    }\n",
       "\n",
       "    .dataframe tbody tr th {\n",
       "        vertical-align: top;\n",
       "    }\n",
       "</style>\n",
       "<table border=\"1\" class=\"dataframe\">\n",
       "  <thead>\n",
       "    <tr style=\"text-align: right;\">\n",
       "      <th></th>\n",
       "      <th>CustomerID</th>\n",
       "      <th>Chain</th>\n",
       "      <th>Dept</th>\n",
       "      <th>Category</th>\n",
       "      <th>Company</th>\n",
       "      <th>Brand</th>\n",
       "      <th>Productsize</th>\n",
       "      <th>Purchasequantity</th>\n",
       "      <th>Day</th>\n",
       "      <th>transaction_id</th>\n",
       "      <th>prod_id</th>\n",
       "    </tr>\n",
       "  </thead>\n",
       "  <tbody>\n",
       "    <tr>\n",
       "      <th>0</th>\n",
       "      <td>86246</td>\n",
       "      <td>205</td>\n",
       "      <td>56</td>\n",
       "      <td>5617</td>\n",
       "      <td>104113040</td>\n",
       "      <td>28204</td>\n",
       "      <td>10.66</td>\n",
       "      <td>1</td>\n",
       "      <td>3</td>\n",
       "      <td>862462053</td>\n",
       "      <td>56-5617-104113040-28204</td>\n",
       "    </tr>\n",
       "    <tr>\n",
       "      <th>1</th>\n",
       "      <td>86246</td>\n",
       "      <td>205</td>\n",
       "      <td>35</td>\n",
       "      <td>3509</td>\n",
       "      <td>104113040</td>\n",
       "      <td>28204</td>\n",
       "      <td>50.00</td>\n",
       "      <td>1</td>\n",
       "      <td>11</td>\n",
       "      <td>8624620511</td>\n",
       "      <td>35-3509-104113040-28204</td>\n",
       "    </tr>\n",
       "    <tr>\n",
       "      <th>2</th>\n",
       "      <td>86246</td>\n",
       "      <td>205</td>\n",
       "      <td>22</td>\n",
       "      <td>2210</td>\n",
       "      <td>104113040</td>\n",
       "      <td>28204</td>\n",
       "      <td>64.00</td>\n",
       "      <td>1</td>\n",
       "      <td>11</td>\n",
       "      <td>8624620511</td>\n",
       "      <td>22-2210-104113040-28204</td>\n",
       "    </tr>\n",
       "    <tr>\n",
       "      <th>3</th>\n",
       "      <td>86246</td>\n",
       "      <td>205</td>\n",
       "      <td>56</td>\n",
       "      <td>5617</td>\n",
       "      <td>104113040</td>\n",
       "      <td>28204</td>\n",
       "      <td>10.66</td>\n",
       "      <td>1</td>\n",
       "      <td>19</td>\n",
       "      <td>8624620519</td>\n",
       "      <td>56-5617-104113040-28204</td>\n",
       "    </tr>\n",
       "    <tr>\n",
       "      <th>4</th>\n",
       "      <td>86246</td>\n",
       "      <td>205</td>\n",
       "      <td>25</td>\n",
       "      <td>2503</td>\n",
       "      <td>104113040</td>\n",
       "      <td>28204</td>\n",
       "      <td>35.30</td>\n",
       "      <td>1</td>\n",
       "      <td>22</td>\n",
       "      <td>8624620522</td>\n",
       "      <td>25-2503-104113040-28204</td>\n",
       "    </tr>\n",
       "  </tbody>\n",
       "</table>\n",
       "</div>"
      ],
      "text/plain": [
       "   CustomerID  Chain  Dept  Category    Company  Brand  Productsize  \\\n",
       "0       86246    205    56      5617  104113040  28204        10.66   \n",
       "1       86246    205    35      3509  104113040  28204        50.00   \n",
       "2       86246    205    22      2210  104113040  28204        64.00   \n",
       "3       86246    205    56      5617  104113040  28204        10.66   \n",
       "4       86246    205    25      2503  104113040  28204        35.30   \n",
       "\n",
       "   Purchasequantity  Day transaction_id                  prod_id  \n",
       "0                 1    3      862462053  56-5617-104113040-28204  \n",
       "1                 1   11     8624620511  35-3509-104113040-28204  \n",
       "2                 1   11     8624620511  22-2210-104113040-28204  \n",
       "3                 1   19     8624620519  56-5617-104113040-28204  \n",
       "4                 1   22     8624620522  25-2503-104113040-28204  "
      ]
     },
     "execution_count": 170,
     "metadata": {},
     "output_type": "execute_result"
    }
   ],
   "source": [
    "df_trimmed.head()"
   ]
  },
  {
   "cell_type": "code",
   "execution_count": 171,
   "metadata": {
    "collapsed": true
   },
   "outputs": [],
   "source": [
    "df_trxn = df_trimmed[['Chain','Dept','Category','Company','Brand',]]"
   ]
  },
  {
   "cell_type": "markdown",
   "metadata": {},
   "source": [
    "KModes algorithm is used instead of KMeans since all variables are Categorical"
   ]
  },
  {
   "cell_type": "code",
   "execution_count": 172,
   "metadata": {
    "collapsed": true
   },
   "outputs": [],
   "source": [
    "# KModes Algorithm \n",
    "\n",
    "from kmodes.kmodes import KModes"
   ]
  },
  {
   "cell_type": "code",
   "execution_count": null,
   "metadata": {
    "collapsed": true
   },
   "outputs": [],
   "source": [
    "dist = []\n",
    "K = [2, 3, 4, 5, 7, 9, 11, 13, 15, 17, 19]\n",
    "for k in K:\n",
    "    kmodes = KModes(n_clusters=k, init='Huang')\n",
    "    kmodes.fit(df_trxn, categorical=[0,1,2,3])\n",
    "    dist.append(kmodes.cost_)"
   ]
  },
  {
   "cell_type": "markdown",
   "metadata": {},
   "source": [
    "Elbow Graph"
   ]
  },
  {
   "cell_type": "code",
   "execution_count": null,
   "metadata": {
    "collapsed": true
   },
   "outputs": [],
   "source": [
    "plt.plot(K, dist, 'bx-')\n",
    "plt.xlabel('K value')\n",
    "plt.ylabel('Cost')\n",
    "plt.show()"
   ]
  },
  {
   "cell_type": "code",
   "execution_count": 174,
   "metadata": {},
   "outputs": [
    {
     "name": "stderr",
     "output_type": "stream",
     "text": [
      "C:\\Users\\keyur\\Anaconda3\\lib\\site-packages\\kmodes\\util\\__init__.py:70: FutureWarning: arrays to stack must be passed as a \"sequence\" type such as list or tuple. Support for non-sequence iterables such as generators is deprecated as of NumPy 1.16 and will raise an error in the future.\n",
      "  return np.vstack({tuple(row) for row in a})\n"
     ]
    }
   ],
   "source": [
    "kmodes = KModes(n_clusters=5, init='Huang')\n",
    "kmodes.fit(df_trxn, categorical=[0,1,2,3])\n",
    "dist.append(kmodes.cost_)"
   ]
  },
  {
   "cell_type": "code",
   "execution_count": 175,
   "metadata": {},
   "outputs": [
    {
     "data": {
      "text/plain": [
       "(array([0, 1, 2, 3, 4], dtype=uint8),\n",
       " array([114704,   9729,  49384,  31151,   9235], dtype=int64))"
      ]
     },
     "execution_count": 175,
     "metadata": {},
     "output_type": "execute_result"
    }
   ],
   "source": [
    "np.unique(kmodes.labels_, return_counts=True)"
   ]
  },
  {
   "cell_type": "code",
   "execution_count": 176,
   "metadata": {},
   "outputs": [
    {
     "name": "stderr",
     "output_type": "stream",
     "text": [
      "C:\\Users\\keyur\\Anaconda3\\lib\\site-packages\\pandas\\core\\indexing.py:337: SettingWithCopyWarning: \n",
      "A value is trying to be set on a copy of a slice from a DataFrame.\n",
      "Try using .loc[row_indexer,col_indexer] = value instead\n",
      "\n",
      "See the caveats in the documentation: http://pandas.pydata.org/pandas-docs/stable/indexing.html#indexing-view-versus-copy\n",
      "  self.obj[key] = _infer_fill_value(value)\n",
      "C:\\Users\\keyur\\Anaconda3\\lib\\site-packages\\pandas\\core\\indexing.py:517: SettingWithCopyWarning: \n",
      "A value is trying to be set on a copy of a slice from a DataFrame.\n",
      "Try using .loc[row_indexer,col_indexer] = value instead\n",
      "\n",
      "See the caveats in the documentation: http://pandas.pydata.org/pandas-docs/stable/indexing.html#indexing-view-versus-copy\n",
      "  self.obj[item] = s\n"
     ]
    }
   ],
   "source": [
    "df_trimmed.loc[:,'Cluster_value'] = kmodes.labels_"
   ]
  },
  {
   "cell_type": "code",
   "execution_count": 181,
   "metadata": {
    "collapsed": true
   },
   "outputs": [],
   "source": [
    "customer_id = 86246\n",
    "\n",
    "subset_cust_id = df_trimmed[df_trimmed['CustomerID']==customer_id]\n",
    "\n",
    "unique_clusters = np.unique(subset_cust_id.Cluster_value, return_counts=True)"
   ]
  },
  {
   "cell_type": "code",
   "execution_count": 182,
   "metadata": {
    "collapsed": true
   },
   "outputs": [],
   "source": [
    "highest_cluster = unique_clusters[0][np.argmax(unique_clusters[1])]\n",
    "\n",
    "subset_cluster = subset_cust_id[subset_cust_id['Cluster_value']==highest_cluster]"
   ]
  },
  {
   "cell_type": "code",
   "execution_count": 183,
   "metadata": {},
   "outputs": [
    {
     "name": "stdout",
     "output_type": "stream",
     "text": [
      "top 3 brands for customer ID:  86246\n"
     ]
    },
    {
     "data": {
      "text/plain": [
       "Brand\n",
       "38922    17\n",
       "0        14\n",
       "69929     8\n",
       "Name: CustomerID, dtype: int64"
      ]
     },
     "execution_count": 183,
     "metadata": {},
     "output_type": "execute_result"
    }
   ],
   "source": [
    "print(\"top 3 brands for customer ID: \",customer_id)\n",
    "subset_cluster.groupby('Brand')['CustomerID'].count().sort_values(ascending=False)[:3]"
   ]
  },
  {
   "cell_type": "code",
   "execution_count": 184,
   "metadata": {},
   "outputs": [
    {
     "data": {
      "text/html": [
       "<div>\n",
       "<style>\n",
       "    .dataframe thead tr:only-child th {\n",
       "        text-align: right;\n",
       "    }\n",
       "\n",
       "    .dataframe thead th {\n",
       "        text-align: left;\n",
       "    }\n",
       "\n",
       "    .dataframe tbody tr th {\n",
       "        vertical-align: top;\n",
       "    }\n",
       "</style>\n",
       "<table border=\"1\" class=\"dataframe\">\n",
       "  <thead>\n",
       "    <tr style=\"text-align: right;\">\n",
       "      <th></th>\n",
       "      <th>Cluster_value</th>\n",
       "      <th>Dept</th>\n",
       "      <th>value_counts</th>\n",
       "    </tr>\n",
       "  </thead>\n",
       "  <tbody>\n",
       "    <tr>\n",
       "      <th>0</th>\n",
       "      <td>0</td>\n",
       "      <td>9</td>\n",
       "      <td>17016</td>\n",
       "    </tr>\n",
       "    <tr>\n",
       "      <th>1</th>\n",
       "      <td>0</td>\n",
       "      <td>26</td>\n",
       "      <td>7932</td>\n",
       "    </tr>\n",
       "    <tr>\n",
       "      <th>2</th>\n",
       "      <td>0</td>\n",
       "      <td>36</td>\n",
       "      <td>7310</td>\n",
       "    </tr>\n",
       "    <tr>\n",
       "      <th>3</th>\n",
       "      <td>0</td>\n",
       "      <td>41</td>\n",
       "      <td>5468</td>\n",
       "    </tr>\n",
       "    <tr>\n",
       "      <th>4</th>\n",
       "      <td>0</td>\n",
       "      <td>51</td>\n",
       "      <td>5300</td>\n",
       "    </tr>\n",
       "    <tr>\n",
       "      <th>5</th>\n",
       "      <td>0</td>\n",
       "      <td>8</td>\n",
       "      <td>4068</td>\n",
       "    </tr>\n",
       "    <tr>\n",
       "      <th>6</th>\n",
       "      <td>0</td>\n",
       "      <td>56</td>\n",
       "      <td>4026</td>\n",
       "    </tr>\n",
       "    <tr>\n",
       "      <th>7</th>\n",
       "      <td>0</td>\n",
       "      <td>37</td>\n",
       "      <td>3043</td>\n",
       "    </tr>\n",
       "    <tr>\n",
       "      <th>8</th>\n",
       "      <td>0</td>\n",
       "      <td>99</td>\n",
       "      <td>2853</td>\n",
       "    </tr>\n",
       "    <tr>\n",
       "      <th>9</th>\n",
       "      <td>0</td>\n",
       "      <td>5</td>\n",
       "      <td>2837</td>\n",
       "    </tr>\n",
       "    <tr>\n",
       "      <th>10</th>\n",
       "      <td>0</td>\n",
       "      <td>58</td>\n",
       "      <td>2757</td>\n",
       "    </tr>\n",
       "    <tr>\n",
       "      <th>11</th>\n",
       "      <td>0</td>\n",
       "      <td>55</td>\n",
       "      <td>2672</td>\n",
       "    </tr>\n",
       "    <tr>\n",
       "      <th>12</th>\n",
       "      <td>0</td>\n",
       "      <td>64</td>\n",
       "      <td>2459</td>\n",
       "    </tr>\n",
       "    <tr>\n",
       "      <th>13</th>\n",
       "      <td>0</td>\n",
       "      <td>21</td>\n",
       "      <td>2413</td>\n",
       "    </tr>\n",
       "    <tr>\n",
       "      <th>14</th>\n",
       "      <td>0</td>\n",
       "      <td>97</td>\n",
       "      <td>2251</td>\n",
       "    </tr>\n",
       "    <tr>\n",
       "      <th>15</th>\n",
       "      <td>0</td>\n",
       "      <td>63</td>\n",
       "      <td>2164</td>\n",
       "    </tr>\n",
       "    <tr>\n",
       "      <th>16</th>\n",
       "      <td>0</td>\n",
       "      <td>53</td>\n",
       "      <td>2157</td>\n",
       "    </tr>\n",
       "    <tr>\n",
       "      <th>17</th>\n",
       "      <td>0</td>\n",
       "      <td>73</td>\n",
       "      <td>2037</td>\n",
       "    </tr>\n",
       "    <tr>\n",
       "      <th>18</th>\n",
       "      <td>0</td>\n",
       "      <td>27</td>\n",
       "      <td>1992</td>\n",
       "    </tr>\n",
       "    <tr>\n",
       "      <th>19</th>\n",
       "      <td>0</td>\n",
       "      <td>25</td>\n",
       "      <td>1753</td>\n",
       "    </tr>\n",
       "    <tr>\n",
       "      <th>20</th>\n",
       "      <td>0</td>\n",
       "      <td>57</td>\n",
       "      <td>1741</td>\n",
       "    </tr>\n",
       "    <tr>\n",
       "      <th>21</th>\n",
       "      <td>0</td>\n",
       "      <td>14</td>\n",
       "      <td>1613</td>\n",
       "    </tr>\n",
       "    <tr>\n",
       "      <th>22</th>\n",
       "      <td>0</td>\n",
       "      <td>29</td>\n",
       "      <td>1576</td>\n",
       "    </tr>\n",
       "    <tr>\n",
       "      <th>23</th>\n",
       "      <td>0</td>\n",
       "      <td>23</td>\n",
       "      <td>1550</td>\n",
       "    </tr>\n",
       "    <tr>\n",
       "      <th>24</th>\n",
       "      <td>0</td>\n",
       "      <td>7</td>\n",
       "      <td>1380</td>\n",
       "    </tr>\n",
       "    <tr>\n",
       "      <th>25</th>\n",
       "      <td>0</td>\n",
       "      <td>28</td>\n",
       "      <td>1306</td>\n",
       "    </tr>\n",
       "    <tr>\n",
       "      <th>26</th>\n",
       "      <td>0</td>\n",
       "      <td>19</td>\n",
       "      <td>1262</td>\n",
       "    </tr>\n",
       "    <tr>\n",
       "      <th>27</th>\n",
       "      <td>0</td>\n",
       "      <td>45</td>\n",
       "      <td>1156</td>\n",
       "    </tr>\n",
       "    <tr>\n",
       "      <th>28</th>\n",
       "      <td>0</td>\n",
       "      <td>31</td>\n",
       "      <td>1149</td>\n",
       "    </tr>\n",
       "    <tr>\n",
       "      <th>29</th>\n",
       "      <td>0</td>\n",
       "      <td>49</td>\n",
       "      <td>1026</td>\n",
       "    </tr>\n",
       "    <tr>\n",
       "      <th>...</th>\n",
       "      <td>...</td>\n",
       "      <td>...</td>\n",
       "      <td>...</td>\n",
       "    </tr>\n",
       "    <tr>\n",
       "      <th>333</th>\n",
       "      <td>4</td>\n",
       "      <td>59</td>\n",
       "      <td>40</td>\n",
       "    </tr>\n",
       "    <tr>\n",
       "      <th>334</th>\n",
       "      <td>4</td>\n",
       "      <td>64</td>\n",
       "      <td>39</td>\n",
       "    </tr>\n",
       "    <tr>\n",
       "      <th>335</th>\n",
       "      <td>4</td>\n",
       "      <td>15</td>\n",
       "      <td>38</td>\n",
       "    </tr>\n",
       "    <tr>\n",
       "      <th>336</th>\n",
       "      <td>4</td>\n",
       "      <td>60</td>\n",
       "      <td>37</td>\n",
       "    </tr>\n",
       "    <tr>\n",
       "      <th>337</th>\n",
       "      <td>4</td>\n",
       "      <td>75</td>\n",
       "      <td>36</td>\n",
       "    </tr>\n",
       "    <tr>\n",
       "      <th>338</th>\n",
       "      <td>4</td>\n",
       "      <td>22</td>\n",
       "      <td>35</td>\n",
       "    </tr>\n",
       "    <tr>\n",
       "      <th>339</th>\n",
       "      <td>4</td>\n",
       "      <td>12</td>\n",
       "      <td>33</td>\n",
       "    </tr>\n",
       "    <tr>\n",
       "      <th>340</th>\n",
       "      <td>4</td>\n",
       "      <td>47</td>\n",
       "      <td>20</td>\n",
       "    </tr>\n",
       "    <tr>\n",
       "      <th>341</th>\n",
       "      <td>4</td>\n",
       "      <td>2</td>\n",
       "      <td>19</td>\n",
       "    </tr>\n",
       "    <tr>\n",
       "      <th>342</th>\n",
       "      <td>4</td>\n",
       "      <td>20</td>\n",
       "      <td>17</td>\n",
       "    </tr>\n",
       "    <tr>\n",
       "      <th>343</th>\n",
       "      <td>4</td>\n",
       "      <td>24</td>\n",
       "      <td>16</td>\n",
       "    </tr>\n",
       "    <tr>\n",
       "      <th>344</th>\n",
       "      <td>4</td>\n",
       "      <td>43</td>\n",
       "      <td>16</td>\n",
       "    </tr>\n",
       "    <tr>\n",
       "      <th>345</th>\n",
       "      <td>4</td>\n",
       "      <td>65</td>\n",
       "      <td>16</td>\n",
       "    </tr>\n",
       "    <tr>\n",
       "      <th>346</th>\n",
       "      <td>4</td>\n",
       "      <td>34</td>\n",
       "      <td>14</td>\n",
       "    </tr>\n",
       "    <tr>\n",
       "      <th>347</th>\n",
       "      <td>4</td>\n",
       "      <td>81</td>\n",
       "      <td>14</td>\n",
       "    </tr>\n",
       "    <tr>\n",
       "      <th>348</th>\n",
       "      <td>4</td>\n",
       "      <td>11</td>\n",
       "      <td>12</td>\n",
       "    </tr>\n",
       "    <tr>\n",
       "      <th>349</th>\n",
       "      <td>4</td>\n",
       "      <td>82</td>\n",
       "      <td>12</td>\n",
       "    </tr>\n",
       "    <tr>\n",
       "      <th>350</th>\n",
       "      <td>4</td>\n",
       "      <td>16</td>\n",
       "      <td>11</td>\n",
       "    </tr>\n",
       "    <tr>\n",
       "      <th>351</th>\n",
       "      <td>4</td>\n",
       "      <td>92</td>\n",
       "      <td>11</td>\n",
       "    </tr>\n",
       "    <tr>\n",
       "      <th>352</th>\n",
       "      <td>4</td>\n",
       "      <td>95</td>\n",
       "      <td>11</td>\n",
       "    </tr>\n",
       "    <tr>\n",
       "      <th>353</th>\n",
       "      <td>4</td>\n",
       "      <td>71</td>\n",
       "      <td>10</td>\n",
       "    </tr>\n",
       "    <tr>\n",
       "      <th>354</th>\n",
       "      <td>4</td>\n",
       "      <td>40</td>\n",
       "      <td>7</td>\n",
       "    </tr>\n",
       "    <tr>\n",
       "      <th>355</th>\n",
       "      <td>4</td>\n",
       "      <td>96</td>\n",
       "      <td>7</td>\n",
       "    </tr>\n",
       "    <tr>\n",
       "      <th>356</th>\n",
       "      <td>4</td>\n",
       "      <td>50</td>\n",
       "      <td>6</td>\n",
       "    </tr>\n",
       "    <tr>\n",
       "      <th>357</th>\n",
       "      <td>4</td>\n",
       "      <td>62</td>\n",
       "      <td>5</td>\n",
       "    </tr>\n",
       "    <tr>\n",
       "      <th>358</th>\n",
       "      <td>4</td>\n",
       "      <td>74</td>\n",
       "      <td>5</td>\n",
       "    </tr>\n",
       "    <tr>\n",
       "      <th>359</th>\n",
       "      <td>4</td>\n",
       "      <td>67</td>\n",
       "      <td>3</td>\n",
       "    </tr>\n",
       "    <tr>\n",
       "      <th>360</th>\n",
       "      <td>4</td>\n",
       "      <td>91</td>\n",
       "      <td>3</td>\n",
       "    </tr>\n",
       "    <tr>\n",
       "      <th>361</th>\n",
       "      <td>4</td>\n",
       "      <td>69</td>\n",
       "      <td>2</td>\n",
       "    </tr>\n",
       "    <tr>\n",
       "      <th>362</th>\n",
       "      <td>4</td>\n",
       "      <td>98</td>\n",
       "      <td>2</td>\n",
       "    </tr>\n",
       "  </tbody>\n",
       "</table>\n",
       "<p>363 rows × 3 columns</p>\n",
       "</div>"
      ],
      "text/plain": [
       "     Cluster_value  Dept  value_counts\n",
       "0                0     9         17016\n",
       "1                0    26          7932\n",
       "2                0    36          7310\n",
       "3                0    41          5468\n",
       "4                0    51          5300\n",
       "5                0     8          4068\n",
       "6                0    56          4026\n",
       "7                0    37          3043\n",
       "8                0    99          2853\n",
       "9                0     5          2837\n",
       "10               0    58          2757\n",
       "11               0    55          2672\n",
       "12               0    64          2459\n",
       "13               0    21          2413\n",
       "14               0    97          2251\n",
       "15               0    63          2164\n",
       "16               0    53          2157\n",
       "17               0    73          2037\n",
       "18               0    27          1992\n",
       "19               0    25          1753\n",
       "20               0    57          1741\n",
       "21               0    14          1613\n",
       "22               0    29          1576\n",
       "23               0    23          1550\n",
       "24               0     7          1380\n",
       "25               0    28          1306\n",
       "26               0    19          1262\n",
       "27               0    45          1156\n",
       "28               0    31          1149\n",
       "29               0    49          1026\n",
       "..             ...   ...           ...\n",
       "333              4    59            40\n",
       "334              4    64            39\n",
       "335              4    15            38\n",
       "336              4    60            37\n",
       "337              4    75            36\n",
       "338              4    22            35\n",
       "339              4    12            33\n",
       "340              4    47            20\n",
       "341              4     2            19\n",
       "342              4    20            17\n",
       "343              4    24            16\n",
       "344              4    43            16\n",
       "345              4    65            16\n",
       "346              4    34            14\n",
       "347              4    81            14\n",
       "348              4    11            12\n",
       "349              4    82            12\n",
       "350              4    16            11\n",
       "351              4    92            11\n",
       "352              4    95            11\n",
       "353              4    71            10\n",
       "354              4    40             7\n",
       "355              4    96             7\n",
       "356              4    50             6\n",
       "357              4    62             5\n",
       "358              4    74             5\n",
       "359              4    67             3\n",
       "360              4    91             3\n",
       "361              4    69             2\n",
       "362              4    98             2\n",
       "\n",
       "[363 rows x 3 columns]"
      ]
     },
     "execution_count": 184,
     "metadata": {},
     "output_type": "execute_result"
    }
   ],
   "source": [
    "df_trimmed.groupby('Cluster_value')['Dept'].agg(['value_counts']).reset_index()"
   ]
  }
 ],
 "metadata": {
  "kernelspec": {
   "display_name": "Python 3",
   "language": "python",
   "name": "python3"
  },
  "language_info": {
   "codemirror_mode": {
    "name": "ipython",
    "version": 3
   },
   "file_extension": ".py",
   "mimetype": "text/x-python",
   "name": "python",
   "nbconvert_exporter": "python",
   "pygments_lexer": "ipython3",
   "version": "3.6.1"
  }
 },
 "nbformat": 4,
 "nbformat_minor": 2
}
